{
 "cells": [
  {
   "cell_type": "markdown",
   "metadata": {},
   "source": [
    "# Analyzing Stock Market Data to Build a Portfolio"
   ]
  },
  {
   "cell_type": "markdown",
   "metadata": {},
   "source": [
    "## Project Goal"
   ]
  },
  {
   "cell_type": "markdown",
   "metadata": {},
   "source": [
    "### Analyze share price data from various listings to answer the following questions:"
   ]
  },
  {
   "cell_type": "markdown",
   "metadata": {},
   "source": [
    "1. What kind of Growth % do we expect from the various listings? <br>\n",
    "2. How do the Growth % of the different listings correlate to each other? <br>\n",
    "3. What is the estimated listing share price at a future date (prediction)? <br>\n",
    "4. What kind of volatility do the listings have? <br>\n",
    "5. How can we use our analysis to form a balanced investment portfolio? <br>"
   ]
  },
  {
   "cell_type": "markdown",
   "metadata": {},
   "source": [
    "### Overall Methodology:"
   ]
  },
  {
   "cell_type": "markdown",
   "metadata": {},
   "source": [
    "1. Import and organize data for the various listings <br>\n",
    "2. Make observations about the data <br>\n",
    "3. Use these observations to answer the questions <br>"
   ]
  },
  {
   "cell_type": "markdown",
   "metadata": {},
   "source": [
    "## References"
   ]
  },
  {
   "cell_type": "markdown",
   "metadata": {},
   "source": [
    "Share price information obtained from: [Yahoo Finance](https://finance.yahoo.com/) <br>\n",
    "Yahoo Finance library: [yfinance](https://pypi.org/project/yfinance/) <br>\n",
    "Robinhood Stocks library: [robin_stocks](http://www.robin-stocks.com/en/latest/functions.html) <br>"
   ]
  },
  {
   "cell_type": "markdown",
   "metadata": {},
   "source": [
    "## Inputs"
   ]
  },
  {
   "cell_type": "markdown",
   "metadata": {},
   "source": [
    "### Below are the inputs to perform the analysis"
   ]
  },
  {
   "cell_type": "code",
   "execution_count": 1,
   "metadata": {},
   "outputs": [],
   "source": [
    "#s_list='AM AAPL AMZN FB NVDA NFLX MSFT QCOM PYPL GOOGL TWTR TSLA ZNGA JCI JMIA SSL INTC AMD TSM HRB KO ALTR SQ SPCE INO NIO WKHS SOLO MVIS MRNA JNJ CLX PFE RBLX FCEL CARR EH XPEV HON RTX V MA OTIS IDEX GEVO NOK BB SLV PAAS HGSH AG ACB DG DUK SOXX VEGI IEHS MCD IYJ VICE XHS XHB PK IAK SLVP SKYY MSOS ARKG ARKK ARKQ VXRT SNDL PLTR POTX M WMT KSS NFLX DKS UBER UONE GNUS TOPS DIS ABNB SBUX LYFT GSAT SENS CPRX NBEV PPBT COST SPY NDAQ INDF VWO GOVT BND VT IEF VTI VOO DIA VGK XLK IAU QQQ GLD GLDG H T NCLH RKT F GM AAL UAL BA BAC JPM GE SNAP BRK-B QSR XLE XES AMC GRPN GME TTM H MRO OSK TLRY KOSS'  # List of \"listings\" to be analyzed\n",
    "s_list='BTC-USD ETH DOGE-USD'\n",
    "total_investment=5001  # Total investment value in USD\n",
    "sample_interval ='1d'  # Time interval to fetch data at \n",
    "#start='11/27/2020'  # Start date of interest\n",
    "#start='09/26/2020'  # Start date of interest\n",
    "start='3w'\n",
    "end='03/11/2021'  # End date of interest\n",
    "datetime_query=['05/28/2021'] # Datetime query values (for prediction)\n",
    "pricetype='Close' # Open, Close, Low, High"
   ]
  },
  {
   "cell_type": "markdown",
   "metadata": {},
   "source": [
    "## Import Libraries"
   ]
  },
  {
   "cell_type": "code",
   "execution_count": 2,
   "metadata": {},
   "outputs": [
    {
     "data": {
      "text/plain": [
       "'3.6.12 | packaged by conda-forge | (default, Dec  9 2020, 00:36:02) \\n[GCC 9.3.0]'"
      ]
     },
     "execution_count": 2,
     "metadata": {},
     "output_type": "execute_result"
    }
   ],
   "source": [
    "# Python Version\n",
    "import sys\n",
    "sys.version"
   ]
  },
  {
   "cell_type": "code",
   "execution_count": 3,
   "metadata": {},
   "outputs": [
    {
     "name": "stdout",
     "output_type": "stream",
     "text": [
      "Collecting pip\n",
      "\u001b[?25l  Downloading https://files.pythonhosted.org/packages/fe/ef/60d7ba03b5c442309ef42e7d69959f73aacccd0d86008362a681c4698e83/pip-21.0.1-py3-none-any.whl (1.5MB)\n",
      "\u001b[K     |████████████████████████████████| 1.5MB 6.5MB/s eta 0:00:01\n",
      "\u001b[?25hInstalling collected packages: pip\n",
      "  Found existing installation: pip 19.1.1\n",
      "    Uninstalling pip-19.1.1:\n",
      "      Successfully uninstalled pip-19.1.1\n",
      "Successfully installed pip-21.0.1\n",
      "Collecting listfun\n",
      "  Downloading listfun-1.2.tar.gz (2.4 kB)\n",
      "Building wheels for collected packages: listfun\n",
      "  Building wheel for listfun (setup.py) ... \u001b[?25ldone\n",
      "\u001b[?25h  Created wheel for listfun: filename=listfun-1.2-py3-none-any.whl size=2425 sha256=e7540c7cadd2fcd7d874d1d5cb4f96a917d0de3705b273839c90db34b0670556\n",
      "  Stored in directory: /home/jupyterlab/.cache/pip/wheels/f5/ff/23/223a4857970df927f1a8afdcfc470ee6572682fbffd44e9839\n",
      "Successfully built listfun\n",
      "Installing collected packages: listfun\n",
      "Successfully installed listfun-1.2\n",
      "Collecting expsolver\n",
      "  Downloading expsolver-0.5.tar.gz (3.8 kB)\n",
      "Building wheels for collected packages: expsolver\n",
      "  Building wheel for expsolver (setup.py) ... \u001b[?25ldone\n",
      "\u001b[?25h  Created wheel for expsolver: filename=expsolver-0.5-py3-none-any.whl size=3250 sha256=3215fd71eb8013da380c6cb0f2a34651acfcd8c9699b82c32bfcfbcddc7b6d9d\n",
      "  Stored in directory: /home/jupyterlab/.cache/pip/wheels/10/06/27/1ac19133655334cc4412366975676bda2c4b5d92cfd112132e\n",
      "Successfully built expsolver\n",
      "Installing collected packages: expsolver\n",
      "Successfully installed expsolver-0.5\n",
      "Collecting lxml\n",
      "  Downloading lxml-4.6.2-cp36-cp36m-manylinux1_x86_64.whl (5.5 MB)\n",
      "\u001b[K     |████████████████████████████████| 5.5 MB 11.1 MB/s eta 0:00:01     |██████████████████████████▎     | 4.5 MB 11.1 MB/s eta 0:00:01     |██████████████████████████████▋ | 5.3 MB 11.1 MB/s eta 0:00:01\n",
      "\u001b[?25hInstalling collected packages: lxml\n",
      "Successfully installed lxml-4.6.2\n",
      "Collecting yfinance\n",
      "  Downloading yfinance-0.1.55.tar.gz (23 kB)\n",
      "Requirement already satisfied: pandas>=0.24 in /home/jupyterlab/conda/envs/python/lib/python3.6/site-packages (from yfinance) (1.1.5)\n",
      "Requirement already satisfied: numpy>=1.15 in /home/jupyterlab/conda/envs/python/lib/python3.6/site-packages (from yfinance) (1.19.4)\n",
      "Requirement already satisfied: requests>=2.20 in /home/jupyterlab/conda/envs/python/lib/python3.6/site-packages (from yfinance) (2.25.0)\n",
      "Collecting multitasking>=0.0.7\n",
      "  Downloading multitasking-0.0.9.tar.gz (8.1 kB)\n",
      "Requirement already satisfied: lxml>=4.5.1 in /home/jupyterlab/conda/envs/python/lib/python3.6/site-packages (from yfinance) (4.6.2)\n",
      "Requirement already satisfied: python-dateutil>=2.7.3 in /home/jupyterlab/conda/envs/python/lib/python3.6/site-packages (from pandas>=0.24->yfinance) (2.8.1)\n",
      "Requirement already satisfied: pytz>=2017.2 in /home/jupyterlab/conda/envs/python/lib/python3.6/site-packages (from pandas>=0.24->yfinance) (2020.4)\n",
      "Requirement already satisfied: six>=1.5 in /home/jupyterlab/conda/envs/python/lib/python3.6/site-packages (from python-dateutil>=2.7.3->pandas>=0.24->yfinance) (1.15.0)\n",
      "Requirement already satisfied: certifi>=2017.4.17 in /home/jupyterlab/conda/envs/python/lib/python3.6/site-packages (from requests>=2.20->yfinance) (2020.12.5)\n",
      "Requirement already satisfied: idna<3,>=2.5 in /home/jupyterlab/conda/envs/python/lib/python3.6/site-packages (from requests>=2.20->yfinance) (2.10)\n",
      "Requirement already satisfied: urllib3<1.27,>=1.21.1 in /home/jupyterlab/conda/envs/python/lib/python3.6/site-packages (from requests>=2.20->yfinance) (1.25.11)\n",
      "Requirement already satisfied: chardet<4,>=3.0.2 in /home/jupyterlab/conda/envs/python/lib/python3.6/site-packages (from requests>=2.20->yfinance) (3.0.4)\n",
      "Building wheels for collected packages: yfinance, multitasking\n",
      "  Building wheel for yfinance (setup.py) ... \u001b[?25ldone\n",
      "\u001b[?25h  Created wheel for yfinance: filename=yfinance-0.1.55-py2.py3-none-any.whl size=22616 sha256=672868a33ef7ff0f893592811291901d7dac5135f919ad894f9cbe2feca3dcb0\n",
      "  Stored in directory: /home/jupyterlab/.cache/pip/wheels/68/72/87/a384b8b8139f2489024464d6f5937e6acb2054c57d25519fb9\n",
      "  Building wheel for multitasking (setup.py) ... \u001b[?25ldone\n",
      "\u001b[?25h  Created wheel for multitasking: filename=multitasking-0.0.9-py3-none-any.whl size=8368 sha256=fcaef602b89d4423034f91b65eb4f010f0d08b17c5d3a6060a5323db2462d5fc\n",
      "  Stored in directory: /home/jupyterlab/.cache/pip/wheels/5e/8a/c4/59c699498647c7c94b14c87a904ca7540646107b3d94b7c320\n",
      "Successfully built yfinance multitasking\n",
      "Installing collected packages: multitasking, yfinance\n",
      "Successfully installed multitasking-0.0.9 yfinance-0.1.55\n",
      "Requirement already satisfied: robin_stocks in /home/jupyterlab/conda/envs/python/lib/python3.6/site-packages (2.0.3)\n",
      "Requirement already satisfied: python-dotenv in /home/jupyterlab/conda/envs/python/lib/python3.6/site-packages (from robin_stocks) (0.15.0)\n",
      "Requirement already satisfied: pyotp in /home/jupyterlab/conda/envs/python/lib/python3.6/site-packages (from robin_stocks) (2.6.0)\n",
      "Requirement already satisfied: requests in /home/jupyterlab/conda/envs/python/lib/python3.6/site-packages (from robin_stocks) (2.25.0)\n",
      "Requirement already satisfied: cryptography in /home/jupyterlab/conda/envs/python/lib/python3.6/site-packages (from robin_stocks) (3.3.1)\n",
      "Requirement already satisfied: cffi>=1.12 in /home/jupyterlab/conda/envs/python/lib/python3.6/site-packages (from cryptography->robin_stocks) (1.14.4)\n",
      "Requirement already satisfied: six>=1.4.1 in /home/jupyterlab/conda/envs/python/lib/python3.6/site-packages (from cryptography->robin_stocks) (1.15.0)\n",
      "Requirement already satisfied: pycparser in /home/jupyterlab/conda/envs/python/lib/python3.6/site-packages (from cffi>=1.12->cryptography->robin_stocks) (2.20)\n",
      "Requirement already satisfied: certifi>=2017.4.17 in /home/jupyterlab/conda/envs/python/lib/python3.6/site-packages (from requests->robin_stocks) (2020.12.5)\n",
      "Requirement already satisfied: idna<3,>=2.5 in /home/jupyterlab/conda/envs/python/lib/python3.6/site-packages (from requests->robin_stocks) (2.10)\n",
      "Requirement already satisfied: urllib3<1.27,>=1.21.1 in /home/jupyterlab/conda/envs/python/lib/python3.6/site-packages (from requests->robin_stocks) (1.25.11)\n",
      "Requirement already satisfied: chardet<4,>=3.0.2 in /home/jupyterlab/conda/envs/python/lib/python3.6/site-packages (from requests->robin_stocks) (3.0.4)\n",
      "Libraries imported.\n"
     ]
    }
   ],
   "source": [
    "#Update python standard libraries install\n",
    "!pip install --upgrade pip\n",
    "\n",
    "# library to for array handling\n",
    "import numpy as np \n",
    "\n",
    "# library for dataframes\n",
    "import pandas as pd \n",
    "pd.set_option('display.max_columns', None)\n",
    "pd.set_option('display.max_rows', None)\n",
    "\n",
    "# Linear Model\n",
    "import sklearn as sk\n",
    "\n",
    "# List Functions module\n",
    "!pip install listfun\n",
    "from listfun import Listoper as lst\n",
    "\n",
    "# Math Module\n",
    "import math\n",
    "\n",
    "# Matplotlib and associated plotting modules\n",
    "%matplotlib inline\n",
    "import matplotlib\n",
    "import matplotlib.pyplot as plt\n",
    "import matplotlib.cm as cm\n",
    "import matplotlib.colors as colors\n",
    "\n",
    "import seaborn as sns\n",
    "\n",
    "# Machine-Learning and analysis modules\n",
    "from sklearn.model_selection import train_test_split\n",
    "from sklearn.linear_model import LinearRegression\n",
    "\n",
    "! pip install expsolver;\n",
    "from expsolver import Solver as solve\n",
    "\n",
    "# Module to handle XML and HTML \n",
    "! pip install lxml;\n",
    "\n",
    "#Finance information import (Link in \"Yahoo Finance\" Markdown Cell in the \"References\" Section)\n",
    "!pip install yfinance;\n",
    "import yfinance as yf;\n",
    "\n",
    "#Robinhood stocks functions\n",
    "!pip install robin_stocks;\n",
    "import robin_stocks as r;\n",
    "\n",
    "print('Libraries imported.')"
   ]
  },
  {
   "cell_type": "markdown",
   "metadata": {},
   "source": [
    "## Import Data into DataFrame"
   ]
  },
  {
   "cell_type": "code",
   "execution_count": 4,
   "metadata": {},
   "outputs": [
    {
     "name": "stdout",
     "output_type": "stream",
     "text": [
      "Start: 2021-02-18 00:00:00, End: 2021-03-11 00:00:00\n"
     ]
    }
   ],
   "source": [
    "end=pd.to_datetime(end)\n",
    "if len(start)<=4:\n",
    "    start=end-pd.to_timedelta(start)\n",
    "else:\n",
    "    start=pd.to_datetime(start)\n",
    "print('Start: {}, End: {}'.format(start,end))"
   ]
  },
  {
   "cell_type": "markdown",
   "metadata": {},
   "source": [
    "### Create basic dataframe \"df_info\" containing all the available stocks information"
   ]
  },
  {
   "cell_type": "code",
   "execution_count": 5,
   "metadata": {},
   "outputs": [],
   "source": [
    "# Create list of stock names as specified by the User\n",
    "s_list=s_list.split(' ')\n",
    "s_list=list(set(s_list))"
   ]
  },
  {
   "cell_type": "code",
   "execution_count": 6,
   "metadata": {},
   "outputs": [
    {
     "data": {
      "text/html": [
       "<div>\n",
       "<style scoped>\n",
       "    .dataframe tbody tr th:only-of-type {\n",
       "        vertical-align: middle;\n",
       "    }\n",
       "\n",
       "    .dataframe tbody tr th {\n",
       "        vertical-align: top;\n",
       "    }\n",
       "\n",
       "    .dataframe thead th {\n",
       "        text-align: right;\n",
       "    }\n",
       "</style>\n",
       "<table border=\"1\" class=\"dataframe\">\n",
       "  <thead>\n",
       "    <tr style=\"text-align: right;\">\n",
       "      <th></th>\n",
       "      <th>Date</th>\n",
       "      <th>Open</th>\n",
       "      <th>High</th>\n",
       "      <th>Low</th>\n",
       "      <th>Close</th>\n",
       "      <th>Volume</th>\n",
       "      <th>Dividends</th>\n",
       "      <th>Stock Splits</th>\n",
       "      <th>Name</th>\n",
       "    </tr>\n",
       "  </thead>\n",
       "  <tbody>\n",
       "    <tr>\n",
       "      <th>0</th>\n",
       "      <td>2021-02-18</td>\n",
       "      <td>52140.972656</td>\n",
       "      <td>52474.105469</td>\n",
       "      <td>51015.765625</td>\n",
       "      <td>51679.796875</td>\n",
       "      <td>52054723579</td>\n",
       "      <td>0</td>\n",
       "      <td>0</td>\n",
       "      <td>BTC-USD</td>\n",
       "    </tr>\n",
       "    <tr>\n",
       "      <th>1</th>\n",
       "      <td>2021-02-19</td>\n",
       "      <td>51675.980469</td>\n",
       "      <td>56113.652344</td>\n",
       "      <td>50937.277344</td>\n",
       "      <td>55888.132812</td>\n",
       "      <td>63495496918</td>\n",
       "      <td>0</td>\n",
       "      <td>0</td>\n",
       "      <td>BTC-USD</td>\n",
       "    </tr>\n",
       "    <tr>\n",
       "      <th>2</th>\n",
       "      <td>2021-02-20</td>\n",
       "      <td>55887.335938</td>\n",
       "      <td>57505.226562</td>\n",
       "      <td>54626.558594</td>\n",
       "      <td>56099.519531</td>\n",
       "      <td>68145460026</td>\n",
       "      <td>0</td>\n",
       "      <td>0</td>\n",
       "      <td>BTC-USD</td>\n",
       "    </tr>\n",
       "    <tr>\n",
       "      <th>3</th>\n",
       "      <td>2021-02-21</td>\n",
       "      <td>56068.566406</td>\n",
       "      <td>58330.570312</td>\n",
       "      <td>55672.609375</td>\n",
       "      <td>57539.945312</td>\n",
       "      <td>51897585191</td>\n",
       "      <td>0</td>\n",
       "      <td>0</td>\n",
       "      <td>BTC-USD</td>\n",
       "    </tr>\n",
       "    <tr>\n",
       "      <th>4</th>\n",
       "      <td>2021-02-22</td>\n",
       "      <td>57532.738281</td>\n",
       "      <td>57533.390625</td>\n",
       "      <td>48967.566406</td>\n",
       "      <td>54207.320312</td>\n",
       "      <td>92052420332</td>\n",
       "      <td>0</td>\n",
       "      <td>0</td>\n",
       "      <td>BTC-USD</td>\n",
       "    </tr>\n",
       "  </tbody>\n",
       "</table>\n",
       "</div>"
      ],
      "text/plain": [
       "        Date          Open          High           Low         Close  \\\n",
       "0 2021-02-18  52140.972656  52474.105469  51015.765625  51679.796875   \n",
       "1 2021-02-19  51675.980469  56113.652344  50937.277344  55888.132812   \n",
       "2 2021-02-20  55887.335938  57505.226562  54626.558594  56099.519531   \n",
       "3 2021-02-21  56068.566406  58330.570312  55672.609375  57539.945312   \n",
       "4 2021-02-22  57532.738281  57533.390625  48967.566406  54207.320312   \n",
       "\n",
       "        Volume  Dividends  Stock Splits     Name  \n",
       "0  52054723579          0             0  BTC-USD  \n",
       "1  63495496918          0             0  BTC-USD  \n",
       "2  68145460026          0             0  BTC-USD  \n",
       "3  51897585191          0             0  BTC-USD  \n",
       "4  92052420332          0             0  BTC-USD  "
      ]
     },
     "execution_count": 6,
     "metadata": {},
     "output_type": "execute_result"
    }
   ],
   "source": [
    "# Initialize Basic Dataframe as empty\n",
    "df_info=pd.DataFrame() \n",
    "\n",
    "# Add Shares information for List of stock names\n",
    "for item in s_list:\n",
    "    data=yf.Ticker(item)\n",
    "    df_data=data.history(period=sample_interval,start=start ,end=end )\n",
    "    df_data=df_data.reset_index()\n",
    "    df_data['Name']=pd.DataFrame([item for i in range(0,len(df_data))])\n",
    "    df_info=pd.concat([df_info,df_data])\n",
    "    \n",
    "\n",
    "# Display basic information\n",
    "df_info.head()"
   ]
  },
  {
   "cell_type": "code",
   "execution_count": 7,
   "metadata": {},
   "outputs": [
    {
     "name": "stdout",
     "output_type": "stream",
     "text": [
      "Size of the full dataset is: 59 by 9\n"
     ]
    }
   ],
   "source": [
    "# Size of Data:\n",
    "print('Size of the full dataset is: {} by {}'.format(df_info.shape[0],df_info.shape[1]))"
   ]
  },
  {
   "cell_type": "markdown",
   "metadata": {},
   "source": [
    "## Exploratory Pre-Processing Analysis"
   ]
  },
  {
   "cell_type": "markdown",
   "metadata": {},
   "source": [
    "### Create Dataframe (df) of Relevant share Price vs. date, which will be the data looked at in this analysis  "
   ]
  },
  {
   "cell_type": "code",
   "execution_count": 8,
   "metadata": {},
   "outputs": [
    {
     "data": {
      "text/html": [
       "<div>\n",
       "<style scoped>\n",
       "    .dataframe tbody tr th:only-of-type {\n",
       "        vertical-align: middle;\n",
       "    }\n",
       "\n",
       "    .dataframe tbody tr th {\n",
       "        vertical-align: top;\n",
       "    }\n",
       "\n",
       "    .dataframe thead th {\n",
       "        text-align: right;\n",
       "    }\n",
       "</style>\n",
       "<table border=\"1\" class=\"dataframe\">\n",
       "  <thead>\n",
       "    <tr style=\"text-align: right;\">\n",
       "      <th></th>\n",
       "      <th>BTC-USD</th>\n",
       "      <th>ETH</th>\n",
       "      <th>DOGE-USD</th>\n",
       "    </tr>\n",
       "  </thead>\n",
       "  <tbody>\n",
       "    <tr>\n",
       "      <th>2021-03-02</th>\n",
       "      <td>48378.988281</td>\n",
       "      <td>26.219999</td>\n",
       "      <td>0.050262</td>\n",
       "    </tr>\n",
       "    <tr>\n",
       "      <th>2021-03-03</th>\n",
       "      <td>50538.242188</td>\n",
       "      <td>25.959999</td>\n",
       "      <td>0.050592</td>\n",
       "    </tr>\n",
       "    <tr>\n",
       "      <th>2021-03-04</th>\n",
       "      <td>48561.167969</td>\n",
       "      <td>24.860001</td>\n",
       "      <td>0.050048</td>\n",
       "    </tr>\n",
       "    <tr>\n",
       "      <th>2021-03-05</th>\n",
       "      <td>48927.304688</td>\n",
       "      <td>25.459999</td>\n",
       "      <td>0.049609</td>\n",
       "    </tr>\n",
       "    <tr>\n",
       "      <th>2021-03-06</th>\n",
       "      <td>48912.382812</td>\n",
       "      <td>27.070000</td>\n",
       "      <td>0.050984</td>\n",
       "    </tr>\n",
       "    <tr>\n",
       "      <th>2021-03-07</th>\n",
       "      <td>51206.691406</td>\n",
       "      <td>27.070000</td>\n",
       "      <td>0.052122</td>\n",
       "    </tr>\n",
       "    <tr>\n",
       "      <th>2021-03-08</th>\n",
       "      <td>52246.523438</td>\n",
       "      <td>27.070000</td>\n",
       "      <td>0.061949</td>\n",
       "    </tr>\n",
       "    <tr>\n",
       "      <th>2021-03-09</th>\n",
       "      <td>54824.117188</td>\n",
       "      <td>26.440001</td>\n",
       "      <td>0.057998</td>\n",
       "    </tr>\n",
       "    <tr>\n",
       "      <th>2021-03-10</th>\n",
       "      <td>56008.550781</td>\n",
       "      <td>27.780001</td>\n",
       "      <td>0.056004</td>\n",
       "    </tr>\n",
       "    <tr>\n",
       "      <th>2021-03-11</th>\n",
       "      <td>56337.683594</td>\n",
       "      <td>27.780001</td>\n",
       "      <td>0.055142</td>\n",
       "    </tr>\n",
       "  </tbody>\n",
       "</table>\n",
       "</div>"
      ],
      "text/plain": [
       "                 BTC-USD        ETH  DOGE-USD\n",
       "2021-03-02  48378.988281  26.219999  0.050262\n",
       "2021-03-03  50538.242188  25.959999  0.050592\n",
       "2021-03-04  48561.167969  24.860001  0.050048\n",
       "2021-03-05  48927.304688  25.459999  0.049609\n",
       "2021-03-06  48912.382812  27.070000  0.050984\n",
       "2021-03-07  51206.691406  27.070000  0.052122\n",
       "2021-03-08  52246.523438  27.070000  0.061949\n",
       "2021-03-09  54824.117188  26.440001  0.057998\n",
       "2021-03-10  56008.550781  27.780001  0.056004\n",
       "2021-03-11  56337.683594  27.780001  0.055142"
      ]
     },
     "execution_count": 8,
     "metadata": {},
     "output_type": "execute_result"
    }
   ],
   "source": [
    "# Create new Dataframe of relevant Share Prices\n",
    "datevalues=df_info['Date'].sort_values().drop_duplicates().tolist()\n",
    "df=pd.DataFrame(index=datevalues,columns=s_list)\n",
    "for item in s_list:\n",
    "    df_item=df_info[df_info['Name']==item]\n",
    "    for ind in df.index.tolist():\n",
    "    #df[['Date',item]]=df_info.loc[df_info['Name']==item,['Date',pricetype]]\n",
    "        try:\n",
    "            df.loc[ind,item]=df_item.loc[df_item['Date']==ind,pricetype].values[0]\n",
    "        except:\n",
    "            pass\n",
    "    df[item].fillna(method='bfill',inplace=True)\n",
    "    df[item].fillna(method='ffill',inplace=True)\n",
    "\n",
    "df_price=df.copy()\n",
    "# Display initial few contents of the Dataset\n",
    "df.tail(10)"
   ]
  },
  {
   "cell_type": "markdown",
   "metadata": {},
   "source": [
    "### Display basic information about this dataset"
   ]
  },
  {
   "cell_type": "code",
   "execution_count": 9,
   "metadata": {},
   "outputs": [
    {
     "data": {
      "text/html": [
       "<style  type=\"text/css\" >\n",
       "#T_f12671a2_8282_11eb_a181_e6b744cc9315row0_col0,#T_f12671a2_8282_11eb_a181_e6b744cc9315row0_col1,#T_f12671a2_8282_11eb_a181_e6b744cc9315row0_col2,#T_f12671a2_8282_11eb_a181_e6b744cc9315row1_col1,#T_f12671a2_8282_11eb_a181_e6b744cc9315row1_col2,#T_f12671a2_8282_11eb_a181_e6b744cc9315row2_col1,#T_f12671a2_8282_11eb_a181_e6b744cc9315row2_col2,#T_f12671a2_8282_11eb_a181_e6b744cc9315row3_col1,#T_f12671a2_8282_11eb_a181_e6b744cc9315row3_col2,#T_f12671a2_8282_11eb_a181_e6b744cc9315row4_col1,#T_f12671a2_8282_11eb_a181_e6b744cc9315row4_col2,#T_f12671a2_8282_11eb_a181_e6b744cc9315row5_col1,#T_f12671a2_8282_11eb_a181_e6b744cc9315row5_col2,#T_f12671a2_8282_11eb_a181_e6b744cc9315row6_col1,#T_f12671a2_8282_11eb_a181_e6b744cc9315row6_col2,#T_f12671a2_8282_11eb_a181_e6b744cc9315row7_col1,#T_f12671a2_8282_11eb_a181_e6b744cc9315row7_col2{\n",
       "            background-color:  #fff7fb;\n",
       "            color:  #000000;\n",
       "        }#T_f12671a2_8282_11eb_a181_e6b744cc9315row1_col0,#T_f12671a2_8282_11eb_a181_e6b744cc9315row2_col0,#T_f12671a2_8282_11eb_a181_e6b744cc9315row3_col0,#T_f12671a2_8282_11eb_a181_e6b744cc9315row4_col0,#T_f12671a2_8282_11eb_a181_e6b744cc9315row5_col0,#T_f12671a2_8282_11eb_a181_e6b744cc9315row6_col0,#T_f12671a2_8282_11eb_a181_e6b744cc9315row7_col0{\n",
       "            background-color:  #023858;\n",
       "            color:  #f1f1f1;\n",
       "        }</style><table id=\"T_f12671a2_8282_11eb_a181_e6b744cc9315\" ><thead>    <tr>        <th class=\"blank level0\" ></th>        <th class=\"col_heading level0 col0\" >BTC-USD</th>        <th class=\"col_heading level0 col1\" >ETH</th>        <th class=\"col_heading level0 col2\" >DOGE-USD</th>    </tr></thead><tbody>\n",
       "                <tr>\n",
       "                        <th id=\"T_f12671a2_8282_11eb_a181_e6b744cc9315level0_row0\" class=\"row_heading level0 row0\" >count</th>\n",
       "                        <td id=\"T_f12671a2_8282_11eb_a181_e6b744cc9315row0_col0\" class=\"data row0 col0\" >22.00</td>\n",
       "                        <td id=\"T_f12671a2_8282_11eb_a181_e6b744cc9315row0_col1\" class=\"data row0 col1\" >22.00</td>\n",
       "                        <td id=\"T_f12671a2_8282_11eb_a181_e6b744cc9315row0_col2\" class=\"data row0 col2\" >22.00</td>\n",
       "            </tr>\n",
       "            <tr>\n",
       "                        <th id=\"T_f12671a2_8282_11eb_a181_e6b744cc9315level0_row1\" class=\"row_heading level0 row1\" >mean</th>\n",
       "                        <td id=\"T_f12671a2_8282_11eb_a181_e6b744cc9315row1_col0\" class=\"data row1 col0\" >51103.51</td>\n",
       "                        <td id=\"T_f12671a2_8282_11eb_a181_e6b744cc9315row1_col1\" class=\"data row1 col1\" >25.91</td>\n",
       "                        <td id=\"T_f12671a2_8282_11eb_a181_e6b744cc9315row1_col2\" class=\"data row1 col2\" >0.05</td>\n",
       "            </tr>\n",
       "            <tr>\n",
       "                        <th id=\"T_f12671a2_8282_11eb_a181_e6b744cc9315level0_row2\" class=\"row_heading level0 row2\" >std</th>\n",
       "                        <td id=\"T_f12671a2_8282_11eb_a181_e6b744cc9315row2_col0\" class=\"data row2 col0\" >3763.49</td>\n",
       "                        <td id=\"T_f12671a2_8282_11eb_a181_e6b744cc9315row2_col1\" class=\"data row2 col1\" >0.98</td>\n",
       "                        <td id=\"T_f12671a2_8282_11eb_a181_e6b744cc9315row2_col2\" class=\"data row2 col2\" >0.00</td>\n",
       "            </tr>\n",
       "            <tr>\n",
       "                        <th id=\"T_f12671a2_8282_11eb_a181_e6b744cc9315level0_row3\" class=\"row_heading level0 row3\" >min</th>\n",
       "                        <td id=\"T_f12671a2_8282_11eb_a181_e6b744cc9315row3_col0\" class=\"data row3 col0\" >45137.77</td>\n",
       "                        <td id=\"T_f12671a2_8282_11eb_a181_e6b744cc9315row3_col1\" class=\"data row3 col1\" >24.23</td>\n",
       "                        <td id=\"T_f12671a2_8282_11eb_a181_e6b744cc9315row3_col2\" class=\"data row3 col2\" >0.05</td>\n",
       "            </tr>\n",
       "            <tr>\n",
       "                        <th id=\"T_f12671a2_8282_11eb_a181_e6b744cc9315level0_row4\" class=\"row_heading level0 row4\" >25%</th>\n",
       "                        <td id=\"T_f12671a2_8282_11eb_a181_e6b744cc9315row4_col0\" class=\"data row4 col0\" >48626.98</td>\n",
       "                        <td id=\"T_f12671a2_8282_11eb_a181_e6b744cc9315row4_col1\" class=\"data row4 col1\" >25.11</td>\n",
       "                        <td id=\"T_f12671a2_8282_11eb_a181_e6b744cc9315row4_col2\" class=\"data row4 col2\" >0.05</td>\n",
       "            </tr>\n",
       "            <tr>\n",
       "                        <th id=\"T_f12671a2_8282_11eb_a181_e6b744cc9315level0_row5\" class=\"row_heading level0 row5\" >50%</th>\n",
       "                        <td id=\"T_f12671a2_8282_11eb_a181_e6b744cc9315row5_col0\" class=\"data row5 col0\" >50121.79</td>\n",
       "                        <td id=\"T_f12671a2_8282_11eb_a181_e6b744cc9315row5_col1\" class=\"data row5 col1\" >25.80</td>\n",
       "                        <td id=\"T_f12671a2_8282_11eb_a181_e6b744cc9315row5_col2\" class=\"data row5 col2\" >0.05</td>\n",
       "            </tr>\n",
       "            <tr>\n",
       "                        <th id=\"T_f12671a2_8282_11eb_a181_e6b744cc9315level0_row6\" class=\"row_heading level0 row6\" >75%</th>\n",
       "                        <td id=\"T_f12671a2_8282_11eb_a181_e6b744cc9315row6_col0\" class=\"data row6 col0\" >54669.92</td>\n",
       "                        <td id=\"T_f12671a2_8282_11eb_a181_e6b744cc9315row6_col1\" class=\"data row6 col1\" >26.39</td>\n",
       "                        <td id=\"T_f12671a2_8282_11eb_a181_e6b744cc9315row6_col2\" class=\"data row6 col2\" >0.06</td>\n",
       "            </tr>\n",
       "            <tr>\n",
       "                        <th id=\"T_f12671a2_8282_11eb_a181_e6b744cc9315level0_row7\" class=\"row_heading level0 row7\" >max</th>\n",
       "                        <td id=\"T_f12671a2_8282_11eb_a181_e6b744cc9315row7_col0\" class=\"data row7 col0\" >57539.95</td>\n",
       "                        <td id=\"T_f12671a2_8282_11eb_a181_e6b744cc9315row7_col1\" class=\"data row7 col1\" >27.78</td>\n",
       "                        <td id=\"T_f12671a2_8282_11eb_a181_e6b744cc9315row7_col2\" class=\"data row7 col2\" >0.06</td>\n",
       "            </tr>\n",
       "    </tbody></table>"
      ],
      "text/plain": [
       "<pandas.io.formats.style.Styler at 0x7f293012f668>"
      ]
     },
     "execution_count": 9,
     "metadata": {},
     "output_type": "execute_result"
    }
   ],
   "source": [
    "# Display basic statistics of the opening prices\n",
    "# Darker cells denote higher values\n",
    "df.describe().style.background_gradient(axis=1).format(\"{:.2f}\")"
   ]
  },
  {
   "cell_type": "markdown",
   "metadata": {},
   "source": [
    "### Create basic Time plot to look at pertinent information"
   ]
  },
  {
   "cell_type": "code",
   "execution_count": 10,
   "metadata": {},
   "outputs": [
    {
     "data": {
      "image/png": "[encoded data removed]",
      "text/plain": [
       "<Figure size 432x288 with 1 Axes>"
      ]
     },
     "metadata": {
      "needs_background": "light"
     },
     "output_type": "display_data"
    }
   ],
   "source": [
    "# Plot Open price vs. Time\n",
    "ax= plt.subplot()\n",
    "for item in df_price.columns:\n",
    "    plt.plot(df_price[item])\n",
    "\n",
    "plt.xticks(rotation=45)\n",
    "ax.legend(df_price.columns)\n",
    "plt.ylabel('Share Price [USD]')\n",
    "ax.grid(True)"
   ]
  },
  {
   "cell_type": "markdown",
   "metadata": {},
   "source": [
    "## What kind of Growth % do we see with the various listings?"
   ]
  },
  {
   "cell_type": "markdown",
   "metadata": {},
   "source": [
    "### Normalize the opening price to determine Growth % over the period of interest"
   ]
  },
  {
   "cell_type": "markdown",
   "metadata": {},
   "source": [
    "Normalize w.r.t. start price (df_start) <br> \n",
    "Normalization used: (price-start_price)/start_price*100 to obtain df_norm"
   ]
  },
  {
   "cell_type": "code",
   "execution_count": 11,
   "metadata": {},
   "outputs": [
    {
     "data": {
      "text/html": [
       "<div>\n",
       "<style scoped>\n",
       "    .dataframe tbody tr th:only-of-type {\n",
       "        vertical-align: middle;\n",
       "    }\n",
       "\n",
       "    .dataframe tbody tr th {\n",
       "        vertical-align: top;\n",
       "    }\n",
       "\n",
       "    .dataframe thead th {\n",
       "        text-align: right;\n",
       "    }\n",
       "</style>\n",
       "<table border=\"1\" class=\"dataframe\">\n",
       "  <thead>\n",
       "    <tr style=\"text-align: right;\">\n",
       "      <th></th>\n",
       "      <th>BTC-USD</th>\n",
       "      <th>ETH</th>\n",
       "      <th>DOGE-USD</th>\n",
       "    </tr>\n",
       "  </thead>\n",
       "  <tbody>\n",
       "    <tr>\n",
       "      <th>2021-02-18</th>\n",
       "      <td>0.000000</td>\n",
       "      <td>0.000000</td>\n",
       "      <td>0.000000</td>\n",
       "    </tr>\n",
       "    <tr>\n",
       "      <th>2021-02-19</th>\n",
       "      <td>8.143097</td>\n",
       "      <td>3.177881</td>\n",
       "      <td>-7.393220</td>\n",
       "    </tr>\n",
       "    <tr>\n",
       "      <th>2021-02-20</th>\n",
       "      <td>8.552129</td>\n",
       "      <td>3.631866</td>\n",
       "      <td>-8.661255</td>\n",
       "    </tr>\n",
       "    <tr>\n",
       "      <th>2021-02-21</th>\n",
       "      <td>11.339341</td>\n",
       "      <td>3.631866</td>\n",
       "      <td>-5.980749</td>\n",
       "    </tr>\n",
       "    <tr>\n",
       "      <th>2021-02-22</th>\n",
       "      <td>4.890738</td>\n",
       "      <td>3.631866</td>\n",
       "      <td>-9.768055</td>\n",
       "    </tr>\n",
       "  </tbody>\n",
       "</table>\n",
       "</div>"
      ],
      "text/plain": [
       "              BTC-USD       ETH  DOGE-USD\n",
       "2021-02-18   0.000000  0.000000  0.000000\n",
       "2021-02-19   8.143097  3.177881 -7.393220\n",
       "2021-02-20   8.552129  3.631866 -8.661255\n",
       "2021-02-21  11.339341  3.631866 -5.980749\n",
       "2021-02-22   4.890738  3.631866 -9.768055"
      ]
     },
     "execution_count": 11,
     "metadata": {},
     "output_type": "execute_result"
    }
   ],
   "source": [
    "# Normalization Function\n",
    "def df_normalize(df):\n",
    "    df_strt=df.iloc[0,:]\n",
    "    df_norm=(df.iloc[:,:]-df_strt)/df_strt*100\n",
    "    df_strt=pd.DataFrame(df_strt).transpose()\n",
    "    df_strt.set_axis(['start_price'],axis=0,inplace=True)\n",
    "    return [df_norm,df_strt]\n",
    "\n",
    "# Store Normalized values in DataFrame and display results                          \n",
    "[df_norm,df_start]=df_normalize(df)\n",
    "df_norm.head()"
   ]
  },
  {
   "cell_type": "code",
   "execution_count": 12,
   "metadata": {},
   "outputs": [
    {
     "name": "stdout",
     "output_type": "stream",
     "text": [
      "Size of the data is: 22 by 3\n"
     ]
    }
   ],
   "source": [
    "# Size of Data:\n",
    "print('Size of the data is: {} by {}'.format(df_norm.shape[0],df_norm.shape[1]))"
   ]
  },
  {
   "cell_type": "code",
   "execution_count": 13,
   "metadata": {},
   "outputs": [
    {
     "data": {
      "text/html": [
       "<style  type=\"text/css\" >\n",
       "#T_f1c4ad22_8282_11eb_a181_e6b744cc9315row0_col0,#T_f1c4ad22_8282_11eb_a181_e6b744cc9315row0_col1,#T_f1c4ad22_8282_11eb_a181_e6b744cc9315row0_col2,#T_f1c4ad22_8282_11eb_a181_e6b744cc9315row1_col2,#T_f1c4ad22_8282_11eb_a181_e6b744cc9315row2_col2,#T_f1c4ad22_8282_11eb_a181_e6b744cc9315row3_col2{\n",
       "            background-color:  #fff7fb;\n",
       "            color:  #000000;\n",
       "        }#T_f1c4ad22_8282_11eb_a181_e6b744cc9315row1_col0{\n",
       "            background-color:  #5c9fc9;\n",
       "            color:  #000000;\n",
       "        }#T_f1c4ad22_8282_11eb_a181_e6b744cc9315row1_col1,#T_f1c4ad22_8282_11eb_a181_e6b744cc9315row2_col1,#T_f1c4ad22_8282_11eb_a181_e6b744cc9315row3_col1{\n",
       "            background-color:  #023858;\n",
       "            color:  #f1f1f1;\n",
       "        }#T_f1c4ad22_8282_11eb_a181_e6b744cc9315row2_col0{\n",
       "            background-color:  #a4bcda;\n",
       "            color:  #000000;\n",
       "        }#T_f1c4ad22_8282_11eb_a181_e6b744cc9315row3_col0{\n",
       "            background-color:  #1c7fb8;\n",
       "            color:  #000000;\n",
       "        }</style><table id=\"T_f1c4ad22_8282_11eb_a181_e6b744cc9315\" ><thead>    <tr>        <th class=\"blank level0\" ></th>        <th class=\"col_heading level0 col0\" >BTC-USD</th>        <th class=\"col_heading level0 col1\" >ETH</th>        <th class=\"col_heading level0 col2\" >DOGE-USD</th>    </tr></thead><tbody>\n",
       "                <tr>\n",
       "                        <th id=\"T_f1c4ad22_8282_11eb_a181_e6b744cc9315level0_row0\" class=\"row_heading level0 row0\" >count</th>\n",
       "                        <td id=\"T_f1c4ad22_8282_11eb_a181_e6b744cc9315row0_col0\" class=\"data row0 col0\" >22.0</td>\n",
       "                        <td id=\"T_f1c4ad22_8282_11eb_a181_e6b744cc9315row0_col1\" class=\"data row0 col1\" >22.0</td>\n",
       "                        <td id=\"T_f1c4ad22_8282_11eb_a181_e6b744cc9315row0_col2\" class=\"data row0 col2\" >22.0</td>\n",
       "            </tr>\n",
       "            <tr>\n",
       "                        <th id=\"T_f1c4ad22_8282_11eb_a181_e6b744cc9315level0_row1\" class=\"row_heading level0 row1\" >mean</th>\n",
       "                        <td id=\"T_f1c4ad22_8282_11eb_a181_e6b744cc9315row1_col0\" class=\"data row1 col0\" >-1.1</td>\n",
       "                        <td id=\"T_f1c4ad22_8282_11eb_a181_e6b744cc9315row1_col1\" class=\"data row1 col1\" >6.9</td>\n",
       "                        <td id=\"T_f1c4ad22_8282_11eb_a181_e6b744cc9315row1_col2\" class=\"data row1 col2\" >-10.9</td>\n",
       "            </tr>\n",
       "            <tr>\n",
       "                        <th id=\"T_f1c4ad22_8282_11eb_a181_e6b744cc9315level0_row2\" class=\"row_heading level0 row2\" >min</th>\n",
       "                        <td id=\"T_f1c4ad22_8282_11eb_a181_e6b744cc9315row2_col0\" class=\"data row2 col0\" >-12.7</td>\n",
       "                        <td id=\"T_f1c4ad22_8282_11eb_a181_e6b744cc9315row2_col1\" class=\"data row2 col1\" >0.0</td>\n",
       "                        <td id=\"T_f1c4ad22_8282_11eb_a181_e6b744cc9315row2_col2\" class=\"data row2 col2\" >-20.4</td>\n",
       "            </tr>\n",
       "            <tr>\n",
       "                        <th id=\"T_f1c4ad22_8282_11eb_a181_e6b744cc9315level0_row3\" class=\"row_heading level0 row3\" >max</th>\n",
       "                        <td id=\"T_f1c4ad22_8282_11eb_a181_e6b744cc9315row3_col0\" class=\"data row3 col0\" >11.3</td>\n",
       "                        <td id=\"T_f1c4ad22_8282_11eb_a181_e6b744cc9315row3_col1\" class=\"data row3 col1\" >14.7</td>\n",
       "                        <td id=\"T_f1c4ad22_8282_11eb_a181_e6b744cc9315row3_col2\" class=\"data row3 col2\" >4.0</td>\n",
       "            </tr>\n",
       "    </tbody></table>"
      ],
      "text/plain": [
       "<pandas.io.formats.style.Styler at 0x7f286aac29b0>"
      ]
     },
     "execution_count": 13,
     "metadata": {},
     "output_type": "execute_result"
    }
   ],
   "source": [
    "# Display basic statistics of the normalized prices\n",
    "# Darker cells denote higher values\n",
    "df_norm.describe().loc[['count','mean','min','max'],:].style.background_gradient(axis=1).format(\"{:.1f}\")"
   ]
  },
  {
   "cell_type": "markdown",
   "metadata": {},
   "source": [
    "### Plot trends in Normalized values"
   ]
  },
  {
   "cell_type": "markdown",
   "metadata": {},
   "source": [
    "Time Plot"
   ]
  },
  {
   "cell_type": "code",
   "execution_count": 14,
   "metadata": {},
   "outputs": [
    {
     "data": {
      "image/png": "[encoded data removed]",
      "text/plain": [
       "<Figure size 432x288 with 1 Axes>"
      ]
     },
     "metadata": {
      "needs_background": "light"
     },
     "output_type": "display_data"
    }
   ],
   "source": [
    "# Display Growth % over time\n",
    "ax= plt.subplot()\n",
    "for item in df_norm.columns:\n",
    "    plt.plot(df_norm[item])\n",
    "\n",
    "plt.xticks(rotation=45)\n",
    "ax.legend(df.columns,loc='upper center')\n",
    "plt.ylabel('Growth %')\n",
    "ax.grid(True)"
   ]
  },
  {
   "cell_type": "markdown",
   "metadata": {},
   "source": [
    "## How do the price gains of the listings correlate to each other?"
   ]
  },
  {
   "cell_type": "markdown",
   "metadata": {},
   "source": [
    "Correlation Matrix"
   ]
  },
  {
   "cell_type": "code",
   "execution_count": 15,
   "metadata": {},
   "outputs": [
    {
     "data": {
      "image/png": "[encoded data removed]",
      "text/plain": [
       "<Figure size 432x288 with 2 Axes>"
      ]
     },
     "metadata": {
      "needs_background": "light"
     },
     "output_type": "display_data"
    }
   ],
   "source": [
    "sns.heatmap(df_norm.corr());"
   ]
  },
  {
   "cell_type": "code",
   "execution_count": 16,
   "metadata": {},
   "outputs": [
    {
     "data": {
      "image/png": "[encoded data removed]",
      "text/plain": [
       "<Figure size 432x288 with 1 Axes>"
      ]
     },
     "metadata": {
      "needs_background": "light"
     },
     "output_type": "display_data"
    }
   ],
   "source": [
    "ax= plt.subplot()\n",
    "for item in df_norm.columns:\n",
    "    plt.scatter(df_norm.iloc[:,0],df_norm[item])\n",
    "\n",
    "ax.legend(df_norm.columns,loc='upper center')\n",
    "plt.xlabel('{} Growth %'.format(df_norm.columns[0]))\n",
    "plt.ylabel('Growth %')\n",
    "ax.grid(True)"
   ]
  },
  {
   "cell_type": "markdown",
   "metadata": {},
   "source": [
    "## Calculate percent and absolute estimate and bounds of Growth "
   ]
  },
  {
   "cell_type": "markdown",
   "metadata": {},
   "source": [
    "### Create a linear regression fit for the data with thrice the standard dev. of obs.-est. to determine the boundaries"
   ]
  },
  {
   "cell_type": "markdown",
   "metadata": {},
   "source": [
    "<b> Linear Regression object, score and price boundaries for each listing </b>"
   ]
  },
  {
   "cell_type": "code",
   "execution_count": 17,
   "metadata": {},
   "outputs": [],
   "source": [
    "def lin_obj(df):\n",
    "    df_lin=df.iloc[0:1,:]\n",
    "    df_lin.reindex(['fit_obj','score','bound'])\n",
    "    df_lin.drop(index=df_lin.index[0],inplace=True)\n",
    "    for item in df_lin.columns:\n",
    "        # ... (intercept and coeff.) of the fits\n",
    "        X=np.array(pd.to_numeric(df.index)).reshape(-1, 1)\n",
    "        Y=(df[item].values).reshape(-1, 1)\n",
    "        lin_list_coeff=[]\n",
    "        lin_list_intercept=[]\n",
    "        for i in range(0,1):\n",
    "            X_train, X_test, y_train, y_test = train_test_split(X, Y, test_size=0)\n",
    "            lin_obj=LinearRegression()\n",
    "            lin_obj.fit(X_train,y_train)\n",
    "            lin_list_coeff.append(lin_obj.coef_)\n",
    "            lin_list_intercept.append(lin_obj.intercept_)\n",
    "        linobj = LinearRegression()\n",
    "        linobj.coef_=np.array(np.array(lin_list_coeff).mean()).reshape(-1)\n",
    "        linobj.intercept_=np.array(np.array(lin_list_intercept).mean()).reshape(-1)\n",
    "        score=linobj.score(X,Y)\n",
    "        df_lin.loc['fit_obj',item]=linobj\n",
    "        df_lin.loc['score',item]=score\n",
    "\n",
    "    # Calculate price bounds\n",
    "    df_est=pd.DataFrame()\n",
    "    df_est.rename_axis(index='Datetime')\n",
    "    df_est['Datetime']=df.index\n",
    "    df_est.set_index('Datetime',inplace=True)\n",
    "    for item in df.columns:\n",
    "        fit_obj=df_lin.loc['fit_obj',item]\n",
    "        for datetime in df_est.index:\n",
    "            est=fit_obj.predict(np.array(datetime.value).reshape(-1,1))\n",
    "            df_est.loc[datetime,'{}'.format(item)]=est\n",
    "    for item in df.columns:\n",
    "        df_diff=df[item]-df_est[item]\n",
    "        bounds=3*df_diff.std()\n",
    "        df_lin.loc['bound',item]=bounds\n",
    "        \n",
    "    return df_lin"
   ]
  },
  {
   "cell_type": "markdown",
   "metadata": {},
   "source": [
    "Convert rise and fall from % to price (using price change= percent change/100*start price) and display.<br>"
   ]
  },
  {
   "cell_type": "code",
   "execution_count": 18,
   "metadata": {},
   "outputs": [
    {
     "name": "stderr",
     "output_type": "stream",
     "text": [
      "/home/jupyterlab/conda/envs/python/lib/python3.6/site-packages/pandas/core/frame.py:4174: SettingWithCopyWarning: \n",
      "A value is trying to be set on a copy of a slice from a DataFrame\n",
      "\n",
      "See the caveats in the documentation: https://pandas.pydata.org/pandas-docs/stable/user_guide/indexing.html#returning-a-view-versus-a-copy\n",
      "  errors=errors,\n",
      "/home/jupyterlab/conda/envs/python/lib/python3.6/site-packages/ipykernel_launcher.py:21: SettingWithCopyWarning: \n",
      "A value is trying to be set on a copy of a slice from a DataFrame\n",
      "\n",
      "See the caveats in the documentation: https://pandas.pydata.org/pandas-docs/stable/user_guide/indexing.html#returning-a-view-versus-a-copy\n"
     ]
    },
    {
     "data": {
      "text/html": [
       "<div>\n",
       "<style scoped>\n",
       "    .dataframe tbody tr th:only-of-type {\n",
       "        vertical-align: middle;\n",
       "    }\n",
       "\n",
       "    .dataframe tbody tr th {\n",
       "        vertical-align: top;\n",
       "    }\n",
       "\n",
       "    .dataframe thead th {\n",
       "        text-align: right;\n",
       "    }\n",
       "</style>\n",
       "<table border=\"1\" class=\"dataframe\">\n",
       "  <thead>\n",
       "    <tr style=\"text-align: right;\">\n",
       "      <th></th>\n",
       "      <th>BTC-USD</th>\n",
       "      <th>ETH</th>\n",
       "      <th>DOGE-USD</th>\n",
       "    </tr>\n",
       "  </thead>\n",
       "  <tbody>\n",
       "    <tr>\n",
       "      <th>fit_obj</th>\n",
       "      <td>LinearRegression(copy_X=True, fit_intercept=Tr...</td>\n",
       "      <td>LinearRegression(copy_X=True, fit_intercept=Tr...</td>\n",
       "      <td>LinearRegression(copy_X=True, fit_intercept=Tr...</td>\n",
       "    </tr>\n",
       "    <tr>\n",
       "      <th>score</th>\n",
       "      <td>1.29509e-05</td>\n",
       "      <td>0.719565</td>\n",
       "      <td>0.00104352</td>\n",
       "    </tr>\n",
       "    <tr>\n",
       "      <th>bound</th>\n",
       "      <td>21.8468</td>\n",
       "      <td>6.43</td>\n",
       "      <td>19.4387</td>\n",
       "    </tr>\n",
       "    <tr>\n",
       "      <th>price_bounds</th>\n",
       "      <td>11290.4</td>\n",
       "      <td>1.55799</td>\n",
       "      <td>0.011574</td>\n",
       "    </tr>\n",
       "  </tbody>\n",
       "</table>\n",
       "</div>"
      ],
      "text/plain": [
       "                                                        BTC-USD  \\\n",
       "fit_obj       LinearRegression(copy_X=True, fit_intercept=Tr...   \n",
       "score                                               1.29509e-05   \n",
       "bound                                                   21.8468   \n",
       "price_bounds                                            11290.4   \n",
       "\n",
       "                                                            ETH  \\\n",
       "fit_obj       LinearRegression(copy_X=True, fit_intercept=Tr...   \n",
       "score                                                  0.719565   \n",
       "bound                                                      6.43   \n",
       "price_bounds                                            1.55799   \n",
       "\n",
       "                                                       DOGE-USD  \n",
       "fit_obj       LinearRegression(copy_X=True, fit_intercept=Tr...  \n",
       "score                                                0.00104352  \n",
       "bound                                                   19.4387  \n",
       "price_bounds                                           0.011574  "
      ]
     },
     "execution_count": 18,
     "metadata": {},
     "output_type": "execute_result"
    }
   ],
   "source": [
    "# Call lin_obj(...) to create the price estimation object dataframe\n",
    "df_norm_price_est_obj=lin_obj(df_norm)\n",
    "df_price_bounds_dict={}\n",
    "for item in df_norm.columns:\n",
    "    df_price_bounds_dict[item]=df_norm_price_est_obj.loc['bound',item]*df_start.loc['start_price',item]/100\n",
    "df_price_bounds=pd.DataFrame(df_price_bounds_dict,index=['price_bounds'])\n",
    "df_norm_price_est_obj=df_norm_price_est_obj.append(df_price_bounds)\n",
    "df_norm_price_est_obj"
   ]
  },
  {
   "cell_type": "markdown",
   "metadata": {},
   "source": [
    "### Estimate the price and bounds vs. date using the fit object"
   ]
  },
  {
   "cell_type": "code",
   "execution_count": 19,
   "metadata": {},
   "outputs": [],
   "source": [
    "# Function to estimate the price given the price dataframe, fit objects and datetime query\n",
    "def price_est(df,df_norm_price_est_obj,df_strt,datetime_query):\n",
    "    df_price_est=pd.DataFrame()\n",
    "    df_price_est.rename_axis(index='Datetime')\n",
    "    df_price_est['Datetime']=pd.to_datetime(datetime_query)\n",
    "    df_price_est.set_index('Datetime',inplace=True)\n",
    "    for item in df.columns:\n",
    "        fit_obj=df_norm_price_est_obj.loc['fit_obj',item]\n",
    "        for datetime in df_price_est.index:\n",
    "            norm_price_est=fit_obj.predict(np.array(datetime.value).reshape(-1,1))\n",
    "            price_est=norm_price_est*df_strt.loc['start_price',item]/100+df_strt.loc['start_price',item]\n",
    "            df_price_est.loc[datetime,'{}'.format(item)]=price_est\n",
    "            df_price_est.loc[datetime,'{}_low'.format(item)]=price_est-(df_norm_price_est_obj.loc['price_bounds',item])\n",
    "            df_price_est.loc[datetime,'{}_high'.format(item)]=price_est+(df_norm_price_est_obj.loc['price_bounds',item])\n",
    "            df_price_est.loc[datetime,'{}_lo_mid'.format(item)]=df_price_est.loc[datetime,['{}'.format(item),\n",
    "                                                                                         '{}_low'.format(item)]].mean()\n",
    "            df_price_est.loc[datetime,'{}_hi_mid'.format(item)]=df_price_est.loc[datetime,['{}'.format(item),\n",
    "                                                                                         '{}_high'.format(item)]].mean()\n",
    "            df_price_est.loc[datetime,'{}_lo_ratio'.format(item)]=df_price_est.loc[datetime,'{}_low'.format(item)]/price_est\n",
    "    df_price_est.reindex(df_price_est.index.date)\n",
    "    df_price_est=df_price_est\n",
    "    return df_price_est\n"
   ]
  },
  {
   "cell_type": "markdown",
   "metadata": {},
   "source": [
    "## What is the predicted share price?"
   ]
  },
  {
   "cell_type": "code",
   "execution_count": 20,
   "metadata": {},
   "outputs": [
    {
     "data": {
      "text/html": [
       "<style  type=\"text/css\" >\n",
       "#T_f3891c38_8282_11eb_a181_e6b744cc9315row0_col0{\n",
       "            background-color:  #04649d;\n",
       "            color:  #f1f1f1;\n",
       "        }#T_f3891c38_8282_11eb_a181_e6b744cc9315row0_col1{\n",
       "            background-color:  #308cbe;\n",
       "            color:  #000000;\n",
       "        }#T_f3891c38_8282_11eb_a181_e6b744cc9315row0_col2{\n",
       "            background-color:  #023858;\n",
       "            color:  #f1f1f1;\n",
       "        }#T_f3891c38_8282_11eb_a181_e6b744cc9315row0_col3{\n",
       "            background-color:  #0d75b3;\n",
       "            color:  #f1f1f1;\n",
       "        }#T_f3891c38_8282_11eb_a181_e6b744cc9315row0_col4{\n",
       "            background-color:  #03517e;\n",
       "            color:  #f1f1f1;\n",
       "        }#T_f3891c38_8282_11eb_a181_e6b744cc9315row0_col5,#T_f3891c38_8282_11eb_a181_e6b744cc9315row0_col6,#T_f3891c38_8282_11eb_a181_e6b744cc9315row0_col7,#T_f3891c38_8282_11eb_a181_e6b744cc9315row0_col8,#T_f3891c38_8282_11eb_a181_e6b744cc9315row0_col9,#T_f3891c38_8282_11eb_a181_e6b744cc9315row0_col10,#T_f3891c38_8282_11eb_a181_e6b744cc9315row0_col11,#T_f3891c38_8282_11eb_a181_e6b744cc9315row0_col12,#T_f3891c38_8282_11eb_a181_e6b744cc9315row0_col13,#T_f3891c38_8282_11eb_a181_e6b744cc9315row0_col14,#T_f3891c38_8282_11eb_a181_e6b744cc9315row0_col15,#T_f3891c38_8282_11eb_a181_e6b744cc9315row0_col16,#T_f3891c38_8282_11eb_a181_e6b744cc9315row0_col17{\n",
       "            background-color:  #fff7fb;\n",
       "            color:  #000000;\n",
       "        }</style><table id=\"T_f3891c38_8282_11eb_a181_e6b744cc9315\" ><thead>    <tr>        <th class=\"blank level0\" ></th>        <th class=\"col_heading level0 col0\" >BTC-USD</th>        <th class=\"col_heading level0 col1\" >BTC-USD_low</th>        <th class=\"col_heading level0 col2\" >BTC-USD_high</th>        <th class=\"col_heading level0 col3\" >BTC-USD_lo_mid</th>        <th class=\"col_heading level0 col4\" >BTC-USD_hi_mid</th>        <th class=\"col_heading level0 col5\" >BTC-USD_lo_ratio</th>        <th class=\"col_heading level0 col6\" >ETH</th>        <th class=\"col_heading level0 col7\" >ETH_low</th>        <th class=\"col_heading level0 col8\" >ETH_high</th>        <th class=\"col_heading level0 col9\" >ETH_lo_mid</th>        <th class=\"col_heading level0 col10\" >ETH_hi_mid</th>        <th class=\"col_heading level0 col11\" >ETH_lo_ratio</th>        <th class=\"col_heading level0 col12\" >DOGE-USD</th>        <th class=\"col_heading level0 col13\" >DOGE-USD_low</th>        <th class=\"col_heading level0 col14\" >DOGE-USD_high</th>        <th class=\"col_heading level0 col15\" >DOGE-USD_lo_mid</th>        <th class=\"col_heading level0 col16\" >DOGE-USD_hi_mid</th>        <th class=\"col_heading level0 col17\" >DOGE-USD_lo_ratio</th>    </tr>    <tr>        <th class=\"index_name level0\" >Datetime</th>        <th class=\"blank\" ></th>        <th class=\"blank\" ></th>        <th class=\"blank\" ></th>        <th class=\"blank\" ></th>        <th class=\"blank\" ></th>        <th class=\"blank\" ></th>        <th class=\"blank\" ></th>        <th class=\"blank\" ></th>        <th class=\"blank\" ></th>        <th class=\"blank\" ></th>        <th class=\"blank\" ></th>        <th class=\"blank\" ></th>        <th class=\"blank\" ></th>        <th class=\"blank\" ></th>        <th class=\"blank\" ></th>        <th class=\"blank\" ></th>        <th class=\"blank\" ></th>        <th class=\"blank\" ></th>    </tr></thead><tbody>\n",
       "                <tr>\n",
       "                        <th id=\"T_f3891c38_8282_11eb_a181_e6b744cc9315level0_row0\" class=\"row_heading level0 row0\" >2021-05-28 00:00:00</th>\n",
       "                        <td id=\"T_f3891c38_8282_11eb_a181_e6b744cc9315row0_col0\" class=\"data row0 col0\" >50918.9</td>\n",
       "                        <td id=\"T_f3891c38_8282_11eb_a181_e6b744cc9315row0_col1\" class=\"data row0 col1\" >39628.5</td>\n",
       "                        <td id=\"T_f3891c38_8282_11eb_a181_e6b744cc9315row0_col2\" class=\"data row0 col2\" >62209.3</td>\n",
       "                        <td id=\"T_f3891c38_8282_11eb_a181_e6b744cc9315row0_col3\" class=\"data row0 col3\" >45273.7</td>\n",
       "                        <td id=\"T_f3891c38_8282_11eb_a181_e6b744cc9315row0_col4\" class=\"data row0 col4\" >56564.1</td>\n",
       "                        <td id=\"T_f3891c38_8282_11eb_a181_e6b744cc9315row0_col5\" class=\"data row0 col5\" >0.8</td>\n",
       "                        <td id=\"T_f3891c38_8282_11eb_a181_e6b744cc9315row0_col6\" class=\"data row0 col6\" >37.2</td>\n",
       "                        <td id=\"T_f3891c38_8282_11eb_a181_e6b744cc9315row0_col7\" class=\"data row0 col7\" >35.7</td>\n",
       "                        <td id=\"T_f3891c38_8282_11eb_a181_e6b744cc9315row0_col8\" class=\"data row0 col8\" >38.8</td>\n",
       "                        <td id=\"T_f3891c38_8282_11eb_a181_e6b744cc9315row0_col9\" class=\"data row0 col9\" >36.5</td>\n",
       "                        <td id=\"T_f3891c38_8282_11eb_a181_e6b744cc9315row0_col10\" class=\"data row0 col10\" >38.0</td>\n",
       "                        <td id=\"T_f3891c38_8282_11eb_a181_e6b744cc9315row0_col11\" class=\"data row0 col11\" >1.0</td>\n",
       "                        <td id=\"T_f3891c38_8282_11eb_a181_e6b744cc9315row0_col12\" class=\"data row0 col12\" >0.1</td>\n",
       "                        <td id=\"T_f3891c38_8282_11eb_a181_e6b744cc9315row0_col13\" class=\"data row0 col13\" >0.0</td>\n",
       "                        <td id=\"T_f3891c38_8282_11eb_a181_e6b744cc9315row0_col14\" class=\"data row0 col14\" >0.1</td>\n",
       "                        <td id=\"T_f3891c38_8282_11eb_a181_e6b744cc9315row0_col15\" class=\"data row0 col15\" >0.0</td>\n",
       "                        <td id=\"T_f3891c38_8282_11eb_a181_e6b744cc9315row0_col16\" class=\"data row0 col16\" >0.1</td>\n",
       "                        <td id=\"T_f3891c38_8282_11eb_a181_e6b744cc9315row0_col17\" class=\"data row0 col17\" >0.8</td>\n",
       "            </tr>\n",
       "    </tbody></table>"
      ],
      "text/plain": [
       "<pandas.io.formats.style.Styler at 0x7f285cff98d0>"
      ]
     },
     "execution_count": 20,
     "metadata": {},
     "output_type": "execute_result"
    }
   ],
   "source": [
    "df_price_est=price_est(df_price,df_norm_price_est_obj,df_start,datetime_query)\n",
    "df_price_est.style.background_gradient(axis=1).format(\"{:.1f}\")"
   ]
  },
  {
   "cell_type": "markdown",
   "metadata": {},
   "source": [
    "## What kind of volatility do the listings have?"
   ]
  },
  {
   "cell_type": "markdown",
   "metadata": {},
   "source": [
    "## How do we generate our investment portfolio?"
   ]
  },
  {
   "cell_type": "markdown",
   "metadata": {},
   "source": [
    "### Estimate the price history along with the bounds and plot the history and estimates for each listing"
   ]
  },
  {
   "cell_type": "code",
   "execution_count": 21,
   "metadata": {},
   "outputs": [],
   "source": [
    "# Datetime history query values\n",
    "datetime_query_start_end=pd.date_range(start=start,end=end)"
   ]
  },
  {
   "cell_type": "code",
   "execution_count": 22,
   "metadata": {},
   "outputs": [
    {
     "data": {
      "text/html": [
       "<style  type=\"text/css\" >\n",
       "</style><table id=\"T_f4117538_8282_11eb_a181_e6b744cc9315\" ><thead>    <tr>        <th class=\"blank level0\" ></th>        <th class=\"col_heading level0 col0\" >BTC-USD</th>        <th class=\"col_heading level0 col1\" >BTC-USD_low</th>        <th class=\"col_heading level0 col2\" >BTC-USD_high</th>        <th class=\"col_heading level0 col3\" >BTC-USD_lo_mid</th>        <th class=\"col_heading level0 col4\" >BTC-USD_hi_mid</th>        <th class=\"col_heading level0 col5\" >BTC-USD_lo_ratio</th>        <th class=\"col_heading level0 col6\" >ETH</th>        <th class=\"col_heading level0 col7\" >ETH_low</th>        <th class=\"col_heading level0 col8\" >ETH_high</th>        <th class=\"col_heading level0 col9\" >ETH_lo_mid</th>        <th class=\"col_heading level0 col10\" >ETH_hi_mid</th>        <th class=\"col_heading level0 col11\" >ETH_lo_ratio</th>        <th class=\"col_heading level0 col12\" >DOGE-USD</th>        <th class=\"col_heading level0 col13\" >DOGE-USD_low</th>        <th class=\"col_heading level0 col14\" >DOGE-USD_high</th>        <th class=\"col_heading level0 col15\" >DOGE-USD_lo_mid</th>        <th class=\"col_heading level0 col16\" >DOGE-USD_hi_mid</th>        <th class=\"col_heading level0 col17\" >DOGE-USD_lo_ratio</th>    </tr>    <tr>        <th class=\"index_name level0\" >Datetime</th>        <th class=\"blank\" ></th>        <th class=\"blank\" ></th>        <th class=\"blank\" ></th>        <th class=\"blank\" ></th>        <th class=\"blank\" ></th>        <th class=\"blank\" ></th>        <th class=\"blank\" ></th>        <th class=\"blank\" ></th>        <th class=\"blank\" ></th>        <th class=\"blank\" ></th>        <th class=\"blank\" ></th>        <th class=\"blank\" ></th>        <th class=\"blank\" ></th>        <th class=\"blank\" ></th>        <th class=\"blank\" ></th>        <th class=\"blank\" ></th>        <th class=\"blank\" ></th>        <th class=\"blank\" ></th>    </tr></thead><tbody>\n",
       "                <tr>\n",
       "                        <th id=\"T_f4117538_8282_11eb_a181_e6b744cc9315level0_row0\" class=\"row_heading level0 row0\" >2021-02-18 00:00:00</th>\n",
       "                        <td id=\"T_f4117538_8282_11eb_a181_e6b744cc9315row0_col0\" class=\"data row0 col0\" >51125</td>\n",
       "                        <td id=\"T_f4117538_8282_11eb_a181_e6b744cc9315row0_col1\" class=\"data row0 col1\" >39835</td>\n",
       "                        <td id=\"T_f4117538_8282_11eb_a181_e6b744cc9315row0_col2\" class=\"data row0 col2\" >62416</td>\n",
       "                        <td id=\"T_f4117538_8282_11eb_a181_e6b744cc9315row0_col3\" class=\"data row0 col3\" >45480</td>\n",
       "                        <td id=\"T_f4117538_8282_11eb_a181_e6b744cc9315row0_col4\" class=\"data row0 col4\" >56771</td>\n",
       "                        <td id=\"T_f4117538_8282_11eb_a181_e6b744cc9315row0_col5\" class=\"data row0 col5\" >1</td>\n",
       "                        <td id=\"T_f4117538_8282_11eb_a181_e6b744cc9315row0_col6\" class=\"data row0 col6\" >25</td>\n",
       "                        <td id=\"T_f4117538_8282_11eb_a181_e6b744cc9315row0_col7\" class=\"data row0 col7\" >23</td>\n",
       "                        <td id=\"T_f4117538_8282_11eb_a181_e6b744cc9315row0_col8\" class=\"data row0 col8\" >26</td>\n",
       "                        <td id=\"T_f4117538_8282_11eb_a181_e6b744cc9315row0_col9\" class=\"data row0 col9\" >24</td>\n",
       "                        <td id=\"T_f4117538_8282_11eb_a181_e6b744cc9315row0_col10\" class=\"data row0 col10\" >25</td>\n",
       "                        <td id=\"T_f4117538_8282_11eb_a181_e6b744cc9315row0_col11\" class=\"data row0 col11\" >1</td>\n",
       "                        <td id=\"T_f4117538_8282_11eb_a181_e6b744cc9315row0_col12\" class=\"data row0 col12\" >0</td>\n",
       "                        <td id=\"T_f4117538_8282_11eb_a181_e6b744cc9315row0_col13\" class=\"data row0 col13\" >0</td>\n",
       "                        <td id=\"T_f4117538_8282_11eb_a181_e6b744cc9315row0_col14\" class=\"data row0 col14\" >0</td>\n",
       "                        <td id=\"T_f4117538_8282_11eb_a181_e6b744cc9315row0_col15\" class=\"data row0 col15\" >0</td>\n",
       "                        <td id=\"T_f4117538_8282_11eb_a181_e6b744cc9315row0_col16\" class=\"data row0 col16\" >0</td>\n",
       "                        <td id=\"T_f4117538_8282_11eb_a181_e6b744cc9315row0_col17\" class=\"data row0 col17\" >1</td>\n",
       "            </tr>\n",
       "            <tr>\n",
       "                        <th id=\"T_f4117538_8282_11eb_a181_e6b744cc9315level0_row1\" class=\"row_heading level0 row1\" >2021-02-19 00:00:00</th>\n",
       "                        <td id=\"T_f4117538_8282_11eb_a181_e6b744cc9315row1_col0\" class=\"data row1 col0\" >51123</td>\n",
       "                        <td id=\"T_f4117538_8282_11eb_a181_e6b744cc9315row1_col1\" class=\"data row1 col1\" >39833</td>\n",
       "                        <td id=\"T_f4117538_8282_11eb_a181_e6b744cc9315row1_col2\" class=\"data row1 col2\" >62414</td>\n",
       "                        <td id=\"T_f4117538_8282_11eb_a181_e6b744cc9315row1_col3\" class=\"data row1 col3\" >45478</td>\n",
       "                        <td id=\"T_f4117538_8282_11eb_a181_e6b744cc9315row1_col4\" class=\"data row1 col4\" >56769</td>\n",
       "                        <td id=\"T_f4117538_8282_11eb_a181_e6b744cc9315row1_col5\" class=\"data row1 col5\" >1</td>\n",
       "                        <td id=\"T_f4117538_8282_11eb_a181_e6b744cc9315row1_col6\" class=\"data row1 col6\" >25</td>\n",
       "                        <td id=\"T_f4117538_8282_11eb_a181_e6b744cc9315row1_col7\" class=\"data row1 col7\" >23</td>\n",
       "                        <td id=\"T_f4117538_8282_11eb_a181_e6b744cc9315row1_col8\" class=\"data row1 col8\" >26</td>\n",
       "                        <td id=\"T_f4117538_8282_11eb_a181_e6b744cc9315row1_col9\" class=\"data row1 col9\" >24</td>\n",
       "                        <td id=\"T_f4117538_8282_11eb_a181_e6b744cc9315row1_col10\" class=\"data row1 col10\" >25</td>\n",
       "                        <td id=\"T_f4117538_8282_11eb_a181_e6b744cc9315row1_col11\" class=\"data row1 col11\" >1</td>\n",
       "                        <td id=\"T_f4117538_8282_11eb_a181_e6b744cc9315row1_col12\" class=\"data row1 col12\" >0</td>\n",
       "                        <td id=\"T_f4117538_8282_11eb_a181_e6b744cc9315row1_col13\" class=\"data row1 col13\" >0</td>\n",
       "                        <td id=\"T_f4117538_8282_11eb_a181_e6b744cc9315row1_col14\" class=\"data row1 col14\" >0</td>\n",
       "                        <td id=\"T_f4117538_8282_11eb_a181_e6b744cc9315row1_col15\" class=\"data row1 col15\" >0</td>\n",
       "                        <td id=\"T_f4117538_8282_11eb_a181_e6b744cc9315row1_col16\" class=\"data row1 col16\" >0</td>\n",
       "                        <td id=\"T_f4117538_8282_11eb_a181_e6b744cc9315row1_col17\" class=\"data row1 col17\" >1</td>\n",
       "            </tr>\n",
       "            <tr>\n",
       "                        <th id=\"T_f4117538_8282_11eb_a181_e6b744cc9315level0_row2\" class=\"row_heading level0 row2\" >2021-02-20 00:00:00</th>\n",
       "                        <td id=\"T_f4117538_8282_11eb_a181_e6b744cc9315row2_col0\" class=\"data row2 col0\" >51121</td>\n",
       "                        <td id=\"T_f4117538_8282_11eb_a181_e6b744cc9315row2_col1\" class=\"data row2 col1\" >39831</td>\n",
       "                        <td id=\"T_f4117538_8282_11eb_a181_e6b744cc9315row2_col2\" class=\"data row2 col2\" >62412</td>\n",
       "                        <td id=\"T_f4117538_8282_11eb_a181_e6b744cc9315row2_col3\" class=\"data row2 col3\" >45476</td>\n",
       "                        <td id=\"T_f4117538_8282_11eb_a181_e6b744cc9315row2_col4\" class=\"data row2 col4\" >56766</td>\n",
       "                        <td id=\"T_f4117538_8282_11eb_a181_e6b744cc9315row2_col5\" class=\"data row2 col5\" >1</td>\n",
       "                        <td id=\"T_f4117538_8282_11eb_a181_e6b744cc9315row2_col6\" class=\"data row2 col6\" >25</td>\n",
       "                        <td id=\"T_f4117538_8282_11eb_a181_e6b744cc9315row2_col7\" class=\"data row2 col7\" >23</td>\n",
       "                        <td id=\"T_f4117538_8282_11eb_a181_e6b744cc9315row2_col8\" class=\"data row2 col8\" >26</td>\n",
       "                        <td id=\"T_f4117538_8282_11eb_a181_e6b744cc9315row2_col9\" class=\"data row2 col9\" >24</td>\n",
       "                        <td id=\"T_f4117538_8282_11eb_a181_e6b744cc9315row2_col10\" class=\"data row2 col10\" >26</td>\n",
       "                        <td id=\"T_f4117538_8282_11eb_a181_e6b744cc9315row2_col11\" class=\"data row2 col11\" >1</td>\n",
       "                        <td id=\"T_f4117538_8282_11eb_a181_e6b744cc9315row2_col12\" class=\"data row2 col12\" >0</td>\n",
       "                        <td id=\"T_f4117538_8282_11eb_a181_e6b744cc9315row2_col13\" class=\"data row2 col13\" >0</td>\n",
       "                        <td id=\"T_f4117538_8282_11eb_a181_e6b744cc9315row2_col14\" class=\"data row2 col14\" >0</td>\n",
       "                        <td id=\"T_f4117538_8282_11eb_a181_e6b744cc9315row2_col15\" class=\"data row2 col15\" >0</td>\n",
       "                        <td id=\"T_f4117538_8282_11eb_a181_e6b744cc9315row2_col16\" class=\"data row2 col16\" >0</td>\n",
       "                        <td id=\"T_f4117538_8282_11eb_a181_e6b744cc9315row2_col17\" class=\"data row2 col17\" >1</td>\n",
       "            </tr>\n",
       "            <tr>\n",
       "                        <th id=\"T_f4117538_8282_11eb_a181_e6b744cc9315level0_row3\" class=\"row_heading level0 row3\" >2021-02-21 00:00:00</th>\n",
       "                        <td id=\"T_f4117538_8282_11eb_a181_e6b744cc9315row3_col0\" class=\"data row3 col0\" >51119</td>\n",
       "                        <td id=\"T_f4117538_8282_11eb_a181_e6b744cc9315row3_col1\" class=\"data row3 col1\" >39829</td>\n",
       "                        <td id=\"T_f4117538_8282_11eb_a181_e6b744cc9315row3_col2\" class=\"data row3 col2\" >62410</td>\n",
       "                        <td id=\"T_f4117538_8282_11eb_a181_e6b744cc9315row3_col3\" class=\"data row3 col3\" >45474</td>\n",
       "                        <td id=\"T_f4117538_8282_11eb_a181_e6b744cc9315row3_col4\" class=\"data row3 col4\" >56764</td>\n",
       "                        <td id=\"T_f4117538_8282_11eb_a181_e6b744cc9315row3_col5\" class=\"data row3 col5\" >1</td>\n",
       "                        <td id=\"T_f4117538_8282_11eb_a181_e6b744cc9315row3_col6\" class=\"data row3 col6\" >25</td>\n",
       "                        <td id=\"T_f4117538_8282_11eb_a181_e6b744cc9315row3_col7\" class=\"data row3 col7\" >23</td>\n",
       "                        <td id=\"T_f4117538_8282_11eb_a181_e6b744cc9315row3_col8\" class=\"data row3 col8\" >27</td>\n",
       "                        <td id=\"T_f4117538_8282_11eb_a181_e6b744cc9315row3_col9\" class=\"data row3 col9\" >24</td>\n",
       "                        <td id=\"T_f4117538_8282_11eb_a181_e6b744cc9315row3_col10\" class=\"data row3 col10\" >26</td>\n",
       "                        <td id=\"T_f4117538_8282_11eb_a181_e6b744cc9315row3_col11\" class=\"data row3 col11\" >1</td>\n",
       "                        <td id=\"T_f4117538_8282_11eb_a181_e6b744cc9315row3_col12\" class=\"data row3 col12\" >0</td>\n",
       "                        <td id=\"T_f4117538_8282_11eb_a181_e6b744cc9315row3_col13\" class=\"data row3 col13\" >0</td>\n",
       "                        <td id=\"T_f4117538_8282_11eb_a181_e6b744cc9315row3_col14\" class=\"data row3 col14\" >0</td>\n",
       "                        <td id=\"T_f4117538_8282_11eb_a181_e6b744cc9315row3_col15\" class=\"data row3 col15\" >0</td>\n",
       "                        <td id=\"T_f4117538_8282_11eb_a181_e6b744cc9315row3_col16\" class=\"data row3 col16\" >0</td>\n",
       "                        <td id=\"T_f4117538_8282_11eb_a181_e6b744cc9315row3_col17\" class=\"data row3 col17\" >1</td>\n",
       "            </tr>\n",
       "            <tr>\n",
       "                        <th id=\"T_f4117538_8282_11eb_a181_e6b744cc9315level0_row4\" class=\"row_heading level0 row4\" >2021-02-22 00:00:00</th>\n",
       "                        <td id=\"T_f4117538_8282_11eb_a181_e6b744cc9315row4_col0\" class=\"data row4 col0\" >51117</td>\n",
       "                        <td id=\"T_f4117538_8282_11eb_a181_e6b744cc9315row4_col1\" class=\"data row4 col1\" >39827</td>\n",
       "                        <td id=\"T_f4117538_8282_11eb_a181_e6b744cc9315row4_col2\" class=\"data row4 col2\" >62407</td>\n",
       "                        <td id=\"T_f4117538_8282_11eb_a181_e6b744cc9315row4_col3\" class=\"data row4 col3\" >45472</td>\n",
       "                        <td id=\"T_f4117538_8282_11eb_a181_e6b744cc9315row4_col4\" class=\"data row4 col4\" >56762</td>\n",
       "                        <td id=\"T_f4117538_8282_11eb_a181_e6b744cc9315row4_col5\" class=\"data row4 col5\" >1</td>\n",
       "                        <td id=\"T_f4117538_8282_11eb_a181_e6b744cc9315row4_col6\" class=\"data row4 col6\" >25</td>\n",
       "                        <td id=\"T_f4117538_8282_11eb_a181_e6b744cc9315row4_col7\" class=\"data row4 col7\" >24</td>\n",
       "                        <td id=\"T_f4117538_8282_11eb_a181_e6b744cc9315row4_col8\" class=\"data row4 col8\" >27</td>\n",
       "                        <td id=\"T_f4117538_8282_11eb_a181_e6b744cc9315row4_col9\" class=\"data row4 col9\" >24</td>\n",
       "                        <td id=\"T_f4117538_8282_11eb_a181_e6b744cc9315row4_col10\" class=\"data row4 col10\" >26</td>\n",
       "                        <td id=\"T_f4117538_8282_11eb_a181_e6b744cc9315row4_col11\" class=\"data row4 col11\" >1</td>\n",
       "                        <td id=\"T_f4117538_8282_11eb_a181_e6b744cc9315row4_col12\" class=\"data row4 col12\" >0</td>\n",
       "                        <td id=\"T_f4117538_8282_11eb_a181_e6b744cc9315row4_col13\" class=\"data row4 col13\" >0</td>\n",
       "                        <td id=\"T_f4117538_8282_11eb_a181_e6b744cc9315row4_col14\" class=\"data row4 col14\" >0</td>\n",
       "                        <td id=\"T_f4117538_8282_11eb_a181_e6b744cc9315row4_col15\" class=\"data row4 col15\" >0</td>\n",
       "                        <td id=\"T_f4117538_8282_11eb_a181_e6b744cc9315row4_col16\" class=\"data row4 col16\" >0</td>\n",
       "                        <td id=\"T_f4117538_8282_11eb_a181_e6b744cc9315row4_col17\" class=\"data row4 col17\" >1</td>\n",
       "            </tr>\n",
       "    </tbody></table>"
      ],
      "text/plain": [
       "<pandas.io.formats.style.Styler at 0x7f285cfd63c8>"
      ]
     },
     "execution_count": 22,
     "metadata": {},
     "output_type": "execute_result"
    }
   ],
   "source": [
    "# Generate and display estimates (listing, listing_low, listing_high)\n",
    "df_price_est_start_end=price_est(df_price,df_norm_price_est_obj,df_start,datetime_query_start_end)\n",
    "df_price_est_start_end.head().style.format(\"{:.0f}\")"
   ]
  },
  {
   "cell_type": "code",
   "execution_count": 23,
   "metadata": {},
   "outputs": [
    {
     "data": {
      "image/png": "[encoded data removed]",
      "text/plain": [
       "<Figure size 432x288 with 1 Axes>"
      ]
     },
     "metadata": {
      "needs_background": "light"
     },
     "output_type": "display_data"
    },
    {
     "data": {
      "image/png": "[encoded data removed]",
      "text/plain": [
       "<Figure size 432x288 with 1 Axes>"
      ]
     },
     "metadata": {
      "needs_background": "light"
     },
     "output_type": "display_data"
    },
    {
     "data": {
      "image/png": "[encoded data removed]",
      "text/plain": [
       "<Figure size 432x288 with 1 Axes>"
      ]
     },
     "metadata": {
      "needs_background": "light"
     },
     "output_type": "display_data"
    }
   ],
   "source": [
    "# Plot Open price vs. Time\n",
    "num_plot=len(df.columns)\n",
    "i=1\n",
    "for item in df.columns:\n",
    "    plt.figure()\n",
    "    plt.plot(df_price[item])\n",
    "    plt.plot(df_price_est_start_end[[item,item+'_low',item+'_high',item+'_lo_mid',item+'_hi_mid']])\n",
    "    plt.legend([item,item+'_predicted',item+'_low',item+'_high',item+'_lo_mid',item+'_hi_mid'])\n",
    "    plt.ylabel('Share Price [USD]')\n",
    "    plt.xticks(rotation=45)\n",
    "    plt.grid(True)\n",
    "    plt.title(item)\n",
    "    i=i+1"
   ]
  },
  {
   "cell_type": "markdown",
   "metadata": {},
   "source": [
    "## Constructing the Portfolio"
   ]
  },
  {
   "cell_type": "markdown",
   "metadata": {},
   "source": [
    "In order to balance the investments, we'd want to have the most benefit (reward) while minimizing volatility (risk).<br>\n",
    "1. We can consider 'reward' to be the slope of the linear fit to share price (higher the slope, higher the gain).<br>\n",
    "2. We can consider 'risk' to be the ratio between the price bounds and change in price over the duration of interest <br>\n",
    "3. Hence we can compute a 'returns ratio' = 'reward'/'risk' for each listing; the higher this value, the more this investment is viable. <br>\n",
    "4. Then we can compute the sum of the returns ratios for each listing and divide the returns ratio by the summed value, to determine the \"weight\" of each investment <br>\n",
    "5. Finally we can multiply the \"weight\" by the total investment capital (total_investment) to obtain the recommended investment for each listing <br>    "
   ]
  },
  {
   "cell_type": "markdown",
   "metadata": {},
   "source": [
    "### Use the Linear Regression object to construct the reward, volatility, returns ratio, weight and suggested investment values"
   ]
  },
  {
   "cell_type": "code",
   "execution_count": 24,
   "metadata": {},
   "outputs": [
    {
     "data": {
      "text/html": [
       "<style  type=\"text/css\" >\n",
       "</style><table id=\"T_f5c26130_8282_11eb_a181_e6b744cc9315\" ><thead>    <tr>        <th class=\"blank level0\" ></th>        <th class=\"col_heading level0 col0\" >ETH</th>    </tr>    <tr>        <th class=\"index_name level0\" >Parameters</th>        <th class=\"blank\" ></th>    </tr></thead><tbody>\n",
       "                <tr>\n",
       "                        <th id=\"T_f5c26130_8282_11eb_a181_e6b744cc9315level0_row0\" class=\"row_heading level0 row0\" >reward</th>\n",
       "                        <td id=\"T_f5c26130_8282_11eb_a181_e6b744cc9315row0_col0\" class=\"data row0 col0\" >611.94</td>\n",
       "            </tr>\n",
       "            <tr>\n",
       "                        <th id=\"T_f5c26130_8282_11eb_a181_e6b744cc9315level0_row1\" class=\"row_heading level0 row1\" >risk</th>\n",
       "                        <td id=\"T_f5c26130_8282_11eb_a181_e6b744cc9315row1_col0\" class=\"data row1 col0\" >6.43</td>\n",
       "            </tr>\n",
       "            <tr>\n",
       "                        <th id=\"T_f5c26130_8282_11eb_a181_e6b744cc9315level0_row2\" class=\"row_heading level0 row2\" >returns_ratio</th>\n",
       "                        <td id=\"T_f5c26130_8282_11eb_a181_e6b744cc9315row2_col0\" class=\"data row2 col0\" >95.17</td>\n",
       "            </tr>\n",
       "            <tr>\n",
       "                        <th id=\"T_f5c26130_8282_11eb_a181_e6b744cc9315level0_row3\" class=\"row_heading level0 row3\" >weight</th>\n",
       "                        <td id=\"T_f5c26130_8282_11eb_a181_e6b744cc9315row3_col0\" class=\"data row3 col0\" >1.00</td>\n",
       "            </tr>\n",
       "            <tr>\n",
       "                        <th id=\"T_f5c26130_8282_11eb_a181_e6b744cc9315level0_row4\" class=\"row_heading level0 row4\" >price_bound</th>\n",
       "                        <td id=\"T_f5c26130_8282_11eb_a181_e6b744cc9315row4_col0\" class=\"data row4 col0\" >1.56</td>\n",
       "            </tr>\n",
       "            <tr>\n",
       "                        <th id=\"T_f5c26130_8282_11eb_a181_e6b744cc9315level0_row5\" class=\"row_heading level0 row5\" >suggested_investment</th>\n",
       "                        <td id=\"T_f5c26130_8282_11eb_a181_e6b744cc9315row5_col0\" class=\"data row5 col0\" >5001.00</td>\n",
       "            </tr>\n",
       "    </tbody></table>"
      ],
      "text/plain": [
       "<pandas.io.formats.style.Styler at 0x7f285ce2d588>"
      ]
     },
     "execution_count": 24,
     "metadata": {},
     "output_type": "execute_result"
    }
   ],
   "source": [
    "# Initialize the portfolio dataframe df_portfolio and update the index suitably\n",
    "df_portfolio=df_norm_price_est_obj\n",
    "df_portfolio=df_portfolio.reindex(['reward','risk','returns_ratio','weight','price_bound','suggested_investment'])\n",
    "df_portfolio=df_portfolio.rename_axis(index='Parameters')\n",
    "\n",
    "# Update \"reward\" using the slope of the line fit (multiplied by a suitable factor for display)\n",
    "for item in (df_portfolio.columns):\n",
    "    df_portfolio.loc['reward',item]=(df_norm_price_est_obj.loc['fit_obj',item].coef_[0])*10**17\n",
    "    \n",
    "# Update the \"volatility\" as the percent price bound\n",
    "for item in (df_portfolio.columns):\n",
    "    df_portfolio.loc['risk',item]=(df_norm_price_est_obj.loc['bound',item])\n",
    "                                         \n",
    "# Update the returns ratio as the ratio between the \"reward\" and \"volatility\"\n",
    "for item in (df_portfolio.columns):\n",
    "    df_portfolio.loc['returns_ratio',item]=(df_portfolio.loc['reward',item]/\n",
    "                                            df_portfolio.loc['risk',item])\n",
    "    \n",
    "# Remove those listings with negative returns_ratio since those imply a falling stock\n",
    "df_price_est_end=price_est(df,df_norm_price_est_obj,df_start,[df.index[-1].strftime('%m/%d/%y')])\n",
    "for item in df_portfolio.columns:\n",
    "    item_low_str=item+'_low'\n",
    "    item_hi_str=item+'_high'\n",
    "    if df_portfolio.loc['returns_ratio',item]<=21:\n",
    "        if df_portfolio.loc['reward',item]<=201 or df_portfolio.loc['risk',item]>71:\n",
    "            df_portfolio.pop(item)\n",
    "    elif df[item].iloc[-1]>=df_price_est_end[item_hi_str].to_numpy()[0] or \\\n",
    "    df[item].iloc[-1]<=df_price_est_end[item_low_str].to_numpy()[0]:\n",
    "        df_portfolio.pop(item)\n",
    "        \n",
    "# Obtain the weighted average of the returns ratio for each listing\n",
    "for item in (df_portfolio.columns):\n",
    "    df_portfolio.loc['weight',item]=df_portfolio.loc['returns_ratio',item]/df_portfolio.loc['returns_ratio',:].sum()\n",
    "    \n",
    "# Update stop loss limit\n",
    "for item in (df_portfolio.columns):\n",
    "    df_portfolio.loc['price_bound',item]=df_norm_price_est_obj.loc['price_bounds',item]\n",
    "    \n",
    "# Multiply the weight of each listing by the total investment capital to obtain the recommended investment\n",
    "for item in (df_portfolio.columns):\n",
    "    df_portfolio.loc['suggested_investment',item]=df_portfolio.loc['weight',item]*total_investment\n",
    "\n",
    "    \n",
    "# Display the portfolio dataframe\n",
    "df_portfolio.sort_values(axis=1,by='weight',ascending=False).style.background_gradient(axis=1).format(\"{:.2f}\")"
   ]
  },
  {
   "cell_type": "code",
   "execution_count": 25,
   "metadata": {},
   "outputs": [
    {
     "data": {
      "image/png": "[encoded data removed]",
      "text/plain": [
       "<Figure size 432x288 with 1 Axes>"
      ]
     },
     "metadata": {},
     "output_type": "display_data"
    }
   ],
   "source": [
    "stock_labels=df_portfolio.columns\n",
    "values=df_portfolio.loc['suggested_investment',:]\n",
    "plt.pie(values, labels=stock_labels,radius=1.5, autopct='%1.0f%%');"
   ]
  },
  {
   "cell_type": "raw",
   "metadata": {},
   "source": [
    "df_portfolio.to_csv('portfolio.csv')"
   ]
  },
  {
   "cell_type": "markdown",
   "metadata": {},
   "source": [
    "### What kind of volatility do the listings have?"
   ]
  },
  {
   "cell_type": "markdown",
   "metadata": {},
   "source": [
    " Refer the \"volatility\" row, higher the value, greater the volatility"
   ]
  },
  {
   "cell_type": "markdown",
   "metadata": {},
   "source": [
    "### How do we use the data to construct our portfolio?"
   ]
  },
  {
   "cell_type": "markdown",
   "metadata": {},
   "source": [
    "Refer the dataframe \"df_portfolio\""
   ]
  },
  {
   "cell_type": "markdown",
   "metadata": {},
   "source": [
    "## Compare with previous"
   ]
  },
  {
   "cell_type": "code",
   "execution_count": 26,
   "metadata": {},
   "outputs": [],
   "source": [
    "df_saved=pd.read_csv('portfolio.csv')\n",
    "df_saved.set_index('Parameters',inplace=True)"
   ]
  },
  {
   "cell_type": "code",
   "execution_count": 27,
   "metadata": {},
   "outputs": [],
   "source": [
    "comm_stocks=list(set(df_saved.columns.tolist()).intersection(set(df_portfolio.columns.tolist())))"
   ]
  },
  {
   "cell_type": "code",
   "execution_count": 28,
   "metadata": {},
   "outputs": [
    {
     "name": "stdout",
     "output_type": "stream",
     "text": [
      "Sum: weight_diff    0.0\n",
      "dtype: float64, Min.: weight_diff   NaN\n",
      "dtype: float64, Max.: weight_diff   NaN\n",
      "dtype: float64\n"
     ]
    },
    {
     "ename": "IndexError",
     "evalue": "index 0 is out of bounds for axis 0 with size 0",
     "output_type": "error",
     "traceback": [
      "\u001b[0;31m---------------------------------------------------------------------------\u001b[0m",
      "\u001b[0;31mIndexError\u001b[0m                                Traceback (most recent call last)",
      "\u001b[0;32m<ipython-input-28-a344773f254b>\u001b[0m in \u001b[0;36m<module>\u001b[0;34m\u001b[0m\n\u001b[1;32m      6\u001b[0m \u001b[0mdf_weight_diff\u001b[0m\u001b[0;34m=\u001b[0m\u001b[0mpd\u001b[0m\u001b[0;34m.\u001b[0m\u001b[0mDataFrame\u001b[0m\u001b[0;34m(\u001b[0m\u001b[0mweight_diff\u001b[0m\u001b[0;34m,\u001b[0m\u001b[0mindex\u001b[0m\u001b[0;34m=\u001b[0m\u001b[0;34m[\u001b[0m\u001b[0;34m'weight_diff'\u001b[0m\u001b[0;34m]\u001b[0m\u001b[0;34m)\u001b[0m\u001b[0;34m\u001b[0m\u001b[0;34m\u001b[0m\u001b[0m\n\u001b[1;32m      7\u001b[0m \u001b[0mprint\u001b[0m\u001b[0;34m(\u001b[0m\u001b[0;34m'Sum: {}, Min.: {}, Max.: {}'\u001b[0m\u001b[0;34m.\u001b[0m\u001b[0mformat\u001b[0m\u001b[0;34m(\u001b[0m\u001b[0mdf_weight_diff\u001b[0m\u001b[0;34m.\u001b[0m\u001b[0msum\u001b[0m\u001b[0;34m(\u001b[0m\u001b[0maxis\u001b[0m\u001b[0;34m=\u001b[0m\u001b[0;36m1\u001b[0m\u001b[0;34m)\u001b[0m\u001b[0;34m,\u001b[0m\u001b[0mdf_weight_diff\u001b[0m\u001b[0;34m.\u001b[0m\u001b[0mmin\u001b[0m\u001b[0;34m(\u001b[0m\u001b[0maxis\u001b[0m\u001b[0;34m=\u001b[0m\u001b[0;36m1\u001b[0m\u001b[0;34m)\u001b[0m\u001b[0;34m,\u001b[0m\u001b[0mdf_weight_diff\u001b[0m\u001b[0;34m.\u001b[0m\u001b[0mmax\u001b[0m\u001b[0;34m(\u001b[0m\u001b[0maxis\u001b[0m\u001b[0;34m=\u001b[0m\u001b[0;36m1\u001b[0m\u001b[0;34m)\u001b[0m\u001b[0;34m)\u001b[0m\u001b[0;34m)\u001b[0m\u001b[0;34m\u001b[0m\u001b[0;34m\u001b[0m\u001b[0m\n\u001b[0;32m----> 8\u001b[0;31m \u001b[0mdf_weight_diff\u001b[0m\u001b[0;34m.\u001b[0m\u001b[0mtranspose\u001b[0m\u001b[0;34m(\u001b[0m\u001b[0;34m)\u001b[0m\u001b[0;34m.\u001b[0m\u001b[0mplot\u001b[0m\u001b[0;34m(\u001b[0m\u001b[0mkind\u001b[0m\u001b[0;34m=\u001b[0m\u001b[0;34m'bar'\u001b[0m\u001b[0;34m)\u001b[0m\u001b[0;34m;\u001b[0m\u001b[0;34m\u001b[0m\u001b[0;34m\u001b[0m\u001b[0m\n\u001b[0m",
      "\u001b[0;32m~/conda/envs/python/lib/python3.6/site-packages/pandas/plotting/_core.py\u001b[0m in \u001b[0;36m__call__\u001b[0;34m(self, *args, **kwargs)\u001b[0m\n\u001b[1;32m    947\u001b[0m                     \u001b[0mdata\u001b[0m\u001b[0;34m.\u001b[0m\u001b[0mcolumns\u001b[0m \u001b[0;34m=\u001b[0m \u001b[0mlabel_name\u001b[0m\u001b[0;34m\u001b[0m\u001b[0;34m\u001b[0m\u001b[0m\n\u001b[1;32m    948\u001b[0m \u001b[0;34m\u001b[0m\u001b[0m\n\u001b[0;32m--> 949\u001b[0;31m         \u001b[0;32mreturn\u001b[0m \u001b[0mplot_backend\u001b[0m\u001b[0;34m.\u001b[0m\u001b[0mplot\u001b[0m\u001b[0;34m(\u001b[0m\u001b[0mdata\u001b[0m\u001b[0;34m,\u001b[0m \u001b[0mkind\u001b[0m\u001b[0;34m=\u001b[0m\u001b[0mkind\u001b[0m\u001b[0;34m,\u001b[0m \u001b[0;34m**\u001b[0m\u001b[0mkwargs\u001b[0m\u001b[0;34m)\u001b[0m\u001b[0;34m\u001b[0m\u001b[0;34m\u001b[0m\u001b[0m\n\u001b[0m\u001b[1;32m    950\u001b[0m \u001b[0;34m\u001b[0m\u001b[0m\n\u001b[1;32m    951\u001b[0m     \u001b[0m__call__\u001b[0m\u001b[0;34m.\u001b[0m\u001b[0m__doc__\u001b[0m \u001b[0;34m=\u001b[0m \u001b[0m__doc__\u001b[0m\u001b[0;34m\u001b[0m\u001b[0;34m\u001b[0m\u001b[0m\n",
      "\u001b[0;32m~/conda/envs/python/lib/python3.6/site-packages/pandas/plotting/_matplotlib/__init__.py\u001b[0m in \u001b[0;36mplot\u001b[0;34m(data, kind, **kwargs)\u001b[0m\n\u001b[1;32m     59\u001b[0m             \u001b[0mkwargs\u001b[0m\u001b[0;34m[\u001b[0m\u001b[0;34m\"ax\"\u001b[0m\u001b[0;34m]\u001b[0m \u001b[0;34m=\u001b[0m \u001b[0mgetattr\u001b[0m\u001b[0;34m(\u001b[0m\u001b[0max\u001b[0m\u001b[0;34m,\u001b[0m \u001b[0;34m\"left_ax\"\u001b[0m\u001b[0;34m,\u001b[0m \u001b[0max\u001b[0m\u001b[0;34m)\u001b[0m\u001b[0;34m\u001b[0m\u001b[0;34m\u001b[0m\u001b[0m\n\u001b[1;32m     60\u001b[0m     \u001b[0mplot_obj\u001b[0m \u001b[0;34m=\u001b[0m \u001b[0mPLOT_CLASSES\u001b[0m\u001b[0;34m[\u001b[0m\u001b[0mkind\u001b[0m\u001b[0;34m]\u001b[0m\u001b[0;34m(\u001b[0m\u001b[0mdata\u001b[0m\u001b[0;34m,\u001b[0m \u001b[0;34m**\u001b[0m\u001b[0mkwargs\u001b[0m\u001b[0;34m)\u001b[0m\u001b[0;34m\u001b[0m\u001b[0;34m\u001b[0m\u001b[0m\n\u001b[0;32m---> 61\u001b[0;31m     \u001b[0mplot_obj\u001b[0m\u001b[0;34m.\u001b[0m\u001b[0mgenerate\u001b[0m\u001b[0;34m(\u001b[0m\u001b[0;34m)\u001b[0m\u001b[0;34m\u001b[0m\u001b[0;34m\u001b[0m\u001b[0m\n\u001b[0m\u001b[1;32m     62\u001b[0m     \u001b[0mplot_obj\u001b[0m\u001b[0;34m.\u001b[0m\u001b[0mdraw\u001b[0m\u001b[0;34m(\u001b[0m\u001b[0;34m)\u001b[0m\u001b[0;34m\u001b[0m\u001b[0;34m\u001b[0m\u001b[0m\n\u001b[1;32m     63\u001b[0m     \u001b[0;32mreturn\u001b[0m \u001b[0mplot_obj\u001b[0m\u001b[0;34m.\u001b[0m\u001b[0mresult\u001b[0m\u001b[0;34m\u001b[0m\u001b[0;34m\u001b[0m\u001b[0m\n",
      "\u001b[0;32m~/conda/envs/python/lib/python3.6/site-packages/pandas/plotting/_matplotlib/core.py\u001b[0m in \u001b[0;36mgenerate\u001b[0;34m(self)\u001b[0m\n\u001b[1;32m    276\u001b[0m         \u001b[0;32mfor\u001b[0m \u001b[0max\u001b[0m \u001b[0;32min\u001b[0m \u001b[0mself\u001b[0m\u001b[0;34m.\u001b[0m\u001b[0maxes\u001b[0m\u001b[0;34m:\u001b[0m\u001b[0;34m\u001b[0m\u001b[0;34m\u001b[0m\u001b[0m\n\u001b[1;32m    277\u001b[0m             \u001b[0mself\u001b[0m\u001b[0;34m.\u001b[0m\u001b[0m_post_plot_logic_common\u001b[0m\u001b[0;34m(\u001b[0m\u001b[0max\u001b[0m\u001b[0;34m,\u001b[0m \u001b[0mself\u001b[0m\u001b[0;34m.\u001b[0m\u001b[0mdata\u001b[0m\u001b[0;34m)\u001b[0m\u001b[0;34m\u001b[0m\u001b[0;34m\u001b[0m\u001b[0m\n\u001b[0;32m--> 278\u001b[0;31m             \u001b[0mself\u001b[0m\u001b[0;34m.\u001b[0m\u001b[0m_post_plot_logic\u001b[0m\u001b[0;34m(\u001b[0m\u001b[0max\u001b[0m\u001b[0;34m,\u001b[0m \u001b[0mself\u001b[0m\u001b[0;34m.\u001b[0m\u001b[0mdata\u001b[0m\u001b[0;34m)\u001b[0m\u001b[0;34m\u001b[0m\u001b[0;34m\u001b[0m\u001b[0m\n\u001b[0m\u001b[1;32m    279\u001b[0m \u001b[0;34m\u001b[0m\u001b[0m\n\u001b[1;32m    280\u001b[0m     \u001b[0;32mdef\u001b[0m \u001b[0m_args_adjust\u001b[0m\u001b[0;34m(\u001b[0m\u001b[0mself\u001b[0m\u001b[0;34m)\u001b[0m\u001b[0;34m:\u001b[0m\u001b[0;34m\u001b[0m\u001b[0;34m\u001b[0m\u001b[0m\n",
      "\u001b[0;32m~/conda/envs/python/lib/python3.6/site-packages/pandas/plotting/_matplotlib/core.py\u001b[0m in \u001b[0;36m_post_plot_logic\u001b[0;34m(self, ax, data)\u001b[0m\n\u001b[1;32m   1459\u001b[0m         \u001b[0mname\u001b[0m \u001b[0;34m=\u001b[0m \u001b[0mself\u001b[0m\u001b[0;34m.\u001b[0m\u001b[0m_get_index_name\u001b[0m\u001b[0;34m(\u001b[0m\u001b[0;34m)\u001b[0m\u001b[0;34m\u001b[0m\u001b[0;34m\u001b[0m\u001b[0m\n\u001b[1;32m   1460\u001b[0m \u001b[0;34m\u001b[0m\u001b[0m\n\u001b[0;32m-> 1461\u001b[0;31m         \u001b[0ms_edge\u001b[0m \u001b[0;34m=\u001b[0m \u001b[0mself\u001b[0m\u001b[0;34m.\u001b[0m\u001b[0max_pos\u001b[0m\u001b[0;34m[\u001b[0m\u001b[0;36m0\u001b[0m\u001b[0;34m]\u001b[0m \u001b[0;34m-\u001b[0m \u001b[0;36m0.25\u001b[0m \u001b[0;34m+\u001b[0m \u001b[0mself\u001b[0m\u001b[0;34m.\u001b[0m\u001b[0mlim_offset\u001b[0m\u001b[0;34m\u001b[0m\u001b[0;34m\u001b[0m\u001b[0m\n\u001b[0m\u001b[1;32m   1462\u001b[0m         \u001b[0me_edge\u001b[0m \u001b[0;34m=\u001b[0m \u001b[0mself\u001b[0m\u001b[0;34m.\u001b[0m\u001b[0max_pos\u001b[0m\u001b[0;34m[\u001b[0m\u001b[0;34m-\u001b[0m\u001b[0;36m1\u001b[0m\u001b[0;34m]\u001b[0m \u001b[0;34m+\u001b[0m \u001b[0;36m0.25\u001b[0m \u001b[0;34m+\u001b[0m \u001b[0mself\u001b[0m\u001b[0;34m.\u001b[0m\u001b[0mbar_width\u001b[0m \u001b[0;34m+\u001b[0m \u001b[0mself\u001b[0m\u001b[0;34m.\u001b[0m\u001b[0mlim_offset\u001b[0m\u001b[0;34m\u001b[0m\u001b[0;34m\u001b[0m\u001b[0m\n\u001b[1;32m   1463\u001b[0m \u001b[0;34m\u001b[0m\u001b[0m\n",
      "\u001b[0;31mIndexError\u001b[0m: index 0 is out of bounds for axis 0 with size 0"
     ]
    },
    {
     "data": {
      "image/png": "[encoded data removed]",
      "text/plain": [
       "<Figure size 432x288 with 1 Axes>"
      ]
     },
     "metadata": {
      "needs_background": "light"
     },
     "output_type": "display_data"
    }
   ],
   "source": [
    "weight_diff={}\n",
    "for i in range(len(comm_stocks)):\n",
    "    ticker=comm_stocks[i]\n",
    "    weight_diff[ticker]=(df_portfolio.loc['weight',\n",
    "                                          ticker]-df_saved.loc['weight',ticker])/df_portfolio.loc['weight',ticker]*100\n",
    "df_weight_diff=pd.DataFrame(weight_diff,index=['weight_diff'])\n",
    "print('Sum: {}, Min.: {}, Max.: {}'.format(df_weight_diff.sum(axis=1),df_weight_diff.min(axis=1),df_weight_diff.max(axis=1)))\n",
    "df_weight_diff.transpose().plot(kind='bar');"
   ]
  },
  {
   "cell_type": "markdown",
   "metadata": {},
   "source": [
    "## Lowest Trending"
   ]
  },
  {
   "cell_type": "code",
   "execution_count": null,
   "metadata": {},
   "outputs": [],
   "source": [
    "# Initialize the portfolio dataframe df_portfolio and update the index suitably\n",
    "df_portfolio=df_norm_price_est_obj\n",
    "df_portfolio=df_portfolio.reindex(['reward','risk','returns_ratio','weight','price_bound'])\n",
    "df_portfolio=df_portfolio.rename_axis(index='Parameters')\n",
    "\n",
    "# Update \"reward\" using the slope of the line fit (multiplied by a suitable factor for display)\n",
    "for item in (df_portfolio.columns):\n",
    "    df_portfolio.loc['reward',item]=(df_norm_price_est_obj.loc['fit_obj',item].coef_[0])*10**17\n",
    "    \n",
    "# Update the \"volatility\" as the percent price bound\n",
    "for item in (df_portfolio.columns):\n",
    "    df_portfolio.loc['risk',item]=(df_norm_price_est_obj.loc['bound',item])\n",
    "                                         \n",
    "# Update the returns ratio as the ratio between the \"reward\" and \"volatility\"\n",
    "for item in (df_portfolio.columns):\n",
    "    df_portfolio.loc['returns_ratio',item]=(df_portfolio.loc['reward',item]/\n",
    "                                            df_portfolio.loc['risk',item])\n",
    "    \n",
    "# Remove those listings with negative returns_ratio since those imply a falling stock\n",
    "df_price_est_end=price_est(df,df_norm_price_est_obj,df_start,[df.index[-1].strftime('%m/%d/%y')])\n",
    "for item in df_portfolio.columns:\n",
    "    item_low_str=item+'_low'\n",
    "    item_hi_str=item+'_high'\n",
    "    if df_portfolio.loc['returns_ratio',item]>=-21 or df[item].iloc[-1]>=df_price_est_end[item_hi_str].to_numpy()[0]:\n",
    "        if df_portfolio.loc['reward',item]>=-201:\n",
    "            df_portfolio.pop(item)\n",
    "        \n",
    "# Obtain the weighted average of the returns ratio for each listing\n",
    "for item in (df_portfolio.columns):\n",
    "    df_portfolio.loc['weight',item]=df_portfolio.loc['returns_ratio',item]/df_portfolio.loc['returns_ratio',:].sum()\n",
    "    \n",
    "# Update stop loss limit\n",
    "for item in (df_portfolio.columns):\n",
    "    df_portfolio.loc['price_bound',item]=df_norm_price_est_obj.loc['price_bounds',item]\n",
    "    \n",
    "# Display the portfolio dataframe\n",
    "df_portfolio.sort_values(axis=1,by='weight',ascending=False).style.background_gradient(axis=1).format(\"{:.2f}\")"
   ]
  },
  {
   "cell_type": "code",
   "execution_count": null,
   "metadata": {},
   "outputs": [],
   "source": []
  }
 ],
 "metadata": {
  "kernelspec": {
   "display_name": "Python",
   "language": "python",
   "name": "conda-env-python-py"
  },
  "language_info": {
   "codemirror_mode": {
    "name": "ipython",
    "version": 3
   },
   "file_extension": ".py",
   "mimetype": "text/x-python",
   "name": "python",
   "nbconvert_exporter": "python",
   "pygments_lexer": "ipython3",
   "version": "3.6.12"
  }
 },
 "nbformat": 4,
 "nbformat_minor": 4
}
