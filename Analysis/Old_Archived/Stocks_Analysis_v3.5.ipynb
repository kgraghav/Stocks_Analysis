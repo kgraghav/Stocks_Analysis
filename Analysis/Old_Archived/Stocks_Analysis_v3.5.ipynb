{
 "cells": [
  {
   "cell_type": "markdown",
   "metadata": {},
   "source": [
    "# Analyzing Stock Market Data to Build a Portfolio"
   ]
  },
  {
   "cell_type": "markdown",
   "metadata": {},
   "source": [
    "## Project Goal"
   ]
  },
  {
   "cell_type": "markdown",
   "metadata": {},
   "source": [
    "### Analyze share price data from various listings to answer the following questions:"
   ]
  },
  {
   "cell_type": "markdown",
   "metadata": {},
   "source": [
    "1. What kind of Growth % do we expect from the various listings? <br>\n",
    "2. How do the Growth % of the different listings correlate to each other? <br>\n",
    "3. What is the estimated listing share price at a future date (prediction)? <br>\n",
    "4. What kind of volatility do the listings have? <br>\n",
    "5. How can we use our analysis to form a balanced investment portfolio? <br>"
   ]
  },
  {
   "cell_type": "markdown",
   "metadata": {},
   "source": [
    "### Overall Methodology:"
   ]
  },
  {
   "cell_type": "markdown",
   "metadata": {},
   "source": [
    "1. Import and organize data for the various listings <br>\n",
    "2. Make observations about the data <br>\n",
    "3. Use these observations to answer the questions <br>"
   ]
  },
  {
   "cell_type": "markdown",
   "metadata": {},
   "source": [
    "## References"
   ]
  },
  {
   "cell_type": "markdown",
   "metadata": {},
   "source": [
    "Share price information obtained from: [Yahoo Finance](https://finance.yahoo.com/) <br>\n",
    "Yahoo Finance library: [yfinance](https://pypi.org/project/yfinance/) <br>"
   ]
  },
  {
   "cell_type": "markdown",
   "metadata": {},
   "source": [
    "## Inputs"
   ]
  },
  {
   "cell_type": "markdown",
   "metadata": {},
   "source": [
    "### Below are the inputs to perform the analysis"
   ]
  },
  {
   "cell_type": "code",
   "execution_count": 1,
   "metadata": {},
   "outputs": [],
   "source": [
    "s_list='AM AAPL FB NVDA MSFT PYPL TSLA'  # List of \"listings\" to be analyzed\n",
    "total_investment=10001  # Total investment value in USD\n",
    "sample_interval ='1d'  # Time interval to fetch data at\n",
    "start='11/27/2020'  # Start date of interest\n",
    "end='12/23/2020'  # End date of interest\n",
    "datetime_query=['12/28/2020'] # Datetime query values (for prediction)\n",
    "pricetype='Close' # Open, Close, Low, High"
   ]
  },
  {
   "cell_type": "markdown",
   "metadata": {},
   "source": [
    "## Import Libraries"
   ]
  },
  {
   "cell_type": "code",
   "execution_count": 2,
   "metadata": {},
   "outputs": [
    {
     "data": {
      "text/plain": [
       "'3.6.12 | packaged by conda-forge | (default, Dec  9 2020, 00:36:02) \\n[GCC 9.3.0]'"
      ]
     },
     "execution_count": 2,
     "metadata": {},
     "output_type": "execute_result"
    }
   ],
   "source": [
    "# Python Version\n",
    "import sys\n",
    "sys.version"
   ]
  },
  {
   "cell_type": "code",
   "execution_count": null,
   "metadata": {},
   "outputs": [
    {
     "name": "stdout",
     "output_type": "stream",
     "text": [
      "Requirement already satisfied: pip in /home/jupyterlab/conda/envs/python/lib/python3.6/site-packages (20.3.3)\n",
      "Requirement already satisfied: listfun in /home/jupyterlab/conda/envs/python/lib/python3.6/site-packages (1.2)\n",
      "Requirement already satisfied: expsolver in /home/jupyterlab/conda/envs/python/lib/python3.6/site-packages (0.5)\n",
      "Requirement already satisfied: lxml in /home/jupyterlab/conda/envs/python/lib/python3.6/site-packages (4.6.2)\n"
     ]
    }
   ],
   "source": [
    "#Update python standard libraries install\n",
    "!pip install --upgrade pip\n",
    "\n",
    "# library to for array handling\n",
    "import numpy as np \n",
    "\n",
    "# library for dataframes\n",
    "import pandas as pd \n",
    "pd.set_option('display.max_columns', None)\n",
    "pd.set_option('display.max_rows', None)\n",
    "\n",
    "# Linear Model\n",
    "import sklearn as sk\n",
    "\n",
    "# List Functions module\n",
    "!pip install listfun\n",
    "from listfun import Listoper as lst\n",
    "\n",
    "# Math Module\n",
    "import math\n",
    "\n",
    "# Matplotlib and associated plotting modules\n",
    "%matplotlib inline\n",
    "import matplotlib\n",
    "import matplotlib.pyplot as plt\n",
    "import matplotlib.cm as cm\n",
    "import matplotlib.colors as colors\n",
    "\n",
    "import seaborn as sns\n",
    "\n",
    "# Machine-Learning and analysis modules\n",
    "from sklearn.model_selection import train_test_split\n",
    "from sklearn.linear_model import LinearRegression\n",
    "\n",
    "! pip install expsolver;\n",
    "from expsolver import Solver as solve\n",
    "\n",
    "# Module to handle XML and HTML \n",
    "! pip install lxml;\n",
    "\n",
    "#Finance information import (Link in \"Yahoo Finance\" Markdown Cell in the \"References\" Section)\n",
    "!pip install yfinance;\n",
    "import yfinance as yf;\n",
    "\n",
    "print('Libraries imported.')"
   ]
  },
  {
   "cell_type": "markdown",
   "metadata": {},
   "source": [
    "## Import Data into DataFrame"
   ]
  },
  {
   "cell_type": "code",
   "execution_count": null,
   "metadata": {},
   "outputs": [],
   "source": [
    "end=pd.to_datetime(end)\n",
    "#start=end-pd.to_timedelta(start)\n",
    "start=pd.to_datetime(start)\n",
    "print('Start: {}, End: {}'.format(start,end))"
   ]
  },
  {
   "cell_type": "markdown",
   "metadata": {},
   "source": [
    "### Create basic dataframe \"df_info\" containing all the available stocks information"
   ]
  },
  {
   "cell_type": "code",
   "execution_count": null,
   "metadata": {},
   "outputs": [],
   "source": [
    "# Create list of stock names as specified by the User\n",
    "s_list=s_list.split(' ')"
   ]
  },
  {
   "cell_type": "code",
   "execution_count": null,
   "metadata": {},
   "outputs": [],
   "source": [
    "# Initialize Basic Dataframe as empty\n",
    "df_info=pd.DataFrame() \n",
    "\n",
    "# Add Shares information for List of stock names\n",
    "for item in s_list:\n",
    "    data=yf.Ticker(item)\n",
    "    df_data=data.history(period=sample_interval,start=start ,end=end )\n",
    "    df_data=df_data.reset_index()\n",
    "    df_data['Name']=pd.DataFrame([item for i in range(0,len(df_data))])\n",
    "    df_info=pd.concat([df_info,df_data])\n",
    "    \n",
    "\n",
    "# Display basic information\n",
    "df_info.head()"
   ]
  },
  {
   "cell_type": "code",
   "execution_count": null,
   "metadata": {},
   "outputs": [],
   "source": [
    "# Size of Data:\n",
    "print('Size of the full dataset is: {} by {}'.format(df_info.shape[0],df_info.shape[1]))"
   ]
  },
  {
   "cell_type": "markdown",
   "metadata": {},
   "source": [
    "## Exploratory Pre-Processing Analysis"
   ]
  },
  {
   "cell_type": "markdown",
   "metadata": {},
   "source": [
    "### Create Dataframe (df) of Relevant share Price vs. date, which will be the data looked at in this analysis  "
   ]
  },
  {
   "cell_type": "code",
   "execution_count": null,
   "metadata": {},
   "outputs": [],
   "source": [
    "# Create new Dataframe of relevant Share Prices\n",
    "datevalues=df_info['Date'].sort_values().drop_duplicates().tolist()\n",
    "df=pd.DataFrame(index=datevalues,columns=s_list)\n",
    "for item in s_list:\n",
    "    df_item=df_info[df_info['Name']==item]\n",
    "    for ind in df.index.tolist():\n",
    "    #df[['Date',item]]=df_info.loc[df_info['Name']==item,['Date',pricetype]]\n",
    "        try:\n",
    "            df.loc[ind,item]=df_item.loc[df_item['Date']==ind,pricetype].values[0]\n",
    "        except:\n",
    "            pass\n",
    "    df[item].fillna(method='bfill',inplace=True)\n",
    "    df[item].fillna(method='ffill',inplace=True)\n",
    "\n",
    "df_price=df\n",
    "# Display initial few contents of the Dataset\n",
    "df.tail(10)"
   ]
  },
  {
   "cell_type": "markdown",
   "metadata": {},
   "source": [
    "### Display basic information about this dataset"
   ]
  },
  {
   "cell_type": "code",
   "execution_count": null,
   "metadata": {},
   "outputs": [],
   "source": [
    "# Display basic statistics of the opening prices\n",
    "# Darker cells denote higher values\n",
    "df.describe().style.background_gradient(axis=1).format(\"{:.2f}\")"
   ]
  },
  {
   "cell_type": "markdown",
   "metadata": {},
   "source": [
    "### Create basic Time plot to look at pertinent information"
   ]
  },
  {
   "cell_type": "code",
   "execution_count": null,
   "metadata": {},
   "outputs": [],
   "source": [
    "# Plot Open price vs. Time\n",
    "ax= plt.subplot()\n",
    "for item in df_price.columns:\n",
    "    plt.plot(df_price[item])\n",
    "\n",
    "plt.xticks(rotation=45)\n",
    "ax.legend(df_price.columns)\n",
    "plt.ylabel('Share Price [USD]')\n",
    "ax.grid(True)"
   ]
  },
  {
   "cell_type": "markdown",
   "metadata": {},
   "source": [
    "## What kind of Growth % do we see with the various listings?"
   ]
  },
  {
   "cell_type": "markdown",
   "metadata": {},
   "source": [
    "### Normalize the opening price to determine Growth % over the period of interest"
   ]
  },
  {
   "cell_type": "markdown",
   "metadata": {},
   "source": [
    "Normalize w.r.t. start price (df_start) <br> \n",
    "Normalization used: (price-start_price)/start_price*100 to obtain df_norm"
   ]
  },
  {
   "cell_type": "code",
   "execution_count": null,
   "metadata": {},
   "outputs": [],
   "source": [
    "# Normalization Function\n",
    "def df_normalize(df):\n",
    "    df_strt=df.iloc[0,:]\n",
    "    df_norm=(df.iloc[:,:]-df_strt)/df_strt*100\n",
    "    df_strt=pd.DataFrame(df_strt).transpose()\n",
    "    df_strt.set_axis(['start_price'],axis=0,inplace=True)\n",
    "    return [df_norm,df_strt]\n",
    "\n",
    "# Store Normalized values in DataFrame and display results                          \n",
    "[df_norm,df_start]=df_normalize(df)\n",
    "df_norm.head()"
   ]
  },
  {
   "cell_type": "code",
   "execution_count": null,
   "metadata": {},
   "outputs": [],
   "source": [
    "df_start"
   ]
  },
  {
   "cell_type": "code",
   "execution_count": null,
   "metadata": {},
   "outputs": [],
   "source": [
    "# Size of Data:\n",
    "print('Size of the data is: {} by {}'.format(df_norm.shape[0],df_norm.shape[1]))"
   ]
  },
  {
   "cell_type": "code",
   "execution_count": null,
   "metadata": {},
   "outputs": [],
   "source": [
    "# Display basic statistics of the normalized prices\n",
    "# Darker cells denote higher values\n",
    "df_norm.describe().loc[['count','mean','min','max'],:].style.background_gradient(axis=1).format(\"{:.1f}\")"
   ]
  },
  {
   "cell_type": "markdown",
   "metadata": {},
   "source": [
    "### Plot trends in Normalized values"
   ]
  },
  {
   "cell_type": "markdown",
   "metadata": {},
   "source": [
    "Time Plot"
   ]
  },
  {
   "cell_type": "code",
   "execution_count": null,
   "metadata": {},
   "outputs": [],
   "source": [
    "# Display Growth % over time\n",
    "ax= plt.subplot()\n",
    "for item in df_norm.columns:\n",
    "    plt.plot(df_norm[item])\n",
    "\n",
    "plt.xticks(rotation=45)\n",
    "ax.legend(df.columns)\n",
    "plt.ylabel('Growth %')\n",
    "ax.grid(True)"
   ]
  },
  {
   "cell_type": "markdown",
   "metadata": {},
   "source": [
    "## How do the price gains of the listings correlate to each other?"
   ]
  },
  {
   "cell_type": "markdown",
   "metadata": {},
   "source": [
    "Correlation Matrix"
   ]
  },
  {
   "cell_type": "code",
   "execution_count": null,
   "metadata": {},
   "outputs": [],
   "source": [
    "sns.heatmap(df_norm.corr());"
   ]
  },
  {
   "cell_type": "code",
   "execution_count": null,
   "metadata": {},
   "outputs": [],
   "source": [
    "ax= plt.subplot()\n",
    "for item in df_norm.columns:\n",
    "    plt.scatter(df_norm.iloc[:,0],df_norm[item])\n",
    "\n",
    "ax.legend(df_norm.columns)\n",
    "plt.xlabel('AAPL Growth %')\n",
    "plt.ylabel('Growth %')\n",
    "ax.grid(True)"
   ]
  },
  {
   "cell_type": "markdown",
   "metadata": {},
   "source": [
    "## Calculate percent and absolute estimate and bounds of Growth "
   ]
  },
  {
   "cell_type": "markdown",
   "metadata": {},
   "source": [
    "### Create a linear regression fit for the data with thrice the standard dev. of obs.-est. to determine the boundaries"
   ]
  },
  {
   "cell_type": "markdown",
   "metadata": {},
   "source": [
    "<b> Linear Regression object, score and price boundaries for each listing </b>"
   ]
  },
  {
   "cell_type": "code",
   "execution_count": null,
   "metadata": {},
   "outputs": [],
   "source": [
    "def lin_obj(df):\n",
    "    df_lin=df.iloc[0:1,:]\n",
    "    df_lin.reindex(['fit_obj','score','bound'])\n",
    "    df_lin.drop(index=df_lin.index[0],inplace=True)\n",
    "    for item in df_lin.columns:\n",
    "        # ... (intercept and coeff.) of the fits\n",
    "        X=np.array(pd.to_numeric(df.index)).reshape(-1, 1)\n",
    "        Y=(df[item].values).reshape(-1, 1)\n",
    "        lin_list_coeff=[]\n",
    "        lin_list_intercept=[]\n",
    "        for i in range(0,1):\n",
    "            X_train, X_test, y_train, y_test = train_test_split(X, Y, test_size=0)\n",
    "            lin_obj=LinearRegression()\n",
    "            lin_obj.fit(X_train,y_train)\n",
    "            lin_list_coeff.append(lin_obj.coef_)\n",
    "            lin_list_intercept.append(lin_obj.intercept_)\n",
    "        linobj = LinearRegression()\n",
    "        linobj.coef_=np.array(np.array(lin_list_coeff).mean()).reshape(-1)\n",
    "        linobj.intercept_=np.array(np.array(lin_list_intercept).mean()).reshape(-1)\n",
    "        score=linobj.score(X,Y)\n",
    "        df_lin.loc['fit_obj',item]=linobj\n",
    "        df_lin.loc['score',item]=score\n",
    "\n",
    "    # Calculate price bounds\n",
    "    df_est=pd.DataFrame()\n",
    "    df_est.rename_axis(index='Datetime')\n",
    "    df_est['Datetime']=df.index\n",
    "    df_est.set_index('Datetime',inplace=True)\n",
    "    for item in df.columns:\n",
    "        fit_obj=df_lin.loc['fit_obj',item]\n",
    "        for datetime in df_est.index:\n",
    "            est=fit_obj.predict(np.array(datetime.value).reshape(-1,1))\n",
    "            df_est.loc[datetime,'{}'.format(item)]=est\n",
    "    for item in df.columns:\n",
    "        df_diff=df[item]-df_est[item]\n",
    "        bounds=3*df_diff.std()\n",
    "        df_lin.loc['bound',item]=bounds\n",
    "        \n",
    "    return df_lin"
   ]
  },
  {
   "cell_type": "markdown",
   "metadata": {},
   "source": [
    "Convert rise and fall from % to price (using price change= percent change/100*start price) and display.<br>"
   ]
  },
  {
   "cell_type": "code",
   "execution_count": null,
   "metadata": {},
   "outputs": [],
   "source": [
    "# Call lin_obj(...) to create the price estimation object dataframe\n",
    "df_price_est_obj=lin_obj(df_norm)\n",
    "df_price_bounds_dict={}\n",
    "for item in df_norm.columns:\n",
    "    df_price_bounds_dict[item]=df_price_est_obj.loc['bound',item]*df_start.loc['start_price',item]/100\n",
    "df_price_bounds=pd.DataFrame(df_price_bounds_dict,index=['price_bounds'])\n",
    "df_price_est_obj=df_price_est_obj.append(df_price_bounds)\n",
    "df_price_est_obj"
   ]
  },
  {
   "cell_type": "markdown",
   "metadata": {},
   "source": [
    "### Estimate the price and bounds vs. date using the fit object"
   ]
  },
  {
   "cell_type": "code",
   "execution_count": null,
   "metadata": {},
   "outputs": [],
   "source": [
    "# Function to estimate the price given the price dataframe, fit objects and datetime query\n",
    "def price_est(df,df_price_est_obj,df_strt,datetime_query):\n",
    "    df_price_est=pd.DataFrame()\n",
    "    df_price_est.rename_axis(index='Datetime')\n",
    "    df_price_est['Datetime']=pd.to_datetime(datetime_query)\n",
    "    df_price_est.set_index('Datetime',inplace=True)\n",
    "    for item in df.columns:\n",
    "        fit_obj=df_price_est_obj.loc['fit_obj',item]\n",
    "        for datetime in df_price_est.index:\n",
    "            norm_price_est=fit_obj.predict(np.array(datetime.value).reshape(-1,1))\n",
    "            price_est=norm_price_est*df_strt.loc['start_price',item]/100+df_strt.loc['start_price',item]\n",
    "            df_price_est.loc[datetime,'{}'.format(item)]=price_est\n",
    "            df_price_est.loc[datetime,'{}_low'.format(item)]=price_est-(df_price_est_obj.loc['price_bounds',item])\n",
    "            df_price_est.loc[datetime,'{}_high'.format(item)]=price_est+(df_price_est_obj.loc['price_bounds',item])\n",
    "            df_price_est.loc[datetime,'{}_lo_mid'.format(item)]=df_price_est.loc[datetime,['{}'.format(item),\n",
    "                                                                                         '{}_low'.format(item)]].mean()\n",
    "            df_price_est.loc[datetime,'{}_hi_mid'.format(item)]=df_price_est.loc[datetime,['{}'.format(item),\n",
    "                                                                                         '{}_high'.format(item)]].mean()\n",
    "    df_price_est.reindex(df_price_est.index.date)\n",
    "    df_price_est=df_price_est\n",
    "    return df_price_est\n"
   ]
  },
  {
   "cell_type": "markdown",
   "metadata": {},
   "source": [
    "## What is the predicted share price?"
   ]
  },
  {
   "cell_type": "code",
   "execution_count": null,
   "metadata": {},
   "outputs": [],
   "source": [
    "df_price_est=price_est(df,df_price_est_obj,df_start,datetime_query)\n",
    "df_price_est.head().style.background_gradient(axis=1).format(\"{:.0f}\")"
   ]
  },
  {
   "cell_type": "markdown",
   "metadata": {},
   "source": [
    "## What kind of volatility do the listings have?"
   ]
  },
  {
   "cell_type": "markdown",
   "metadata": {},
   "source": [
    "## How do we generate our investment portfolio?"
   ]
  },
  {
   "cell_type": "markdown",
   "metadata": {},
   "source": [
    "### Estimate the price history along with the bounds and plot the history and estimates for each listing"
   ]
  },
  {
   "cell_type": "code",
   "execution_count": null,
   "metadata": {},
   "outputs": [],
   "source": [
    "# Datetime history query values\n",
    "datetime_query_start_end=pd.date_range(start=start,end=end)"
   ]
  },
  {
   "cell_type": "code",
   "execution_count": null,
   "metadata": {},
   "outputs": [],
   "source": [
    "# Generate and display estimates (listing, listing_low, listing_high)\n",
    "df_price_est_start_end=price_est(df,df_price_est_obj,df_start,datetime_query_start_end)\n",
    "df_price_est_start_end.head().style.format(\"{:.0f}\")"
   ]
  },
  {
   "cell_type": "code",
   "execution_count": null,
   "metadata": {},
   "outputs": [],
   "source": [
    "# Plot Open price vs. Time\n",
    "num_plot=len(df.columns)\n",
    "i=1\n",
    "for item in df.columns:\n",
    "    plt.figure()\n",
    "    plt.plot(df_price[item])\n",
    "    plt.plot(df_price_est_start_end[[item,item+'_low',item+'_high',item+'_lo_mid',item+'_hi_mid']])\n",
    "    plt.legend([item,item+'_predicted',item+'_low',item+'_high',item+'_lo_mid',item+'_hi_mid'])\n",
    "    plt.ylabel('Share Price [USD]')\n",
    "    plt.xticks(rotation=45)\n",
    "    plt.grid(True)\n",
    "    plt.title(item)\n",
    "    i=i+1"
   ]
  },
  {
   "cell_type": "markdown",
   "metadata": {},
   "source": [
    "## Constructing the Portfolio"
   ]
  },
  {
   "cell_type": "markdown",
   "metadata": {},
   "source": [
    "In order to balance the investments, we'd want to have the most benefit (reward) while minimizing volatility (risk).<br>\n",
    "1. We can consider 'reward' to be the slope of the linear fit to share price (higher the slope, higher the gain).<br>\n",
    "2. We can consider 'risk' to be the ratio between the price bounds and change in price over the duration of interest <br>\n",
    "3. Hence we can compute a 'returns ratio' = 'reward'/'risk' for each listing; the higher this value, the more this investment is viable. <br>\n",
    "4. Then we can compute the sum of the returns ratios for each listing and divide the returns ratio by the summed value, to determine the \"weight\" of each investment <br>\n",
    "5. Finally we can multiply the \"weight\" by the total investment capital (total_investment) to obtain the recommended investment for each listing <br>    "
   ]
  },
  {
   "cell_type": "markdown",
   "metadata": {},
   "source": [
    "### Use the Linear Regression object to construct the reward, volatility, returns ratio, weight and suggested investment values"
   ]
  },
  {
   "cell_type": "code",
   "execution_count": null,
   "metadata": {},
   "outputs": [],
   "source": [
    "# Initialize the portfolio dataframe df_portfolio and update the index suitably\n",
    "df_portfolio=df_price_est_obj\n",
    "df_portfolio=df_portfolio.reindex(['reward','risk','returns_ratio','weight','suggested_investment'])\n",
    "df_portfolio=df_portfolio.rename_axis(index='Parameters')\n",
    "\n",
    "# Update \"reward\" using the slope of the line fit (multiplied by a suitable factor for display)\n",
    "for item in (df_portfolio.columns):\n",
    "    df_portfolio.loc['reward',item]=(df_price_est_obj.loc['fit_obj',item].coef_[0])*10**17\n",
    "    \n",
    "# Update the \"volatility\" as the percent price bound\n",
    "for item in (df_portfolio.columns):\n",
    "    df_portfolio.loc['risk',item]=(df_price_est_obj.loc['bound',item])\n",
    "                                         \n",
    "# Update the returns ratio as the ratio between the \"reward\" and \"volatility\"\n",
    "for item in (df_portfolio.columns):\n",
    "    df_portfolio.loc['returns_ratio',item]=(df_portfolio.loc['reward',item]/\n",
    "                                            df_portfolio.loc['risk',item])\n",
    "    \n",
    "# Remove those listings with negative returns_ratio since those imply a falling stock\n",
    "for item in df_portfolio.columns:\n",
    "    if df_portfolio.loc['reward',item]<=0:\n",
    "        df_portfolio.pop(item)\n",
    "        \n",
    "# Obtain the weighted average of the returns ratio for each listing\n",
    "for item in (df_portfolio.columns):\n",
    "    df_portfolio.loc['weight',item]=df_portfolio.loc['returns_ratio',item]/df_portfolio.loc['returns_ratio',:].sum()\n",
    "\n",
    "# Multiply the weight of each listing by the total investment capital to obtain the recommended investment\n",
    "for item in (df_portfolio.columns):\n",
    "    df_portfolio.loc['suggested_investment',item]=df_portfolio.loc['weight',item]*total_investment\n",
    "\n",
    "# Display the portfolio dataframe\n",
    "df_portfolio.sort_values(axis=1,by='weight',ascending=False).style.background_gradient(axis=1).format(\"{:.2f}\")"
   ]
  },
  {
   "cell_type": "code",
   "execution_count": null,
   "metadata": {},
   "outputs": [],
   "source": [
    "stock_labels=df_portfolio.columns\n",
    "values=df_portfolio.loc['suggested_investment',:]\n",
    "plt.pie(values, labels=stock_labels,radius=1.5, autopct='%1.0f%%');"
   ]
  },
  {
   "cell_type": "code",
   "execution_count": null,
   "metadata": {},
   "outputs": [],
   "source": [
    "df_portfolio.to_csv('portfolio.csv')"
   ]
  },
  {
   "cell_type": "markdown",
   "metadata": {},
   "source": [
    "### What kind of volatility do the listings have?"
   ]
  },
  {
   "cell_type": "markdown",
   "metadata": {},
   "source": [
    " Refer the \"volatility\" row, higher the value, greater the volatility"
   ]
  },
  {
   "cell_type": "markdown",
   "metadata": {},
   "source": [
    "### How do we use the data to construct our portfolio?"
   ]
  },
  {
   "cell_type": "markdown",
   "metadata": {},
   "source": [
    "Refer the dataframe \"df_portfolio\""
   ]
  }
 ],
 "metadata": {
  "kernelspec": {
   "display_name": "Python",
   "language": "python",
   "name": "conda-env-python-py"
  },
  "language_info": {
   "codemirror_mode": {
    "name": "ipython",
    "version": 3
   },
   "file_extension": ".py",
   "mimetype": "text/x-python",
   "name": "python",
   "nbconvert_exporter": "python",
   "pygments_lexer": "ipython3",
   "version": "3.6.12"
  }
 },
 "nbformat": 4,
 "nbformat_minor": 4
}
