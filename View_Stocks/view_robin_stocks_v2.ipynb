{
 "cells": [
  {
   "cell_type": "code",
   "execution_count": 1,
   "metadata": {
    "tags": []
   },
   "outputs": [
    {
     "name": "stdout",
     "output_type": "stream",
     "text": [
      "Requirement already satisfied: robin_stocks in c:\\users\\tiyas\\anaconda3\\lib\\site-packages (2.1.0)\n",
      "Requirement already satisfied: pyotp in c:\\users\\tiyas\\anaconda3\\lib\\site-packages (from robin_stocks) (2.6.0)\n",
      "Requirement already satisfied: python-dotenv in c:\\users\\tiyas\\anaconda3\\lib\\site-packages (from robin_stocks) (0.20.0)\n",
      "Requirement already satisfied: requests in c:\\users\\tiyas\\anaconda3\\lib\\site-packages (from robin_stocks) (2.26.0)\n",
      "Requirement already satisfied: cryptography in c:\\users\\tiyas\\anaconda3\\lib\\site-packages (from robin_stocks) (3.4.8)\n",
      "Requirement already satisfied: cffi>=1.12 in c:\\users\\tiyas\\anaconda3\\lib\\site-packages (from cryptography->robin_stocks) (1.14.6)\n",
      "Requirement already satisfied: urllib3<1.27,>=1.21.1 in c:\\users\\tiyas\\anaconda3\\lib\\site-packages (from requests->robin_stocks) (1.26.7)\n",
      "Requirement already satisfied: idna<4,>=2.5 in c:\\users\\tiyas\\anaconda3\\lib\\site-packages (from requests->robin_stocks) (3.2)\n",
      "Requirement already satisfied: certifi>=2017.4.17 in c:\\users\\tiyas\\anaconda3\\lib\\site-packages (from requests->robin_stocks) (2021.10.8)\n",
      "Requirement already satisfied: charset-normalizer~=2.0.0 in c:\\users\\tiyas\\anaconda3\\lib\\site-packages (from requests->robin_stocks) (2.0.4)\n",
      "Requirement already satisfied: pycparser in c:\\users\\tiyas\\anaconda3\\lib\\site-packages (from cffi>=1.12->cryptography->robin_stocks) (2.20)\n"
     ]
    }
   ],
   "source": [
    "!pip install robin_stocks\n",
    "import robin_stocks.robinhood as r\n",
    "import pandas as pd\n",
    "import numpy as np\n",
    "import math as m\n",
    "import matplotlib.pyplot as plt"
   ]
  },
  {
   "cell_type": "markdown",
   "metadata": {},
   "source": [
    "Library: [robin_stocks](https://readthedocs.org/projects/robin-stocks/downloads/pdf/latest/)"
   ]
  },
  {
   "cell_type": "markdown",
   "metadata": {},
   "source": [
    "## Authentication and Login"
   ]
  },
  {
   "cell_type": "code",
   "execution_count": 2,
   "metadata": {},
   "outputs": [],
   "source": [
    "login = r.login('kgraghav@mtu.edu','0214@Kgraghavan',store_session=True)"
   ]
  },
  {
   "cell_type": "markdown",
   "metadata": {
    "tags": []
   },
   "source": [
    "## List of Cryptocurrencies available"
   ]
  },
  {
   "cell_type": "code",
   "execution_count": 3,
   "metadata": {},
   "outputs": [],
   "source": [
    "crypto_info=r.crypto.get_crypto_currency_pairs()\n",
    "crypto_list=[]\n",
    "for i in range(len(crypto_info)):\n",
    "    crypto_list.append(crypto_info[i]['asset_currency']['code'])"
   ]
  },
  {
   "cell_type": "markdown",
   "metadata": {},
   "source": [
    "## Read in Portfolio"
   ]
  },
  {
   "cell_type": "code",
   "execution_count": 4,
   "metadata": {},
   "outputs": [
    {
     "data": {
      "text/html": [
       "<div>\n",
       "<style scoped>\n",
       "    .dataframe tbody tr th:only-of-type {\n",
       "        vertical-align: middle;\n",
       "    }\n",
       "\n",
       "    .dataframe tbody tr th {\n",
       "        vertical-align: top;\n",
       "    }\n",
       "\n",
       "    .dataframe thead th {\n",
       "        text-align: right;\n",
       "    }\n",
       "</style>\n",
       "<table border=\"1\" class=\"dataframe\">\n",
       "  <thead>\n",
       "    <tr style=\"text-align: right;\">\n",
       "      <th></th>\n",
       "      <th>DOGE.USD</th>\n",
       "      <th>GSAT</th>\n",
       "      <th>HGSH</th>\n",
       "      <th>VXRT</th>\n",
       "      <th>MVIS</th>\n",
       "      <th>GLDG</th>\n",
       "      <th>KOSS</th>\n",
       "      <th>MARA</th>\n",
       "      <th>UONE</th>\n",
       "      <th>WKHS</th>\n",
       "      <th>...</th>\n",
       "      <th>INO</th>\n",
       "      <th>GOOGL</th>\n",
       "      <th>IEHS</th>\n",
       "      <th>H</th>\n",
       "      <th>AAPL</th>\n",
       "      <th>HRB</th>\n",
       "      <th>DMLRY</th>\n",
       "      <th>KSS</th>\n",
       "      <th>SLV</th>\n",
       "      <th>CLX</th>\n",
       "    </tr>\n",
       "    <tr>\n",
       "      <th>Parameters</th>\n",
       "      <th></th>\n",
       "      <th></th>\n",
       "      <th></th>\n",
       "      <th></th>\n",
       "      <th></th>\n",
       "      <th></th>\n",
       "      <th></th>\n",
       "      <th></th>\n",
       "      <th></th>\n",
       "      <th></th>\n",
       "      <th></th>\n",
       "      <th></th>\n",
       "      <th></th>\n",
       "      <th></th>\n",
       "      <th></th>\n",
       "      <th></th>\n",
       "      <th></th>\n",
       "      <th></th>\n",
       "      <th></th>\n",
       "      <th></th>\n",
       "      <th></th>\n",
       "    </tr>\n",
       "  </thead>\n",
       "  <tbody>\n",
       "    <tr>\n",
       "      <th>lingain</th>\n",
       "      <td>13687.570131</td>\n",
       "      <td>322.608043</td>\n",
       "      <td>199.699996</td>\n",
       "      <td>951.448206</td>\n",
       "      <td>2165.463148</td>\n",
       "      <td>180.525506</td>\n",
       "      <td>1332.426476</td>\n",
       "      <td>2142.490122</td>\n",
       "      <td>408.367352</td>\n",
       "      <td>1385.593087</td>\n",
       "      <td>...</td>\n",
       "      <td>247.135547</td>\n",
       "      <td>189.843537</td>\n",
       "      <td>81.707297</td>\n",
       "      <td>10.420994</td>\n",
       "      <td>322.342847</td>\n",
       "      <td>4.842011</td>\n",
       "      <td>136.318181</td>\n",
       "      <td>16.942446</td>\n",
       "      <td>99.397706</td>\n",
       "      <td>34.004637</td>\n",
       "    </tr>\n",
       "    <tr>\n",
       "      <th>score</th>\n",
       "      <td>1.539623</td>\n",
       "      <td>1.502087</td>\n",
       "      <td>1.218224</td>\n",
       "      <td>1.221155</td>\n",
       "      <td>1.425121</td>\n",
       "      <td>2.665579</td>\n",
       "      <td>1.444955</td>\n",
       "      <td>1.321912</td>\n",
       "      <td>1.494672</td>\n",
       "      <td>2.967890</td>\n",
       "      <td>...</td>\n",
       "      <td>4.480306</td>\n",
       "      <td>1.127063</td>\n",
       "      <td>1.062733</td>\n",
       "      <td>26.526102</td>\n",
       "      <td>1.022186</td>\n",
       "      <td>206.990381</td>\n",
       "      <td>1.441481</td>\n",
       "      <td>30.400430</td>\n",
       "      <td>1.301353</td>\n",
       "      <td>3.708893</td>\n",
       "    </tr>\n",
       "    <tr>\n",
       "      <th>price_bound</th>\n",
       "      <td>0.187068</td>\n",
       "      <td>0.843748</td>\n",
       "      <td>0.665267</td>\n",
       "      <td>3.910195</td>\n",
       "      <td>9.556530</td>\n",
       "      <td>1.160191</td>\n",
       "      <td>12.781262</td>\n",
       "      <td>22.436996</td>\n",
       "      <td>4.460050</td>\n",
       "      <td>18.450845</td>\n",
       "      <td>...</td>\n",
       "      <td>11.588208</td>\n",
       "      <td>555.515508</td>\n",
       "      <td>3.953218</td>\n",
       "      <td>27.431645</td>\n",
       "      <td>15.649760</td>\n",
       "      <td>10.723850</td>\n",
       "      <td>6.696680</td>\n",
       "      <td>36.890271</td>\n",
       "      <td>5.519195</td>\n",
       "      <td>57.305026</td>\n",
       "    </tr>\n",
       "    <tr>\n",
       "      <th>returns_ratio</th>\n",
       "      <td>73169.030448</td>\n",
       "      <td>382.350985</td>\n",
       "      <td>300.180386</td>\n",
       "      <td>243.324984</td>\n",
       "      <td>226.595140</td>\n",
       "      <td>155.599788</td>\n",
       "      <td>104.248427</td>\n",
       "      <td>95.489169</td>\n",
       "      <td>91.561169</td>\n",
       "      <td>75.096456</td>\n",
       "      <td>...</td>\n",
       "      <td>21.326468</td>\n",
       "      <td>0.341743</td>\n",
       "      <td>20.668555</td>\n",
       "      <td>0.379889</td>\n",
       "      <td>20.597303</td>\n",
       "      <td>0.451518</td>\n",
       "      <td>20.356083</td>\n",
       "      <td>0.459266</td>\n",
       "      <td>18.009456</td>\n",
       "      <td>0.593397</td>\n",
       "    </tr>\n",
       "    <tr>\n",
       "      <th>weight</th>\n",
       "      <td>0.044848</td>\n",
       "      <td>0.043499</td>\n",
       "      <td>0.042167</td>\n",
       "      <td>0.040852</td>\n",
       "      <td>0.039554</td>\n",
       "      <td>0.038274</td>\n",
       "      <td>0.037010</td>\n",
       "      <td>0.035764</td>\n",
       "      <td>0.034535</td>\n",
       "      <td>0.033323</td>\n",
       "      <td>...</td>\n",
       "      <td>0.010190</td>\n",
       "      <td>0.010103</td>\n",
       "      <td>0.009390</td>\n",
       "      <td>0.009305</td>\n",
       "      <td>0.008608</td>\n",
       "      <td>0.008524</td>\n",
       "      <td>0.007843</td>\n",
       "      <td>0.007761</td>\n",
       "      <td>0.007094</td>\n",
       "      <td>0.007015</td>\n",
       "    </tr>\n",
       "    <tr>\n",
       "      <th>suggested_investment</th>\n",
       "      <td>364.000000</td>\n",
       "      <td>609.030845</td>\n",
       "      <td>590.379541</td>\n",
       "      <td>571.968731</td>\n",
       "      <td>553.798415</td>\n",
       "      <td>535.868594</td>\n",
       "      <td>518.179267</td>\n",
       "      <td>500.730434</td>\n",
       "      <td>483.522096</td>\n",
       "      <td>466.554252</td>\n",
       "      <td>...</td>\n",
       "      <td>142.670266</td>\n",
       "      <td>141.448706</td>\n",
       "      <td>131.474286</td>\n",
       "      <td>130.278716</td>\n",
       "      <td>120.518799</td>\n",
       "      <td>119.349220</td>\n",
       "      <td>109.803807</td>\n",
       "      <td>108.660219</td>\n",
       "      <td>99.329309</td>\n",
       "      <td>98.211712</td>\n",
       "    </tr>\n",
       "  </tbody>\n",
       "</table>\n",
       "<p>6 rows × 47 columns</p>\n",
       "</div>"
      ],
      "text/plain": [
       "                          DOGE.USD        GSAT        HGSH        VXRT  \\\n",
       "Parameters                                                               \n",
       "lingain               13687.570131  322.608043  199.699996  951.448206   \n",
       "score                     1.539623    1.502087    1.218224    1.221155   \n",
       "price_bound               0.187068    0.843748    0.665267    3.910195   \n",
       "returns_ratio         73169.030448  382.350985  300.180386  243.324984   \n",
       "weight                    0.044848    0.043499    0.042167    0.040852   \n",
       "suggested_investment    364.000000  609.030845  590.379541  571.968731   \n",
       "\n",
       "                             MVIS        GLDG         KOSS         MARA  \\\n",
       "Parameters                                                                \n",
       "lingain               2165.463148  180.525506  1332.426476  2142.490122   \n",
       "score                    1.425121    2.665579     1.444955     1.321912   \n",
       "price_bound              9.556530    1.160191    12.781262    22.436996   \n",
       "returns_ratio          226.595140  155.599788   104.248427    95.489169   \n",
       "weight                   0.039554    0.038274     0.037010     0.035764   \n",
       "suggested_investment   553.798415  535.868594   518.179267   500.730434   \n",
       "\n",
       "                            UONE         WKHS  ...         INO       GOOGL  \\\n",
       "Parameters                                     ...                           \n",
       "lingain               408.367352  1385.593087  ...  247.135547  189.843537   \n",
       "score                   1.494672     2.967890  ...    4.480306    1.127063   \n",
       "price_bound             4.460050    18.450845  ...   11.588208  555.515508   \n",
       "returns_ratio          91.561169    75.096456  ...   21.326468    0.341743   \n",
       "weight                  0.034535     0.033323  ...    0.010190    0.010103   \n",
       "suggested_investment  483.522096   466.554252  ...  142.670266  141.448706   \n",
       "\n",
       "                            IEHS           H        AAPL         HRB  \\\n",
       "Parameters                                                             \n",
       "lingain                81.707297   10.420994  322.342847    4.842011   \n",
       "score                   1.062733   26.526102    1.022186  206.990381   \n",
       "price_bound             3.953218   27.431645   15.649760   10.723850   \n",
       "returns_ratio          20.668555    0.379889   20.597303    0.451518   \n",
       "weight                  0.009390    0.009305    0.008608    0.008524   \n",
       "suggested_investment  131.474286  130.278716  120.518799  119.349220   \n",
       "\n",
       "                           DMLRY         KSS        SLV        CLX  \n",
       "Parameters                                                          \n",
       "lingain               136.318181   16.942446  99.397706  34.004637  \n",
       "score                   1.441481   30.400430   1.301353   3.708893  \n",
       "price_bound             6.696680   36.890271   5.519195  57.305026  \n",
       "returns_ratio          20.356083    0.459266  18.009456   0.593397  \n",
       "weight                  0.007843    0.007761   0.007094   0.007015  \n",
       "suggested_investment  109.803807  108.660219  99.329309  98.211712  \n",
       "\n",
       "[6 rows x 47 columns]"
      ]
     },
     "execution_count": 4,
     "metadata": {},
     "output_type": "execute_result"
    }
   ],
   "source": [
    "df_portfolio=pd.read_csv('portfolio.csv')\n",
    "df_portfolio.set_index('Parameters',inplace=True)\n",
    "columns_list=df_portfolio.columns.tolist()\n",
    "columns_dict={}\n",
    "for stock in columns_list:\n",
    "    stock_str_rep=stock.replace('-','.')\n",
    "    columns_dict[stock]=stock_str_rep\n",
    "df_portfolio.rename(columns=columns_dict,inplace=True)\n",
    "df_portfolio.sort_values(by='weight',axis=1,ascending=False)"
   ]
  },
  {
   "cell_type": "code",
   "execution_count": 5,
   "metadata": {},
   "outputs": [],
   "source": [
    "port_stocks=df_portfolio.columns.tolist()"
   ]
  },
  {
   "cell_type": "code",
   "execution_count": 6,
   "metadata": {},
   "outputs": [
    {
     "name": "stdout",
     "output_type": "stream",
     "text": [
      "Total suggested equity value is: 13737.07735615393\n"
     ]
    },
    {
     "data": {
      "image/png": "[encoded data removed]",
      "text/plain": [
       "<Figure size 864x576 with 1 Axes>"
      ]
     },
     "metadata": {
      "needs_background": "light"
     },
     "output_type": "display_data"
    }
   ],
   "source": [
    "df_suggested_equity=df_portfolio.loc['suggested_investment',:]\n",
    "df_suggested_equity.transpose().plot(kind='bar',figsize=(12,8));\n",
    "total_port_equity=df_suggested_equity.sum()\n",
    "print('Total suggested equity value is: {}'.format(total_port_equity))\n"
   ]
  },
  {
   "cell_type": "markdown",
   "metadata": {},
   "source": [
    "## Print total stocks value"
   ]
  },
  {
   "cell_type": "code",
   "execution_count": 7,
   "metadata": {},
   "outputs": [
    {
     "name": "stdout",
     "output_type": "stream",
     "text": [
      "['AM', 'UONE', 'WKHS', 'IDEX', 'VXRT', 'ZNGA', 'GNUS', 'NVDA', 'SOLO', 'INO', 'NIO', 'AMD', 'AAPL', 'MVIS', 'TTM', 'F', 'MRNA', 'GLDG', 'GPRO', 'SNAP', 'INDF', 'PAAS', 'SPCE', 'TSM', 'BB', 'GME', 'CPRX', 'PLTR', 'NOK', 'GEVO', 'GSAT', 'ARKQ', 'UUUU', 'XHB', 'VEGI', 'OTIS', 'CARR', 'FCEL', 'SENS', 'XPEV', 'KOSS', 'DKS', 'GGE', 'XLK', 'CLNE', 'SLVP', 'IEHS', 'VWAGY', 'AMRS', 'DMLRY', 'RIOT', 'MARA', 'SLV', 'AG', 'INFY', 'FUBO', 'BETZ']\n",
      "0.0\n"
     ]
    }
   ],
   "source": [
    "stocks_dict=r.account.build_holdings()\n",
    "#print('Stocks are: {}'.format(stocks_dict))\n",
    "tickers=stocks_dict.keys()\n",
    "ticker_list=list(tickers)\n",
    "for ticker in ticker_list:\n",
    "    ticker.replace('-','.')\n",
    "print(ticker_list)\n",
    "###### Get crypto positions #####\n",
    "crypto_holdings=r.get_crypto_positions()\n",
    "print(float(crypto_holdings[3]['quantity']))"
   ]
  },
  {
   "cell_type": "code",
   "execution_count": 8,
   "metadata": {},
   "outputs": [],
   "source": [
    "price_list=[float(stocks_dict[ticker]['equity']) for ticker in ticker_list]\n",
    "for i in range(len(crypto_holdings)):\n",
    "    if float(crypto_holdings[i]['quantity'])>0:\n",
    "        crypto_ticker=crypto_holdings[i]['currency']['code'].replace('-USD','')\n",
    "        crypto_qty=float(crypto_holdings[i]['quantity'])\n",
    "        crypto_mark_price=float(r.get_crypto_quote(symbol=crypto_ticker,info='mark_price'))\n",
    "        crypto_price=crypto_qty*crypto_mark_price\n",
    "        price_list.append(crypto_price)\n",
    "        ticker_list.append('{}.USD'.format(crypto_holdings[i]['currency']['code']))"
   ]
  },
  {
   "cell_type": "code",
   "execution_count": 9,
   "metadata": {},
   "outputs": [
    {
     "data": {
      "text/html": [
       "<div>\n",
       "<style scoped>\n",
       "    .dataframe tbody tr th:only-of-type {\n",
       "        vertical-align: middle;\n",
       "    }\n",
       "\n",
       "    .dataframe tbody tr th {\n",
       "        vertical-align: top;\n",
       "    }\n",
       "\n",
       "    .dataframe thead th {\n",
       "        text-align: right;\n",
       "    }\n",
       "</style>\n",
       "<table border=\"1\" class=\"dataframe\">\n",
       "  <thead>\n",
       "    <tr style=\"text-align: right;\">\n",
       "      <th></th>\n",
       "      <th>AM</th>\n",
       "      <th>UONE</th>\n",
       "      <th>WKHS</th>\n",
       "      <th>IDEX</th>\n",
       "      <th>VXRT</th>\n",
       "      <th>ZNGA</th>\n",
       "      <th>GNUS</th>\n",
       "      <th>NVDA</th>\n",
       "      <th>SOLO</th>\n",
       "      <th>INO</th>\n",
       "      <th>...</th>\n",
       "      <th>AMRS</th>\n",
       "      <th>DMLRY</th>\n",
       "      <th>RIOT</th>\n",
       "      <th>MARA</th>\n",
       "      <th>SLV</th>\n",
       "      <th>AG</th>\n",
       "      <th>INFY</th>\n",
       "      <th>FUBO</th>\n",
       "      <th>BETZ</th>\n",
       "      <th>DOGE.USD</th>\n",
       "    </tr>\n",
       "  </thead>\n",
       "  <tbody>\n",
       "    <tr>\n",
       "      <th>Price</th>\n",
       "      <td>224.77</td>\n",
       "      <td>431.3</td>\n",
       "      <td>359.55</td>\n",
       "      <td>269.86</td>\n",
       "      <td>345.12</td>\n",
       "      <td>252.8</td>\n",
       "      <td>252.02</td>\n",
       "      <td>133.26</td>\n",
       "      <td>223.16</td>\n",
       "      <td>198.67</td>\n",
       "      <td>...</td>\n",
       "      <td>250.73</td>\n",
       "      <td>219.44</td>\n",
       "      <td>289.04</td>\n",
       "      <td>289.74</td>\n",
       "      <td>197.77</td>\n",
       "      <td>287.46</td>\n",
       "      <td>293.61</td>\n",
       "      <td>166.04</td>\n",
       "      <td>179.59</td>\n",
       "      <td>388.478738</td>\n",
       "    </tr>\n",
       "  </tbody>\n",
       "</table>\n",
       "<p>1 rows × 58 columns</p>\n",
       "</div>"
      ],
      "text/plain": [
       "           AM   UONE    WKHS    IDEX    VXRT   ZNGA    GNUS    NVDA    SOLO  \\\n",
       "Price  224.77  431.3  359.55  269.86  345.12  252.8  252.02  133.26  223.16   \n",
       "\n",
       "          INO  ...    AMRS   DMLRY    RIOT    MARA     SLV      AG    INFY  \\\n",
       "Price  198.67  ...  250.73  219.44  289.04  289.74  197.77  287.46  293.61   \n",
       "\n",
       "         FUBO    BETZ    DOGE.USD  \n",
       "Price  166.04  179.59  388.478738  \n",
       "\n",
       "[1 rows x 58 columns]"
      ]
     },
     "execution_count": 9,
     "metadata": {},
     "output_type": "execute_result"
    }
   ],
   "source": [
    "######## Equity of stocks #################\n",
    "df_allstock_equity=pd.DataFrame(index=['Price'],columns=ticker_list);\n",
    "df_allstock_equity.loc['Price',:]=price_list;\n",
    "allstock_equity_cols=df_allstock_equity.columns.tolist()\n",
    "df_allstock_equity"
   ]
  },
  {
   "cell_type": "markdown",
   "metadata": {},
   "source": [
    "## Stocks common to portfolio and investment"
   ]
  },
  {
   "cell_type": "code",
   "execution_count": 10,
   "metadata": {},
   "outputs": [
    {
     "name": "stdout",
     "output_type": "stream",
     "text": [
      "Stocks common to recommended and actual portfolio:  ['MARA', 'SOLO', 'AG', 'SENS', 'FUBO', 'AAPL', 'ZNGA', 'UONE', 'PLTR', 'SNAP', 'GEVO', 'GNUS', 'KOSS', 'FCEL', 'INFY', 'AMD', 'CARR', 'IDEX', 'RIOT', 'GLDG', 'IEHS', 'DMLRY', 'DOGE.USD', 'UUUU', 'SLV', 'AMRS', 'WKHS', 'GPRO', 'SLVP', 'GME', 'VXRT', 'GSAT', 'CLNE', 'MVIS', 'NIO', 'INO']\n"
     ]
    }
   ],
   "source": [
    "comm_stocks=list(set(port_stocks).intersection(set(ticker_list)))\n",
    "print('Stocks common to recommended and actual portfolio: ',comm_stocks)\n",
    "port_stocks=[stock.replace('-','.') for stock in port_stocks]"
   ]
  },
  {
   "cell_type": "markdown",
   "metadata": {},
   "source": [
    "## Stocks not common"
   ]
  },
  {
   "cell_type": "markdown",
   "metadata": {},
   "source": [
    "### Stock in recommended portfolio but not in actual portfolio"
   ]
  },
  {
   "cell_type": "code",
   "execution_count": 11,
   "metadata": {},
   "outputs": [
    {
     "data": {
      "text/plain": [
       "['HGSH',\n",
       " 'BTC.USD',\n",
       " 'LYFT',\n",
       " 'QSR',\n",
       " 'RTX',\n",
       " 'AMZN',\n",
       " 'GOOGL',\n",
       " 'H',\n",
       " 'HRB',\n",
       " 'KSS',\n",
       " 'CLX']"
      ]
     },
     "execution_count": 11,
     "metadata": {},
     "output_type": "execute_result"
    }
   ],
   "source": [
    "not_in_ticker_list=[stock for stock in port_stocks if stock not in ticker_list]\n",
    "not_in_ticker_list"
   ]
  },
  {
   "cell_type": "markdown",
   "metadata": {},
   "source": [
    "### Stock in  actual portfolio but not in recommended portfolio"
   ]
  },
  {
   "cell_type": "code",
   "execution_count": 12,
   "metadata": {},
   "outputs": [
    {
     "data": {
      "text/plain": [
       "['AM',\n",
       " 'NVDA',\n",
       " 'TTM',\n",
       " 'F',\n",
       " 'MRNA',\n",
       " 'INDF',\n",
       " 'PAAS',\n",
       " 'SPCE',\n",
       " 'TSM',\n",
       " 'BB',\n",
       " 'CPRX',\n",
       " 'NOK',\n",
       " 'ARKQ',\n",
       " 'XHB',\n",
       " 'VEGI',\n",
       " 'OTIS',\n",
       " 'XPEV',\n",
       " 'DKS',\n",
       " 'GGE',\n",
       " 'XLK',\n",
       " 'VWAGY',\n",
       " 'BETZ']"
      ]
     },
     "execution_count": 12,
     "metadata": {},
     "output_type": "execute_result"
    }
   ],
   "source": [
    "not_in_port_stocks=[ticker for ticker in ticker_list if ticker not in port_stocks]\n",
    "not_in_port_stocks"
   ]
  },
  {
   "cell_type": "markdown",
   "metadata": {},
   "source": [
    "## Share Price"
   ]
  },
  {
   "cell_type": "code",
   "execution_count": 13,
   "metadata": {},
   "outputs": [
    {
     "data": {
      "text/html": [
       "<div>\n",
       "<style scoped>\n",
       "    .dataframe tbody tr th:only-of-type {\n",
       "        vertical-align: middle;\n",
       "    }\n",
       "\n",
       "    .dataframe tbody tr th {\n",
       "        vertical-align: top;\n",
       "    }\n",
       "\n",
       "    .dataframe thead th {\n",
       "        text-align: right;\n",
       "    }\n",
       "</style>\n",
       "<table border=\"1\" class=\"dataframe\">\n",
       "  <thead>\n",
       "    <tr style=\"text-align: right;\">\n",
       "      <th></th>\n",
       "      <th>AM</th>\n",
       "      <th>UONE</th>\n",
       "      <th>WKHS</th>\n",
       "      <th>IDEX</th>\n",
       "      <th>VXRT</th>\n",
       "      <th>ZNGA</th>\n",
       "      <th>GNUS</th>\n",
       "      <th>NVDA</th>\n",
       "      <th>SOLO</th>\n",
       "      <th>INO</th>\n",
       "      <th>...</th>\n",
       "      <th>VWAGY</th>\n",
       "      <th>AMRS</th>\n",
       "      <th>DMLRY</th>\n",
       "      <th>RIOT</th>\n",
       "      <th>MARA</th>\n",
       "      <th>SLV</th>\n",
       "      <th>AG</th>\n",
       "      <th>INFY</th>\n",
       "      <th>FUBO</th>\n",
       "      <th>BETZ</th>\n",
       "    </tr>\n",
       "  </thead>\n",
       "  <tbody>\n",
       "    <tr>\n",
       "      <th>price</th>\n",
       "      <td>10.89</td>\n",
       "      <td>7.33</td>\n",
       "      <td>3.915</td>\n",
       "      <td>0.9153</td>\n",
       "      <td>4.66</td>\n",
       "      <td>8.99</td>\n",
       "      <td>0.8345</td>\n",
       "      <td>219.7233</td>\n",
       "      <td>1.97</td>\n",
       "      <td>3.22</td>\n",
       "      <td>...</td>\n",
       "      <td>23.185</td>\n",
       "      <td>4.405</td>\n",
       "      <td>16.88</td>\n",
       "      <td>16.22</td>\n",
       "      <td>22.305</td>\n",
       "      <td>22.9429</td>\n",
       "      <td>13.42</td>\n",
       "      <td>23.155</td>\n",
       "      <td>5.89</td>\n",
       "      <td>18.61</td>\n",
       "    </tr>\n",
       "  </tbody>\n",
       "</table>\n",
       "<p>1 rows × 57 columns</p>\n",
       "</div>"
      ],
      "text/plain": [
       "          AM  UONE   WKHS    IDEX  VXRT  ZNGA    GNUS      NVDA  SOLO   INO  \\\n",
       "price  10.89  7.33  3.915  0.9153  4.66  8.99  0.8345  219.7233  1.97  3.22   \n",
       "\n",
       "       ...   VWAGY   AMRS  DMLRY   RIOT    MARA      SLV     AG    INFY  FUBO  \\\n",
       "price  ...  23.185  4.405  16.88  16.22  22.305  22.9429  13.42  23.155  5.89   \n",
       "\n",
       "        BETZ  \n",
       "price  18.61  \n",
       "\n",
       "[1 rows x 57 columns]"
      ]
     },
     "execution_count": 13,
     "metadata": {},
     "output_type": "execute_result"
    }
   ],
   "source": [
    "share_price={}\n",
    "share_price_values=[float(stocks_dict[ticker]['price']) for ticker in tickers]\n",
    "for i in range(len(tickers)):\n",
    "    ticker=ticker_list[i]\n",
    "    share_price[ticker]=share_price_values[i]\n",
    "share_price=pd.DataFrame(share_price,index=['price'])\n",
    "share_price"
   ]
  },
  {
   "cell_type": "markdown",
   "metadata": {},
   "source": [
    "## Share Quantity"
   ]
  },
  {
   "cell_type": "code",
   "execution_count": 14,
   "metadata": {},
   "outputs": [
    {
     "data": {
      "text/html": [
       "<div>\n",
       "<style scoped>\n",
       "    .dataframe tbody tr th:only-of-type {\n",
       "        vertical-align: middle;\n",
       "    }\n",
       "\n",
       "    .dataframe tbody tr th {\n",
       "        vertical-align: top;\n",
       "    }\n",
       "\n",
       "    .dataframe thead th {\n",
       "        text-align: right;\n",
       "    }\n",
       "</style>\n",
       "<table border=\"1\" class=\"dataframe\">\n",
       "  <thead>\n",
       "    <tr style=\"text-align: right;\">\n",
       "      <th></th>\n",
       "      <th>AM</th>\n",
       "      <th>UONE</th>\n",
       "      <th>WKHS</th>\n",
       "      <th>IDEX</th>\n",
       "      <th>VXRT</th>\n",
       "      <th>ZNGA</th>\n",
       "      <th>GNUS</th>\n",
       "      <th>NVDA</th>\n",
       "      <th>SOLO</th>\n",
       "      <th>INO</th>\n",
       "      <th>...</th>\n",
       "      <th>VWAGY</th>\n",
       "      <th>AMRS</th>\n",
       "      <th>DMLRY</th>\n",
       "      <th>RIOT</th>\n",
       "      <th>MARA</th>\n",
       "      <th>SLV</th>\n",
       "      <th>AG</th>\n",
       "      <th>INFY</th>\n",
       "      <th>FUBO</th>\n",
       "      <th>BETZ</th>\n",
       "    </tr>\n",
       "  </thead>\n",
       "  <tbody>\n",
       "    <tr>\n",
       "      <th>quantity</th>\n",
       "      <td>20.64</td>\n",
       "      <td>58.84</td>\n",
       "      <td>91.84</td>\n",
       "      <td>294.83</td>\n",
       "      <td>74.06</td>\n",
       "      <td>28.12</td>\n",
       "      <td>302.0</td>\n",
       "      <td>0.6065</td>\n",
       "      <td>113.28</td>\n",
       "      <td>61.7</td>\n",
       "      <td>...</td>\n",
       "      <td>8.0</td>\n",
       "      <td>56.92</td>\n",
       "      <td>13.0</td>\n",
       "      <td>17.82</td>\n",
       "      <td>12.99</td>\n",
       "      <td>8.62</td>\n",
       "      <td>21.42</td>\n",
       "      <td>12.68</td>\n",
       "      <td>28.19</td>\n",
       "      <td>9.65</td>\n",
       "    </tr>\n",
       "  </tbody>\n",
       "</table>\n",
       "<p>1 rows × 57 columns</p>\n",
       "</div>"
      ],
      "text/plain": [
       "             AM   UONE   WKHS    IDEX   VXRT   ZNGA   GNUS    NVDA    SOLO  \\\n",
       "quantity  20.64  58.84  91.84  294.83  74.06  28.12  302.0  0.6065  113.28   \n",
       "\n",
       "           INO  ...  VWAGY   AMRS  DMLRY   RIOT   MARA   SLV     AG   INFY  \\\n",
       "quantity  61.7  ...    8.0  56.92   13.0  17.82  12.99  8.62  21.42  12.68   \n",
       "\n",
       "           FUBO  BETZ  \n",
       "quantity  28.19  9.65  \n",
       "\n",
       "[1 rows x 57 columns]"
      ]
     },
     "execution_count": 14,
     "metadata": {},
     "output_type": "execute_result"
    }
   ],
   "source": [
    "share_quantity={}\n",
    "share_quantities=[float(stocks_dict[ticker]['quantity']) for ticker in tickers]\n",
    "for i in range(len(tickers)):\n",
    "    ticker=ticker_list[i]\n",
    "    share_quantity[ticker]=share_quantities[i]\n",
    "share_quantity=pd.DataFrame(share_quantity,index=['quantity'])\n",
    "share_quantity"
   ]
  },
  {
   "cell_type": "markdown",
   "metadata": {},
   "source": [
    "## Total Equity"
   ]
  },
  {
   "cell_type": "code",
   "execution_count": 15,
   "metadata": {},
   "outputs": [
    {
     "name": "stdout",
     "output_type": "stream",
     "text": [
      "Total Stocks equity value is: 14078.268737935\n",
      "Total Common Stocks equity value is: 10401.418737935\n"
     ]
    },
    {
     "data": {
      "text/html": [
       "<div>\n",
       "<style scoped>\n",
       "    .dataframe tbody tr th:only-of-type {\n",
       "        vertical-align: middle;\n",
       "    }\n",
       "\n",
       "    .dataframe tbody tr th {\n",
       "        vertical-align: top;\n",
       "    }\n",
       "\n",
       "    .dataframe thead th {\n",
       "        text-align: right;\n",
       "    }\n",
       "</style>\n",
       "<table border=\"1\" class=\"dataframe\">\n",
       "  <thead>\n",
       "    <tr style=\"text-align: right;\">\n",
       "      <th></th>\n",
       "      <th>GEVO</th>\n",
       "      <th>UONE</th>\n",
       "      <th>DOGE.USD</th>\n",
       "      <th>GSAT</th>\n",
       "      <th>UUUU</th>\n",
       "      <th>WKHS</th>\n",
       "      <th>VXRT</th>\n",
       "      <th>KOSS</th>\n",
       "      <th>GME</th>\n",
       "      <th>MVIS</th>\n",
       "      <th>...</th>\n",
       "      <th>BB</th>\n",
       "      <th>OTIS</th>\n",
       "      <th>TSM</th>\n",
       "      <th>VEGI</th>\n",
       "      <th>SPCE</th>\n",
       "      <th>NVDA</th>\n",
       "      <th>ARKQ</th>\n",
       "      <th>DKS</th>\n",
       "      <th>XPEV</th>\n",
       "      <th>XHB</th>\n",
       "    </tr>\n",
       "  </thead>\n",
       "  <tbody>\n",
       "    <tr>\n",
       "      <th>Equity</th>\n",
       "      <td>442.72</td>\n",
       "      <td>431.3</td>\n",
       "      <td>388.478738</td>\n",
       "      <td>381.74</td>\n",
       "      <td>371.3</td>\n",
       "      <td>359.55</td>\n",
       "      <td>345.12</td>\n",
       "      <td>330.62</td>\n",
       "      <td>329.93</td>\n",
       "      <td>326.31</td>\n",
       "      <td>...</td>\n",
       "      <td>155.09</td>\n",
       "      <td>151.51</td>\n",
       "      <td>146.05</td>\n",
       "      <td>140.99</td>\n",
       "      <td>140.87</td>\n",
       "      <td>133.26</td>\n",
       "      <td>132.61</td>\n",
       "      <td>117.46</td>\n",
       "      <td>116.42</td>\n",
       "      <td>104.11</td>\n",
       "    </tr>\n",
       "  </tbody>\n",
       "</table>\n",
       "<p>1 rows × 58 columns</p>\n",
       "</div>"
      ],
      "text/plain": [
       "          GEVO   UONE    DOGE.USD    GSAT   UUUU    WKHS    VXRT    KOSS  \\\n",
       "Equity  442.72  431.3  388.478738  381.74  371.3  359.55  345.12  330.62   \n",
       "\n",
       "           GME    MVIS  ...      BB    OTIS     TSM    VEGI    SPCE    NVDA  \\\n",
       "Equity  329.93  326.31  ...  155.09  151.51  146.05  140.99  140.87  133.26   \n",
       "\n",
       "          ARKQ     DKS    XPEV     XHB  \n",
       "Equity  132.61  117.46  116.42  104.11  \n",
       "\n",
       "[1 rows x 58 columns]"
      ]
     },
     "execution_count": 15,
     "metadata": {},
     "output_type": "execute_result"
    },
    {
     "data": {
      "image/png": "[encoded data removed]",
      "text/plain": [
       "<Figure size 864x576 with 1 Axes>"
      ]
     },
     "metadata": {
      "needs_background": "light"
     },
     "output_type": "display_data"
    }
   ],
   "source": [
    "equity={}\n",
    "total_equity=0\n",
    "for i in range(len(ticker_list)):\n",
    "    ticker=ticker_list[i]\n",
    "    equity[ticker]=price_list[i]\n",
    "    total_equity=total_equity+equity[ticker]\n",
    "print('Total Stocks equity value is: {}'.format(total_equity))\n",
    "\n",
    "equity_comm={}\n",
    "total_comm_equity=df_allstock_equity.loc['Price',comm_stocks].sum()\n",
    "print('Total Common Stocks equity value is: {}'.format(total_comm_equity))\n",
    "\n",
    "df_equity=pd.DataFrame.from_dict(data=equity,orient='index',columns=['Equity'])\n",
    "df_plot=df_equity.sort_values(by='Equity',axis=0,ascending=False)\n",
    "if df_plot.shape[0]>0:\n",
    "    df_plot.plot(kind='bar',figsize=(12,8))\n",
    "else:\n",
    "    print('no data to plot')\n",
    "df_equity=df_equity.transpose()\n",
    "df_equity.sort_values(by='Equity',axis=1,ascending=False)"
   ]
  },
  {
   "cell_type": "markdown",
   "metadata": {
    "jp-MarkdownHeadingCollapsed": true,
    "tags": []
   },
   "source": [
    "## Equity Change"
   ]
  },
  {
   "cell_type": "code",
   "execution_count": 16,
   "metadata": {},
   "outputs": [
    {
     "name": "stdout",
     "output_type": "stream",
     "text": [
      "Total equity change value is: 94.4268699350001\n",
      "Total Change Percent is: 0.6707278550562079\n",
      "                    UONE        GEVO        GME       UUUU         AG  \\\n",
      "Equity_Change  118.88622  117.837222  60.597384  41.663808  35.347284   \n",
      "\n",
      "                   PLTR   DOGE.USD    GSAT      MRNA     PAAS  ...       XPEV  \\\n",
      "Equity_Change  25.76735  24.478738  21.939  20.43204  18.5394  ... -19.382874   \n",
      "\n",
      "                     GGE      MVIS     GLDG       AMRS          F        AMD  \\\n",
      "Equity_Change -20.951505 -24.47295 -28.9065 -31.584908 -32.011793 -32.114566   \n",
      "\n",
      "                    MARA      SENS       FUBO  \n",
      "Equity_Change -43.577553 -46.49898 -59.991139  \n",
      "\n",
      "[1 rows x 58 columns]\n",
      "Total Common equity change value is: 148.03884793500012\n",
      "Total Common Change Percent is: 1.0776589815786526\n"
     ]
    },
    {
     "data": {
      "image/png": "[encoded data removed]",
      "text/plain": [
       "<Figure size 1296x432 with 1 Axes>"
      ]
     },
     "metadata": {
      "needs_background": "light"
     },
     "output_type": "display_data"
    },
    {
     "data": {
      "image/png": "[encoded data removed]",
      "text/plain": [
       "<Figure size 1296x432 with 1 Axes>"
      ]
     },
     "metadata": {
      "needs_background": "light"
     },
     "output_type": "display_data"
    }
   ],
   "source": [
    "total_equity=np.sum(np.array(price_list))\n",
    "if len(ticker_list)>0:\n",
    "    equity_change={}\n",
    "    total_equity_change=0\n",
    "    equity_change_percent={}\n",
    "    for i in range(len(ticker_list)):\n",
    "        stock=ticker_list[i]\n",
    "        if stock in list(stocks_dict.keys()):\n",
    "            equity_change[stock]=float(stocks_dict[stock]['equity_change'])\n",
    "            equity_change_percent[stock]=float(stocks_dict[stock]['percent_change'])\n",
    "        else:\n",
    "            equity_change[stock]=df_equity.loc['Equity',stock]-df_suggested_equity[stock]\n",
    "            equity_change_percent[stock]=equity_change[stock]/100\n",
    "        total_equity_change=total_equity_change+equity_change[stock]\n",
    "\n",
    "    equity_change_percent=total_equity_change/total_equity*100\n",
    "    df_equity_change=pd.DataFrame.from_dict(data=equity_change,orient='index',columns=['Equity_Change']).transpose()\n",
    "    df_equity_change_ratio=pd.DataFrame(df_equity_change.\n",
    "                                 div(total_equity))\n",
    "    df_equity_change_percent=df_equity_change_ratio*100\n",
    "    df_equity_change_ratio.rename(index={'Equity_Change':'Equity_Change_Ratio'},inplace=True)\n",
    "    df_equity_change_percent.rename(index={'Equity_Change':'Equity_Change_Percent'},inplace=True)\n",
    "    \n",
    "    print('Total equity change value is: {}'.format(total_equity_change))\n",
    "    print('Total Change Percent is: {}'.format(equity_change_percent))\n",
    "    \n",
    "    df_equity_change.sort_values(by='Equity_Change',axis=1,ascending=False).transpose().plot(kind='bar',figsize=(18,6));\n",
    "    print(df_equity_change.sort_values(by='Equity_Change',axis=1,ascending=False))\n",
    "    df_equity_change_percent.sort_values(by='Equity_Change_Percent',axis=1,ascending=False).transpose().plot(kind='bar',figsize=(18,6));\n",
    "\n",
    "    if len(comm_stocks)>0:\n",
    "        equity_comm_change={}\n",
    "        equity_comm_change_percent={}\n",
    "        total_equity_comm_change=0\n",
    "        for i in range(len(comm_stocks)):\n",
    "            comm_stock=comm_stocks[i]\n",
    "            if comm_stock in list(stocks_dict.keys()):\n",
    "                equity_comm_change[comm_stock]=float(stocks_dict[comm_stock]['equity_change'])\n",
    "                equity_comm_change_percent[comm_stock]=float(stocks_dict[comm_stock]['percent_change'])\n",
    "            else:\n",
    "                equity_comm_change[comm_stock]=df_equity.loc['Equity',comm_stock]-df_suggested_equity[comm_stock]\n",
    "                equity_comm_change_percent[comm_stock]=equity_comm_change[comm_stock]/100\n",
    "            total_equity_comm_change=total_equity_comm_change+equity_comm_change[comm_stock]\n",
    "        print('Total Common equity change value is: {}'.format(total_equity_comm_change))\n",
    "\n",
    "\n",
    "        total_equity_comm_change_percent=total_equity_comm_change/total_port_equity*100\n",
    "        print('Total Common Change Percent is: {}'.format(total_equity_comm_change_percent))\n",
    "\n",
    "        df_equity_comm_change=pd.DataFrame.from_dict(data=equity_comm_change,orient='index',columns=['Equity_Comm_Change']).transpose()\n",
    "        df_equity_comm_change_percent=pd.DataFrame.from_dict(data=equity_comm_change_percent,orient='index',columns=['Equity_Comm_Change_Percent']).transpose()\n",
    "        ############################ Plots #####################################\n",
    "        # df_equity_comm_change.sort_values(by='Equity_Comm_Change',axis=1,ascending=False).transpose().plot(kind='bar',figsize=(18,6));\n",
    "        # print(df_equity_comm_change.sort_values(by='Equity_Comm_Change',axis=1,ascending=False))\n",
    "        # df_equity_comm_change_percent.sort_values(by='Equity_Comm_Change_Percent',axis=1,ascending=False).transpose().plot(kind='bar',figsize=(18,6));\n",
    "    else:\n",
    "        print('no common stocks')\n",
    "\n",
    "else:\n",
    "    print('no positions')"
   ]
  },
  {
   "cell_type": "markdown",
   "metadata": {},
   "source": [
    "## Update Stop Loss"
   ]
  },
  {
   "cell_type": "markdown",
   "metadata": {
    "tags": []
   },
   "source": [
    "### Stop Loss Sell Limit Price"
   ]
  },
  {
   "cell_type": "raw",
   "metadata": {},
   "source": [
    "stop_loss_sell_limit_price={}\n",
    "if len(ticker_list)>0:\n",
    "    for i in range(len(ticker_list)):\n",
    "        stock=ticker_list[i]\n",
    "        try:\n",
    "            stop_loss_sell_diff=df_portfolio.loc['price_bound',stock]\n",
    "            limit_price=float(share_price[stock]-stop_loss_sell_diff)\n",
    "            if limit_price<0:\n",
    "                stop_loss_sell_limit_price[stock]=0\n",
    "            else:\n",
    "                stop_loss_sell_limit_price[stock]=limit_price\n",
    "        except Exception as E:\n",
    "            print(stock,': ',E)\n",
    "else:\n",
    "    print('no stocks')\n",
    "stop_loss_sell_limit_price"
   ]
  },
  {
   "cell_type": "markdown",
   "metadata": {},
   "source": [
    "### Cancel Existing Stock Orders"
   ]
  },
  {
   "cell_type": "raw",
   "metadata": {},
   "source": [
    "r.get_all_open_stock_orders()"
   ]
  },
  {
   "cell_type": "raw",
   "metadata": {},
   "source": [
    "r.orders.cancel_all_stock_orders();"
   ]
  },
  {
   "cell_type": "markdown",
   "metadata": {},
   "source": [
    "### Update Stop Loss Sell orders for all stocks"
   ]
  },
  {
   "cell_type": "raw",
   "metadata": {
    "tags": []
   },
   "source": [
    "stop_loss_sell_info={}\n",
    "if len(ticker_list)==0:\n",
    "    print('no common stocks to update stop loss')\n",
    "else:\n",
    "    for i in range(len(ticker_list)):\n",
    "        try:\n",
    "            stock=ticker_list[i]\n",
    "            stock_modified=stock.replace('-','.')\n",
    "            sell_quantity=m.floor(share_quantity[stock])\n",
    "            stop_price=stop_loss_sell_limit_price[stock]\n",
    "            stop_loss_sell_info[stock]=r.orders.order_sell_stop_loss(symbol=stock_modified,\n",
    "                                                                          quantity=sell_quantity,stopPrice=stop_price,timeInForce='gtc');\n",
    "        except Exception as e:\n",
    "            print(stock,': ',e)\n",
    "            continue;\n",
    "stop_loss_sell_info"
   ]
  },
  {
   "cell_type": "markdown",
   "metadata": {},
   "source": [
    "## Sell and Buy Stocks"
   ]
  },
  {
   "cell_type": "markdown",
   "metadata": {},
   "source": [
    "### Sell all portfolio stocks"
   ]
  },
  {
   "cell_type": "raw",
   "metadata": {},
   "source": [
    "for i in range(len(comm_stocks)):\n",
    "    comm_stock=comm_stocks[i]\n",
    "    qty=share_quantity.loc['quantity',comm_stock]\n",
    "    sell_order=r.orders.order_sell_fractional_by_quantity(symbol=comm_stock, \n",
    "                                               quantity=qty, \n",
    "                                               timeInForce='gfd')\n",
    "    if not sell_order['reject_reason']==None:\n",
    "        print(ticker)"
   ]
  },
  {
   "cell_type": "markdown",
   "metadata": {
    "tags": []
   },
   "source": [
    "### Sell all stocks"
   ]
  },
  {
   "cell_type": "raw",
   "metadata": {
    "tags": []
   },
   "source": [
    "stocks_dict=r.account.build_holdings()\n",
    "#print('Stocks are: {}'.format(stocks_dict))\n",
    "tickers=stocks_dict.keys()\n",
    "ticker_list=list(tickers)\n",
    "crypto_ticker_list=[]\n",
    "crypto_holdings_temp=crypto_holdings.copy();\n",
    "for i in range(len(crypto_holdings_temp)):\n",
    "    qty=float(crypto_holdings[i]['cost_bases'][0]['direct_quantity'])\n",
    "    crypto_ticker_list.append(crypto_holdings[i]['currency']['code'])\n",
    "    if qty>0:\n",
    "        crypto=crypto_ticker_list[i]\n",
    "        sell_order=r.orders.order_sell_crypto_by_quantity(symbol=crypto, \n",
    "                                                   quantity=qty, \n",
    "                                                   timeInForce='gtc')\n",
    "        print('Crypto sell orders :',sell_order)\n",
    "    else:\n",
    "        print('no crypto to sell')\n",
    "\n",
    "if len(ticker_list)>0:\n",
    "    for i in range(len(ticker_list)):\n",
    "        ticker=ticker_list[i]\n",
    "        qty=share_quantity.loc['quantity',ticker]\n",
    "        sell_order=r.orders.order_sell_fractional_by_quantity(symbol=ticker, \n",
    "                                                   quantity=qty, \n",
    "                                                   timeInForce='gfd')\n",
    "        print('stocks_sell_prders :',sell_order)\n",
    "else:\n",
    "    print('no stocks to sell')"
   ]
  },
  {
   "cell_type": "markdown",
   "metadata": {
    "tags": []
   },
   "source": [
    "### Buy Portfolio Stocks"
   ]
  },
  {
   "cell_type": "raw",
   "metadata": {
    "tags": []
   },
   "source": [
    "stocks_dict=r.account.build_holdings()\n",
    "#print('Stocks are: {}'.format(stocks_dict))\n",
    "tickers=stocks_dict.keys()\n",
    "ticker_list=list(tickers)\n",
    "###### Get crypto positions #####\n",
    "crypto_holdings=r.get_crypto_positions()\n",
    "### Add crypto position tickers to ticker_list ###\n",
    "for i in range(len(crypto_holdings)):\n",
    "    qty=float(crypto_holdings[i]['cost_bases'][0]['direct_quantity'])\n",
    "    if qty>0:\n",
    "        ticker_list.append(crypto_holdings[i]['currency']['code'])\n",
    "    \n",
    "for i in range(len(df_portfolio.columns)):\n",
    "    ticker_suggested=df_portfolio.columns[i]\n",
    "    ticker_suggested_modified=ticker_suggested.replace('-','.')\n",
    "    ticker_suggested_modified=ticker_suggested_modified.replace('.USD','')\n",
    "    equity=df_portfolio.loc['suggested_investment',ticker_suggested]\n",
    "    if ticker_suggested_modified not in ticker_list:\n",
    "        print('{}:{}'.format(ticker_suggested_modified,equity))\n",
    "        if ticker_suggested_modified in crypto_list:\n",
    "            buy_order=r.orders.order_buy_crypto_by_price(symbol=ticker_suggested_modified,amountInDollars=equity,\n",
    "                                                        )\n",
    "        else:\n",
    "            buy_order=r.orders.order_buy_fractional_by_price(symbol=ticker_suggested_modified, \n",
    "                                                       amountInDollars=equity, \n",
    "                                                       timeInForce='gfd')\n",
    "        print(buy_order)\n",
    "    #if not buy_order['reject_reason']==None:\n",
    "        #print(ticker)"
   ]
  },
  {
   "cell_type": "markdown",
   "metadata": {},
   "source": [
    "#### "
   ]
  }
 ],
 "metadata": {
  "kernelspec": {
   "display_name": "Python 3 (ipykernel)",
   "language": "python",
   "name": "python3"
  },
  "language_info": {
   "codemirror_mode": {
    "name": "ipython",
    "version": 3
   },
   "file_extension": ".py",
   "mimetype": "text/x-python",
   "name": "python",
   "nbconvert_exporter": "python",
   "pygments_lexer": "ipython3",
   "version": "3.9.7"
  }
 },
 "nbformat": 4,
 "nbformat_minor": 4
}
