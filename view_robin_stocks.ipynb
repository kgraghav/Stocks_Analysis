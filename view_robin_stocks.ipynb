{
 "cells": [
  {
   "cell_type": "code",
   "execution_count": 1,
   "metadata": {
    "tags": []
   },
   "outputs": [
    {
     "name": "stdout",
     "output_type": "stream",
     "text": [
      "Requirement already satisfied: robin_stocks in /home/jupyterlab/conda/envs/python/lib/python3.7/site-packages (2.1.0)\n",
      "Requirement already satisfied: python-dotenv in /home/jupyterlab/conda/envs/python/lib/python3.7/site-packages (from robin_stocks) (0.19.2)\n",
      "Requirement already satisfied: pyotp in /home/jupyterlab/conda/envs/python/lib/python3.7/site-packages (from robin_stocks) (2.6.0)\n",
      "Requirement already satisfied: requests in /home/jupyterlab/conda/envs/python/lib/python3.7/site-packages (from robin_stocks) (2.26.0)\n",
      "Requirement already satisfied: cryptography in /home/jupyterlab/conda/envs/python/lib/python3.7/site-packages (from robin_stocks) (36.0.0)\n",
      "Requirement already satisfied: cffi>=1.12 in /home/jupyterlab/conda/envs/python/lib/python3.7/site-packages (from cryptography->robin_stocks) (1.15.0)\n",
      "Requirement already satisfied: certifi>=2017.4.17 in /home/jupyterlab/conda/envs/python/lib/python3.7/site-packages (from requests->robin_stocks) (2021.10.8)\n",
      "Requirement already satisfied: urllib3<1.27,>=1.21.1 in /home/jupyterlab/conda/envs/python/lib/python3.7/site-packages (from requests->robin_stocks) (1.26.7)\n",
      "Requirement already satisfied: idna<4,>=2.5 in /home/jupyterlab/conda/envs/python/lib/python3.7/site-packages (from requests->robin_stocks) (3.1)\n",
      "Requirement already satisfied: charset-normalizer~=2.0.0 in /home/jupyterlab/conda/envs/python/lib/python3.7/site-packages (from requests->robin_stocks) (2.0.8)\n",
      "Requirement already satisfied: pycparser in /home/jupyterlab/conda/envs/python/lib/python3.7/site-packages (from cffi>=1.12->cryptography->robin_stocks) (2.21)\n"
     ]
    }
   ],
   "source": [
    "!pip install robin_stocks\n",
    "import robin_stocks.robinhood as r\n",
    "import pandas as pd\n",
    "import numpy as np\n",
    "import math as m\n",
    "import matplotlib.pyplot as plt"
   ]
  },
  {
   "cell_type": "markdown",
   "metadata": {},
   "source": [
    "Library: [robin_stocks](https://readthedocs.org/projects/robin-stocks/downloads/pdf/latest/)"
   ]
  },
  {
   "cell_type": "markdown",
   "metadata": {},
   "source": [
    "## Authentication and Login"
   ]
  },
  {
   "cell_type": "code",
   "execution_count": 2,
   "metadata": {},
   "outputs": [],
   "source": [
    "login = r.login('kgraghav@mtu.edu','0214@Kgraghavan',store_session=True)"
   ]
  },
  {
   "cell_type": "markdown",
   "metadata": {
    "tags": []
   },
   "source": [
    "## List of Cryptocurrencies available"
   ]
  },
  {
   "cell_type": "code",
   "execution_count": 3,
   "metadata": {},
   "outputs": [],
   "source": [
    "crypto_info=r.crypto.get_crypto_currency_pairs()\n",
    "crypto_list=[]\n",
    "for i in range(len(crypto_info)):\n",
    "    crypto_list.append(crypto_info[i]['asset_currency']['code'])"
   ]
  },
  {
   "cell_type": "markdown",
   "metadata": {},
   "source": [
    "## Read in Portfolio"
   ]
  },
  {
   "cell_type": "code",
   "execution_count": 4,
   "metadata": {},
   "outputs": [
    {
     "data": {
      "text/html": [
       "<div>\n",
       "<style scoped>\n",
       "    .dataframe tbody tr th:only-of-type {\n",
       "        vertical-align: middle;\n",
       "    }\n",
       "\n",
       "    .dataframe tbody tr th {\n",
       "        vertical-align: top;\n",
       "    }\n",
       "\n",
       "    .dataframe thead th {\n",
       "        text-align: right;\n",
       "    }\n",
       "</style>\n",
       "<table border=\"1\" class=\"dataframe\">\n",
       "  <thead>\n",
       "    <tr style=\"text-align: right;\">\n",
       "      <th></th>\n",
       "      <th>GLDG</th>\n",
       "      <th>ZNGA</th>\n",
       "      <th>MRO</th>\n",
       "      <th>SSL</th>\n",
       "      <th>UONE</th>\n",
       "      <th>AM</th>\n",
       "      <th>XLE</th>\n",
       "      <th>SENS</th>\n",
       "      <th>XES</th>\n",
       "      <th>EH</th>\n",
       "      <th>UAL</th>\n",
       "      <th>KSS</th>\n",
       "      <th>BA</th>\n",
       "      <th>KO</th>\n",
       "      <th>H</th>\n",
       "      <th>RTX</th>\n",
       "    </tr>\n",
       "    <tr>\n",
       "      <th>Parameters</th>\n",
       "      <th></th>\n",
       "      <th></th>\n",
       "      <th></th>\n",
       "      <th></th>\n",
       "      <th></th>\n",
       "      <th></th>\n",
       "      <th></th>\n",
       "      <th></th>\n",
       "      <th></th>\n",
       "      <th></th>\n",
       "      <th></th>\n",
       "      <th></th>\n",
       "      <th></th>\n",
       "      <th></th>\n",
       "      <th></th>\n",
       "      <th></th>\n",
       "    </tr>\n",
       "  </thead>\n",
       "  <tbody>\n",
       "    <tr>\n",
       "      <th>lingain</th>\n",
       "      <td>745.903685</td>\n",
       "      <td>1120.516569</td>\n",
       "      <td>738.455581</td>\n",
       "      <td>1052.583243</td>\n",
       "      <td>394.114235</td>\n",
       "      <td>112.723947</td>\n",
       "      <td>583.767893</td>\n",
       "      <td>120.601977</td>\n",
       "      <td>446.719713</td>\n",
       "      <td>166.976153</td>\n",
       "      <td>1.115067e-01</td>\n",
       "      <td>628.923614</td>\n",
       "      <td>18.867742</td>\n",
       "      <td>84.183919</td>\n",
       "      <td>8.733363</td>\n",
       "      <td>216.662031</td>\n",
       "    </tr>\n",
       "    <tr>\n",
       "      <th>score</th>\n",
       "      <td>2.160246</td>\n",
       "      <td>1.470873</td>\n",
       "      <td>1.098717</td>\n",
       "      <td>1.112178</td>\n",
       "      <td>2.483062</td>\n",
       "      <td>3.599598</td>\n",
       "      <td>1.085216</td>\n",
       "      <td>71.067515</td>\n",
       "      <td>1.296309</td>\n",
       "      <td>4.580751</td>\n",
       "      <td>9.285053e+06</td>\n",
       "      <td>1.650875</td>\n",
       "      <td>238.486900</td>\n",
       "      <td>1.733099</td>\n",
       "      <td>985.068292</td>\n",
       "      <td>1.367188</td>\n",
       "    </tr>\n",
       "    <tr>\n",
       "      <th>price_bound</th>\n",
       "      <td>0.373495</td>\n",
       "      <td>2.012926</td>\n",
       "      <td>1.566760</td>\n",
       "      <td>2.354760</td>\n",
       "      <td>0.949218</td>\n",
       "      <td>0.712777</td>\n",
       "      <td>3.898400</td>\n",
       "      <td>1.164989</td>\n",
       "      <td>5.086833</td>\n",
       "      <td>1.918487</td>\n",
       "      <td>6.176693e+00</td>\n",
       "      <td>10.510735</td>\n",
       "      <td>24.089175</td>\n",
       "      <td>1.723856</td>\n",
       "      <td>10.691254</td>\n",
       "      <td>4.563449</td>\n",
       "    </tr>\n",
       "    <tr>\n",
       "      <th>returns_ratio</th>\n",
       "      <td>1997.089853</td>\n",
       "      <td>556.660467</td>\n",
       "      <td>471.326637</td>\n",
       "      <td>447.002324</td>\n",
       "      <td>415.198684</td>\n",
       "      <td>158.147608</td>\n",
       "      <td>149.745519</td>\n",
       "      <td>103.521992</td>\n",
       "      <td>87.818830</td>\n",
       "      <td>87.035335</td>\n",
       "      <td>1.805282e-02</td>\n",
       "      <td>59.836311</td>\n",
       "      <td>0.783246</td>\n",
       "      <td>48.834657</td>\n",
       "      <td>0.816870</td>\n",
       "      <td>47.477692</td>\n",
       "    </tr>\n",
       "    <tr>\n",
       "      <th>weight</th>\n",
       "      <td>0.152382</td>\n",
       "      <td>0.135858</td>\n",
       "      <td>0.120173</td>\n",
       "      <td>0.105329</td>\n",
       "      <td>0.091326</td>\n",
       "      <td>0.078163</td>\n",
       "      <td>0.065840</td>\n",
       "      <td>0.054358</td>\n",
       "      <td>0.043717</td>\n",
       "      <td>0.033916</td>\n",
       "      <td>3.094052e-02</td>\n",
       "      <td>0.024955</td>\n",
       "      <td>0.022251</td>\n",
       "      <td>0.016835</td>\n",
       "      <td>0.014401</td>\n",
       "      <td>0.009556</td>\n",
       "    </tr>\n",
       "    <tr>\n",
       "      <th>suggested_investment</th>\n",
       "      <td>762.064676</td>\n",
       "      <td>679.423372</td>\n",
       "      <td>600.985401</td>\n",
       "      <td>526.750761</td>\n",
       "      <td>456.719453</td>\n",
       "      <td>390.891476</td>\n",
       "      <td>329.266832</td>\n",
       "      <td>271.845519</td>\n",
       "      <td>218.627538</td>\n",
       "      <td>169.612888</td>\n",
       "      <td>1.547335e+02</td>\n",
       "      <td>124.801571</td>\n",
       "      <td>111.274889</td>\n",
       "      <td>84.193585</td>\n",
       "      <td>72.019571</td>\n",
       "      <td>47.788931</td>\n",
       "    </tr>\n",
       "  </tbody>\n",
       "</table>\n",
       "</div>"
      ],
      "text/plain": [
       "                             GLDG         ZNGA         MRO          SSL  \\\n",
       "Parameters                                                                \n",
       "lingain                745.903685  1120.516569  738.455581  1052.583243   \n",
       "score                    2.160246     1.470873    1.098717     1.112178   \n",
       "price_bound              0.373495     2.012926    1.566760     2.354760   \n",
       "returns_ratio         1997.089853   556.660467  471.326637   447.002324   \n",
       "weight                   0.152382     0.135858    0.120173     0.105329   \n",
       "suggested_investment   762.064676   679.423372  600.985401   526.750761   \n",
       "\n",
       "                            UONE          AM         XLE        SENS  \\\n",
       "Parameters                                                             \n",
       "lingain               394.114235  112.723947  583.767893  120.601977   \n",
       "score                   2.483062    3.599598    1.085216   71.067515   \n",
       "price_bound             0.949218    0.712777    3.898400    1.164989   \n",
       "returns_ratio         415.198684  158.147608  149.745519  103.521992   \n",
       "weight                  0.091326    0.078163    0.065840    0.054358   \n",
       "suggested_investment  456.719453  390.891476  329.266832  271.845519   \n",
       "\n",
       "                             XES          EH           UAL         KSS  \\\n",
       "Parameters                                                               \n",
       "lingain               446.719713  166.976153  1.115067e-01  628.923614   \n",
       "score                   1.296309    4.580751  9.285053e+06    1.650875   \n",
       "price_bound             5.086833    1.918487  6.176693e+00   10.510735   \n",
       "returns_ratio          87.818830   87.035335  1.805282e-02   59.836311   \n",
       "weight                  0.043717    0.033916  3.094052e-02    0.024955   \n",
       "suggested_investment  218.627538  169.612888  1.547335e+02  124.801571   \n",
       "\n",
       "                              BA         KO           H         RTX  \n",
       "Parameters                                                           \n",
       "lingain                18.867742  84.183919    8.733363  216.662031  \n",
       "score                 238.486900   1.733099  985.068292    1.367188  \n",
       "price_bound            24.089175   1.723856   10.691254    4.563449  \n",
       "returns_ratio           0.783246  48.834657    0.816870   47.477692  \n",
       "weight                  0.022251   0.016835    0.014401    0.009556  \n",
       "suggested_investment  111.274889  84.193585   72.019571   47.788931  "
      ]
     },
     "execution_count": 4,
     "metadata": {},
     "output_type": "execute_result"
    }
   ],
   "source": [
    "df_portfolio=pd.read_csv('portfolio.csv')\n",
    "df_portfolio.set_index('Parameters',inplace=True)\n",
    "columns_list=df_portfolio.columns.tolist()\n",
    "columns_dict={}\n",
    "for stock in columns_list:\n",
    "    stock_str_rep=stock.replace('-','.')\n",
    "    columns_dict[stock]=stock_str_rep\n",
    "df_portfolio.rename(columns=columns_dict,inplace=True)\n",
    "df_portfolio.sort_values(by='weight',axis=1,ascending=False)"
   ]
  },
  {
   "cell_type": "code",
   "execution_count": 5,
   "metadata": {},
   "outputs": [],
   "source": [
    "port_stocks=df_portfolio.columns.tolist()"
   ]
  },
  {
   "cell_type": "code",
   "execution_count": 6,
   "metadata": {},
   "outputs": [
    {
     "name": "stdout",
     "output_type": "stream",
     "text": [
      "Total suggested equity value is: 5001.0\n"
     ]
    },
    {
     "data": {
      "image/png": "[encoded data removed]",
      "text/plain": [
       "<Figure size 864x576 with 1 Axes>"
      ]
     },
     "metadata": {
      "needs_background": "light"
     },
     "output_type": "display_data"
    }
   ],
   "source": [
    "df_suggested_equity=df_portfolio.loc['suggested_investment',:]\n",
    "df_suggested_equity.transpose().plot(kind='bar',figsize=(12,8));\n",
    "total_port_equity=df_suggested_equity.sum()\n",
    "print('Total suggested equity value is: {}'.format(total_port_equity))\n"
   ]
  },
  {
   "cell_type": "markdown",
   "metadata": {},
   "source": [
    "## Print total stocks value"
   ]
  },
  {
   "cell_type": "code",
   "execution_count": 7,
   "metadata": {},
   "outputs": [
    {
     "name": "stdout",
     "output_type": "stream",
     "text": [
      "['AM', 'UONE', 'ZNGA', 'MSFT', 'TSLA', 'UAL', 'BA', 'GLDG', 'SSL', 'H', 'XLE', 'XES', 'MRO', 'KO', 'KSS', 'RTX', 'SENS', 'EH']\n",
      "0.0\n"
     ]
    }
   ],
   "source": [
    "stocks_dict=r.account.build_holdings()\n",
    "#print('Stocks are: {}'.format(stocks_dict))\n",
    "tickers=stocks_dict.keys()\n",
    "ticker_list=list(tickers)\n",
    "for ticker in ticker_list:\n",
    "    ticker.replace('-','.')\n",
    "print(ticker_list)\n",
    "###### Get crypto positions #####\n",
    "crypto_holdings=r.get_crypto_positions()\n",
    "print(float(crypto_holdings[3]['quantity']))"
   ]
  },
  {
   "cell_type": "code",
   "execution_count": 8,
   "metadata": {},
   "outputs": [],
   "source": [
    "price_list=[float(stocks_dict[ticker]['equity']) for ticker in ticker_list]\n",
    "for i in range(len(crypto_holdings)):\n",
    "    if float(crypto_holdings[i]['quantity'])>0:\n",
    "        crypto_ticker=crypto_holdings[i]['currency']['code'].replace('-USD','')\n",
    "        crypto_qty=float(crypto_holdings[i]['quantity'])\n",
    "        crypto_mark_price=float(r.get_crypto_quote(symbol=crypto_ticker,info='mark_price'))\n",
    "        crypto_price=crypto_qty*crypto_mark_price\n",
    "        price_list.append(crypto_price)\n",
    "        ticker_list.append('{}.USD'.format(crypto_holdings[i]['currency']['code']))"
   ]
  },
  {
   "cell_type": "code",
   "execution_count": 9,
   "metadata": {},
   "outputs": [
    {
     "data": {
      "text/html": [
       "<div>\n",
       "<style scoped>\n",
       "    .dataframe tbody tr th:only-of-type {\n",
       "        vertical-align: middle;\n",
       "    }\n",
       "\n",
       "    .dataframe tbody tr th {\n",
       "        vertical-align: top;\n",
       "    }\n",
       "\n",
       "    .dataframe thead th {\n",
       "        text-align: right;\n",
       "    }\n",
       "</style>\n",
       "<table border=\"1\" class=\"dataframe\">\n",
       "  <thead>\n",
       "    <tr style=\"text-align: right;\">\n",
       "      <th></th>\n",
       "      <th>AM</th>\n",
       "      <th>UONE</th>\n",
       "      <th>ZNGA</th>\n",
       "      <th>MSFT</th>\n",
       "      <th>TSLA</th>\n",
       "      <th>UAL</th>\n",
       "      <th>BA</th>\n",
       "      <th>GLDG</th>\n",
       "      <th>SSL</th>\n",
       "      <th>H</th>\n",
       "      <th>XLE</th>\n",
       "      <th>XES</th>\n",
       "      <th>MRO</th>\n",
       "      <th>KO</th>\n",
       "      <th>KSS</th>\n",
       "      <th>RTX</th>\n",
       "      <th>SENS</th>\n",
       "      <th>EH</th>\n",
       "    </tr>\n",
       "  </thead>\n",
       "  <tbody>\n",
       "    <tr>\n",
       "      <th>Price</th>\n",
       "      <td>386.71</td>\n",
       "      <td>466.48</td>\n",
       "      <td>677.94</td>\n",
       "      <td>2004.44</td>\n",
       "      <td>503.27</td>\n",
       "      <td>155.57</td>\n",
       "      <td>112.0</td>\n",
       "      <td>738.98</td>\n",
       "      <td>527.11</td>\n",
       "      <td>72.87</td>\n",
       "      <td>328.92</td>\n",
       "      <td>219.39</td>\n",
       "      <td>613.25</td>\n",
       "      <td>83.1</td>\n",
       "      <td>123.91</td>\n",
       "      <td>47.77</td>\n",
       "      <td>268.49</td>\n",
       "      <td>172.74</td>\n",
       "    </tr>\n",
       "  </tbody>\n",
       "</table>\n",
       "</div>"
      ],
      "text/plain": [
       "           AM    UONE    ZNGA     MSFT    TSLA     UAL     BA    GLDG     SSL  \\\n",
       "Price  386.71  466.48  677.94  2004.44  503.27  155.57  112.0  738.98  527.11   \n",
       "\n",
       "           H     XLE     XES     MRO    KO     KSS    RTX    SENS      EH  \n",
       "Price  72.87  328.92  219.39  613.25  83.1  123.91  47.77  268.49  172.74  "
      ]
     },
     "execution_count": 9,
     "metadata": {},
     "output_type": "execute_result"
    }
   ],
   "source": [
    "######## Equity of stocks #################\n",
    "df_allstock_equity=pd.DataFrame(index=['Price'],columns=ticker_list);\n",
    "df_allstock_equity.loc['Price',:]=price_list;\n",
    "allstock_equity_cols=df_allstock_equity.columns.tolist()\n",
    "df_allstock_equity"
   ]
  },
  {
   "cell_type": "markdown",
   "metadata": {},
   "source": [
    "## Stocks common to portfolio and investment"
   ]
  },
  {
   "cell_type": "code",
   "execution_count": 10,
   "metadata": {},
   "outputs": [
    {
     "name": "stdout",
     "output_type": "stream",
     "text": [
      "Stocks common to recommended and actual portfolio:  ['MRO', 'ZNGA', 'KSS', 'H', 'AM', 'XLE', 'EH', 'KO', 'UONE', 'XES', 'GLDG', 'SENS', 'RTX', 'UAL', 'SSL', 'BA']\n"
     ]
    }
   ],
   "source": [
    "comm_stocks=list(set(port_stocks).intersection(set(ticker_list)))\n",
    "print('Stocks common to recommended and actual portfolio: ',comm_stocks)\n",
    "port_stocks=[stock.replace('-','.') for stock in port_stocks]"
   ]
  },
  {
   "cell_type": "markdown",
   "metadata": {},
   "source": [
    "## Stocks not common"
   ]
  },
  {
   "cell_type": "markdown",
   "metadata": {},
   "source": [
    "### Stock in recommended portfolio but not in actual portfolio"
   ]
  },
  {
   "cell_type": "code",
   "execution_count": 11,
   "metadata": {},
   "outputs": [
    {
     "data": {
      "text/plain": [
       "[]"
      ]
     },
     "execution_count": 11,
     "metadata": {},
     "output_type": "execute_result"
    }
   ],
   "source": [
    "not_in_ticker_list=[stock for stock in port_stocks if stock not in ticker_list]\n",
    "not_in_ticker_list"
   ]
  },
  {
   "cell_type": "markdown",
   "metadata": {},
   "source": [
    "### Stock in  actual portfolio but not in recommended portfolio"
   ]
  },
  {
   "cell_type": "code",
   "execution_count": 12,
   "metadata": {},
   "outputs": [
    {
     "data": {
      "text/plain": [
       "['MSFT', 'TSLA']"
      ]
     },
     "execution_count": 12,
     "metadata": {},
     "output_type": "execute_result"
    }
   ],
   "source": [
    "not_in_port_stocks=[ticker for ticker in ticker_list if ticker not in port_stocks]\n",
    "not_in_port_stocks"
   ]
  },
  {
   "cell_type": "markdown",
   "metadata": {},
   "source": [
    "## Share Price"
   ]
  },
  {
   "cell_type": "code",
   "execution_count": 13,
   "metadata": {},
   "outputs": [
    {
     "data": {
      "text/html": [
       "<div>\n",
       "<style scoped>\n",
       "    .dataframe tbody tr th:only-of-type {\n",
       "        vertical-align: middle;\n",
       "    }\n",
       "\n",
       "    .dataframe tbody tr th {\n",
       "        vertical-align: top;\n",
       "    }\n",
       "\n",
       "    .dataframe thead th {\n",
       "        text-align: right;\n",
       "    }\n",
       "</style>\n",
       "<table border=\"1\" class=\"dataframe\">\n",
       "  <thead>\n",
       "    <tr style=\"text-align: right;\">\n",
       "      <th></th>\n",
       "      <th>AM</th>\n",
       "      <th>UONE</th>\n",
       "      <th>ZNGA</th>\n",
       "      <th>MSFT</th>\n",
       "      <th>TSLA</th>\n",
       "      <th>UAL</th>\n",
       "      <th>BA</th>\n",
       "      <th>GLDG</th>\n",
       "      <th>SSL</th>\n",
       "      <th>H</th>\n",
       "      <th>XLE</th>\n",
       "      <th>XES</th>\n",
       "      <th>MRO</th>\n",
       "      <th>KO</th>\n",
       "      <th>KSS</th>\n",
       "      <th>RTX</th>\n",
       "      <th>SENS</th>\n",
       "      <th>EH</th>\n",
       "    </tr>\n",
       "  </thead>\n",
       "  <tbody>\n",
       "    <tr>\n",
       "      <th>price</th>\n",
       "      <td>10.11</td>\n",
       "      <td>5.73</td>\n",
       "      <td>8.99</td>\n",
       "      <td>294.735</td>\n",
       "      <td>909.179</td>\n",
       "      <td>50.51</td>\n",
       "      <td>217.85</td>\n",
       "      <td>1.6</td>\n",
       "      <td>22.335</td>\n",
       "      <td>107.85</td>\n",
       "      <td>69.1</td>\n",
       "      <td>64.15</td>\n",
       "      <td>21.375</td>\n",
       "      <td>60.655</td>\n",
       "      <td>59.5719</td>\n",
       "      <td>94.6766</td>\n",
       "      <td>2.005</td>\n",
       "      <td>16.82</td>\n",
       "    </tr>\n",
       "  </tbody>\n",
       "</table>\n",
       "</div>"
      ],
      "text/plain": [
       "          AM  UONE  ZNGA     MSFT     TSLA    UAL      BA  GLDG     SSL  \\\n",
       "price  10.11  5.73  8.99  294.735  909.179  50.51  217.85   1.6  22.335   \n",
       "\n",
       "            H   XLE    XES     MRO      KO      KSS      RTX   SENS     EH  \n",
       "price  107.85  69.1  64.15  21.375  60.655  59.5719  94.6766  2.005  16.82  "
      ]
     },
     "execution_count": 13,
     "metadata": {},
     "output_type": "execute_result"
    }
   ],
   "source": [
    "share_price={}\n",
    "share_price_values=[float(stocks_dict[ticker]['price']) for ticker in tickers]\n",
    "for i in range(len(tickers)):\n",
    "    ticker=ticker_list[i]\n",
    "    share_price[ticker]=share_price_values[i]\n",
    "share_price=pd.DataFrame(share_price,index=['price'])\n",
    "share_price"
   ]
  },
  {
   "cell_type": "markdown",
   "metadata": {},
   "source": [
    "## Share Quantity"
   ]
  },
  {
   "cell_type": "code",
   "execution_count": 14,
   "metadata": {},
   "outputs": [
    {
     "data": {
      "text/html": [
       "<div>\n",
       "<style scoped>\n",
       "    .dataframe tbody tr th:only-of-type {\n",
       "        vertical-align: middle;\n",
       "    }\n",
       "\n",
       "    .dataframe tbody tr th {\n",
       "        vertical-align: top;\n",
       "    }\n",
       "\n",
       "    .dataframe thead th {\n",
       "        text-align: right;\n",
       "    }\n",
       "</style>\n",
       "<table border=\"1\" class=\"dataframe\">\n",
       "  <thead>\n",
       "    <tr style=\"text-align: right;\">\n",
       "      <th></th>\n",
       "      <th>AM</th>\n",
       "      <th>UONE</th>\n",
       "      <th>ZNGA</th>\n",
       "      <th>MSFT</th>\n",
       "      <th>TSLA</th>\n",
       "      <th>UAL</th>\n",
       "      <th>BA</th>\n",
       "      <th>GLDG</th>\n",
       "      <th>SSL</th>\n",
       "      <th>H</th>\n",
       "      <th>XLE</th>\n",
       "      <th>XES</th>\n",
       "      <th>MRO</th>\n",
       "      <th>KO</th>\n",
       "      <th>KSS</th>\n",
       "      <th>RTX</th>\n",
       "      <th>SENS</th>\n",
       "      <th>EH</th>\n",
       "    </tr>\n",
       "  </thead>\n",
       "  <tbody>\n",
       "    <tr>\n",
       "      <th>quantity</th>\n",
       "      <td>38.25</td>\n",
       "      <td>81.41</td>\n",
       "      <td>75.41</td>\n",
       "      <td>6.800827</td>\n",
       "      <td>0.553545</td>\n",
       "      <td>3.08</td>\n",
       "      <td>0.5141</td>\n",
       "      <td>461.86</td>\n",
       "      <td>23.6</td>\n",
       "      <td>0.6757</td>\n",
       "      <td>4.76</td>\n",
       "      <td>3.42</td>\n",
       "      <td>28.69</td>\n",
       "      <td>1.37</td>\n",
       "      <td>2.08</td>\n",
       "      <td>0.5046</td>\n",
       "      <td>133.91</td>\n",
       "      <td>10.27</td>\n",
       "    </tr>\n",
       "  </tbody>\n",
       "</table>\n",
       "</div>"
      ],
      "text/plain": [
       "             AM   UONE   ZNGA      MSFT      TSLA   UAL      BA    GLDG   SSL  \\\n",
       "quantity  38.25  81.41  75.41  6.800827  0.553545  3.08  0.5141  461.86  23.6   \n",
       "\n",
       "               H   XLE   XES    MRO    KO   KSS     RTX    SENS     EH  \n",
       "quantity  0.6757  4.76  3.42  28.69  1.37  2.08  0.5046  133.91  10.27  "
      ]
     },
     "execution_count": 14,
     "metadata": {},
     "output_type": "execute_result"
    }
   ],
   "source": [
    "share_quantity={}\n",
    "share_quantities=[float(stocks_dict[ticker]['quantity']) for ticker in tickers]\n",
    "for i in range(len(tickers)):\n",
    "    ticker=ticker_list[i]\n",
    "    share_quantity[ticker]=share_quantities[i]\n",
    "share_quantity=pd.DataFrame(share_quantity,index=['quantity'])\n",
    "share_quantity"
   ]
  },
  {
   "cell_type": "markdown",
   "metadata": {},
   "source": [
    "## Total Equity"
   ]
  },
  {
   "cell_type": "code",
   "execution_count": 15,
   "metadata": {},
   "outputs": [
    {
     "name": "stdout",
     "output_type": "stream",
     "text": [
      "Total Stocks equity value is: 7502.94\n",
      "Total Common Stocks equity value is: 4995.23\n"
     ]
    },
    {
     "data": {
      "text/html": [
       "<div>\n",
       "<style scoped>\n",
       "    .dataframe tbody tr th:only-of-type {\n",
       "        vertical-align: middle;\n",
       "    }\n",
       "\n",
       "    .dataframe tbody tr th {\n",
       "        vertical-align: top;\n",
       "    }\n",
       "\n",
       "    .dataframe thead th {\n",
       "        text-align: right;\n",
       "    }\n",
       "</style>\n",
       "<table border=\"1\" class=\"dataframe\">\n",
       "  <thead>\n",
       "    <tr style=\"text-align: right;\">\n",
       "      <th></th>\n",
       "      <th>MSFT</th>\n",
       "      <th>GLDG</th>\n",
       "      <th>ZNGA</th>\n",
       "      <th>MRO</th>\n",
       "      <th>SSL</th>\n",
       "      <th>TSLA</th>\n",
       "      <th>UONE</th>\n",
       "      <th>AM</th>\n",
       "      <th>XLE</th>\n",
       "      <th>SENS</th>\n",
       "      <th>XES</th>\n",
       "      <th>EH</th>\n",
       "      <th>UAL</th>\n",
       "      <th>KSS</th>\n",
       "      <th>BA</th>\n",
       "      <th>KO</th>\n",
       "      <th>H</th>\n",
       "      <th>RTX</th>\n",
       "    </tr>\n",
       "  </thead>\n",
       "  <tbody>\n",
       "    <tr>\n",
       "      <th>Equity</th>\n",
       "      <td>2004.44</td>\n",
       "      <td>738.98</td>\n",
       "      <td>677.94</td>\n",
       "      <td>613.25</td>\n",
       "      <td>527.11</td>\n",
       "      <td>503.27</td>\n",
       "      <td>466.48</td>\n",
       "      <td>386.71</td>\n",
       "      <td>328.92</td>\n",
       "      <td>268.49</td>\n",
       "      <td>219.39</td>\n",
       "      <td>172.74</td>\n",
       "      <td>155.57</td>\n",
       "      <td>123.91</td>\n",
       "      <td>112.0</td>\n",
       "      <td>83.1</td>\n",
       "      <td>72.87</td>\n",
       "      <td>47.77</td>\n",
       "    </tr>\n",
       "  </tbody>\n",
       "</table>\n",
       "</div>"
      ],
      "text/plain": [
       "           MSFT    GLDG    ZNGA     MRO     SSL    TSLA    UONE      AM  \\\n",
       "Equity  2004.44  738.98  677.94  613.25  527.11  503.27  466.48  386.71   \n",
       "\n",
       "           XLE    SENS     XES      EH     UAL     KSS     BA    KO      H  \\\n",
       "Equity  328.92  268.49  219.39  172.74  155.57  123.91  112.0  83.1  72.87   \n",
       "\n",
       "          RTX  \n",
       "Equity  47.77  "
      ]
     },
     "execution_count": 15,
     "metadata": {},
     "output_type": "execute_result"
    },
    {
     "data": {
      "image/png": "[encoded data removed]",
      "text/plain": [
       "<Figure size 864x576 with 1 Axes>"
      ]
     },
     "metadata": {
      "needs_background": "light"
     },
     "output_type": "display_data"
    }
   ],
   "source": [
    "equity={}\n",
    "total_equity=0\n",
    "for i in range(len(ticker_list)):\n",
    "    ticker=ticker_list[i]\n",
    "    equity[ticker]=price_list[i]\n",
    "    total_equity=total_equity+equity[ticker]\n",
    "print('Total Stocks equity value is: {}'.format(total_equity))\n",
    "\n",
    "equity_comm={}\n",
    "total_comm_equity=df_allstock_equity.loc['Price',comm_stocks].sum()\n",
    "print('Total Common Stocks equity value is: {}'.format(total_comm_equity))\n",
    "\n",
    "df_equity=pd.DataFrame.from_dict(data=equity,orient='index',columns=['Equity'])\n",
    "df_plot=df_equity.sort_values(by='Equity',axis=0,ascending=False)\n",
    "if df_plot.shape[0]>0:\n",
    "    df_plot.plot(kind='bar',figsize=(12,8))\n",
    "else:\n",
    "    print('no data to plot')\n",
    "df_equity=df_equity.transpose()\n",
    "df_equity.sort_values(by='Equity',axis=1,ascending=False)"
   ]
  },
  {
   "cell_type": "markdown",
   "metadata": {},
   "source": [
    "## Equity Change"
   ]
  },
  {
   "cell_type": "code",
   "execution_count": 16,
   "metadata": {},
   "outputs": [
    {
     "name": "stdout",
     "output_type": "stream",
     "text": [
      "Total Common equity change value is: -5.769999999999726\n",
      "Total Common Change Percent is: -0.11537692461507151\n",
      "                          MRO      UONE        EH         H       UAL  \\\n",
      "Equity_Comm_Change  12.264599  9.760547  3.127112  0.850429  0.836462   \n",
      "\n",
      "                         XES        BA       SSL       RTX       XLE  \\\n",
      "Equity_Comm_Change  0.762462  0.725111  0.359239 -0.018931 -0.346832   \n",
      "\n",
      "                         KSS        KO      ZNGA      SENS        AM  \\\n",
      "Equity_Comm_Change -0.891571 -1.093585 -1.483372 -3.355519 -4.181476   \n",
      "\n",
      "                         GLDG  \n",
      "Equity_Comm_Change -23.084676  \n"
     ]
    },
    {
     "data": {
      "image/png": "[encoded data removed]",
      "text/plain": [
       "<Figure size 1296x432 with 1 Axes>"
      ]
     },
     "metadata": {
      "needs_background": "light"
     },
     "output_type": "display_data"
    },
    {
     "data": {
      "image/png": "[encoded data removed]",
      "text/plain": [
       "<Figure size 1296x432 with 1 Axes>"
      ]
     },
     "metadata": {
      "needs_background": "light"
     },
     "output_type": "display_data"
    }
   ],
   "source": [
    "if len(ticker_list)>0:\n",
    "    equity_change={}\n",
    "    total_port_equity_change=0\n",
    "    for i in range(len(ticker_list)):\n",
    "        stock=ticker_list[i]\n",
    "        if stock in df_equity.columns.tolist() and stock in df_suggested_equity.index.tolist():\n",
    "            equity_change[stock]=df_equity.loc['Equity',stock]-df_suggested_equity[stock]\n",
    "            total_port_equity_change=total_port_equity_change+equity_change[stock]\n",
    "\n",
    "    equity_change_percent=total_port_equity_change/total_port_equity*100\n",
    "    df_equity_change=pd.DataFrame.from_dict(data=equity_change,orient='index',columns=['Equity_Change']).transpose()\n",
    "    df_equity_change_ratio=pd.DataFrame(df_equity_change.\n",
    "                                 div(df_suggested_equity))\n",
    "    df_equity_change_percent=df_equity_change_ratio*100\n",
    "    df_equity_change_ratio.rename(index={'Equity_Change':'Equity_Change_Ratio'},inplace=True)\n",
    "    df_equity_change_percent.rename(index={'Equity_Change':'Equity_Change_Percent'},inplace=True)\n",
    "\n",
    "    if len(comm_stocks)>0:\n",
    "        equity_comm_change={}\n",
    "        total_equity_comm_change=0\n",
    "        for i in range(len(comm_stocks)):\n",
    "            comm_stock=comm_stocks[i]\n",
    "            equity_comm_change[comm_stock]=df_equity.loc['Equity',comm_stock]-df_suggested_equity[comm_stock]\n",
    "            total_equity_comm_change=total_equity_comm_change+equity_comm_change[comm_stock]\n",
    "        print('Total Common equity change value is: {}'.format(total_equity_comm_change))\n",
    "\n",
    "\n",
    "        equity_comm_change_percent=total_equity_comm_change/total_port_equity*100\n",
    "        print('Total Common Change Percent is: {}'.format(equity_comm_change_percent))\n",
    "\n",
    "        df_equity_comm_change=pd.DataFrame.from_dict(data=equity_comm_change,orient='index',columns=['Equity_Comm_Change']).transpose()\n",
    "        df_equity_comm_change_ratio=pd.DataFrame(df_equity_comm_change.\n",
    "                                         div(df_suggested_equity))\n",
    "        df_equity_comm_change_percent=df_equity_comm_change_ratio*100\n",
    "        df_equity_comm_change_ratio.rename(index={'Equity_Comm_Change':'Equity_Comm_Change_Ratio'},inplace=True)\n",
    "        df_equity_comm_change_percent.rename(index={'Equity_Comm_Change':'Equity_Comm_Change_Percent'},inplace=True)\n",
    "        ############################ Plots #####################################\n",
    "        df_equity_comm_change.sort_values(by='Equity_Comm_Change',axis=1,ascending=False).transpose().plot(kind='bar',figsize=(18,6));\n",
    "        print(df_equity_comm_change.sort_values(by='Equity_Comm_Change',axis=1,ascending=False))\n",
    "        df_equity_comm_change_percent.sort_values(by='Equity_Comm_Change_Percent',axis=1,ascending=False).transpose().plot(kind='bar',figsize=(18,6));\n",
    "    else:\n",
    "        print('no common stocks')\n",
    "\n",
    "else:\n",
    "    print('no positions')"
   ]
  },
  {
   "cell_type": "markdown",
   "metadata": {},
   "source": [
    "## Update Stop Loss"
   ]
  },
  {
   "cell_type": "markdown",
   "metadata": {},
   "source": [
    "### Stop Loss Sell Limit Price"
   ]
  },
  {
   "cell_type": "raw",
   "metadata": {},
   "source": [
    "stop_loss_sell_limit_price={}\n",
    "if len(comm_stocks)>0:\n",
    "    for i in range(len(comm_stocks)):\n",
    "        stock=comm_stocks[i]\n",
    "        try:\n",
    "            stop_loss_sell_diff=df_portfolio.loc['price_bound',stock]\n",
    "            limit_price=float(share_price[stock]-stop_loss_sell_diff)\n",
    "            if limit_price<0:\n",
    "                stop_loss_sell_limit_price[stock]=0\n",
    "            else:\n",
    "                stop_loss_sell_limit_price[stock]=limit_price\n",
    "        except:\n",
    "            print(stock)\n",
    "else:\n",
    "    print('no common stocks')\n",
    "stop_loss_sell_limit_price"
   ]
  },
  {
   "cell_type": "markdown",
   "metadata": {},
   "source": [
    "### Cancel Existing Stock Orders"
   ]
  },
  {
   "cell_type": "raw",
   "metadata": {},
   "source": [
    "r.get_all_open_stock_orders()"
   ]
  },
  {
   "cell_type": "raw",
   "metadata": {},
   "source": [
    "r.orders.cancel_all_stock_orders();"
   ]
  },
  {
   "cell_type": "markdown",
   "metadata": {},
   "source": [
    "### Update Stop Loss Sell orders for all stocks"
   ]
  },
  {
   "cell_type": "raw",
   "metadata": {
    "tags": []
   },
   "source": [
    "stop_loss_sell_info={}\n",
    "if len(comm_stocks)==0:\n",
    "    print('no common stocks to update stop loss')\n",
    "else:\n",
    "    for i in range(len(comm_stocks)):\n",
    "        comm_stock=comm_stocks[i]\n",
    "        comm_stock_modified=comm_stock.replace('-','.')\n",
    "        sell_quantity=m.floor(share_quantity[comm_stock])\n",
    "        stop_price=stop_loss_sell_limit_price[comm_stock]\n",
    "        stop_loss_sell_info[comm_stock]=r.orders.order_sell_stop_loss(symbol=comm_stock_modified,\n",
    "                                                                      quantity=sell_quantity,stopPrice=stop_price,timeInForce='gtc')\n",
    "stop_loss_sell_info"
   ]
  },
  {
   "cell_type": "markdown",
   "metadata": {},
   "source": [
    "## Sell and Buy Stocks"
   ]
  },
  {
   "cell_type": "markdown",
   "metadata": {},
   "source": [
    "### Sell all portfolio stocks"
   ]
  },
  {
   "cell_type": "raw",
   "metadata": {},
   "source": [
    "for i in range(len(comm_stocks)):\n",
    "    comm_stock=comm_stocks[i]\n",
    "    qty=share_quantity.loc['quantity',comm_stock]\n",
    "    sell_order=r.orders.order_sell_fractional_by_quantity(symbol=comm_stock, \n",
    "                                               quantity=qty, \n",
    "                                               timeInForce='gfd')\n",
    "    if not sell_order['reject_reason']==None:\n",
    "        print(ticker)"
   ]
  },
  {
   "cell_type": "markdown",
   "metadata": {
    "tags": []
   },
   "source": [
    "### Sell all stocks"
   ]
  },
  {
   "cell_type": "raw",
   "metadata": {
    "tags": []
   },
   "source": [
    "stocks_dict=r.account.build_holdings()\n",
    "#print('Stocks are: {}'.format(stocks_dict))\n",
    "tickers=stocks_dict.keys()\n",
    "ticker_list=list(tickers)\n",
    "crypto_ticker_list=[]\n",
    "crypto_holdings_temp=crypto_holdings.copy();\n",
    "for i in range(len(crypto_holdings_temp)):\n",
    "    qty=float(crypto_holdings[i]['cost_bases'][0]['direct_quantity'])\n",
    "    crypto_ticker_list.append(crypto_holdings[i]['currency']['code'])\n",
    "    if qty>0:\n",
    "        crypto=crypto_ticker_list[i]\n",
    "        sell_order=r.orders.order_sell_crypto_by_quantity(symbol=crypto, \n",
    "                                                   quantity=qty, \n",
    "                                                   timeInForce='gtc')\n",
    "        print('Crypto sell orders :',sell_order)\n",
    "    else:\n",
    "        print('no crypto to sell')\n",
    "\n",
    "if len(ticker_list)>0:\n",
    "    for i in range(len(ticker_list)):\n",
    "        ticker=ticker_list[i]\n",
    "        qty=share_quantity.loc['quantity',ticker]\n",
    "        sell_order=r.orders.order_sell_fractional_by_quantity(symbol=ticker, \n",
    "                                                   quantity=qty, \n",
    "                                                   timeInForce='gfd')\n",
    "        print('stocks_sell_prders :',sell_order)\n",
    "else:\n",
    "    print('no stocks to sell')"
   ]
  },
  {
   "cell_type": "markdown",
   "metadata": {
    "tags": []
   },
   "source": [
    "### Buy Portfolio Stocks"
   ]
  },
  {
   "cell_type": "raw",
   "metadata": {
    "tags": []
   },
   "source": [
    "stocks_dict=r.account.build_holdings()\n",
    "#print('Stocks are: {}'.format(stocks_dict))\n",
    "tickers=stocks_dict.keys()\n",
    "ticker_list=list(tickers)\n",
    "###### Get crypto positions #####\n",
    "crypto_holdings=r.get_crypto_positions()\n",
    "### Add crypto position tickers to ticker_list ###\n",
    "for i in range(len(crypto_holdings)):\n",
    "    qty=float(crypto_holdings[i]['cost_bases'][0]['direct_quantity'])\n",
    "    if qty>0:\n",
    "        ticker_list.append(crypto_holdings[i]['currency']['code'])\n",
    "    \n",
    "for i in range(len(df_portfolio.columns)):\n",
    "    ticker_suggested=df_portfolio.columns[i]\n",
    "    ticker_suggested_modified=ticker_suggested.replace('-','.')\n",
    "    ticker_suggested_modified=ticker_suggested_modified.replace('.USD','')\n",
    "    equity=df_portfolio.loc['suggested_investment',ticker_suggested]\n",
    "    if ticker_suggested_modified not in ticker_list:\n",
    "        print('{}:{}'.format(ticker_suggested_modified,equity))\n",
    "        if ticker_suggested_modified in crypto_list:\n",
    "            buy_order=r.orders.order_buy_crypto_by_price(symbol=ticker_suggested_modified,amountInDollars=equity,\n",
    "                                                        )\n",
    "        else:\n",
    "            buy_order=r.orders.order_buy_fractional_by_price(symbol=ticker_suggested_modified, \n",
    "                                                       amountInDollars=equity, \n",
    "                                                       timeInForce='gfd')\n",
    "        print(buy_order)\n",
    "    #if not buy_order['reject_reason']==None:\n",
    "        #print(ticker)"
   ]
  },
  {
   "cell_type": "markdown",
   "metadata": {},
   "source": [
    "#### "
   ]
  }
 ],
 "metadata": {
  "kernelspec": {
   "display_name": "Python",
   "language": "python",
   "name": "conda-env-python-py"
  },
  "language_info": {
   "codemirror_mode": {
    "name": "ipython",
    "version": 3
   },
   "file_extension": ".py",
   "mimetype": "text/x-python",
   "name": "python",
   "nbconvert_exporter": "python",
   "pygments_lexer": "ipython3",
   "version": "3.7.12"
  }
 },
 "nbformat": 4,
 "nbformat_minor": 4
}
