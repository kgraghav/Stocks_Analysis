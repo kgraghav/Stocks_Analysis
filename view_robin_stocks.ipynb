{
 "cells": [
  {
   "cell_type": "code",
   "execution_count": 1,
   "metadata": {
    "tags": []
   },
   "outputs": [
    {
     "name": "stdout",
     "output_type": "stream",
     "text": [
      "Requirement already satisfied: robin_stocks in /home/jupyterlab/conda/envs/python/lib/python3.7/site-packages (2.1.0)\n",
      "Requirement already satisfied: python-dotenv in /home/jupyterlab/conda/envs/python/lib/python3.7/site-packages (from robin_stocks) (0.19.2)\n",
      "Requirement already satisfied: pyotp in /home/jupyterlab/conda/envs/python/lib/python3.7/site-packages (from robin_stocks) (2.6.0)\n",
      "Requirement already satisfied: requests in /home/jupyterlab/conda/envs/python/lib/python3.7/site-packages (from robin_stocks) (2.26.0)\n",
      "Requirement already satisfied: cryptography in /home/jupyterlab/conda/envs/python/lib/python3.7/site-packages (from robin_stocks) (36.0.0)\n",
      "Requirement already satisfied: cffi>=1.12 in /home/jupyterlab/conda/envs/python/lib/python3.7/site-packages (from cryptography->robin_stocks) (1.15.0)\n",
      "Requirement already satisfied: certifi>=2017.4.17 in /home/jupyterlab/conda/envs/python/lib/python3.7/site-packages (from requests->robin_stocks) (2021.10.8)\n",
      "Requirement already satisfied: urllib3<1.27,>=1.21.1 in /home/jupyterlab/conda/envs/python/lib/python3.7/site-packages (from requests->robin_stocks) (1.26.7)\n",
      "Requirement already satisfied: idna<4,>=2.5 in /home/jupyterlab/conda/envs/python/lib/python3.7/site-packages (from requests->robin_stocks) (3.1)\n",
      "Requirement already satisfied: charset-normalizer~=2.0.0 in /home/jupyterlab/conda/envs/python/lib/python3.7/site-packages (from requests->robin_stocks) (2.0.8)\n",
      "Requirement already satisfied: pycparser in /home/jupyterlab/conda/envs/python/lib/python3.7/site-packages (from cffi>=1.12->cryptography->robin_stocks) (2.21)\n"
     ]
    }
   ],
   "source": [
    "!pip install robin_stocks\n",
    "import robin_stocks.robinhood as r\n",
    "import pandas as pd\n",
    "import numpy as np\n",
    "import math as m\n",
    "import matplotlib.pyplot as plt"
   ]
  },
  {
   "cell_type": "markdown",
   "metadata": {},
   "source": [
    "Library: [robin_stocks](https://readthedocs.org/projects/robin-stocks/downloads/pdf/latest/)"
   ]
  },
  {
   "cell_type": "markdown",
   "metadata": {},
   "source": [
    "## Authentication and Login"
   ]
  },
  {
   "cell_type": "code",
   "execution_count": 2,
   "metadata": {},
   "outputs": [],
   "source": [
    "login = r.login('kgraghav@mtu.edu','0214@Kgraghavan',store_session=True)"
   ]
  },
  {
   "cell_type": "markdown",
   "metadata": {
    "tags": []
   },
   "source": [
    "## List of Cryptocurrencies available"
   ]
  },
  {
   "cell_type": "code",
   "execution_count": 3,
   "metadata": {},
   "outputs": [],
   "source": [
    "crypto_info=r.crypto.get_crypto_currency_pairs()\n",
    "crypto_list=[]\n",
    "for i in range(len(crypto_info)):\n",
    "    crypto_list.append(crypto_info[i]['asset_currency']['code'])"
   ]
  },
  {
   "cell_type": "markdown",
   "metadata": {},
   "source": [
    "## Read in Portfolio"
   ]
  },
  {
   "cell_type": "code",
   "execution_count": 4,
   "metadata": {},
   "outputs": [
    {
     "data": {
      "text/html": [
       "<div>\n",
       "<style scoped>\n",
       "    .dataframe tbody tr th:only-of-type {\n",
       "        vertical-align: middle;\n",
       "    }\n",
       "\n",
       "    .dataframe tbody tr th {\n",
       "        vertical-align: top;\n",
       "    }\n",
       "\n",
       "    .dataframe thead th {\n",
       "        text-align: right;\n",
       "    }\n",
       "</style>\n",
       "<table border=\"1\" class=\"dataframe\">\n",
       "  <thead>\n",
       "    <tr style=\"text-align: right;\">\n",
       "      <th></th>\n",
       "      <th>FCEL</th>\n",
       "      <th>TSLA</th>\n",
       "      <th>MRNA</th>\n",
       "      <th>NVDA</th>\n",
       "      <th>AMD</th>\n",
       "      <th>AAPL</th>\n",
       "      <th>INO</th>\n",
       "      <th>MSFT</th>\n",
       "      <th>PAAS</th>\n",
       "      <th>SPCE</th>\n",
       "      <th>...</th>\n",
       "      <th>ARKG</th>\n",
       "      <th>NFLX</th>\n",
       "      <th>AMZN</th>\n",
       "      <th>ARKK</th>\n",
       "      <th>QQQ</th>\n",
       "      <th>XLK</th>\n",
       "      <th>IEF</th>\n",
       "      <th>SOXX</th>\n",
       "      <th>GOVT</th>\n",
       "      <th>NIO</th>\n",
       "    </tr>\n",
       "    <tr>\n",
       "      <th>Parameters</th>\n",
       "      <th></th>\n",
       "      <th></th>\n",
       "      <th></th>\n",
       "      <th></th>\n",
       "      <th></th>\n",
       "      <th></th>\n",
       "      <th></th>\n",
       "      <th></th>\n",
       "      <th></th>\n",
       "      <th></th>\n",
       "      <th></th>\n",
       "      <th></th>\n",
       "      <th></th>\n",
       "      <th></th>\n",
       "      <th></th>\n",
       "      <th></th>\n",
       "      <th></th>\n",
       "      <th></th>\n",
       "      <th></th>\n",
       "      <th></th>\n",
       "      <th></th>\n",
       "    </tr>\n",
       "  </thead>\n",
       "  <tbody>\n",
       "    <tr>\n",
       "      <th>reward</th>\n",
       "      <td>313.176175</td>\n",
       "      <td>217.710025</td>\n",
       "      <td>221.754867</td>\n",
       "      <td>163.856043</td>\n",
       "      <td>166.605813</td>\n",
       "      <td>118.633281</td>\n",
       "      <td>152.010969</td>\n",
       "      <td>89.574679</td>\n",
       "      <td>116.988870</td>\n",
       "      <td>183.516317</td>\n",
       "      <td>...</td>\n",
       "      <td>81.421826</td>\n",
       "      <td>80.944206</td>\n",
       "      <td>71.713480</td>\n",
       "      <td>72.066669</td>\n",
       "      <td>58.646598</td>\n",
       "      <td>61.026616</td>\n",
       "      <td>37.573204</td>\n",
       "      <td>62.256834</td>\n",
       "      <td>32.206418</td>\n",
       "      <td>88.518306</td>\n",
       "    </tr>\n",
       "    <tr>\n",
       "      <th>risk</th>\n",
       "      <td>1.381594</td>\n",
       "      <td>1.207319</td>\n",
       "      <td>1.478382</td>\n",
       "      <td>1.128912</td>\n",
       "      <td>1.235212</td>\n",
       "      <td>1.298055</td>\n",
       "      <td>1.729082</td>\n",
       "      <td>1.254931</td>\n",
       "      <td>1.675276</td>\n",
       "      <td>3.052411</td>\n",
       "      <td>...</td>\n",
       "      <td>2.043021</td>\n",
       "      <td>2.204634</td>\n",
       "      <td>1.960728</td>\n",
       "      <td>2.152841</td>\n",
       "      <td>1.767085</td>\n",
       "      <td>1.840039</td>\n",
       "      <td>1.271031</td>\n",
       "      <td>2.233625</td>\n",
       "      <td>1.258355</td>\n",
       "      <td>3.517537</td>\n",
       "    </tr>\n",
       "    <tr>\n",
       "      <th>returns_ratio</th>\n",
       "      <td>226.677508</td>\n",
       "      <td>180.325154</td>\n",
       "      <td>149.998405</td>\n",
       "      <td>145.145045</td>\n",
       "      <td>134.880333</td>\n",
       "      <td>91.393131</td>\n",
       "      <td>87.914240</td>\n",
       "      <td>71.378196</td>\n",
       "      <td>69.832610</td>\n",
       "      <td>60.121753</td>\n",
       "      <td>...</td>\n",
       "      <td>39.853646</td>\n",
       "      <td>36.715484</td>\n",
       "      <td>36.574923</td>\n",
       "      <td>33.475147</td>\n",
       "      <td>33.188320</td>\n",
       "      <td>33.165934</td>\n",
       "      <td>29.561199</td>\n",
       "      <td>27.872551</td>\n",
       "      <td>25.594055</td>\n",
       "      <td>25.164857</td>\n",
       "    </tr>\n",
       "    <tr>\n",
       "      <th>weight</th>\n",
       "      <td>0.099704</td>\n",
       "      <td>0.079316</td>\n",
       "      <td>0.065977</td>\n",
       "      <td>0.063842</td>\n",
       "      <td>0.059327</td>\n",
       "      <td>0.040199</td>\n",
       "      <td>0.038669</td>\n",
       "      <td>0.031396</td>\n",
       "      <td>0.030716</td>\n",
       "      <td>0.026444</td>\n",
       "      <td>...</td>\n",
       "      <td>0.017530</td>\n",
       "      <td>0.016149</td>\n",
       "      <td>0.016087</td>\n",
       "      <td>0.014724</td>\n",
       "      <td>0.014598</td>\n",
       "      <td>0.014588</td>\n",
       "      <td>0.013002</td>\n",
       "      <td>0.012260</td>\n",
       "      <td>0.011258</td>\n",
       "      <td>0.011069</td>\n",
       "    </tr>\n",
       "    <tr>\n",
       "      <th>price_bound</th>\n",
       "      <td>1.287320</td>\n",
       "      <td>63.032470</td>\n",
       "      <td>28.996914</td>\n",
       "      <td>16.427897</td>\n",
       "      <td>12.516330</td>\n",
       "      <td>17.224159</td>\n",
       "      <td>10.299373</td>\n",
       "      <td>26.739999</td>\n",
       "      <td>8.470091</td>\n",
       "      <td>12.648753</td>\n",
       "      <td>...</td>\n",
       "      <td>12.591985</td>\n",
       "      <td>119.028697</td>\n",
       "      <td>570.969878</td>\n",
       "      <td>15.859678</td>\n",
       "      <td>37.198929</td>\n",
       "      <td>17.000672</td>\n",
       "      <td>6.919617</td>\n",
       "      <td>54.432019</td>\n",
       "      <td>1.315372</td>\n",
       "      <td>3.192472</td>\n",
       "    </tr>\n",
       "    <tr>\n",
       "      <th>suggested_investment</th>\n",
       "      <td>698.025932</td>\n",
       "      <td>555.289473</td>\n",
       "      <td>461.901922</td>\n",
       "      <td>446.956589</td>\n",
       "      <td>415.347652</td>\n",
       "      <td>281.434079</td>\n",
       "      <td>270.721256</td>\n",
       "      <td>219.800511</td>\n",
       "      <td>215.041067</td>\n",
       "      <td>185.137658</td>\n",
       "      <td>...</td>\n",
       "      <td>122.724477</td>\n",
       "      <td>113.060885</td>\n",
       "      <td>112.628045</td>\n",
       "      <td>103.082661</td>\n",
       "      <td>102.199411</td>\n",
       "      <td>102.130478</td>\n",
       "      <td>91.030132</td>\n",
       "      <td>85.830146</td>\n",
       "      <td>78.813794</td>\n",
       "      <td>77.492130</td>\n",
       "    </tr>\n",
       "  </tbody>\n",
       "</table>\n",
       "<p>6 rows × 31 columns</p>\n",
       "</div>"
      ],
      "text/plain": [
       "                            FCEL        TSLA        MRNA        NVDA  \\\n",
       "Parameters                                                             \n",
       "reward                313.176175  217.710025  221.754867  163.856043   \n",
       "risk                    1.381594    1.207319    1.478382    1.128912   \n",
       "returns_ratio         226.677508  180.325154  149.998405  145.145045   \n",
       "weight                  0.099704    0.079316    0.065977    0.063842   \n",
       "price_bound             1.287320   63.032470   28.996914   16.427897   \n",
       "suggested_investment  698.025932  555.289473  461.901922  446.956589   \n",
       "\n",
       "                             AMD        AAPL         INO        MSFT  \\\n",
       "Parameters                                                             \n",
       "reward                166.605813  118.633281  152.010969   89.574679   \n",
       "risk                    1.235212    1.298055    1.729082    1.254931   \n",
       "returns_ratio         134.880333   91.393131   87.914240   71.378196   \n",
       "weight                  0.059327    0.040199    0.038669    0.031396   \n",
       "price_bound            12.516330   17.224159   10.299373   26.739999   \n",
       "suggested_investment  415.347652  281.434079  270.721256  219.800511   \n",
       "\n",
       "                            PAAS        SPCE  ...        ARKG        NFLX  \\\n",
       "Parameters                                    ...                           \n",
       "reward                116.988870  183.516317  ...   81.421826   80.944206   \n",
       "risk                    1.675276    3.052411  ...    2.043021    2.204634   \n",
       "returns_ratio          69.832610   60.121753  ...   39.853646   36.715484   \n",
       "weight                  0.030716    0.026444  ...    0.017530    0.016149   \n",
       "price_bound             8.470091   12.648753  ...   12.591985  119.028697   \n",
       "suggested_investment  215.041067  185.137658  ...  122.724477  113.060885   \n",
       "\n",
       "                            AMZN        ARKK         QQQ         XLK  \\\n",
       "Parameters                                                             \n",
       "reward                 71.713480   72.066669   58.646598   61.026616   \n",
       "risk                    1.960728    2.152841    1.767085    1.840039   \n",
       "returns_ratio          36.574923   33.475147   33.188320   33.165934   \n",
       "weight                  0.016087    0.014724    0.014598    0.014588   \n",
       "price_bound           570.969878   15.859678   37.198929   17.000672   \n",
       "suggested_investment  112.628045  103.082661  102.199411  102.130478   \n",
       "\n",
       "                            IEF       SOXX       GOVT        NIO  \n",
       "Parameters                                                        \n",
       "reward                37.573204  62.256834  32.206418  88.518306  \n",
       "risk                   1.271031   2.233625   1.258355   3.517537  \n",
       "returns_ratio         29.561199  27.872551  25.594055  25.164857  \n",
       "weight                 0.013002   0.012260   0.011258   0.011069  \n",
       "price_bound            6.919617  54.432019   1.315372   3.192472  \n",
       "suggested_investment  91.030132  85.830146  78.813794  77.492130  \n",
       "\n",
       "[6 rows x 31 columns]"
      ]
     },
     "execution_count": 4,
     "metadata": {},
     "output_type": "execute_result"
    }
   ],
   "source": [
    "df_portfolio=pd.read_csv('portfolio.csv')\n",
    "df_portfolio.set_index('Parameters',inplace=True)\n",
    "columns_list=df_portfolio.columns.tolist()\n",
    "columns_dict={}\n",
    "for stock in columns_list:\n",
    "    stock_str_rep=stock.replace('-','.')\n",
    "    columns_dict[stock]=stock_str_rep\n",
    "df_portfolio.rename(columns=columns_dict,inplace=True)\n",
    "df_portfolio.sort_values(by='weight',axis=1,ascending=False)"
   ]
  },
  {
   "cell_type": "code",
   "execution_count": 5,
   "metadata": {},
   "outputs": [],
   "source": [
    "port_stocks=df_portfolio.columns.tolist()"
   ]
  },
  {
   "cell_type": "code",
   "execution_count": 6,
   "metadata": {},
   "outputs": [
    {
     "name": "stdout",
     "output_type": "stream",
     "text": [
      "Total suggested equity value is: 6348.778218868155\n"
     ]
    },
    {
     "data": {
      "image/png": "[encoded data removed]",
      "text/plain": [
       "<Figure size 864x576 with 1 Axes>"
      ]
     },
     "metadata": {
      "needs_background": "light"
     },
     "output_type": "display_data"
    }
   ],
   "source": [
    "df_suggested_equity=df_portfolio.loc['suggested_investment',:]\n",
    "df_suggested_equity.transpose().plot(kind='bar',figsize=(12,8));\n",
    "total_port_equity=df_suggested_equity.sum()\n",
    "print('Total suggested equity value is: {}'.format(total_port_equity))\n"
   ]
  },
  {
   "cell_type": "markdown",
   "metadata": {},
   "source": [
    "## Print total stocks value"
   ]
  },
  {
   "cell_type": "code",
   "execution_count": 7,
   "metadata": {},
   "outputs": [
    {
     "name": "stdout",
     "output_type": "stream",
     "text": [
      "['VXRT', 'ZNGA', 'MSFT', 'NVDA', 'INO', 'NIO', 'TSLA', 'AMD', 'AAPL', 'NFLX', 'GLD', 'MRNA', 'GLDG', 'AMZN', 'PAAS', 'SPCE', 'TSM', 'INTC', 'ARKK', 'ARKG', 'GOVT', 'CLX', 'ARKQ', 'DG', 'CARR', 'FCEL', 'QQQ', 'XLK', 'IEF', 'SOXX', 'IAU']\n",
      "0.0\n"
     ]
    }
   ],
   "source": [
    "stocks_dict=r.account.build_holdings()\n",
    "#print('Stocks are: {}'.format(stocks_dict))\n",
    "tickers=stocks_dict.keys()\n",
    "ticker_list=list(tickers)\n",
    "for ticker in ticker_list:\n",
    "    ticker.replace('-','.')\n",
    "print(ticker_list)\n",
    "###### Get crypto positions #####\n",
    "crypto_holdings=r.get_crypto_positions()\n",
    "print(float(crypto_holdings[3]['quantity']))"
   ]
  },
  {
   "cell_type": "code",
   "execution_count": 8,
   "metadata": {},
   "outputs": [],
   "source": [
    "price_list=[float(stocks_dict[ticker]['equity']) for ticker in ticker_list]\n",
    "for i in range(len(crypto_holdings)):\n",
    "    if float(crypto_holdings[i]['quantity'])>0:\n",
    "        crypto_ticker=crypto_holdings[i]['currency']['code'].replace('-USD','')\n",
    "        crypto_qty=float(crypto_holdings[i]['quantity'])\n",
    "        crypto_mark_price=float(r.get_crypto_quote(symbol=crypto_ticker,info='mark_price'))\n",
    "        crypto_price=crypto_qty*crypto_mark_price\n",
    "        price_list.append(crypto_price)\n",
    "        ticker_list.append('{}.USD'.format(crypto_holdings[i]['currency']['code']))"
   ]
  },
  {
   "cell_type": "markdown",
   "metadata": {},
   "source": [
    "## Stocks common to portfolio and investment"
   ]
  },
  {
   "cell_type": "code",
   "execution_count": 9,
   "metadata": {},
   "outputs": [
    {
     "name": "stdout",
     "output_type": "stream",
     "text": [
      "Stocks common to recommended and actual portfolio:  ['GLD', 'AMD', 'TSM', 'PAAS', 'TSLA', 'INO', 'CLX', 'XLK', 'SOXX', 'IAU', 'ARKQ', 'NIO', 'NVDA', 'QQQ', 'MSFT', 'VXRT', 'SPCE', 'INTC', 'ZNGA', 'DG', 'CARR', 'MRNA', 'FCEL', 'GOVT', 'IEF', 'ARKG', 'AMZN', 'NFLX', 'GLDG', 'AAPL', 'ARKK']\n"
     ]
    }
   ],
   "source": [
    "comm_stocks=list(set(port_stocks).intersection(set(ticker_list)))\n",
    "print('Stocks common to recommended and actual portfolio: ',comm_stocks)\n",
    "port_stocks=[stock.replace('-','.') for stock in port_stocks]"
   ]
  },
  {
   "cell_type": "markdown",
   "metadata": {},
   "source": [
    "## Stocks not common"
   ]
  },
  {
   "cell_type": "markdown",
   "metadata": {},
   "source": [
    "### Stock in recommended portfolio but not in actual portfolio"
   ]
  },
  {
   "cell_type": "code",
   "execution_count": 10,
   "metadata": {},
   "outputs": [
    {
     "data": {
      "text/plain": [
       "[]"
      ]
     },
     "execution_count": 10,
     "metadata": {},
     "output_type": "execute_result"
    }
   ],
   "source": [
    "not_in_ticker_list=[stock for stock in port_stocks if stock not in ticker_list]\n",
    "not_in_ticker_list"
   ]
  },
  {
   "cell_type": "markdown",
   "metadata": {},
   "source": [
    "### Stock in  actual portfolio but not in recommended portfolio"
   ]
  },
  {
   "cell_type": "code",
   "execution_count": 11,
   "metadata": {},
   "outputs": [
    {
     "data": {
      "text/plain": [
       "[]"
      ]
     },
     "execution_count": 11,
     "metadata": {},
     "output_type": "execute_result"
    }
   ],
   "source": [
    "not_in_port_stocks=[ticker for ticker in ticker_list if ticker not in port_stocks]\n",
    "not_in_port_stocks"
   ]
  },
  {
   "cell_type": "markdown",
   "metadata": {},
   "source": [
    "## Share Price"
   ]
  },
  {
   "cell_type": "code",
   "execution_count": 12,
   "metadata": {},
   "outputs": [
    {
     "data": {
      "text/html": [
       "<div>\n",
       "<style scoped>\n",
       "    .dataframe tbody tr th:only-of-type {\n",
       "        vertical-align: middle;\n",
       "    }\n",
       "\n",
       "    .dataframe tbody tr th {\n",
       "        vertical-align: top;\n",
       "    }\n",
       "\n",
       "    .dataframe thead th {\n",
       "        text-align: right;\n",
       "    }\n",
       "</style>\n",
       "<table border=\"1\" class=\"dataframe\">\n",
       "  <thead>\n",
       "    <tr style=\"text-align: right;\">\n",
       "      <th></th>\n",
       "      <th>VXRT</th>\n",
       "      <th>ZNGA</th>\n",
       "      <th>MSFT</th>\n",
       "      <th>NVDA</th>\n",
       "      <th>INO</th>\n",
       "      <th>NIO</th>\n",
       "      <th>TSLA</th>\n",
       "      <th>AMD</th>\n",
       "      <th>AAPL</th>\n",
       "      <th>NFLX</th>\n",
       "      <th>...</th>\n",
       "      <th>CLX</th>\n",
       "      <th>ARKQ</th>\n",
       "      <th>DG</th>\n",
       "      <th>CARR</th>\n",
       "      <th>FCEL</th>\n",
       "      <th>QQQ</th>\n",
       "      <th>XLK</th>\n",
       "      <th>IEF</th>\n",
       "      <th>SOXX</th>\n",
       "      <th>IAU</th>\n",
       "    </tr>\n",
       "  </thead>\n",
       "  <tbody>\n",
       "    <tr>\n",
       "      <th>price</th>\n",
       "      <td>4.775</td>\n",
       "      <td>9.175</td>\n",
       "      <td>306.52</td>\n",
       "      <td>240.9979</td>\n",
       "      <td>3.73</td>\n",
       "      <td>23.84</td>\n",
       "      <td>914.3516</td>\n",
       "      <td>121.76</td>\n",
       "      <td>172.279</td>\n",
       "      <td>406.145</td>\n",
       "      <td>...</td>\n",
       "      <td>140.92</td>\n",
       "      <td>63.97</td>\n",
       "      <td>201.85</td>\n",
       "      <td>45.69</td>\n",
       "      <td>4.265</td>\n",
       "      <td>356.78</td>\n",
       "      <td>159.21</td>\n",
       "      <td>111.23</td>\n",
       "      <td>471.88</td>\n",
       "      <td>34.3465</td>\n",
       "    </tr>\n",
       "  </tbody>\n",
       "</table>\n",
       "<p>1 rows × 31 columns</p>\n",
       "</div>"
      ],
      "text/plain": [
       "        VXRT   ZNGA    MSFT      NVDA   INO    NIO      TSLA     AMD     AAPL  \\\n",
       "price  4.775  9.175  306.52  240.9979  3.73  23.84  914.3516  121.76  172.279   \n",
       "\n",
       "          NFLX  ...     CLX   ARKQ      DG   CARR   FCEL     QQQ     XLK  \\\n",
       "price  406.145  ...  140.92  63.97  201.85  45.69  4.265  356.78  159.21   \n",
       "\n",
       "          IEF    SOXX      IAU  \n",
       "price  111.23  471.88  34.3465  \n",
       "\n",
       "[1 rows x 31 columns]"
      ]
     },
     "execution_count": 12,
     "metadata": {},
     "output_type": "execute_result"
    }
   ],
   "source": [
    "share_price={}\n",
    "share_price_values=[float(stocks_dict[ticker]['price']) for ticker in tickers]\n",
    "for i in range(len(tickers)):\n",
    "    ticker=ticker_list[i]\n",
    "    share_price[ticker]=share_price_values[i]\n",
    "share_price=pd.DataFrame(share_price,index=['price'])\n",
    "share_price"
   ]
  },
  {
   "cell_type": "markdown",
   "metadata": {},
   "source": [
    "## Share Quantity"
   ]
  },
  {
   "cell_type": "code",
   "execution_count": 13,
   "metadata": {},
   "outputs": [
    {
     "data": {
      "text/html": [
       "<div>\n",
       "<style scoped>\n",
       "    .dataframe tbody tr th:only-of-type {\n",
       "        vertical-align: middle;\n",
       "    }\n",
       "\n",
       "    .dataframe tbody tr th {\n",
       "        vertical-align: top;\n",
       "    }\n",
       "\n",
       "    .dataframe thead th {\n",
       "        text-align: right;\n",
       "    }\n",
       "</style>\n",
       "<table border=\"1\" class=\"dataframe\">\n",
       "  <thead>\n",
       "    <tr style=\"text-align: right;\">\n",
       "      <th></th>\n",
       "      <th>VXRT</th>\n",
       "      <th>ZNGA</th>\n",
       "      <th>MSFT</th>\n",
       "      <th>NVDA</th>\n",
       "      <th>INO</th>\n",
       "      <th>NIO</th>\n",
       "      <th>TSLA</th>\n",
       "      <th>AMD</th>\n",
       "      <th>AAPL</th>\n",
       "      <th>NFLX</th>\n",
       "      <th>...</th>\n",
       "      <th>CLX</th>\n",
       "      <th>ARKQ</th>\n",
       "      <th>DG</th>\n",
       "      <th>CARR</th>\n",
       "      <th>FCEL</th>\n",
       "      <th>QQQ</th>\n",
       "      <th>XLK</th>\n",
       "      <th>IEF</th>\n",
       "      <th>SOXX</th>\n",
       "      <th>IAU</th>\n",
       "    </tr>\n",
       "  </thead>\n",
       "  <tbody>\n",
       "    <tr>\n",
       "      <th>quantity</th>\n",
       "      <td>30.11</td>\n",
       "      <td>16.3</td>\n",
       "      <td>0.7203</td>\n",
       "      <td>1.85</td>\n",
       "      <td>73.37</td>\n",
       "      <td>3.24</td>\n",
       "      <td>0.6137</td>\n",
       "      <td>3.41</td>\n",
       "      <td>1.63</td>\n",
       "      <td>0.2817</td>\n",
       "      <td>...</td>\n",
       "      <td>1.07</td>\n",
       "      <td>1.95</td>\n",
       "      <td>0.7236</td>\n",
       "      <td>3.46</td>\n",
       "      <td>162.33</td>\n",
       "      <td>0.2865</td>\n",
       "      <td>0.6421</td>\n",
       "      <td>0.8185</td>\n",
       "      <td>0.1816</td>\n",
       "      <td>4.31</td>\n",
       "    </tr>\n",
       "  </tbody>\n",
       "</table>\n",
       "<p>1 rows × 31 columns</p>\n",
       "</div>"
      ],
      "text/plain": [
       "           VXRT  ZNGA    MSFT  NVDA    INO   NIO    TSLA   AMD  AAPL    NFLX  \\\n",
       "quantity  30.11  16.3  0.7203  1.85  73.37  3.24  0.6137  3.41  1.63  0.2817   \n",
       "\n",
       "          ...   CLX  ARKQ      DG  CARR    FCEL     QQQ     XLK     IEF  \\\n",
       "quantity  ...  1.07  1.95  0.7236  3.46  162.33  0.2865  0.6421  0.8185   \n",
       "\n",
       "            SOXX   IAU  \n",
       "quantity  0.1816  4.31  \n",
       "\n",
       "[1 rows x 31 columns]"
      ]
     },
     "execution_count": 13,
     "metadata": {},
     "output_type": "execute_result"
    }
   ],
   "source": [
    "share_quantity={}\n",
    "share_quantities=[float(stocks_dict[ticker]['quantity']) for ticker in tickers]\n",
    "for i in range(len(tickers)):\n",
    "    ticker=ticker_list[i]\n",
    "    share_quantity[ticker]=share_quantities[i]\n",
    "share_quantity=pd.DataFrame(share_quantity,index=['quantity'])\n",
    "share_quantity"
   ]
  },
  {
   "cell_type": "markdown",
   "metadata": {},
   "source": [
    "## Total Equity"
   ]
  },
  {
   "cell_type": "code",
   "execution_count": 14,
   "metadata": {},
   "outputs": [
    {
     "name": "stdout",
     "output_type": "stream",
     "text": [
      "Total Stocks equity value is: 6350.239999999999\n",
      "Total Common Stocks equity value is: 6350.239999999999\n"
     ]
    },
    {
     "data": {
      "text/html": [
       "<div>\n",
       "<style scoped>\n",
       "    .dataframe tbody tr th:only-of-type {\n",
       "        vertical-align: middle;\n",
       "    }\n",
       "\n",
       "    .dataframe tbody tr th {\n",
       "        vertical-align: top;\n",
       "    }\n",
       "\n",
       "    .dataframe thead th {\n",
       "        text-align: right;\n",
       "    }\n",
       "</style>\n",
       "<table border=\"1\" class=\"dataframe\">\n",
       "  <thead>\n",
       "    <tr style=\"text-align: right;\">\n",
       "      <th></th>\n",
       "      <th>FCEL</th>\n",
       "      <th>TSLA</th>\n",
       "      <th>MRNA</th>\n",
       "      <th>NVDA</th>\n",
       "      <th>AMD</th>\n",
       "      <th>AAPL</th>\n",
       "      <th>INO</th>\n",
       "      <th>MSFT</th>\n",
       "      <th>PAAS</th>\n",
       "      <th>SPCE</th>\n",
       "      <th>...</th>\n",
       "      <th>ARKG</th>\n",
       "      <th>NFLX</th>\n",
       "      <th>AMZN</th>\n",
       "      <th>ARKK</th>\n",
       "      <th>XLK</th>\n",
       "      <th>QQQ</th>\n",
       "      <th>IEF</th>\n",
       "      <th>SOXX</th>\n",
       "      <th>GOVT</th>\n",
       "      <th>NIO</th>\n",
       "    </tr>\n",
       "  </thead>\n",
       "  <tbody>\n",
       "    <tr>\n",
       "      <th>Equity</th>\n",
       "      <td>692.34</td>\n",
       "      <td>561.14</td>\n",
       "      <td>462.33</td>\n",
       "      <td>445.85</td>\n",
       "      <td>415.2</td>\n",
       "      <td>280.81</td>\n",
       "      <td>273.67</td>\n",
       "      <td>220.79</td>\n",
       "      <td>213.74</td>\n",
       "      <td>183.86</td>\n",
       "      <td>...</td>\n",
       "      <td>122.09</td>\n",
       "      <td>114.41</td>\n",
       "      <td>113.49</td>\n",
       "      <td>103.49</td>\n",
       "      <td>102.23</td>\n",
       "      <td>102.22</td>\n",
       "      <td>91.04</td>\n",
       "      <td>85.69</td>\n",
       "      <td>78.73</td>\n",
       "      <td>77.24</td>\n",
       "    </tr>\n",
       "  </tbody>\n",
       "</table>\n",
       "<p>1 rows × 31 columns</p>\n",
       "</div>"
      ],
      "text/plain": [
       "          FCEL    TSLA    MRNA    NVDA    AMD    AAPL     INO    MSFT    PAAS  \\\n",
       "Equity  692.34  561.14  462.33  445.85  415.2  280.81  273.67  220.79  213.74   \n",
       "\n",
       "          SPCE  ...    ARKG    NFLX    AMZN    ARKK     XLK     QQQ    IEF  \\\n",
       "Equity  183.86  ...  122.09  114.41  113.49  103.49  102.23  102.22  91.04   \n",
       "\n",
       "         SOXX   GOVT    NIO  \n",
       "Equity  85.69  78.73  77.24  \n",
       "\n",
       "[1 rows x 31 columns]"
      ]
     },
     "execution_count": 14,
     "metadata": {},
     "output_type": "execute_result"
    },
    {
     "data": {
      "image/png": "[encoded data removed]",
      "text/plain": [
       "<Figure size 864x576 with 1 Axes>"
      ]
     },
     "metadata": {
      "needs_background": "light"
     },
     "output_type": "display_data"
    }
   ],
   "source": [
    "equity={}\n",
    "total_equity=0\n",
    "for i in range(len(ticker_list)):\n",
    "    ticker=ticker_list[i]\n",
    "    equity[ticker]=price_list[i]\n",
    "    total_equity=total_equity+equity[ticker]\n",
    "print('Total Stocks equity value is: {}'.format(total_equity))\n",
    "\n",
    "equity_comm={}\n",
    "total_comm_equity=0\n",
    "for i in range(len(comm_stocks)):\n",
    "    ticker=comm_stocks[i]\n",
    "    equity_comm[ticker]=price_list[i]\n",
    "    total_comm_equity=total_comm_equity+equity_comm[ticker]\n",
    "print('Total Common Stocks equity value is: {}'.format(total_comm_equity))\n",
    "\n",
    "df_equity=pd.DataFrame.from_dict(data=equity,orient='index',columns=['Equity'])\n",
    "df_plot=df_equity.sort_values(by='Equity',axis=0,ascending=False)\n",
    "if df_plot.shape[0]>0:\n",
    "    df_plot.plot(kind='bar',figsize=(12,8))\n",
    "else:\n",
    "    print('no data to plot')\n",
    "df_equity=df_equity.transpose()\n",
    "df_equity.sort_values(by='Equity',axis=1,ascending=False)"
   ]
  },
  {
   "cell_type": "markdown",
   "metadata": {},
   "source": [
    "## Equity Change"
   ]
  },
  {
   "cell_type": "code",
   "execution_count": 15,
   "metadata": {},
   "outputs": [
    {
     "name": "stdout",
     "output_type": "stream",
     "text": [
      "Total Common equity change value is: 1.461781131845953\n",
      "Total Common Change Percent is: 0.023024605387878174\n",
      "                        TSLA       INO      NFLX      MSFT      AMZN  \\\n",
      "Equity_Comm_Change  5.850527  2.948744  1.349115  0.989489  0.861955   \n",
      "\n",
      "                        CARR       DG       TSM      MRNA      ARKK  ...  \\\n",
      "Equity_Comm_Change  0.699323  0.64611  0.622343  0.428078  0.407339  ...   \n",
      "\n",
      "                        NIO      GLDG      INTC      AAPL      ARKG      NVDA  \\\n",
      "Equity_Comm_Change -0.25213 -0.320037 -0.448744 -0.624079 -0.634477 -1.106589   \n",
      "\n",
      "                        SPCE      PAAS       CLX      FCEL  \n",
      "Equity_Comm_Change -1.277658 -1.301067 -1.564802 -5.685932  \n",
      "\n",
      "[1 rows x 31 columns]\n"
     ]
    },
    {
     "data": {
      "image/png": "[encoded data removed]",
      "text/plain": [
       "<Figure size 1296x432 with 1 Axes>"
      ]
     },
     "metadata": {
      "needs_background": "light"
     },
     "output_type": "display_data"
    },
    {
     "data": {
      "image/png": "[encoded data removed]",
      "text/plain": [
       "<Figure size 1296x432 with 1 Axes>"
      ]
     },
     "metadata": {
      "needs_background": "light"
     },
     "output_type": "display_data"
    }
   ],
   "source": [
    "if len(ticker_list)>0:\n",
    "    equity_change={}\n",
    "    total_port_equity_change=0\n",
    "    for i in range(len(ticker_list)):\n",
    "        stock=ticker_list[i]\n",
    "        if stock in df_equity.columns.tolist() and stock in df_suggested_equity.index.tolist():\n",
    "            equity_change[stock]=df_equity.loc['Equity',stock]-df_suggested_equity[stock]\n",
    "            total_port_equity_change=total_port_equity_change+equity_change[stock]\n",
    "\n",
    "    equity_change_percent=total_port_equity_change/total_port_equity*100\n",
    "    df_equity_change=pd.DataFrame.from_dict(data=equity_change,orient='index',columns=['Equity_Change']).transpose()\n",
    "    df_equity_change_ratio=pd.DataFrame(df_equity_change.\n",
    "                                 div(df_suggested_equity))\n",
    "    df_equity_change_percent=df_equity_change_ratio*100\n",
    "    df_equity_change_ratio.rename(index={'Equity_Change':'Equity_Change_Ratio'},inplace=True)\n",
    "    df_equity_change_percent.rename(index={'Equity_Change':'Equity_Change_Percent'},inplace=True)\n",
    "\n",
    "    if len(comm_stocks)>0:\n",
    "        equity_comm_change={}\n",
    "        total_equity_comm_change=0\n",
    "        for i in range(len(comm_stocks)):\n",
    "            comm_stock=comm_stocks[i]\n",
    "            equity_comm_change[comm_stock]=df_equity.loc['Equity',comm_stock]-df_suggested_equity[comm_stock]\n",
    "            total_equity_comm_change=total_equity_comm_change+equity_comm_change[comm_stock]\n",
    "        print('Total Common equity change value is: {}'.format(total_equity_comm_change))\n",
    "\n",
    "\n",
    "        equity_comm_change_percent=total_equity_comm_change/total_port_equity*100\n",
    "        print('Total Common Change Percent is: {}'.format(equity_comm_change_percent))\n",
    "\n",
    "        df_equity_comm_change=pd.DataFrame.from_dict(data=equity_comm_change,orient='index',columns=['Equity_Comm_Change']).transpose()\n",
    "        df_equity_comm_change_ratio=pd.DataFrame(df_equity_comm_change.\n",
    "                                         div(df_suggested_equity))\n",
    "        df_equity_comm_change_percent=df_equity_comm_change_ratio*100\n",
    "        df_equity_comm_change_ratio.rename(index={'Equity_Comm_Change':'Equity_Comm_Change_Ratio'},inplace=True)\n",
    "        df_equity_comm_change_percent.rename(index={'Equity_Comm_Change':'Equity_Comm_Change_Percent'},inplace=True)\n",
    "        ############################ Plots #####################################\n",
    "        df_equity_comm_change.sort_values(by='Equity_Comm_Change',axis=1,ascending=False).transpose().plot(kind='bar',figsize=(18,6));\n",
    "        print(df_equity_comm_change.sort_values(by='Equity_Comm_Change',axis=1,ascending=False))\n",
    "        df_equity_comm_change_percent.sort_values(by='Equity_Comm_Change_Percent',axis=1,ascending=False).transpose().plot(kind='bar',figsize=(18,6));\n",
    "    else:\n",
    "        print('no common stocks')\n",
    "\n",
    "else:\n",
    "    print('no positions')"
   ]
  },
  {
   "cell_type": "markdown",
   "metadata": {},
   "source": [
    "## Update Stop Loss"
   ]
  },
  {
   "cell_type": "markdown",
   "metadata": {},
   "source": [
    "### Stop Loss Sell Limit Price"
   ]
  },
  {
   "cell_type": "raw",
   "metadata": {},
   "source": [
    "stop_loss_sell_limit_price={}\n",
    "if len(comm_stocks)>0:\n",
    "    for i in range(len(comm_stocks)):\n",
    "        stock=comm_stocks[i]\n",
    "        try:\n",
    "            stop_loss_sell_diff=df_portfolio.loc['price_bound',stock]\n",
    "            limit_price=float(share_price[stock]-stop_loss_sell_diff)\n",
    "            if limit_price<0:\n",
    "                stop_loss_sell_limit_price[stock]=0\n",
    "            else:\n",
    "                stop_loss_sell_limit_price[stock]=limit_price\n",
    "        except:\n",
    "            print(stock)\n",
    "else:\n",
    "    print('no common stocks')\n",
    "stop_loss_sell_limit_price"
   ]
  },
  {
   "cell_type": "markdown",
   "metadata": {},
   "source": [
    "### Cancel Existing Stock Orders"
   ]
  },
  {
   "cell_type": "raw",
   "metadata": {},
   "source": [
    "r.get_all_open_stock_orders()"
   ]
  },
  {
   "cell_type": "raw",
   "metadata": {},
   "source": [
    "r.orders.cancel_all_stock_orders();"
   ]
  },
  {
   "cell_type": "markdown",
   "metadata": {},
   "source": [
    "### Update Stop Loss Sell orders for all stocks"
   ]
  },
  {
   "cell_type": "raw",
   "metadata": {
    "tags": []
   },
   "source": [
    "stop_loss_sell_info={}\n",
    "if len(comm_stocks)==0:\n",
    "    print('no common stocks to update stop loss')\n",
    "else:\n",
    "    for i in range(len(comm_stocks)):\n",
    "        comm_stock=comm_stocks[i]\n",
    "        comm_stock_modified=comm_stock.replace('-','.')\n",
    "        sell_quantity=m.floor(share_quantity[comm_stock])\n",
    "        stop_price=stop_loss_sell_limit_price[comm_stock]\n",
    "        stop_loss_sell_info[comm_stock]=r.orders.order_sell_stop_loss(symbol=comm_stock_modified,\n",
    "                                                                      quantity=sell_quantity,stopPrice=stop_price,timeInForce='gtc')\n",
    "stop_loss_sell_info"
   ]
  },
  {
   "cell_type": "markdown",
   "metadata": {},
   "source": [
    "## Sell and Buy Stocks"
   ]
  },
  {
   "cell_type": "markdown",
   "metadata": {},
   "source": [
    "### Sell all portfolio stocks"
   ]
  },
  {
   "cell_type": "raw",
   "metadata": {},
   "source": [
    "for i in range(len(comm_stocks)):\n",
    "    comm_stock=comm_stocks[i]\n",
    "    qty=share_quantity.loc['quantity',comm_stock]\n",
    "    sell_order=r.orders.order_sell_fractional_by_quantity(symbol=comm_stock, \n",
    "                                               quantity=qty, \n",
    "                                               timeInForce='gfd')\n",
    "    if not sell_order['reject_reason']==None:\n",
    "        print(ticker)"
   ]
  },
  {
   "cell_type": "markdown",
   "metadata": {
    "tags": []
   },
   "source": [
    "### Sell all stocks"
   ]
  },
  {
   "cell_type": "raw",
   "metadata": {
    "tags": []
   },
   "source": [
    "stocks_dict=r.account.build_holdings()\n",
    "#print('Stocks are: {}'.format(stocks_dict))\n",
    "tickers=stocks_dict.keys()\n",
    "ticker_list=list(tickers)\n",
    "crypto_ticker_list=[]\n",
    "crypto_holdings_temp=crypto_holdings.copy();\n",
    "for i in range(len(crypto_holdings_temp)):\n",
    "    qty=float(crypto_holdings[i]['cost_bases'][0]['direct_quantity'])\n",
    "    crypto_ticker_list.append(crypto_holdings[i]['currency']['code'])\n",
    "    if qty>0:\n",
    "        crypto=crypto_ticker_list[i]\n",
    "        sell_order=r.orders.order_sell_crypto_by_quantity(symbol=crypto, \n",
    "                                                   quantity=qty, \n",
    "                                                   timeInForce='gtc')\n",
    "        print('Crypto sell orders :',sell_order)\n",
    "    else:\n",
    "        print('no crypto to sell')\n",
    "\n",
    "if len(ticker_list)>0:\n",
    "    for i in range(len(ticker_list)):\n",
    "        ticker=ticker_list[i]\n",
    "        qty=share_quantity.loc['quantity',ticker]\n",
    "        sell_order=r.orders.order_sell_fractional_by_quantity(symbol=ticker, \n",
    "                                                   quantity=qty, \n",
    "                                                   timeInForce='gfd')\n",
    "        print('stocks_sell_prders :',sell_order)\n",
    "else:\n",
    "    print('no stocks to sell')"
   ]
  },
  {
   "cell_type": "markdown",
   "metadata": {
    "tags": []
   },
   "source": [
    "### Buy Portfolio Stocks"
   ]
  },
  {
   "cell_type": "raw",
   "metadata": {
    "tags": []
   },
   "source": [
    "stocks_dict=r.account.build_holdings()\n",
    "#print('Stocks are: {}'.format(stocks_dict))\n",
    "tickers=stocks_dict.keys()\n",
    "ticker_list=list(tickers)\n",
    "###### Get crypto positions #####\n",
    "crypto_holdings=r.get_crypto_positions()\n",
    "### Add crypto position tickers to ticker_list ###\n",
    "for i in range(len(crypto_holdings)):\n",
    "    qty=float(crypto_holdings[i]['cost_bases'][0]['direct_quantity'])\n",
    "    if qty>0:\n",
    "        ticker_list.append(crypto_holdings[i]['currency']['code'])\n",
    "    \n",
    "for i in range(len(df_portfolio.columns)):\n",
    "    ticker_suggested=df_portfolio.columns[i]\n",
    "    ticker_suggested_modified=ticker_suggested.replace('-','.')\n",
    "    ticker_suggested_modified=ticker_suggested_modified.replace('.USD','')\n",
    "    equity=df_portfolio.loc['suggested_investment',ticker_suggested]\n",
    "    if ticker_suggested_modified not in ticker_list:\n",
    "        print('{}:{}'.format(ticker_suggested_modified,equity))\n",
    "        if ticker_suggested_modified in crypto_list:\n",
    "            buy_order=r.orders.order_buy_crypto_by_price(symbol=ticker_suggested_modified,amountInDollars=equity,\n",
    "                                                        )\n",
    "        else:\n",
    "            buy_order=r.orders.order_buy_fractional_by_price(symbol=ticker_suggested_modified, \n",
    "                                                       amountInDollars=equity, \n",
    "                                                       timeInForce='gfd')\n",
    "        print(buy_order)\n",
    "    #if not buy_order['reject_reason']==None:\n",
    "        #print(ticker)"
   ]
  },
  {
   "cell_type": "raw",
   "metadata": {},
   "source": [
    "stocks_dict=r.account.build_holdings()\n",
    "#print('Stocks are: {}'.format(stocks_dict))\n",
    "tickers=stocks_dict.keys()\n",
    "ticker_list=list(tickers)\n",
    "###### Get crypto positions #####\n",
    "crypto_holdings=r.get_crypto_positions()\n",
    "### Add crypto position tickers to ticker_list ###\n",
    "for i in range(len(crypto_holdings)):\n",
    "    ticker_list.append(crypto_holdings[i]['currency']['code'])\n",
    "for i in range(len(df_portfolio.columns)):\n",
    "    ticker_suggested=df_portfolio.columns[i]\n",
    "    ticker_suggested_modified=ticker_suggested.replace('-','.')\n",
    "    ticker_suggested_modified=ticker_suggested_modified.replace('.USD','')\n",
    "    equity=df_portfolio.loc['suggested_investment',ticker_suggested]\n",
    "    print(ticker_suggested_modified,equity)"
   ]
  },
  {
   "cell_type": "markdown",
   "metadata": {},
   "source": [
    "#### "
   ]
  }
 ],
 "metadata": {
  "kernelspec": {
   "display_name": "Python",
   "language": "python",
   "name": "conda-env-python-py"
  },
  "language_info": {
   "codemirror_mode": {
    "name": "ipython",
    "version": 3
   },
   "file_extension": ".py",
   "mimetype": "text/x-python",
   "name": "python",
   "nbconvert_exporter": "python",
   "pygments_lexer": "ipython3",
   "version": "3.7.12"
  }
 },
 "nbformat": 4,
 "nbformat_minor": 4
}
