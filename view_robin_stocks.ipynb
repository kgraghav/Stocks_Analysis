{
 "cells": [
  {
   "cell_type": "code",
   "execution_count": 1,
   "metadata": {
    "tags": []
   },
   "outputs": [
    {
     "name": "stdout",
     "output_type": "stream",
     "text": [
      "Requirement already satisfied: robin_stocks in /home/jupyterlab/conda/envs/python/lib/python3.7/site-packages (2.1.0)\n",
      "Requirement already satisfied: python-dotenv in /home/jupyterlab/conda/envs/python/lib/python3.7/site-packages (from robin_stocks) (0.19.2)\n",
      "Requirement already satisfied: pyotp in /home/jupyterlab/conda/envs/python/lib/python3.7/site-packages (from robin_stocks) (2.6.0)\n",
      "Requirement already satisfied: requests in /home/jupyterlab/conda/envs/python/lib/python3.7/site-packages (from robin_stocks) (2.26.0)\n",
      "Requirement already satisfied: cryptography in /home/jupyterlab/conda/envs/python/lib/python3.7/site-packages (from robin_stocks) (36.0.0)\n",
      "Requirement already satisfied: cffi>=1.12 in /home/jupyterlab/conda/envs/python/lib/python3.7/site-packages (from cryptography->robin_stocks) (1.15.0)\n",
      "Requirement already satisfied: certifi>=2017.4.17 in /home/jupyterlab/conda/envs/python/lib/python3.7/site-packages (from requests->robin_stocks) (2021.10.8)\n",
      "Requirement already satisfied: urllib3<1.27,>=1.21.1 in /home/jupyterlab/conda/envs/python/lib/python3.7/site-packages (from requests->robin_stocks) (1.26.7)\n",
      "Requirement already satisfied: idna<4,>=2.5 in /home/jupyterlab/conda/envs/python/lib/python3.7/site-packages (from requests->robin_stocks) (3.1)\n",
      "Requirement already satisfied: charset-normalizer~=2.0.0 in /home/jupyterlab/conda/envs/python/lib/python3.7/site-packages (from requests->robin_stocks) (2.0.8)\n",
      "Requirement already satisfied: pycparser in /home/jupyterlab/conda/envs/python/lib/python3.7/site-packages (from cffi>=1.12->cryptography->robin_stocks) (2.21)\n"
     ]
    }
   ],
   "source": [
    "!pip install robin_stocks\n",
    "import robin_stocks.robinhood as r\n",
    "import pandas as pd\n",
    "import numpy as np\n",
    "import math as m\n",
    "import matplotlib.pyplot as plt"
   ]
  },
  {
   "cell_type": "markdown",
   "metadata": {},
   "source": [
    "Library: [robin_stocks](https://readthedocs.org/projects/robin-stocks/downloads/pdf/latest/)"
   ]
  },
  {
   "cell_type": "markdown",
   "metadata": {},
   "source": [
    "## Authentication and Login"
   ]
  },
  {
   "cell_type": "code",
   "execution_count": 2,
   "metadata": {},
   "outputs": [],
   "source": [
    "login = r.login('kgraghav@mtu.edu','0214@Kgraghavan',store_session=True)"
   ]
  },
  {
   "cell_type": "markdown",
   "metadata": {
    "tags": []
   },
   "source": [
    "## List of Cryptocurrencies available"
   ]
  },
  {
   "cell_type": "code",
   "execution_count": 3,
   "metadata": {},
   "outputs": [],
   "source": [
    "crypto_info=r.crypto.get_crypto_currency_pairs()\n",
    "crypto_list=[]\n",
    "for i in range(len(crypto_info)):\n",
    "    crypto_list.append(crypto_info[i]['asset_currency']['code'])"
   ]
  },
  {
   "cell_type": "markdown",
   "metadata": {},
   "source": [
    "## Read in Portfolio"
   ]
  },
  {
   "cell_type": "code",
   "execution_count": 4,
   "metadata": {},
   "outputs": [
    {
     "data": {
      "text/html": [
       "<div>\n",
       "<style scoped>\n",
       "    .dataframe tbody tr th:only-of-type {\n",
       "        vertical-align: middle;\n",
       "    }\n",
       "\n",
       "    .dataframe tbody tr th {\n",
       "        vertical-align: top;\n",
       "    }\n",
       "\n",
       "    .dataframe thead th {\n",
       "        text-align: right;\n",
       "    }\n",
       "</style>\n",
       "<table border=\"1\" class=\"dataframe\">\n",
       "  <thead>\n",
       "    <tr style=\"text-align: right;\">\n",
       "      <th></th>\n",
       "      <th>HGSH</th>\n",
       "      <th>PFE</th>\n",
       "      <th>KO</th>\n",
       "      <th>AWK</th>\n",
       "      <th>CLX</th>\n",
       "      <th>JNJ</th>\n",
       "      <th>ZNGA</th>\n",
       "      <th>DUK</th>\n",
       "      <th>BRK.B</th>\n",
       "      <th>GRPN</th>\n",
       "      <th>...</th>\n",
       "      <th>MCD</th>\n",
       "      <th>PEP</th>\n",
       "      <th>FB</th>\n",
       "      <th>MA</th>\n",
       "      <th>COST</th>\n",
       "      <th>INFY</th>\n",
       "      <th>IYR</th>\n",
       "      <th>NCLH</th>\n",
       "      <th>AAPL</th>\n",
       "      <th>PPBT</th>\n",
       "    </tr>\n",
       "    <tr>\n",
       "      <th>Parameters</th>\n",
       "      <th></th>\n",
       "      <th></th>\n",
       "      <th></th>\n",
       "      <th></th>\n",
       "      <th></th>\n",
       "      <th></th>\n",
       "      <th></th>\n",
       "      <th></th>\n",
       "      <th></th>\n",
       "      <th></th>\n",
       "      <th></th>\n",
       "      <th></th>\n",
       "      <th></th>\n",
       "      <th></th>\n",
       "      <th></th>\n",
       "      <th></th>\n",
       "      <th></th>\n",
       "      <th></th>\n",
       "      <th></th>\n",
       "      <th></th>\n",
       "      <th></th>\n",
       "    </tr>\n",
       "  </thead>\n",
       "  <tbody>\n",
       "    <tr>\n",
       "      <th>reward</th>\n",
       "      <td>1809.308109</td>\n",
       "      <td>1122.266658</td>\n",
       "      <td>627.556837</td>\n",
       "      <td>512.006348</td>\n",
       "      <td>447.914083</td>\n",
       "      <td>460.337554</td>\n",
       "      <td>508.278010</td>\n",
       "      <td>360.162331</td>\n",
       "      <td>384.617091</td>\n",
       "      <td>594.309159</td>\n",
       "      <td>...</td>\n",
       "      <td>362.395947</td>\n",
       "      <td>323.171549</td>\n",
       "      <td>398.445319</td>\n",
       "      <td>437.815693</td>\n",
       "      <td>313.748548</td>\n",
       "      <td>318.080713</td>\n",
       "      <td>223.957959</td>\n",
       "      <td>442.513606</td>\n",
       "      <td>323.236462</td>\n",
       "      <td>351.709151</td>\n",
       "    </tr>\n",
       "    <tr>\n",
       "      <th>risk</th>\n",
       "      <td>1.108928</td>\n",
       "      <td>1.331689</td>\n",
       "      <td>1.176362</td>\n",
       "      <td>1.056971</td>\n",
       "      <td>1.125047</td>\n",
       "      <td>1.279488</td>\n",
       "      <td>1.452548</td>\n",
       "      <td>1.185702</td>\n",
       "      <td>1.270244</td>\n",
       "      <td>2.051341</td>\n",
       "      <td>...</td>\n",
       "      <td>1.530461</td>\n",
       "      <td>1.367834</td>\n",
       "      <td>1.877376</td>\n",
       "      <td>2.094276</td>\n",
       "      <td>1.547538</td>\n",
       "      <td>1.820569</td>\n",
       "      <td>1.607817</td>\n",
       "      <td>3.567138</td>\n",
       "      <td>3.206557</td>\n",
       "      <td>3.770201</td>\n",
       "    </tr>\n",
       "    <tr>\n",
       "      <th>returns_ratio</th>\n",
       "      <td>1631.582402</td>\n",
       "      <td>842.739557</td>\n",
       "      <td>533.472545</td>\n",
       "      <td>484.409066</td>\n",
       "      <td>398.129101</td>\n",
       "      <td>359.782742</td>\n",
       "      <td>349.921571</td>\n",
       "      <td>303.754564</td>\n",
       "      <td>302.789875</td>\n",
       "      <td>289.717368</td>\n",
       "      <td>...</td>\n",
       "      <td>236.788674</td>\n",
       "      <td>236.265108</td>\n",
       "      <td>212.235224</td>\n",
       "      <td>209.053468</td>\n",
       "      <td>202.740498</td>\n",
       "      <td>174.714967</td>\n",
       "      <td>139.293171</td>\n",
       "      <td>124.052825</td>\n",
       "      <td>100.804843</td>\n",
       "      <td>93.286587</td>\n",
       "    </tr>\n",
       "    <tr>\n",
       "      <th>weight</th>\n",
       "      <td>0.197455</td>\n",
       "      <td>0.101989</td>\n",
       "      <td>0.064561</td>\n",
       "      <td>0.058623</td>\n",
       "      <td>0.048182</td>\n",
       "      <td>0.043541</td>\n",
       "      <td>0.042348</td>\n",
       "      <td>0.036760</td>\n",
       "      <td>0.036644</td>\n",
       "      <td>0.035062</td>\n",
       "      <td>...</td>\n",
       "      <td>0.028656</td>\n",
       "      <td>0.028593</td>\n",
       "      <td>0.025685</td>\n",
       "      <td>0.025300</td>\n",
       "      <td>0.024536</td>\n",
       "      <td>0.021144</td>\n",
       "      <td>0.016857</td>\n",
       "      <td>0.015013</td>\n",
       "      <td>0.012199</td>\n",
       "      <td>0.011290</td>\n",
       "    </tr>\n",
       "    <tr>\n",
       "      <th>price_bound</th>\n",
       "      <td>0.185581</td>\n",
       "      <td>5.333928</td>\n",
       "      <td>2.126010</td>\n",
       "      <td>3.165449</td>\n",
       "      <td>4.008253</td>\n",
       "      <td>5.860282</td>\n",
       "      <td>0.307256</td>\n",
       "      <td>2.310813</td>\n",
       "      <td>8.490643</td>\n",
       "      <td>1.916233</td>\n",
       "      <td>...</td>\n",
       "      <td>9.951010</td>\n",
       "      <td>4.793024</td>\n",
       "      <td>18.036321</td>\n",
       "      <td>22.038233</td>\n",
       "      <td>18.924467</td>\n",
       "      <td>1.008276</td>\n",
       "      <td>2.839818</td>\n",
       "      <td>2.046162</td>\n",
       "      <td>12.120015</td>\n",
       "      <td>0.345596</td>\n",
       "    </tr>\n",
       "    <tr>\n",
       "      <th>suggested_investment</th>\n",
       "      <td>790.016072</td>\n",
       "      <td>408.056494</td>\n",
       "      <td>258.308673</td>\n",
       "      <td>234.552020</td>\n",
       "      <td>192.775056</td>\n",
       "      <td>174.207658</td>\n",
       "      <td>169.432856</td>\n",
       "      <td>147.078681</td>\n",
       "      <td>146.611576</td>\n",
       "      <td>140.281838</td>\n",
       "      <td>...</td>\n",
       "      <td>114.653638</td>\n",
       "      <td>114.400126</td>\n",
       "      <td>102.764799</td>\n",
       "      <td>101.224186</td>\n",
       "      <td>98.167430</td>\n",
       "      <td>84.597402</td>\n",
       "      <td>67.446084</td>\n",
       "      <td>60.066672</td>\n",
       "      <td>48.809944</td>\n",
       "      <td>45.169587</td>\n",
       "    </tr>\n",
       "  </tbody>\n",
       "</table>\n",
       "<p>6 rows × 24 columns</p>\n",
       "</div>"
      ],
      "text/plain": [
       "                             HGSH          PFE          KO         AWK  \\\n",
       "Parameters                                                               \n",
       "reward                1809.308109  1122.266658  627.556837  512.006348   \n",
       "risk                     1.108928     1.331689    1.176362    1.056971   \n",
       "returns_ratio         1631.582402   842.739557  533.472545  484.409066   \n",
       "weight                   0.197455     0.101989    0.064561    0.058623   \n",
       "price_bound              0.185581     5.333928    2.126010    3.165449   \n",
       "suggested_investment   790.016072   408.056494  258.308673  234.552020   \n",
       "\n",
       "                             CLX         JNJ        ZNGA         DUK  \\\n",
       "Parameters                                                             \n",
       "reward                447.914083  460.337554  508.278010  360.162331   \n",
       "risk                    1.125047    1.279488    1.452548    1.185702   \n",
       "returns_ratio         398.129101  359.782742  349.921571  303.754564   \n",
       "weight                  0.048182    0.043541    0.042348    0.036760   \n",
       "price_bound             4.008253    5.860282    0.307256    2.310813   \n",
       "suggested_investment  192.775056  174.207658  169.432856  147.078681   \n",
       "\n",
       "                           BRK.B        GRPN  ...         MCD         PEP  \\\n",
       "Parameters                                    ...                           \n",
       "reward                384.617091  594.309159  ...  362.395947  323.171549   \n",
       "risk                    1.270244    2.051341  ...    1.530461    1.367834   \n",
       "returns_ratio         302.789875  289.717368  ...  236.788674  236.265108   \n",
       "weight                  0.036644    0.035062  ...    0.028656    0.028593   \n",
       "price_bound             8.490643    1.916233  ...    9.951010    4.793024   \n",
       "suggested_investment  146.611576  140.281838  ...  114.653638  114.400126   \n",
       "\n",
       "                              FB          MA        COST        INFY  \\\n",
       "Parameters                                                             \n",
       "reward                398.445319  437.815693  313.748548  318.080713   \n",
       "risk                    1.877376    2.094276    1.547538    1.820569   \n",
       "returns_ratio         212.235224  209.053468  202.740498  174.714967   \n",
       "weight                  0.025685    0.025300    0.024536    0.021144   \n",
       "price_bound            18.036321   22.038233   18.924467    1.008276   \n",
       "suggested_investment  102.764799  101.224186   98.167430   84.597402   \n",
       "\n",
       "                             IYR        NCLH        AAPL        PPBT  \n",
       "Parameters                                                            \n",
       "reward                223.957959  442.513606  323.236462  351.709151  \n",
       "risk                    1.607817    3.567138    3.206557    3.770201  \n",
       "returns_ratio         139.293171  124.052825  100.804843   93.286587  \n",
       "weight                  0.016857    0.015013    0.012199    0.011290  \n",
       "price_bound             2.839818    2.046162   12.120015    0.345596  \n",
       "suggested_investment   67.446084   60.066672   48.809944   45.169587  \n",
       "\n",
       "[6 rows x 24 columns]"
      ]
     },
     "execution_count": 4,
     "metadata": {},
     "output_type": "execute_result"
    }
   ],
   "source": [
    "df_portfolio=pd.read_csv('portfolio.csv')\n",
    "df_portfolio.set_index('Parameters',inplace=True)\n",
    "columns_list=df_portfolio.columns.tolist()\n",
    "columns_dict={}\n",
    "for stock in columns_list:\n",
    "    stock_str_rep=stock.replace('-','.')\n",
    "    columns_dict[stock]=stock_str_rep\n",
    "df_portfolio.rename(columns=columns_dict,inplace=True)\n",
    "df_portfolio.sort_values(by='weight',axis=1,ascending=False)"
   ]
  },
  {
   "cell_type": "code",
   "execution_count": 5,
   "metadata": {},
   "outputs": [],
   "source": [
    "port_stocks=df_portfolio.columns.tolist()"
   ]
  },
  {
   "cell_type": "code",
   "execution_count": 6,
   "metadata": {},
   "outputs": [
    {
     "name": "stdout",
     "output_type": "stream",
     "text": [
      "Total suggested equity value is: 4001.0\n"
     ]
    },
    {
     "data": {
      "image/png": "[encoded data removed]",
      "text/plain": [
       "<Figure size 864x576 with 1 Axes>"
      ]
     },
     "metadata": {
      "needs_background": "light"
     },
     "output_type": "display_data"
    }
   ],
   "source": [
    "df_suggested_equity=df_portfolio.loc['suggested_investment',:]\n",
    "df_suggested_equity.transpose().plot(kind='bar',figsize=(12,8));\n",
    "total_port_equity=df_suggested_equity.sum()\n",
    "print('Total suggested equity value is: {}'.format(total_port_equity))\n"
   ]
  },
  {
   "cell_type": "markdown",
   "metadata": {},
   "source": [
    "## Print total stocks value"
   ]
  },
  {
   "cell_type": "code",
   "execution_count": 7,
   "metadata": {},
   "outputs": [
    {
     "name": "stdout",
     "output_type": "stream",
     "text": [
      "['VXRT', 'ZNGA', 'AAPL', 'FB', 'BRK.B', 'COST', 'PPBT', 'NOK', 'DUK', 'NCLH', 'GRPN', 'CLX', 'KO', 'MCD', 'IYR', 'PFE', 'V', 'HGSH', 'JNJ', 'MA', 'IEHS', 'PEP', 'AWK', 'INFY']\n",
      "0.0\n"
     ]
    }
   ],
   "source": [
    "stocks_dict=r.account.build_holdings()\n",
    "#print('Stocks are: {}'.format(stocks_dict))\n",
    "tickers=stocks_dict.keys()\n",
    "ticker_list=list(tickers)\n",
    "for ticker in ticker_list:\n",
    "    ticker.replace('-','.')\n",
    "print(ticker_list)\n",
    "###### Get crypto positions #####\n",
    "crypto_holdings=r.get_crypto_positions()\n",
    "print(float(crypto_holdings[3]['quantity']))"
   ]
  },
  {
   "cell_type": "code",
   "execution_count": 8,
   "metadata": {},
   "outputs": [],
   "source": [
    "price_list=[float(stocks_dict[ticker]['equity']) for ticker in ticker_list]\n",
    "for i in range(len(crypto_holdings)):\n",
    "    if float(crypto_holdings[i]['quantity'])>0:\n",
    "        crypto_ticker=crypto_holdings[i]['currency']['code'].replace('-USD','')\n",
    "        crypto_qty=float(crypto_holdings[i]['quantity'])\n",
    "        crypto_mark_price=float(r.get_crypto_quote(symbol=crypto_ticker,info='mark_price'))\n",
    "        crypto_price=crypto_qty*crypto_mark_price\n",
    "        price_list.append(crypto_price)\n",
    "        ticker_list.append('{}.USD'.format(crypto_holdings[i]['currency']['code']))"
   ]
  },
  {
   "cell_type": "markdown",
   "metadata": {},
   "source": [
    "## Stocks common to portfolio and investment"
   ]
  },
  {
   "cell_type": "code",
   "execution_count": 9,
   "metadata": {},
   "outputs": [
    {
     "name": "stdout",
     "output_type": "stream",
     "text": [
      "Stocks common to recommended and actual portfolio:  ['PPBT', 'BRK.B', 'CLX', 'KO', 'GRPN', 'COST', 'FB', 'PFE', 'IYR', 'INFY', 'V', 'VXRT', 'IEHS', 'ZNGA', 'HGSH', 'MA', 'AWK', 'MCD', 'JNJ', 'DUK', 'PEP', 'NCLH', 'AAPL', 'NOK']\n"
     ]
    }
   ],
   "source": [
    "comm_stocks=list(set(port_stocks).intersection(set(ticker_list)))\n",
    "print('Stocks common to recommended and actual portfolio: ',comm_stocks)\n",
    "port_stocks=[stock.replace('-','.') for stock in port_stocks]"
   ]
  },
  {
   "cell_type": "markdown",
   "metadata": {},
   "source": [
    "## Stocks not common"
   ]
  },
  {
   "cell_type": "markdown",
   "metadata": {},
   "source": [
    "### Stock in recommended portfolio but not in actual portfolio"
   ]
  },
  {
   "cell_type": "code",
   "execution_count": 10,
   "metadata": {},
   "outputs": [
    {
     "data": {
      "text/plain": [
       "[]"
      ]
     },
     "execution_count": 10,
     "metadata": {},
     "output_type": "execute_result"
    }
   ],
   "source": [
    "not_in_ticker_list=[stock for stock in port_stocks if stock not in ticker_list]\n",
    "not_in_ticker_list"
   ]
  },
  {
   "cell_type": "markdown",
   "metadata": {},
   "source": [
    "### Stock in  actual portfolio but not in recommended portfolio"
   ]
  },
  {
   "cell_type": "code",
   "execution_count": 11,
   "metadata": {},
   "outputs": [
    {
     "data": {
      "text/plain": [
       "[]"
      ]
     },
     "execution_count": 11,
     "metadata": {},
     "output_type": "execute_result"
    }
   ],
   "source": [
    "not_in_port_stocks=[ticker for ticker in ticker_list if ticker not in port_stocks]\n",
    "not_in_port_stocks"
   ]
  },
  {
   "cell_type": "markdown",
   "metadata": {},
   "source": [
    "## Share Price"
   ]
  },
  {
   "cell_type": "code",
   "execution_count": 12,
   "metadata": {},
   "outputs": [
    {
     "data": {
      "text/html": [
       "<div>\n",
       "<style scoped>\n",
       "    .dataframe tbody tr th:only-of-type {\n",
       "        vertical-align: middle;\n",
       "    }\n",
       "\n",
       "    .dataframe tbody tr th {\n",
       "        vertical-align: top;\n",
       "    }\n",
       "\n",
       "    .dataframe thead th {\n",
       "        text-align: right;\n",
       "    }\n",
       "</style>\n",
       "<table border=\"1\" class=\"dataframe\">\n",
       "  <thead>\n",
       "    <tr style=\"text-align: right;\">\n",
       "      <th></th>\n",
       "      <th>VXRT</th>\n",
       "      <th>ZNGA</th>\n",
       "      <th>AAPL</th>\n",
       "      <th>FB</th>\n",
       "      <th>BRK.B</th>\n",
       "      <th>COST</th>\n",
       "      <th>PPBT</th>\n",
       "      <th>NOK</th>\n",
       "      <th>DUK</th>\n",
       "      <th>NCLH</th>\n",
       "      <th>...</th>\n",
       "      <th>IYR</th>\n",
       "      <th>PFE</th>\n",
       "      <th>V</th>\n",
       "      <th>HGSH</th>\n",
       "      <th>JNJ</th>\n",
       "      <th>MA</th>\n",
       "      <th>IEHS</th>\n",
       "      <th>PEP</th>\n",
       "      <th>AWK</th>\n",
       "      <th>INFY</th>\n",
       "    </tr>\n",
       "  </thead>\n",
       "  <tbody>\n",
       "    <tr>\n",
       "      <th>price</th>\n",
       "      <td>6.39</td>\n",
       "      <td>6.345</td>\n",
       "      <td>179.0799</td>\n",
       "      <td>343.23</td>\n",
       "      <td>300.21</td>\n",
       "      <td>566.83</td>\n",
       "      <td>3.94</td>\n",
       "      <td>6.275</td>\n",
       "      <td>104.76</td>\n",
       "      <td>21.69</td>\n",
       "      <td>...</td>\n",
       "      <td>115.1</td>\n",
       "      <td>57.715</td>\n",
       "      <td>218.055</td>\n",
       "      <td>2.17</td>\n",
       "      <td>171.0</td>\n",
       "      <td>361.42</td>\n",
       "      <td>45.625</td>\n",
       "      <td>172.648</td>\n",
       "      <td>186.62</td>\n",
       "      <td>25.32</td>\n",
       "    </tr>\n",
       "  </tbody>\n",
       "</table>\n",
       "<p>1 rows × 24 columns</p>\n",
       "</div>"
      ],
      "text/plain": [
       "       VXRT   ZNGA      AAPL      FB   BRK.B    COST  PPBT    NOK     DUK  \\\n",
       "price  6.39  6.345  179.0799  343.23  300.21  566.83  3.94  6.275  104.76   \n",
       "\n",
       "        NCLH  ...    IYR     PFE        V  HGSH    JNJ      MA    IEHS  \\\n",
       "price  21.69  ...  115.1  57.715  218.055  2.17  171.0  361.42  45.625   \n",
       "\n",
       "           PEP     AWK   INFY  \n",
       "price  172.648  186.62  25.32  \n",
       "\n",
       "[1 rows x 24 columns]"
      ]
     },
     "execution_count": 12,
     "metadata": {},
     "output_type": "execute_result"
    }
   ],
   "source": [
    "share_price={}\n",
    "share_price_values=[float(stocks_dict[ticker]['price']) for ticker in tickers]\n",
    "for i in range(len(tickers)):\n",
    "    ticker=ticker_list[i]\n",
    "    share_price[ticker]=share_price_values[i]\n",
    "share_price=pd.DataFrame(share_price,index=['price'])\n",
    "share_price"
   ]
  },
  {
   "cell_type": "markdown",
   "metadata": {},
   "source": [
    "## Share Quantity"
   ]
  },
  {
   "cell_type": "code",
   "execution_count": 13,
   "metadata": {},
   "outputs": [
    {
     "data": {
      "text/html": [
       "<div>\n",
       "<style scoped>\n",
       "    .dataframe tbody tr th:only-of-type {\n",
       "        vertical-align: middle;\n",
       "    }\n",
       "\n",
       "    .dataframe tbody tr th {\n",
       "        vertical-align: top;\n",
       "    }\n",
       "\n",
       "    .dataframe thead th {\n",
       "        text-align: right;\n",
       "    }\n",
       "</style>\n",
       "<table border=\"1\" class=\"dataframe\">\n",
       "  <thead>\n",
       "    <tr style=\"text-align: right;\">\n",
       "      <th></th>\n",
       "      <th>VXRT</th>\n",
       "      <th>ZNGA</th>\n",
       "      <th>AAPL</th>\n",
       "      <th>FB</th>\n",
       "      <th>BRK.B</th>\n",
       "      <th>COST</th>\n",
       "      <th>PPBT</th>\n",
       "      <th>NOK</th>\n",
       "      <th>DUK</th>\n",
       "      <th>NCLH</th>\n",
       "      <th>...</th>\n",
       "      <th>IYR</th>\n",
       "      <th>PFE</th>\n",
       "      <th>V</th>\n",
       "      <th>HGSH</th>\n",
       "      <th>JNJ</th>\n",
       "      <th>MA</th>\n",
       "      <th>IEHS</th>\n",
       "      <th>PEP</th>\n",
       "      <th>AWK</th>\n",
       "      <th>INFY</th>\n",
       "    </tr>\n",
       "  </thead>\n",
       "  <tbody>\n",
       "    <tr>\n",
       "      <th>quantity</th>\n",
       "      <td>19.35</td>\n",
       "      <td>26.77</td>\n",
       "      <td>0.2713</td>\n",
       "      <td>0.2985</td>\n",
       "      <td>0.488</td>\n",
       "      <td>0.1734</td>\n",
       "      <td>11.32</td>\n",
       "      <td>19.67</td>\n",
       "      <td>1.41</td>\n",
       "      <td>2.76</td>\n",
       "      <td>...</td>\n",
       "      <td>0.5873</td>\n",
       "      <td>7.05</td>\n",
       "      <td>0.6426</td>\n",
       "      <td>364.445299</td>\n",
       "      <td>1.02</td>\n",
       "      <td>0.2801</td>\n",
       "      <td>2.51</td>\n",
       "      <td>0.6638</td>\n",
       "      <td>1.26</td>\n",
       "      <td>3.34</td>\n",
       "    </tr>\n",
       "  </tbody>\n",
       "</table>\n",
       "<p>1 rows × 24 columns</p>\n",
       "</div>"
      ],
      "text/plain": [
       "           VXRT   ZNGA    AAPL      FB  BRK.B    COST   PPBT    NOK   DUK  \\\n",
       "quantity  19.35  26.77  0.2713  0.2985  0.488  0.1734  11.32  19.67  1.41   \n",
       "\n",
       "          NCLH  ...     IYR   PFE       V        HGSH   JNJ      MA  IEHS  \\\n",
       "quantity  2.76  ...  0.5873  7.05  0.6426  364.445299  1.02  0.2801  2.51   \n",
       "\n",
       "             PEP   AWK  INFY  \n",
       "quantity  0.6638  1.26  3.34  \n",
       "\n",
       "[1 rows x 24 columns]"
      ]
     },
     "execution_count": 13,
     "metadata": {},
     "output_type": "execute_result"
    }
   ],
   "source": [
    "share_quantity={}\n",
    "share_quantities=[float(stocks_dict[ticker]['quantity']) for ticker in tickers]\n",
    "for i in range(len(tickers)):\n",
    "    ticker=ticker_list[i]\n",
    "    share_quantity[ticker]=share_quantities[i]\n",
    "share_quantity=pd.DataFrame(share_quantity,index=['quantity'])\n",
    "share_quantity"
   ]
  },
  {
   "cell_type": "markdown",
   "metadata": {},
   "source": [
    "## Total Equity"
   ]
  },
  {
   "cell_type": "code",
   "execution_count": 14,
   "metadata": {},
   "outputs": [
    {
     "name": "stdout",
     "output_type": "stream",
     "text": [
      "Total Stocks equity value is: 4000.6899999999996\n",
      "Total Common Stocks equity value is: 4000.6899999999996\n"
     ]
    },
    {
     "data": {
      "text/html": [
       "<div>\n",
       "<style scoped>\n",
       "    .dataframe tbody tr th:only-of-type {\n",
       "        vertical-align: middle;\n",
       "    }\n",
       "\n",
       "    .dataframe tbody tr th {\n",
       "        vertical-align: top;\n",
       "    }\n",
       "\n",
       "    .dataframe thead th {\n",
       "        text-align: right;\n",
       "    }\n",
       "</style>\n",
       "<table border=\"1\" class=\"dataframe\">\n",
       "  <thead>\n",
       "    <tr style=\"text-align: right;\">\n",
       "      <th></th>\n",
       "      <th>HGSH</th>\n",
       "      <th>PFE</th>\n",
       "      <th>KO</th>\n",
       "      <th>AWK</th>\n",
       "      <th>CLX</th>\n",
       "      <th>JNJ</th>\n",
       "      <th>ZNGA</th>\n",
       "      <th>DUK</th>\n",
       "      <th>BRK.B</th>\n",
       "      <th>GRPN</th>\n",
       "      <th>...</th>\n",
       "      <th>IEHS</th>\n",
       "      <th>MCD</th>\n",
       "      <th>FB</th>\n",
       "      <th>MA</th>\n",
       "      <th>COST</th>\n",
       "      <th>INFY</th>\n",
       "      <th>IYR</th>\n",
       "      <th>NCLH</th>\n",
       "      <th>AAPL</th>\n",
       "      <th>PPBT</th>\n",
       "    </tr>\n",
       "  </thead>\n",
       "  <tbody>\n",
       "    <tr>\n",
       "      <th>Equity</th>\n",
       "      <td>790.85</td>\n",
       "      <td>406.89</td>\n",
       "      <td>258.4</td>\n",
       "      <td>235.14</td>\n",
       "      <td>192.07</td>\n",
       "      <td>174.42</td>\n",
       "      <td>169.86</td>\n",
       "      <td>147.71</td>\n",
       "      <td>146.5</td>\n",
       "      <td>140.88</td>\n",
       "      <td>...</td>\n",
       "      <td>114.52</td>\n",
       "      <td>114.47</td>\n",
       "      <td>102.45</td>\n",
       "      <td>101.23</td>\n",
       "      <td>98.29</td>\n",
       "      <td>84.57</td>\n",
       "      <td>67.6</td>\n",
       "      <td>59.86</td>\n",
       "      <td>48.58</td>\n",
       "      <td>44.6</td>\n",
       "    </tr>\n",
       "  </tbody>\n",
       "</table>\n",
       "<p>1 rows × 24 columns</p>\n",
       "</div>"
      ],
      "text/plain": [
       "          HGSH     PFE     KO     AWK     CLX     JNJ    ZNGA     DUK  BRK.B  \\\n",
       "Equity  790.85  406.89  258.4  235.14  192.07  174.42  169.86  147.71  146.5   \n",
       "\n",
       "          GRPN  ...    IEHS     MCD      FB      MA   COST   INFY   IYR  \\\n",
       "Equity  140.88  ...  114.52  114.47  102.45  101.23  98.29  84.57  67.6   \n",
       "\n",
       "         NCLH   AAPL  PPBT  \n",
       "Equity  59.86  48.58  44.6  \n",
       "\n",
       "[1 rows x 24 columns]"
      ]
     },
     "execution_count": 14,
     "metadata": {},
     "output_type": "execute_result"
    },
    {
     "data": {
      "image/png": "[encoded data removed]",
      "text/plain": [
       "<Figure size 864x576 with 1 Axes>"
      ]
     },
     "metadata": {
      "needs_background": "light"
     },
     "output_type": "display_data"
    }
   ],
   "source": [
    "equity={}\n",
    "total_equity=0\n",
    "for i in range(len(ticker_list)):\n",
    "    ticker=ticker_list[i]\n",
    "    equity[ticker]=price_list[i]\n",
    "    total_equity=total_equity+equity[ticker]\n",
    "print('Total Stocks equity value is: {}'.format(total_equity))\n",
    "\n",
    "equity_comm={}\n",
    "total_comm_equity=0\n",
    "for i in range(len(comm_stocks)):\n",
    "    ticker=comm_stocks[i]\n",
    "    equity_comm[ticker]=price_list[i]\n",
    "    total_comm_equity=total_comm_equity+equity_comm[ticker]\n",
    "print('Total Common Stocks equity value is: {}'.format(total_comm_equity))\n",
    "\n",
    "df_equity=pd.DataFrame.from_dict(data=equity,orient='index',columns=['Equity'])\n",
    "df_plot=df_equity.sort_values(by='Equity',axis=0,ascending=False)\n",
    "if df_plot.shape[0]>0:\n",
    "    df_plot.plot(kind='bar',figsize=(12,8))\n",
    "else:\n",
    "    print('no data to plot')\n",
    "df_equity=df_equity.transpose()\n",
    "df_equity.sort_values(by='Equity',axis=1,ascending=False)"
   ]
  },
  {
   "cell_type": "code",
   "execution_count": 15,
   "metadata": {},
   "outputs": [
    {
     "data": {
      "text/plain": [
       "['VXRT',\n",
       " 'ZNGA',\n",
       " 'AAPL',\n",
       " 'FB',\n",
       " 'BRK.B',\n",
       " 'COST',\n",
       " 'PPBT',\n",
       " 'NOK',\n",
       " 'DUK',\n",
       " 'NCLH',\n",
       " 'GRPN',\n",
       " 'CLX',\n",
       " 'KO',\n",
       " 'MCD',\n",
       " 'IYR',\n",
       " 'PFE',\n",
       " 'V',\n",
       " 'HGSH',\n",
       " 'JNJ',\n",
       " 'MA',\n",
       " 'IEHS',\n",
       " 'PEP',\n",
       " 'AWK',\n",
       " 'INFY']"
      ]
     },
     "execution_count": 15,
     "metadata": {},
     "output_type": "execute_result"
    }
   ],
   "source": [
    "ticker_list"
   ]
  },
  {
   "cell_type": "markdown",
   "metadata": {},
   "source": [
    "## Equity Change"
   ]
  },
  {
   "cell_type": "code",
   "execution_count": 16,
   "metadata": {},
   "outputs": [
    {
     "name": "stdout",
     "output_type": "stream",
     "text": [
      "Total Common equity change value is: -0.30999999999994543\n",
      "Total Common Change Percent is: -0.007748062984252572\n"
     ]
    },
    {
     "data": {
      "image/png": "[encoded data removed]",
      "text/plain": [
       "<Figure size 1296x432 with 1 Axes>"
      ]
     },
     "metadata": {
      "needs_background": "light"
     },
     "output_type": "display_data"
    },
    {
     "data": {
      "image/png": "[encoded data removed]",
      "text/plain": [
       "<Figure size 1296x432 with 1 Axes>"
      ]
     },
     "metadata": {
      "needs_background": "light"
     },
     "output_type": "display_data"
    }
   ],
   "source": [
    "if len(ticker_list)>0:\n",
    "    equity_change={}\n",
    "    total_port_equity_change=0\n",
    "    for i in range(len(ticker_list)):\n",
    "        stock=ticker_list[i]\n",
    "        equity_change[stock]=df_equity.loc['Equity',stock]-df_suggested_equity[stock]\n",
    "        total_port_equity_change=total_port_equity_change+equity_change[stock]\n",
    "\n",
    "    equity_change_percent=total_port_equity_change/total_port_equity*100\n",
    "    df_equity_change=pd.DataFrame.from_dict(data=equity_change,orient='index',columns=['Equity_Change']).transpose()\n",
    "    df_equity_change_ratio=pd.DataFrame(df_equity_change.\n",
    "                                 div(df_suggested_equity))\n",
    "    df_equity_change_percent=pd.DataFrame(df_equity_change.\n",
    "                                 div(df_suggested_equity)*100)\n",
    "    df_equity_change_ratio.rename(index={'Equity_Change':'Equity_Change_Ratio'},inplace=True)\n",
    "    df_equity_change_percent.rename(index={'Equity_Change':'Equity_Change_Percent'},inplace=True)\n",
    "\n",
    "    if len(comm_stocks)>0:\n",
    "        equity_comm_change={}\n",
    "        total_equity_comm_change=0\n",
    "        for i in range(len(comm_stocks)):\n",
    "            comm_stock=comm_stocks[i]\n",
    "            equity_comm_change[comm_stock]=df_equity.loc['Equity',comm_stock]-df_suggested_equity[comm_stock]\n",
    "            total_equity_comm_change=total_equity_comm_change+equity_comm_change[comm_stock]\n",
    "        print('Total Common equity change value is: {}'.format(total_equity_comm_change))\n",
    "\n",
    "\n",
    "        equity_comm_change_percent=total_equity_comm_change/total_port_equity*100\n",
    "        print('Total Common Change Percent is: {}'.format(equity_comm_change_percent))\n",
    "\n",
    "        df_equity_comm_change=pd.DataFrame.from_dict(data=equity_comm_change,orient='index',columns=['Equity_Comm_Change']).transpose()\n",
    "        df_equity_comm_change_ratio=pd.DataFrame(df_equity_comm_change.\n",
    "                                         div(df_suggested_equity))\n",
    "        df_equity_comm_change_percent=df_equity_comm_change_ratio*100\n",
    "        df_equity_comm_change_ratio.rename(index={'Equity_Comm_Change':'Equity_Comm_Change_Ratio'},inplace=True)\n",
    "        df_equity_comm_change_percent.rename(index={'Equity_Comm_Change':'Equity_Comm_Change_Percent'},inplace=True)\n",
    "        ############################ Plots #####################################\n",
    "        df_equity_comm_change.sort_values(by='Equity_Comm_Change',axis=1,ascending=False).transpose().plot(kind='bar',figsize=(18,6));\n",
    "        df_equity_comm_change_percent.sort_values(by='Equity_Comm_Change_Percent',axis=1,ascending=False).transpose().plot(kind='bar',figsize=(18,6));\n",
    "    else:\n",
    "        print('no common stocks')\n",
    "\n",
    "else:\n",
    "    print('no positions')"
   ]
  },
  {
   "cell_type": "markdown",
   "metadata": {},
   "source": [
    "## Update Stop Loss"
   ]
  },
  {
   "cell_type": "markdown",
   "metadata": {},
   "source": [
    "### Stop Loss Sell Limit Price"
   ]
  },
  {
   "cell_type": "code",
   "execution_count": 17,
   "metadata": {},
   "outputs": [
    {
     "data": {
      "text/plain": [
       "{'PPBT': 3.594403744370568,\n",
       " 'BRK.B': 291.7193568774585,\n",
       " 'CLX': 167.4867474349126,\n",
       " 'KO': 56.73408957234506,\n",
       " 'GRPN': 22.373766909380198,\n",
       " 'COST': 547.9055334185598,\n",
       " 'FB': 325.19367945153914,\n",
       " 'PFE': 52.381072034168035,\n",
       " 'IYR': 112.26018223282372,\n",
       " 'INFY': 24.31172350026398,\n",
       " 'V': 207.18062087630213,\n",
       " 'VXRT': 5.072955315511978,\n",
       " 'IEHS': 44.3826927036106,\n",
       " 'ZNGA': 6.037743930234008,\n",
       " 'HGSH': 1.9844185823792388,\n",
       " 'MA': 339.3817674382816,\n",
       " 'AWK': 183.45455092887673,\n",
       " 'MCD': 258.63899003107343,\n",
       " 'JNJ': 165.1397177401251,\n",
       " 'DUK': 102.44918712939956,\n",
       " 'PEP': 167.854975597009,\n",
       " 'NCLH': 19.64383843500844,\n",
       " 'AAPL': 166.95988542841474,\n",
       " 'NOK': 6.01514202171765}"
      ]
     },
     "execution_count": 17,
     "metadata": {},
     "output_type": "execute_result"
    }
   ],
   "source": [
    "stop_loss_sell_limit_price={}\n",
    "if len(comm_stocks)>0:\n",
    "    for i in range(len(comm_stocks)):\n",
    "        stock=comm_stocks[i]\n",
    "        try:\n",
    "            stop_loss_sell_diff=df_portfolio.loc['price_bound',stock]\n",
    "            limit_price=float(share_price[stock]-stop_loss_sell_diff)\n",
    "            if limit_price<0:\n",
    "                stop_loss_sell_limit_price[stock]=0\n",
    "            else:\n",
    "                stop_loss_sell_limit_price[stock]=limit_price\n",
    "        except:\n",
    "            print(stock)\n",
    "else:\n",
    "    print('no common stocks')\n",
    "stop_loss_sell_limit_price"
   ]
  },
  {
   "cell_type": "markdown",
   "metadata": {},
   "source": [
    "### Cancel Existing Stock Orders"
   ]
  },
  {
   "cell_type": "raw",
   "metadata": {},
   "source": [
    "r.get_all_open_stock_orders()"
   ]
  },
  {
   "cell_type": "raw",
   "metadata": {},
   "source": [
    "r.orders.cancel_all_stock_orders();"
   ]
  },
  {
   "cell_type": "markdown",
   "metadata": {},
   "source": [
    "### Update Stop Loss Sell orders for all stocks"
   ]
  },
  {
   "cell_type": "raw",
   "metadata": {
    "tags": []
   },
   "source": [
    "stop_loss_sell_info={}\n",
    "if len(comm_stocks)==0:\n",
    "    print('no common stocks to update stop loss')\n",
    "else:\n",
    "    for i in range(len(comm_stocks)):\n",
    "        comm_stock=comm_stocks[i]\n",
    "        comm_stock_modified=comm_stock.replace('-','.')\n",
    "        sell_quantity=m.floor(share_quantity[comm_stock])\n",
    "        stop_price=stop_loss_sell_limit_price[comm_stock]\n",
    "        stop_loss_sell_info[comm_stock]=r.orders.order_sell_stop_loss(symbol=comm_stock_modified,\n",
    "                                                                      quantity=sell_quantity,stopPrice=stop_price,timeInForce='gtc')\n",
    "stop_loss_sell_info"
   ]
  },
  {
   "cell_type": "markdown",
   "metadata": {},
   "source": [
    "## Sell and Buy Stocks"
   ]
  },
  {
   "cell_type": "markdown",
   "metadata": {},
   "source": [
    "### Sell all portfolio stocks"
   ]
  },
  {
   "cell_type": "raw",
   "metadata": {},
   "source": [
    "for i in range(len(comm_stocks)):\n",
    "    comm_stock=comm_stocks[i]\n",
    "    qty=share_quantity.loc['quantity',comm_stock]\n",
    "    sell_order=r.orders.order_sell_fractional_by_quantity(symbol=comm_stock, \n",
    "                                               quantity=qty, \n",
    "                                               timeInForce='gfd')\n",
    "    if not sell_order['reject_reason']==None:\n",
    "        print(ticker)"
   ]
  },
  {
   "cell_type": "markdown",
   "metadata": {},
   "source": [
    "### Sell all stocks"
   ]
  },
  {
   "cell_type": "raw",
   "metadata": {},
   "source": [
    "stocks_dict=r.account.build_holdings()\n",
    "#print('Stocks are: {}'.format(stocks_dict))\n",
    "tickers=stocks_dict.keys()\n",
    "ticker_list=list(tickers)\n",
    "crypto_ticker_list=[]\n",
    "for i in range(len(crypto_holdings)):\n",
    "    qty=float(crypto_holdings[i]['cost_bases'][0]['direct_quantity'])\n",
    "    if qty>0:\n",
    "        crypto_ticker_list.append(crypto_holdings[i]['currency']['code'])\n",
    "        crypto=crypto_ticker_list[i]\n",
    "        sell_order=r.orders.order_sell_crypto_by_quantity(symbol=crypto, \n",
    "                                                   quantity=qty, \n",
    "                                                   timeInForce='gtc')\n",
    "        print('Crypto sell orders :',sell_order)\n",
    "    else:\n",
    "        print('no crypto to sell')\n",
    "\n",
    "if len(ticker_list)>0:\n",
    "    for i in range(len(ticker_list)):\n",
    "        ticker=ticker_list[i]\n",
    "        qty=share_quantity.loc['quantity',ticker]\n",
    "        sell_order=r.orders.order_sell_fractional_by_quantity(symbol=ticker, \n",
    "                                                   quantity=qty, \n",
    "                                                   timeInForce='gfd')\n",
    "        print('stocks_sell_prders :',sell_order)\n",
    "else:\n",
    "    print('no stocks to sell')"
   ]
  },
  {
   "cell_type": "markdown",
   "metadata": {},
   "source": [
    "### Buy Portfolio Stocks"
   ]
  },
  {
   "cell_type": "raw",
   "metadata": {
    "tags": []
   },
   "source": [
    "stocks_dict=r.account.build_holdings()\n",
    "#print('Stocks are: {}'.format(stocks_dict))\n",
    "tickers=stocks_dict.keys()\n",
    "ticker_list=list(tickers)\n",
    "###### Get crypto positions #####\n",
    "crypto_holdings=r.get_crypto_positions()\n",
    "### Add crypto position tickers to ticker_list ###\n",
    "for i in range(len(crypto_holdings)):\n",
    "    qty=float(crypto_holdings[i]['cost_bases'][0]['direct_quantity'])\n",
    "    if qty>0:\n",
    "        ticker_list.append(crypto_holdings[i]['currency']['code'])\n",
    "    \n",
    "for i in range(len(df_portfolio.columns)):\n",
    "    ticker_suggested=df_portfolio.columns[i]\n",
    "    ticker_suggested_modified=ticker_suggested.replace('-','.')\n",
    "    ticker_suggested_modified=ticker_suggested_modified.replace('.USD','')\n",
    "    equity=df_portfolio.loc['suggested_investment',ticker_suggested]\n",
    "    if ticker_suggested_modified not in ticker_list:\n",
    "        print('{}:{}'.format(ticker_suggested_modified,equity))\n",
    "        if ticker_suggested_modified in crypto_list:\n",
    "            buy_order=r.orders.order_buy_crypto_by_price(symbol=ticker_suggested_modified,amountInDollars=equity,\n",
    "                                                        )\n",
    "        else:\n",
    "            buy_order=r.orders.order_buy_fractional_by_price(symbol=ticker_suggested_modified, \n",
    "                                                       amountInDollars=equity, \n",
    "                                                       timeInForce='gfd')\n",
    "        print(buy_order)\n",
    "    #if not buy_order['reject_reason']==None:\n",
    "        #print(ticker)"
   ]
  },
  {
   "cell_type": "raw",
   "metadata": {},
   "source": [
    "stocks_dict=r.account.build_holdings()\n",
    "#print('Stocks are: {}'.format(stocks_dict))\n",
    "tickers=stocks_dict.keys()\n",
    "ticker_list=list(tickers)\n",
    "###### Get crypto positions #####\n",
    "crypto_holdings=r.get_crypto_positions()\n",
    "### Add crypto position tickers to ticker_list ###\n",
    "for i in range(len(crypto_holdings)):\n",
    "    ticker_list.append(crypto_holdings[i]['currency']['code'])\n",
    "for i in range(len(df_portfolio.columns)):\n",
    "    ticker_suggested=df_portfolio.columns[i]\n",
    "    ticker_suggested_modified=ticker_suggested.replace('-','.')\n",
    "    ticker_suggested_modified=ticker_suggested_modified.replace('.USD','')\n",
    "    equity=df_portfolio.loc['suggested_investment',ticker_suggested]\n",
    "    print(ticker_suggested_modified,equity)"
   ]
  },
  {
   "cell_type": "markdown",
   "metadata": {},
   "source": [
    "#### "
   ]
  }
 ],
 "metadata": {
  "kernelspec": {
   "display_name": "Python",
   "language": "python",
   "name": "conda-env-python-py"
  },
  "language_info": {
   "codemirror_mode": {
    "name": "ipython",
    "version": 3
   },
   "file_extension": ".py",
   "mimetype": "text/x-python",
   "name": "python",
   "nbconvert_exporter": "python",
   "pygments_lexer": "ipython3",
   "version": "3.7.12"
  }
 },
 "nbformat": 4,
 "nbformat_minor": 4
}
