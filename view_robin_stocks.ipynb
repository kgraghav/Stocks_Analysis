{
 "cells": [
  {
   "cell_type": "code",
   "execution_count": 1,
   "metadata": {},
   "outputs": [
    {
     "name": "stdout",
     "output_type": "stream",
     "text": [
      "Requirement already satisfied: robin_stocks in /home/jupyterlab/conda/envs/python/lib/python3.7/site-packages (2.1.0)\n",
      "Requirement already satisfied: python-dotenv in /home/jupyterlab/conda/envs/python/lib/python3.7/site-packages (from robin_stocks) (0.19.2)\n",
      "Requirement already satisfied: pyotp in /home/jupyterlab/conda/envs/python/lib/python3.7/site-packages (from robin_stocks) (2.6.0)\n",
      "Requirement already satisfied: requests in /home/jupyterlab/conda/envs/python/lib/python3.7/site-packages (from robin_stocks) (2.26.0)\n",
      "Requirement already satisfied: cryptography in /home/jupyterlab/conda/envs/python/lib/python3.7/site-packages (from robin_stocks) (36.0.0)\n",
      "Requirement already satisfied: cffi>=1.12 in /home/jupyterlab/conda/envs/python/lib/python3.7/site-packages (from cryptography->robin_stocks) (1.15.0)\n",
      "Requirement already satisfied: certifi>=2017.4.17 in /home/jupyterlab/conda/envs/python/lib/python3.7/site-packages (from requests->robin_stocks) (2021.10.8)\n",
      "Requirement already satisfied: urllib3<1.27,>=1.21.1 in /home/jupyterlab/conda/envs/python/lib/python3.7/site-packages (from requests->robin_stocks) (1.26.7)\n",
      "Requirement already satisfied: idna<4,>=2.5 in /home/jupyterlab/conda/envs/python/lib/python3.7/site-packages (from requests->robin_stocks) (3.1)\n",
      "Requirement already satisfied: charset-normalizer~=2.0.0 in /home/jupyterlab/conda/envs/python/lib/python3.7/site-packages (from requests->robin_stocks) (2.0.8)\n",
      "Requirement already satisfied: pycparser in /home/jupyterlab/conda/envs/python/lib/python3.7/site-packages (from cffi>=1.12->cryptography->robin_stocks) (2.21)\n"
     ]
    }
   ],
   "source": [
    "!pip install robin_stocks\n",
    "import robin_stocks.robinhood as r\n",
    "import pandas as pd\n",
    "import numpy as np\n",
    "import math as m\n",
    "import matplotlib.pyplot as plt"
   ]
  },
  {
   "cell_type": "markdown",
   "metadata": {},
   "source": [
    "Library: [robin_stocks](https://readthedocs.org/projects/robin-stocks/downloads/pdf/latest/)"
   ]
  },
  {
   "cell_type": "markdown",
   "metadata": {},
   "source": [
    "## Authentication and Login"
   ]
  },
  {
   "cell_type": "code",
   "execution_count": 2,
   "metadata": {},
   "outputs": [],
   "source": [
    "login = r.login('kgraghav@mtu.edu','0214@Kgraghavan',store_session=True)"
   ]
  },
  {
   "cell_type": "markdown",
   "metadata": {
    "tags": []
   },
   "source": [
    "## List of Cryptocurrencies available"
   ]
  },
  {
   "cell_type": "code",
   "execution_count": 3,
   "metadata": {},
   "outputs": [],
   "source": [
    "crypto_info=r.crypto.get_crypto_currency_pairs()\n",
    "crypto_list=[]\n",
    "for i in range(len(crypto_info)):\n",
    "    crypto_list.append(crypto_info[i]['asset_currency']['code'])"
   ]
  },
  {
   "cell_type": "markdown",
   "metadata": {},
   "source": [
    "## Read in Portfolio"
   ]
  },
  {
   "cell_type": "code",
   "execution_count": 4,
   "metadata": {},
   "outputs": [
    {
     "data": {
      "text/html": [
       "<div>\n",
       "<style scoped>\n",
       "    .dataframe tbody tr th:only-of-type {\n",
       "        vertical-align: middle;\n",
       "    }\n",
       "\n",
       "    .dataframe tbody tr th {\n",
       "        vertical-align: top;\n",
       "    }\n",
       "\n",
       "    .dataframe thead th {\n",
       "        text-align: right;\n",
       "    }\n",
       "</style>\n",
       "<table border=\"1\" class=\"dataframe\">\n",
       "  <thead>\n",
       "    <tr style=\"text-align: right;\">\n",
       "      <th></th>\n",
       "      <th>HGSH</th>\n",
       "      <th>AAPL</th>\n",
       "      <th>V</th>\n",
       "      <th>NOK</th>\n",
       "      <th>DMLRY</th>\n",
       "      <th>KO</th>\n",
       "      <th>MCD</th>\n",
       "      <th>MA</th>\n",
       "      <th>JNJ</th>\n",
       "      <th>VWAGY</th>\n",
       "      <th>...</th>\n",
       "      <th>AXP</th>\n",
       "      <th>TTM</th>\n",
       "      <th>GPRO</th>\n",
       "      <th>IYR</th>\n",
       "      <th>DUK</th>\n",
       "      <th>XHB</th>\n",
       "      <th>OTIS</th>\n",
       "      <th>BRK.B</th>\n",
       "      <th>DIA</th>\n",
       "      <th>F</th>\n",
       "    </tr>\n",
       "    <tr>\n",
       "      <th>Parameters</th>\n",
       "      <th></th>\n",
       "      <th></th>\n",
       "      <th></th>\n",
       "      <th></th>\n",
       "      <th></th>\n",
       "      <th></th>\n",
       "      <th></th>\n",
       "      <th></th>\n",
       "      <th></th>\n",
       "      <th></th>\n",
       "      <th></th>\n",
       "      <th></th>\n",
       "      <th></th>\n",
       "      <th></th>\n",
       "      <th></th>\n",
       "      <th></th>\n",
       "      <th></th>\n",
       "      <th></th>\n",
       "      <th></th>\n",
       "      <th></th>\n",
       "      <th></th>\n",
       "    </tr>\n",
       "  </thead>\n",
       "  <tbody>\n",
       "    <tr>\n",
       "      <th>reward</th>\n",
       "      <td>1267.018896</td>\n",
       "      <td>800.884962</td>\n",
       "      <td>599.032676</td>\n",
       "      <td>533.855315</td>\n",
       "      <td>509.225912</td>\n",
       "      <td>527.466439</td>\n",
       "      <td>475.498041</td>\n",
       "      <td>562.337472</td>\n",
       "      <td>456.151278</td>\n",
       "      <td>565.929646</td>\n",
       "      <td>...</td>\n",
       "      <td>386.786068</td>\n",
       "      <td>290.142236</td>\n",
       "      <td>337.407200</td>\n",
       "      <td>242.991704</td>\n",
       "      <td>258.660215</td>\n",
       "      <td>276.536273</td>\n",
       "      <td>257.173065</td>\n",
       "      <td>235.812835</td>\n",
       "      <td>195.440666</td>\n",
       "      <td>264.229781</td>\n",
       "    </tr>\n",
       "    <tr>\n",
       "      <th>risk</th>\n",
       "      <td>1.212767</td>\n",
       "      <td>1.096215</td>\n",
       "      <td>1.268045</td>\n",
       "      <td>1.131033</td>\n",
       "      <td>1.194816</td>\n",
       "      <td>1.313989</td>\n",
       "      <td>1.220403</td>\n",
       "      <td>1.460342</td>\n",
       "      <td>1.189409</td>\n",
       "      <td>1.666285</td>\n",
       "      <td>...</td>\n",
       "      <td>2.129563</td>\n",
       "      <td>1.610965</td>\n",
       "      <td>2.056194</td>\n",
       "      <td>1.503925</td>\n",
       "      <td>1.635466</td>\n",
       "      <td>1.757827</td>\n",
       "      <td>1.880655</td>\n",
       "      <td>1.908171</td>\n",
       "      <td>1.864220</td>\n",
       "      <td>2.750553</td>\n",
       "    </tr>\n",
       "    <tr>\n",
       "      <th>returns_ratio</th>\n",
       "      <td>1044.734027</td>\n",
       "      <td>730.591407</td>\n",
       "      <td>472.406532</td>\n",
       "      <td>472.006664</td>\n",
       "      <td>426.196076</td>\n",
       "      <td>401.423921</td>\n",
       "      <td>389.623803</td>\n",
       "      <td>385.072390</td>\n",
       "      <td>383.510978</td>\n",
       "      <td>339.635610</td>\n",
       "      <td>...</td>\n",
       "      <td>181.626931</td>\n",
       "      <td>180.104658</td>\n",
       "      <td>164.093068</td>\n",
       "      <td>161.571674</td>\n",
       "      <td>158.156924</td>\n",
       "      <td>157.317080</td>\n",
       "      <td>136.746515</td>\n",
       "      <td>123.580548</td>\n",
       "      <td>104.837780</td>\n",
       "      <td>96.064235</td>\n",
       "    </tr>\n",
       "    <tr>\n",
       "      <th>weight</th>\n",
       "      <td>0.129461</td>\n",
       "      <td>0.090533</td>\n",
       "      <td>0.058540</td>\n",
       "      <td>0.058490</td>\n",
       "      <td>0.052813</td>\n",
       "      <td>0.049744</td>\n",
       "      <td>0.048281</td>\n",
       "      <td>0.047717</td>\n",
       "      <td>0.047524</td>\n",
       "      <td>0.042087</td>\n",
       "      <td>...</td>\n",
       "      <td>0.022507</td>\n",
       "      <td>0.022318</td>\n",
       "      <td>0.020334</td>\n",
       "      <td>0.020022</td>\n",
       "      <td>0.019598</td>\n",
       "      <td>0.019494</td>\n",
       "      <td>0.016945</td>\n",
       "      <td>0.015314</td>\n",
       "      <td>0.012991</td>\n",
       "      <td>0.011904</td>\n",
       "    </tr>\n",
       "    <tr>\n",
       "      <th>price_bound</th>\n",
       "      <td>0.165498</td>\n",
       "      <td>6.038703</td>\n",
       "      <td>9.488607</td>\n",
       "      <td>0.166541</td>\n",
       "      <td>0.823050</td>\n",
       "      <td>2.441963</td>\n",
       "      <td>8.591611</td>\n",
       "      <td>19.274875</td>\n",
       "      <td>4.856972</td>\n",
       "      <td>2.095837</td>\n",
       "      <td>...</td>\n",
       "      <td>10.196226</td>\n",
       "      <td>1.085032</td>\n",
       "      <td>0.549991</td>\n",
       "      <td>2.861450</td>\n",
       "      <td>3.148595</td>\n",
       "      <td>3.052414</td>\n",
       "      <td>3.094376</td>\n",
       "      <td>9.803524</td>\n",
       "      <td>9.789589</td>\n",
       "      <td>1.067714</td>\n",
       "    </tr>\n",
       "    <tr>\n",
       "      <th>suggested_investment</th>\n",
       "      <td>388.513479</td>\n",
       "      <td>271.690786</td>\n",
       "      <td>175.677541</td>\n",
       "      <td>175.528839</td>\n",
       "      <td>158.492895</td>\n",
       "      <td>149.280678</td>\n",
       "      <td>144.892475</td>\n",
       "      <td>143.199906</td>\n",
       "      <td>142.619251</td>\n",
       "      <td>126.302972</td>\n",
       "      <td>...</td>\n",
       "      <td>67.543039</td>\n",
       "      <td>66.976939</td>\n",
       "      <td>61.022583</td>\n",
       "      <td>60.084932</td>\n",
       "      <td>58.815062</td>\n",
       "      <td>58.502743</td>\n",
       "      <td>50.853005</td>\n",
       "      <td>45.956873</td>\n",
       "      <td>38.986852</td>\n",
       "      <td>35.724165</td>\n",
       "    </tr>\n",
       "  </tbody>\n",
       "</table>\n",
       "<p>6 rows × 26 columns</p>\n",
       "</div>"
      ],
      "text/plain": [
       "                             HGSH        AAPL           V         NOK  \\\n",
       "Parameters                                                              \n",
       "reward                1267.018896  800.884962  599.032676  533.855315   \n",
       "risk                     1.212767    1.096215    1.268045    1.131033   \n",
       "returns_ratio         1044.734027  730.591407  472.406532  472.006664   \n",
       "weight                   0.129461    0.090533    0.058540    0.058490   \n",
       "price_bound              0.165498    6.038703    9.488607    0.166541   \n",
       "suggested_investment   388.513479  271.690786  175.677541  175.528839   \n",
       "\n",
       "                           DMLRY          KO         MCD          MA  \\\n",
       "Parameters                                                             \n",
       "reward                509.225912  527.466439  475.498041  562.337472   \n",
       "risk                    1.194816    1.313989    1.220403    1.460342   \n",
       "returns_ratio         426.196076  401.423921  389.623803  385.072390   \n",
       "weight                  0.052813    0.049744    0.048281    0.047717   \n",
       "price_bound             0.823050    2.441963    8.591611   19.274875   \n",
       "suggested_investment  158.492895  149.280678  144.892475  143.199906   \n",
       "\n",
       "                             JNJ       VWAGY  ...         AXP         TTM  \\\n",
       "Parameters                                    ...                           \n",
       "reward                456.151278  565.929646  ...  386.786068  290.142236   \n",
       "risk                    1.189409    1.666285  ...    2.129563    1.610965   \n",
       "returns_ratio         383.510978  339.635610  ...  181.626931  180.104658   \n",
       "weight                  0.047524    0.042087  ...    0.022507    0.022318   \n",
       "price_bound             4.856972    2.095837  ...   10.196226    1.085032   \n",
       "suggested_investment  142.619251  126.302972  ...   67.543039   66.976939   \n",
       "\n",
       "                            GPRO         IYR         DUK         XHB  \\\n",
       "Parameters                                                             \n",
       "reward                337.407200  242.991704  258.660215  276.536273   \n",
       "risk                    2.056194    1.503925    1.635466    1.757827   \n",
       "returns_ratio         164.093068  161.571674  158.156924  157.317080   \n",
       "weight                  0.020334    0.020022    0.019598    0.019494   \n",
       "price_bound             0.549991    2.861450    3.148595    3.052414   \n",
       "suggested_investment   61.022583   60.084932   58.815062   58.502743   \n",
       "\n",
       "                            OTIS       BRK.B         DIA           F  \n",
       "Parameters                                                            \n",
       "reward                257.173065  235.812835  195.440666  264.229781  \n",
       "risk                    1.880655    1.908171    1.864220    2.750553  \n",
       "returns_ratio         136.746515  123.580548  104.837780   96.064235  \n",
       "weight                  0.016945    0.015314    0.012991    0.011904  \n",
       "price_bound             3.094376    9.803524    9.789589    1.067714  \n",
       "suggested_investment   50.853005   45.956873   38.986852   35.724165  \n",
       "\n",
       "[6 rows x 26 columns]"
      ]
     },
     "execution_count": 4,
     "metadata": {},
     "output_type": "execute_result"
    }
   ],
   "source": [
    "df_portfolio=pd.read_csv('portfolio.csv')\n",
    "df_portfolio.set_index('Parameters',inplace=True)\n",
    "columns_list=df_portfolio.columns.tolist()\n",
    "columns_dict={}\n",
    "for stock in columns_list:\n",
    "    stock_str_rep=stock.replace('-','.')\n",
    "    columns_dict[stock]=stock_str_rep\n",
    "df_portfolio.rename(columns=columns_dict,inplace=True)\n",
    "df_portfolio.sort_values(by='weight',axis=1,ascending=False)"
   ]
  },
  {
   "cell_type": "code",
   "execution_count": 5,
   "metadata": {},
   "outputs": [],
   "source": [
    "port_stocks=df_portfolio.columns.tolist()"
   ]
  },
  {
   "cell_type": "code",
   "execution_count": 6,
   "metadata": {},
   "outputs": [
    {
     "name": "stdout",
     "output_type": "stream",
     "text": [
      "Total suggested equity value is: 3000.9999999999995\n"
     ]
    },
    {
     "data": {
      "image/png": "[encoded data removed]",
      "text/plain": [
       "<Figure size 864x576 with 1 Axes>"
      ]
     },
     "metadata": {
      "needs_background": "light"
     },
     "output_type": "display_data"
    }
   ],
   "source": [
    "df_suggested_equity=df_portfolio.loc['suggested_investment',:]\n",
    "df_suggested_equity.transpose().plot(kind='bar',figsize=(12,8));\n",
    "total_port_equity=df_suggested_equity.sum()\n",
    "print('Total suggested equity value is: {}'.format(total_port_equity))\n"
   ]
  },
  {
   "cell_type": "markdown",
   "metadata": {},
   "source": [
    "## Print total stocks value"
   ]
  },
  {
   "cell_type": "code",
   "execution_count": 7,
   "metadata": {},
   "outputs": [
    {
     "name": "stdout",
     "output_type": "stream",
     "text": [
      "['AAPL', 'TTM', 'F', 'GPRO', 'SSL', 'BRK.B', 'NOK', 'DUK', 'H', 'KO', 'XHB', 'OTIS', 'MCD', 'IYR', 'DIA', 'V', 'SBUX', 'HGSH', 'JNJ', 'MA', 'IEHS', 'VWAGY', 'DMLRY', 'PEP', 'AWK', 'AXP']\n"
     ]
    }
   ],
   "source": [
    "stocks_dict=r.account.build_holdings()\n",
    "#print('Stocks are: {}'.format(stocks_dict))\n",
    "tickers=stocks_dict.keys()\n",
    "ticker_list=list(tickers)\n",
    "for ticker in ticker_list:\n",
    "    ticker.replace('-','.')\n",
    "print(ticker_list)\n",
    "###### Get crypto positions #####\n",
    "crypto_holdings=r.get_crypto_positions()"
   ]
  },
  {
   "cell_type": "code",
   "execution_count": 8,
   "metadata": {},
   "outputs": [],
   "source": [
    "price_list=[float(stocks_dict[ticker]['equity']) for ticker in ticker_list]\n",
    "for i in range(len(crypto_holdings)):\n",
    "    crypto_ticker=crypto_holdings[i]['currency']['code'].replace('-USD','')\n",
    "    crypto_qty=float(crypto_holdings[i]['cost_bases'][0]['direct_quantity'])\n",
    "    crypto_mark_price=float(r.get_crypto_quote(symbol=crypto_ticker,info='mark_price'))\n",
    "    crypto_price=crypto_qty*crypto_mark_price\n",
    "    price_list.append(crypto_price)"
   ]
  },
  {
   "cell_type": "code",
   "execution_count": 9,
   "metadata": {},
   "outputs": [],
   "source": [
    "### Add crypto position tickers to crypto_list ###\n",
    "for i in range(len(crypto_holdings)):\n",
    "    ticker_list.append('{}.USD'.format(crypto_holdings[i]['currency']['code']))"
   ]
  },
  {
   "cell_type": "markdown",
   "metadata": {},
   "source": [
    "## Stocks common to portfolio and investment"
   ]
  },
  {
   "cell_type": "code",
   "execution_count": 10,
   "metadata": {},
   "outputs": [
    {
     "name": "stdout",
     "output_type": "stream",
     "text": [
      "Stocks common to recommended and actual portfolio:  ['F', 'BRK.B', 'VWAGY', 'KO', 'H', 'IYR', 'GPRO', 'DIA', 'AXP', 'V', 'SBUX', 'DMLRY', 'IEHS', 'XHB', 'HGSH', 'MA', 'AWK', 'MCD', 'JNJ', 'PEP', 'DUK', 'OTIS', 'TTM', 'AAPL', 'SSL', 'NOK']\n"
     ]
    }
   ],
   "source": [
    "comm_stocks=list(set(port_stocks).intersection(set(ticker_list)))\n",
    "print('Stocks common to recommended and actual portfolio: ',comm_stocks)\n",
    "port_stocks=[stock.replace('-','.') for stock in port_stocks]"
   ]
  },
  {
   "cell_type": "markdown",
   "metadata": {},
   "source": [
    "## Stocks not common"
   ]
  },
  {
   "cell_type": "markdown",
   "metadata": {},
   "source": [
    "### Stock in recommended portfolio but not in actual portfolio"
   ]
  },
  {
   "cell_type": "code",
   "execution_count": 11,
   "metadata": {},
   "outputs": [
    {
     "data": {
      "text/plain": [
       "[]"
      ]
     },
     "execution_count": 11,
     "metadata": {},
     "output_type": "execute_result"
    }
   ],
   "source": [
    "not_in_ticker_list=[stock for stock in port_stocks if stock not in ticker_list]\n",
    "not_in_ticker_list"
   ]
  },
  {
   "cell_type": "markdown",
   "metadata": {},
   "source": [
    "### Stock in  actual portfolio but not in recommended portfolio"
   ]
  },
  {
   "cell_type": "code",
   "execution_count": 12,
   "metadata": {},
   "outputs": [
    {
     "data": {
      "text/plain": [
       "['LTC.USD', 'DOGE.USD', 'ETH.USD', 'BTC.USD']"
      ]
     },
     "execution_count": 12,
     "metadata": {},
     "output_type": "execute_result"
    }
   ],
   "source": [
    "not_in_port_stocks=[ticker for ticker in ticker_list if ticker not in port_stocks]\n",
    "not_in_port_stocks"
   ]
  },
  {
   "cell_type": "markdown",
   "metadata": {},
   "source": [
    "## Share Price"
   ]
  },
  {
   "cell_type": "code",
   "execution_count": 13,
   "metadata": {},
   "outputs": [
    {
     "data": {
      "text/html": [
       "<div>\n",
       "<style scoped>\n",
       "    .dataframe tbody tr th:only-of-type {\n",
       "        vertical-align: middle;\n",
       "    }\n",
       "\n",
       "    .dataframe tbody tr th {\n",
       "        vertical-align: top;\n",
       "    }\n",
       "\n",
       "    .dataframe thead th {\n",
       "        text-align: right;\n",
       "    }\n",
       "</style>\n",
       "<table border=\"1\" class=\"dataframe\">\n",
       "  <thead>\n",
       "    <tr style=\"text-align: right;\">\n",
       "      <th></th>\n",
       "      <th>AAPL</th>\n",
       "      <th>TTM</th>\n",
       "      <th>F</th>\n",
       "      <th>GPRO</th>\n",
       "      <th>SSL</th>\n",
       "      <th>BRK.B</th>\n",
       "      <th>NOK</th>\n",
       "      <th>DUK</th>\n",
       "      <th>H</th>\n",
       "      <th>KO</th>\n",
       "      <th>...</th>\n",
       "      <th>SBUX</th>\n",
       "      <th>HGSH</th>\n",
       "      <th>JNJ</th>\n",
       "      <th>MA</th>\n",
       "      <th>IEHS</th>\n",
       "      <th>VWAGY</th>\n",
       "      <th>DMLRY</th>\n",
       "      <th>PEP</th>\n",
       "      <th>AWK</th>\n",
       "      <th>AXP</th>\n",
       "    </tr>\n",
       "  </thead>\n",
       "  <tbody>\n",
       "    <tr>\n",
       "      <th>price</th>\n",
       "      <td>179.6399</td>\n",
       "      <td>31.54</td>\n",
       "      <td>20.785</td>\n",
       "      <td>10.685</td>\n",
       "      <td>16.335</td>\n",
       "      <td>295.5802</td>\n",
       "      <td>6.335</td>\n",
       "      <td>102.8719</td>\n",
       "      <td>95.18</td>\n",
       "      <td>58.57</td>\n",
       "      <td>...</td>\n",
       "      <td>114.08</td>\n",
       "      <td>2.3399</td>\n",
       "      <td>169.35</td>\n",
       "      <td>359.76</td>\n",
       "      <td>45.3699</td>\n",
       "      <td>29.8765</td>\n",
       "      <td>24.03</td>\n",
       "      <td>170.845</td>\n",
       "      <td>183.72</td>\n",
       "      <td>164.1846</td>\n",
       "    </tr>\n",
       "  </tbody>\n",
       "</table>\n",
       "<p>1 rows × 26 columns</p>\n",
       "</div>"
      ],
      "text/plain": [
       "           AAPL    TTM       F    GPRO     SSL     BRK.B    NOK       DUK  \\\n",
       "price  179.6399  31.54  20.785  10.685  16.335  295.5802  6.335  102.8719   \n",
       "\n",
       "           H     KO  ...    SBUX    HGSH     JNJ      MA     IEHS    VWAGY  \\\n",
       "price  95.18  58.57  ...  114.08  2.3399  169.35  359.76  45.3699  29.8765   \n",
       "\n",
       "       DMLRY      PEP     AWK       AXP  \n",
       "price  24.03  170.845  183.72  164.1846  \n",
       "\n",
       "[1 rows x 26 columns]"
      ]
     },
     "execution_count": 13,
     "metadata": {},
     "output_type": "execute_result"
    }
   ],
   "source": [
    "share_price={}\n",
    "share_price_values=[float(stocks_dict[ticker]['price']) for ticker in tickers]\n",
    "for i in range(len(tickers)):\n",
    "    ticker=ticker_list[i]\n",
    "    share_price[ticker]=share_price_values[i]\n",
    "share_price=pd.DataFrame(share_price,index=['price'])\n",
    "share_price"
   ]
  },
  {
   "cell_type": "markdown",
   "metadata": {},
   "source": [
    "## Share Quantity"
   ]
  },
  {
   "cell_type": "code",
   "execution_count": 14,
   "metadata": {},
   "outputs": [
    {
     "data": {
      "text/html": [
       "<div>\n",
       "<style scoped>\n",
       "    .dataframe tbody tr th:only-of-type {\n",
       "        vertical-align: middle;\n",
       "    }\n",
       "\n",
       "    .dataframe tbody tr th {\n",
       "        vertical-align: top;\n",
       "    }\n",
       "\n",
       "    .dataframe thead th {\n",
       "        text-align: right;\n",
       "    }\n",
       "</style>\n",
       "<table border=\"1\" class=\"dataframe\">\n",
       "  <thead>\n",
       "    <tr style=\"text-align: right;\">\n",
       "      <th></th>\n",
       "      <th>AAPL</th>\n",
       "      <th>TTM</th>\n",
       "      <th>F</th>\n",
       "      <th>GPRO</th>\n",
       "      <th>SSL</th>\n",
       "      <th>BRK.B</th>\n",
       "      <th>NOK</th>\n",
       "      <th>DUK</th>\n",
       "      <th>H</th>\n",
       "      <th>KO</th>\n",
       "      <th>...</th>\n",
       "      <th>SBUX</th>\n",
       "      <th>HGSH</th>\n",
       "      <th>JNJ</th>\n",
       "      <th>MA</th>\n",
       "      <th>IEHS</th>\n",
       "      <th>VWAGY</th>\n",
       "      <th>DMLRY</th>\n",
       "      <th>PEP</th>\n",
       "      <th>AWK</th>\n",
       "      <th>AXP</th>\n",
       "    </tr>\n",
       "  </thead>\n",
       "  <tbody>\n",
       "    <tr>\n",
       "      <th>quantity</th>\n",
       "      <td>1.57</td>\n",
       "      <td>2.12</td>\n",
       "      <td>1.82</td>\n",
       "      <td>5.89</td>\n",
       "      <td>4.96</td>\n",
       "      <td>0.1558</td>\n",
       "      <td>29.35</td>\n",
       "      <td>0.5682</td>\n",
       "      <td>1.22</td>\n",
       "      <td>2.56</td>\n",
       "      <td>...</td>\n",
       "      <td>0.9178</td>\n",
       "      <td>166.761233</td>\n",
       "      <td>0.8353</td>\n",
       "      <td>0.4252</td>\n",
       "      <td>1.56</td>\n",
       "      <td>4.0</td>\n",
       "      <td>7.0</td>\n",
       "      <td>0.7342</td>\n",
       "      <td>0.5945</td>\n",
       "      <td>0.4216</td>\n",
       "    </tr>\n",
       "  </tbody>\n",
       "</table>\n",
       "<p>1 rows × 26 columns</p>\n",
       "</div>"
      ],
      "text/plain": [
       "          AAPL   TTM     F  GPRO   SSL   BRK.B    NOK     DUK     H    KO  \\\n",
       "quantity  1.57  2.12  1.82  5.89  4.96  0.1558  29.35  0.5682  1.22  2.56   \n",
       "\n",
       "          ...    SBUX        HGSH     JNJ      MA  IEHS  VWAGY  DMLRY     PEP  \\\n",
       "quantity  ...  0.9178  166.761233  0.8353  0.4252  1.56    4.0    7.0  0.7342   \n",
       "\n",
       "             AWK     AXP  \n",
       "quantity  0.5945  0.4216  \n",
       "\n",
       "[1 rows x 26 columns]"
      ]
     },
     "execution_count": 14,
     "metadata": {},
     "output_type": "execute_result"
    }
   ],
   "source": [
    "share_quantity={}\n",
    "share_quantities=[float(stocks_dict[ticker]['quantity']) for ticker in tickers]\n",
    "for i in range(len(tickers)):\n",
    "    ticker=ticker_list[i]\n",
    "    share_quantity[ticker]=share_quantities[i]\n",
    "share_quantity=pd.DataFrame(share_quantity,index=['quantity'])\n",
    "share_quantity"
   ]
  },
  {
   "cell_type": "markdown",
   "metadata": {},
   "source": [
    "## Total Equity"
   ]
  },
  {
   "cell_type": "code",
   "execution_count": 15,
   "metadata": {},
   "outputs": [
    {
     "name": "stdout",
     "output_type": "stream",
     "text": [
      "Total Stocks equity value is: 9637.008595698926\n",
      "Total Common Stocks equity value is: 3082.6299999999997\n"
     ]
    },
    {
     "data": {
      "text/html": [
       "<div>\n",
       "<style scoped>\n",
       "    .dataframe tbody tr th:only-of-type {\n",
       "        vertical-align: middle;\n",
       "    }\n",
       "\n",
       "    .dataframe tbody tr th {\n",
       "        vertical-align: top;\n",
       "    }\n",
       "\n",
       "    .dataframe thead th {\n",
       "        text-align: right;\n",
       "    }\n",
       "</style>\n",
       "<table border=\"1\" class=\"dataframe\">\n",
       "  <thead>\n",
       "    <tr style=\"text-align: right;\">\n",
       "      <th></th>\n",
       "      <th>BTC.USD</th>\n",
       "      <th>HGSH</th>\n",
       "      <th>AAPL</th>\n",
       "      <th>NOK</th>\n",
       "      <th>V</th>\n",
       "      <th>DMLRY</th>\n",
       "      <th>MA</th>\n",
       "      <th>KO</th>\n",
       "      <th>MCD</th>\n",
       "      <th>JNJ</th>\n",
       "      <th>...</th>\n",
       "      <th>IYR</th>\n",
       "      <th>XHB</th>\n",
       "      <th>DUK</th>\n",
       "      <th>OTIS</th>\n",
       "      <th>BRK.B</th>\n",
       "      <th>DIA</th>\n",
       "      <th>F</th>\n",
       "      <th>LTC.USD</th>\n",
       "      <th>DOGE.USD</th>\n",
       "      <th>ETH.USD</th>\n",
       "    </tr>\n",
       "  </thead>\n",
       "  <tbody>\n",
       "    <tr>\n",
       "      <th>Equity</th>\n",
       "      <td>6554.378596</td>\n",
       "      <td>390.2</td>\n",
       "      <td>282.03</td>\n",
       "      <td>185.93</td>\n",
       "      <td>182.69</td>\n",
       "      <td>168.21</td>\n",
       "      <td>152.97</td>\n",
       "      <td>149.94</td>\n",
       "      <td>147.95</td>\n",
       "      <td>141.46</td>\n",
       "      <td>...</td>\n",
       "      <td>61.72</td>\n",
       "      <td>59.3</td>\n",
       "      <td>58.45</td>\n",
       "      <td>52.38</td>\n",
       "      <td>46.05</td>\n",
       "      <td>39.73</td>\n",
       "      <td>37.83</td>\n",
       "      <td>0.0</td>\n",
       "      <td>0.0</td>\n",
       "      <td>0.0</td>\n",
       "    </tr>\n",
       "  </tbody>\n",
       "</table>\n",
       "<p>1 rows × 30 columns</p>\n",
       "</div>"
      ],
      "text/plain": [
       "            BTC.USD   HGSH    AAPL     NOK       V   DMLRY      MA      KO  \\\n",
       "Equity  6554.378596  390.2  282.03  185.93  182.69  168.21  152.97  149.94   \n",
       "\n",
       "           MCD     JNJ  ...    IYR   XHB    DUK   OTIS  BRK.B    DIA      F  \\\n",
       "Equity  147.95  141.46  ...  61.72  59.3  58.45  52.38  46.05  39.73  37.83   \n",
       "\n",
       "        LTC.USD  DOGE.USD  ETH.USD  \n",
       "Equity      0.0       0.0      0.0  \n",
       "\n",
       "[1 rows x 30 columns]"
      ]
     },
     "execution_count": 15,
     "metadata": {},
     "output_type": "execute_result"
    },
    {
     "data": {
      "image/png": "[encoded data removed]",
      "text/plain": [
       "<Figure size 864x576 with 1 Axes>"
      ]
     },
     "metadata": {
      "needs_background": "light"
     },
     "output_type": "display_data"
    }
   ],
   "source": [
    "equity={}\n",
    "total_equity=0\n",
    "for i in range(len(ticker_list)):\n",
    "    ticker=ticker_list[i]\n",
    "    equity[ticker]=price_list[i]\n",
    "    total_equity=total_equity+equity[ticker]\n",
    "print('Total Stocks equity value is: {}'.format(total_equity))\n",
    "\n",
    "equity_comm={}\n",
    "total_comm_equity=0\n",
    "for i in range(len(comm_stocks)):\n",
    "    ticker=comm_stocks[i]\n",
    "    equity_comm[ticker]=price_list[i]\n",
    "    total_comm_equity=total_comm_equity+equity_comm[ticker]\n",
    "print('Total Common Stocks equity value is: {}'.format(total_comm_equity))\n",
    "\n",
    "df_equity=pd.DataFrame.from_dict(data=equity,orient='index',columns=['Equity'])\n",
    "df_equity.sort_values(by='Equity',axis=0,ascending=False).plot(kind='bar',figsize=(12,8));\n",
    "df_equity=df_equity.transpose()\n",
    "df_equity.sort_values(by='Equity',axis=1,ascending=False)"
   ]
  },
  {
   "cell_type": "markdown",
   "metadata": {},
   "source": [
    "## Equity Change"
   ]
  },
  {
   "cell_type": "code",
   "execution_count": 16,
   "metadata": {},
   "outputs": [
    {
     "name": "stdout",
     "output_type": "stream",
     "text": [
      "Total Common equity change value is: 81.63\n",
      "Total Common Change Percent is: 2.7200933022325895\n"
     ]
    },
    {
     "data": {
      "text/html": [
       "<div>\n",
       "<style scoped>\n",
       "    .dataframe tbody tr th:only-of-type {\n",
       "        vertical-align: middle;\n",
       "    }\n",
       "\n",
       "    .dataframe tbody tr th {\n",
       "        vertical-align: top;\n",
       "    }\n",
       "\n",
       "    .dataframe thead th {\n",
       "        text-align: right;\n",
       "    }\n",
       "</style>\n",
       "<table border=\"1\" class=\"dataframe\">\n",
       "  <thead>\n",
       "    <tr style=\"text-align: right;\">\n",
       "      <th></th>\n",
       "      <th>BTC.USD</th>\n",
       "      <th>HGSH</th>\n",
       "      <th>AAPL</th>\n",
       "      <th>NOK</th>\n",
       "      <th>V</th>\n",
       "      <th>DMLRY</th>\n",
       "      <th>MA</th>\n",
       "      <th>KO</th>\n",
       "      <th>MCD</th>\n",
       "      <th>JNJ</th>\n",
       "      <th>...</th>\n",
       "      <th>IYR</th>\n",
       "      <th>XHB</th>\n",
       "      <th>DUK</th>\n",
       "      <th>OTIS</th>\n",
       "      <th>BRK.B</th>\n",
       "      <th>DIA</th>\n",
       "      <th>F</th>\n",
       "      <th>LTC.USD</th>\n",
       "      <th>DOGE.USD</th>\n",
       "      <th>ETH.USD</th>\n",
       "    </tr>\n",
       "  </thead>\n",
       "  <tbody>\n",
       "    <tr>\n",
       "      <th>Equity_Change</th>\n",
       "      <td>6378.849756</td>\n",
       "      <td>214.671161</td>\n",
       "      <td>106.501161</td>\n",
       "      <td>10.401161</td>\n",
       "      <td>7.161161</td>\n",
       "      <td>-7.318839</td>\n",
       "      <td>-22.558839</td>\n",
       "      <td>-25.588839</td>\n",
       "      <td>-27.578839</td>\n",
       "      <td>-34.068839</td>\n",
       "      <td>...</td>\n",
       "      <td>-113.808839</td>\n",
       "      <td>-116.228839</td>\n",
       "      <td>-117.078839</td>\n",
       "      <td>-123.148839</td>\n",
       "      <td>-129.478839</td>\n",
       "      <td>-135.798839</td>\n",
       "      <td>-137.698839</td>\n",
       "      <td>-175.528839</td>\n",
       "      <td>-175.528839</td>\n",
       "      <td>-175.528839</td>\n",
       "    </tr>\n",
       "  </tbody>\n",
       "</table>\n",
       "<p>1 rows × 30 columns</p>\n",
       "</div>"
      ],
      "text/plain": [
       "                   BTC.USD        HGSH        AAPL        NOK         V  \\\n",
       "Equity_Change  6378.849756  214.671161  106.501161  10.401161  7.161161   \n",
       "\n",
       "                  DMLRY         MA         KO        MCD        JNJ  ...  \\\n",
       "Equity_Change -7.318839 -22.558839 -25.588839 -27.578839 -34.068839  ...   \n",
       "\n",
       "                      IYR         XHB         DUK        OTIS       BRK.B  \\\n",
       "Equity_Change -113.808839 -116.228839 -117.078839 -123.148839 -129.478839   \n",
       "\n",
       "                      DIA           F     LTC.USD    DOGE.USD     ETH.USD  \n",
       "Equity_Change -135.798839 -137.698839 -175.528839 -175.528839 -175.528839  \n",
       "\n",
       "[1 rows x 30 columns]"
      ]
     },
     "execution_count": 16,
     "metadata": {},
     "output_type": "execute_result"
    },
    {
     "data": {
      "image/png": "[encoded data removed]",
      "text/plain": [
       "<Figure size 1296x432 with 1 Axes>"
      ]
     },
     "metadata": {
      "needs_background": "light"
     },
     "output_type": "display_data"
    },
    {
     "data": {
      "image/png": "[encoded data removed]",
      "text/plain": [
       "<Figure size 1296x432 with 1 Axes>"
      ]
     },
     "metadata": {
      "needs_background": "light"
     },
     "output_type": "display_data"
    }
   ],
   "source": [
    "equity_comm_change={}\n",
    "total_equity_comm_change=0\n",
    "for i in range(len(comm_stocks)):\n",
    "    comm_stock=comm_stocks[i]\n",
    "    equity_comm_change[comm_stock]=df_equity.loc['Equity',comm_stock]-df_suggested_equity[comm_stock]\n",
    "    total_equity_comm_change=total_equity_comm_change+equity_comm_change[comm_stock]\n",
    "print('Total Common equity change value is: {}'.format(total_equity_comm_change))\n",
    "    \n",
    "equity_change={}\n",
    "total_port_equity_change=0\n",
    "for i in range(len(ticker_list)):\n",
    "    stock=ticker_list[i]\n",
    "    equity_change[stock]=df_equity.loc['Equity',stock]-df_suggested_equity[comm_stock]\n",
    "    total_port_equity_change=total_port_equity_change+equity_change[stock]\n",
    "\n",
    "\n",
    "equity_change_percent=total_port_equity_change/total_port_equity*100\n",
    "\n",
    "equity_comm_change_percent=total_equity_comm_change/total_port_equity*100\n",
    "print('Total Common Change Percent is: {}'.format(equity_comm_change_percent))\n",
    "\n",
    "df_equity_change=pd.DataFrame.from_dict(data=equity_change,orient='index',columns=['Equity_Change']).transpose()\n",
    "\n",
    "df_change_ratio=pd.DataFrame(100*df_equity_change.loc['Equity_Change',comm_stocks].\n",
    "                             div(df_suggested_equity[comm_stock])).transpose()\n",
    "df_change_ratio.rename(index={'Equity_Change':'Equity_Change_Ratio'},inplace=True)\n",
    "\n",
    "df_equity_change.sort_values(by='Equity_Change',axis=1,ascending=False).transpose().plot(kind='bar',figsize=(18,6));\n",
    "df_change_ratio.sort_values(by='Equity_Change_Ratio',axis=1,ascending=False).transpose().plot(kind='bar',figsize=(18,6));\n",
    "df_equity_change.sort_values(by='Equity_Change',axis=1,ascending=False)"
   ]
  },
  {
   "cell_type": "markdown",
   "metadata": {},
   "source": [
    "## Update Stop Loss"
   ]
  },
  {
   "cell_type": "markdown",
   "metadata": {},
   "source": [
    "### Stop Loss Sell Limit Price"
   ]
  },
  {
   "cell_type": "code",
   "execution_count": 17,
   "metadata": {},
   "outputs": [
    {
     "data": {
      "text/plain": [
       "{'F': 19.717285638765667,\n",
       " 'BRK.B': 285.77667592827,\n",
       " 'VWAGY': 27.780663300255387,\n",
       " 'KO': 56.128037160555614,\n",
       " 'H': 90.53835993045327,\n",
       " 'IYR': 110.3985501280201,\n",
       " 'GPRO': 10.135008765277876,\n",
       " 'DIA': 352.01041053036954,\n",
       " 'AXP': 153.988373939148,\n",
       " 'V': 207.92019328468615,\n",
       " 'SBUX': 110.53415455437501,\n",
       " 'DMLRY': 23.206950017162924,\n",
       " 'IEHS': 43.995201017461824,\n",
       " 'XHB': 81.09058635626675,\n",
       " 'HGSH': 2.1744020158942763,\n",
       " 'MA': 340.4851246033391,\n",
       " 'AWK': 178.48256450426373,\n",
       " 'MCD': 259.0483893531223,\n",
       " 'JNJ': 164.49302841985534,\n",
       " 'PEP': 166.83869899273563,\n",
       " 'DUK': 99.72330494470296,\n",
       " 'OTIS': 83.1106243604782,\n",
       " 'TTM': 30.454967828413587,\n",
       " 'AAPL': 173.60119664482085,\n",
       " 'SSL': 13.997294599771681,\n",
       " 'NOK': 6.168459459930347}"
      ]
     },
     "execution_count": 17,
     "metadata": {},
     "output_type": "execute_result"
    }
   ],
   "source": [
    "stop_loss_sell_limit_price={}\n",
    "for i in range(len(comm_stocks)):\n",
    "    stock=comm_stocks[i]\n",
    "    try:\n",
    "        stop_loss_sell_diff=df_portfolio.loc['price_bound',stock]\n",
    "        limit_price=float(share_price[stock]-stop_loss_sell_diff)\n",
    "        if limit_price<0:\n",
    "            stop_loss_sell_limit_price[stock]=0\n",
    "        else:\n",
    "            stop_loss_sell_limit_price[stock]=limit_price\n",
    "    except:\n",
    "        print(stock)\n",
    "stop_loss_sell_limit_price"
   ]
  },
  {
   "cell_type": "markdown",
   "metadata": {},
   "source": [
    "### Cancel Existing Stock Orders"
   ]
  },
  {
   "cell_type": "raw",
   "metadata": {},
   "source": [
    "r.get_all_open_stock_orders()"
   ]
  },
  {
   "cell_type": "raw",
   "metadata": {},
   "source": [
    "r.orders.cancel_all_stock_orders();"
   ]
  },
  {
   "cell_type": "markdown",
   "metadata": {},
   "source": [
    "### Update Stop Loss Sell orders for all stocks"
   ]
  },
  {
   "cell_type": "raw",
   "metadata": {},
   "source": [
    "stop_loss_sell_info={}\n",
    "for i in range(len(comm_stocks)):\n",
    "    comm_stock=comm_stocks[i]\n",
    "    comm_stock_modified=comm_stock.replace('-','.')\n",
    "    sell_quantity=m.floor(share_quantity[comm_stock])\n",
    "    stop_price=stop_loss_sell_limit_price[comm_stock]\n",
    "    stop_loss_sell_info[comm_stock]=r.orders.order_sell_stop_loss(symbol=comm_stock_modified,\n",
    "                                                                  quantity=sell_quantity,stopPrice=stop_price,timeInForce='gtc')\n",
    "stop_loss_sell_info"
   ]
  },
  {
   "cell_type": "markdown",
   "metadata": {},
   "source": [
    "## Sell and Buy Stocks"
   ]
  },
  {
   "cell_type": "markdown",
   "metadata": {},
   "source": [
    "### Sell all portfolio stocks"
   ]
  },
  {
   "cell_type": "raw",
   "metadata": {},
   "source": [
    "for i in range(len(comm_stocks)):\n",
    "    comm_stock=comm_stocks[i]\n",
    "    qty=share_quantity.loc['quantity',comm_stock]\n",
    "    sell_order=r.orders.order_sell_fractional_by_quantity(symbol=comm_stock, \n",
    "                                               quantity=qty, \n",
    "                                               timeInForce='gfd')\n",
    "    if not sell_order['reject_reason']==None:\n",
    "        print(ticker)"
   ]
  },
  {
   "cell_type": "markdown",
   "metadata": {},
   "source": [
    "### Sell all stocks"
   ]
  },
  {
   "cell_type": "raw",
   "metadata": {},
   "source": [
    "stocks_dict=r.account.build_holdings()\n",
    "#print('Stocks are: {}'.format(stocks_dict))\n",
    "tickers=stocks_dict.keys()\n",
    "ticker_list=list(tickers)\n",
    "###### Get crypto positions #####\n",
    "crypto_holdings=r.get_crypto_positions()\n",
    "### Add crypto position tickers to crypto_ticker_list ###\n",
    "crypto_ticker_list=[]\n",
    "for i in range(len(crypto_holdings)):\n",
    "    crypto_ticker_list.append(crypto_holdings[i]['currency']['code'])\n",
    "    \n",
    "for i in range(len(ticker_list)):\n",
    "    ticker=ticker_list[i]\n",
    "    qty=share_quantity.loc['quantity',ticker]\n",
    "    sell_order=r.orders.order_sell_fractional_by_quantity(symbol=ticker, \n",
    "                                               quantity=qty, \n",
    "                                               timeInForce='gfd')\n",
    "    print(sell_order)\n",
    "\n",
    "for i in range(len(crypto_holdings)):\n",
    "    crypto=crypto_ticker_list[i]\n",
    "    qty=crypto_holdings[i]['cost_bases'][0]['direct_quantity']\n",
    "    sell_order=r.orders.order_sell_crypto_by_quantity(symbol=crypto, \n",
    "                                               quantity=float(qty), \n",
    "                                               timeInForce='gtc')\n",
    "    print(sell_order)"
   ]
  },
  {
   "cell_type": "markdown",
   "metadata": {},
   "source": [
    "### Buy Portfolio Stocks"
   ]
  },
  {
   "cell_type": "raw",
   "metadata": {},
   "source": [
    "stocks_dict=r.account.build_holdings()\n",
    "#print('Stocks are: {}'.format(stocks_dict))\n",
    "tickers=stocks_dict.keys()\n",
    "ticker_list=list(tickers)\n",
    "###### Get crypto positions #####\n",
    "crypto_holdings=r.get_crypto_positions()\n",
    "### Add crypto position tickers to ticker_list ###\n",
    "for i in range(len(crypto_holdings)):\n",
    "    ticker_list.append(crypto_holdings[i]['currency']['code'])\n",
    "    \n",
    "for i in range(len(df_portfolio.columns)):\n",
    "    ticker_suggested=df_portfolio.columns[i]\n",
    "    ticker_suggested_modified=ticker_suggested.replace('-','.')\n",
    "    ticker_suggested_modified=ticker_suggested_modified.replace('.USD','')\n",
    "    equity=df_portfolio.loc['suggested_investment',ticker_suggested]\n",
    "    if ticker_suggested_modified not in ticker_list:\n",
    "        print('{}:{}'.format(ticker_suggested_modified,equity))\n",
    "        if ticker_suggested_modified in crypto_list:\n",
    "            buy_order=r.orders.order_buy_crypto_by_price(symbol=ticker_suggested_modified,amountInDollars=equity,\n",
    "                                                        )\n",
    "        else:\n",
    "            buy_order=r.orders.order_buy_fractional_by_price(symbol=ticker_suggested_modified, \n",
    "                                                       amountInDollars=equity, \n",
    "                                                       timeInForce='gfd')\n",
    "        print(buy_order)\n",
    "    #if not buy_order['reject_reason']==None:\n",
    "        #print(ticker)"
   ]
  },
  {
   "cell_type": "raw",
   "metadata": {},
   "source": [
    "stocks_dict=r.account.build_holdings()\n",
    "#print('Stocks are: {}'.format(stocks_dict))\n",
    "tickers=stocks_dict.keys()\n",
    "ticker_list=list(tickers)\n",
    "###### Get crypto positions #####\n",
    "crypto_holdings=r.get_crypto_positions()\n",
    "### Add crypto position tickers to ticker_list ###\n",
    "for i in range(len(crypto_holdings)):\n",
    "    ticker_list.append(crypto_holdings[i]['currency']['code'])\n",
    "for i in range(len(df_portfolio.columns)):\n",
    "    ticker_suggested=df_portfolio.columns[i]\n",
    "    ticker_suggested_modified=ticker_suggested.replace('-','.')\n",
    "    ticker_suggested_modified=ticker_suggested_modified.replace('.USD','')\n",
    "    equity=df_portfolio.loc['suggested_investment',ticker_suggested]\n",
    "    print(ticker_suggested_modified,equity)"
   ]
  },
  {
   "cell_type": "markdown",
   "metadata": {},
   "source": [
    "#### "
   ]
  }
 ],
 "metadata": {
  "kernelspec": {
   "display_name": "Python",
   "language": "python",
   "name": "conda-env-python-py"
  },
  "language_info": {
   "codemirror_mode": {
    "name": "ipython",
    "version": 3
   },
   "file_extension": ".py",
   "mimetype": "text/x-python",
   "name": "python",
   "nbconvert_exporter": "python",
   "pygments_lexer": "ipython3",
   "version": "3.7.12"
  }
 },
 "nbformat": 4,
 "nbformat_minor": 4
}
