{
 "cells": [
  {
   "cell_type": "code",
   "execution_count": null,
   "metadata": {},
   "outputs": [
    {
     "name": "stdout",
     "output_type": "stream",
     "text": [
      "Requirement already satisfied: robin_stocks in /home/jupyterlab/conda/envs/python/lib/python3.7/site-packages (2.1.0)\n",
      "Requirement already satisfied: python-dotenv in /home/jupyterlab/conda/envs/python/lib/python3.7/site-packages (from robin_stocks) (0.19.2)\n",
      "Requirement already satisfied: pyotp in /home/jupyterlab/conda/envs/python/lib/python3.7/site-packages (from robin_stocks) (2.6.0)\n",
      "Requirement already satisfied: requests in /home/jupyterlab/conda/envs/python/lib/python3.7/site-packages (from robin_stocks) (2.26.0)\n",
      "Requirement already satisfied: cryptography in /home/jupyterlab/conda/envs/python/lib/python3.7/site-packages (from robin_stocks) (36.0.0)\n",
      "Requirement already satisfied: cffi>=1.12 in /home/jupyterlab/conda/envs/python/lib/python3.7/site-packages (from cryptography->robin_stocks) (1.15.0)\n",
      "Requirement already satisfied: certifi>=2017.4.17 in /home/jupyterlab/conda/envs/python/lib/python3.7/site-packages (from requests->robin_stocks) (2021.10.8)\n",
      "Requirement already satisfied: urllib3<1.27,>=1.21.1 in /home/jupyterlab/conda/envs/python/lib/python3.7/site-packages (from requests->robin_stocks) (1.26.7)\n",
      "Requirement already satisfied: idna<4,>=2.5 in /home/jupyterlab/conda/envs/python/lib/python3.7/site-packages (from requests->robin_stocks) (3.1)\n",
      "Requirement already satisfied: charset-normalizer~=2.0.0 in /home/jupyterlab/conda/envs/python/lib/python3.7/site-packages (from requests->robin_stocks) (2.0.8)\n",
      "Requirement already satisfied: pycparser in /home/jupyterlab/conda/envs/python/lib/python3.7/site-packages (from cffi>=1.12->cryptography->robin_stocks) (2.21)\n"
     ]
    }
   ],
   "source": [
    "!pip install robin_stocks\n",
    "import robin_stocks.robinhood as r\n",
    "import pandas as pd\n",
    "import numpy as np\n",
    "import math as m\n",
    "import matplotlib.pyplot as plt"
   ]
  },
  {
   "cell_type": "markdown",
   "metadata": {},
   "source": [
    "Library: [robin_stocks](https://readthedocs.org/projects/robin-stocks/downloads/pdf/latest/)"
   ]
  },
  {
   "cell_type": "markdown",
   "metadata": {},
   "source": [
    "## Authentication and Login"
   ]
  },
  {
   "cell_type": "code",
   "execution_count": null,
   "metadata": {},
   "outputs": [],
   "source": [
    "login = r.login('kgraghav@mtu.edu','0214@Kgraghavan',store_session=True)"
   ]
  },
  {
   "cell_type": "markdown",
   "metadata": {
    "tags": []
   },
   "source": [
    "## List of Cryptocurrencies available"
   ]
  },
  {
   "cell_type": "code",
   "execution_count": null,
   "metadata": {},
   "outputs": [],
   "source": [
    "crypto_info=r.crypto.get_crypto_currency_pairs()\n",
    "crypto_list=[]\n",
    "for i in range(len(crypto_info)):\n",
    "    crypto_list.append(crypto_info[i]['asset_currency']['code'])"
   ]
  },
  {
   "cell_type": "markdown",
   "metadata": {},
   "source": [
    "## Read in Portfolio"
   ]
  },
  {
   "cell_type": "code",
   "execution_count": null,
   "metadata": {},
   "outputs": [],
   "source": [
    "df_portfolio=pd.read_csv('portfolio.csv')\n",
    "df_portfolio.set_index('Parameters',inplace=True)\n",
    "columns_list=df_portfolio.columns.tolist()\n",
    "columns_dict={}\n",
    "for stock in columns_list:\n",
    "    stock_str_rep=stock.replace('-','.')\n",
    "    columns_dict[stock]=stock_str_rep\n",
    "df_portfolio.rename(columns=columns_dict,inplace=True)\n",
    "df_portfolio.sort_values(by='weight',axis=1,ascending=False)"
   ]
  },
  {
   "cell_type": "code",
   "execution_count": null,
   "metadata": {},
   "outputs": [],
   "source": [
    "port_stocks=df_portfolio.columns.tolist()"
   ]
  },
  {
   "cell_type": "code",
   "execution_count": null,
   "metadata": {},
   "outputs": [],
   "source": [
    "df_suggested_equity=df_portfolio.loc['suggested_investment',:]\n",
    "df_suggested_equity.transpose().plot(kind='bar',figsize=(12,8));\n",
    "total_port_equity=df_suggested_equity.sum()\n",
    "print('Total suggested equity value is: {}'.format(total_port_equity))\n"
   ]
  },
  {
   "cell_type": "markdown",
   "metadata": {},
   "source": [
    "## Print total stocks value"
   ]
  },
  {
   "cell_type": "code",
   "execution_count": null,
   "metadata": {},
   "outputs": [],
   "source": [
    "stocks_dict=r.account.build_holdings()\n",
    "#print('Stocks are: {}'.format(stocks_dict))\n",
    "tickers=stocks_dict.keys()\n",
    "ticker_list=list(tickers)\n",
    "for ticker in ticker_list:\n",
    "    ticker.replace('-','.')\n",
    "print(ticker_list)\n",
    "###### Get crypto positions #####\n",
    "crypto_holdings=r.get_crypto_positions()"
   ]
  },
  {
   "cell_type": "code",
   "execution_count": null,
   "metadata": {},
   "outputs": [],
   "source": [
    "price_list=[float(stocks_dict[ticker]['equity']) for ticker in ticker_list]\n",
    "for i in range(len(crypto_holdings)):\n",
    "    crypto_ticker=crypto_holdings[i]['currency']['code'].replace('-USD','')\n",
    "    crypto_qty=float(crypto_holdings[i]['cost_bases'][0]['direct_quantity'])\n",
    "    crypto_mark_price=float(r.get_crypto_quote(symbol=crypto_ticker,info='mark_price'))\n",
    "    crypto_price=crypto_qty*crypto_mark_price\n",
    "    price_list.append(crypto_price)"
   ]
  },
  {
   "cell_type": "code",
   "execution_count": null,
   "metadata": {},
   "outputs": [],
   "source": [
    "### Add crypto position tickers to crypto_list ###\n",
    "for i in range(len(crypto_holdings)):\n",
    "    ticker_list.append('{}.USD'.format(crypto_holdings[i]['currency']['code']))"
   ]
  },
  {
   "cell_type": "markdown",
   "metadata": {},
   "source": [
    "## Stocks common to portfolio and investment"
   ]
  },
  {
   "cell_type": "code",
   "execution_count": null,
   "metadata": {},
   "outputs": [],
   "source": [
    "comm_stocks=list(set(port_stocks).intersection(set(ticker_list)))\n",
    "print('Stocks common to recommended and actual portfolio: ',comm_stocks)\n",
    "port_stocks=[stock.replace('-','.') for stock in port_stocks]"
   ]
  },
  {
   "cell_type": "markdown",
   "metadata": {},
   "source": [
    "## Stocks not common"
   ]
  },
  {
   "cell_type": "markdown",
   "metadata": {},
   "source": [
    "### Stock in recommended portfolio but not in actual portfolio"
   ]
  },
  {
   "cell_type": "code",
   "execution_count": null,
   "metadata": {},
   "outputs": [],
   "source": [
    "not_in_ticker_list=[stock for stock in port_stocks if stock not in ticker_list]\n",
    "not_in_ticker_list"
   ]
  },
  {
   "cell_type": "markdown",
   "metadata": {},
   "source": [
    "### Stock in  actual portfolio but not in recommended portfolio"
   ]
  },
  {
   "cell_type": "code",
   "execution_count": null,
   "metadata": {},
   "outputs": [],
   "source": [
    "not_in_port_stocks=[ticker for ticker in ticker_list if ticker not in port_stocks]\n",
    "not_in_port_stocks"
   ]
  },
  {
   "cell_type": "markdown",
   "metadata": {},
   "source": [
    "## Share Price"
   ]
  },
  {
   "cell_type": "code",
   "execution_count": null,
   "metadata": {},
   "outputs": [],
   "source": [
    "share_price={}\n",
    "share_price_values=[float(stocks_dict[ticker]['price']) for ticker in tickers]\n",
    "for i in range(len(tickers)):\n",
    "    ticker=ticker_list[i]\n",
    "    share_price[ticker]=share_price_values[i]\n",
    "share_price=pd.DataFrame(share_price,index=['price'])\n",
    "share_price"
   ]
  },
  {
   "cell_type": "markdown",
   "metadata": {},
   "source": [
    "## Share Quantity"
   ]
  },
  {
   "cell_type": "code",
   "execution_count": null,
   "metadata": {},
   "outputs": [],
   "source": [
    "share_quantity={}\n",
    "share_quantities=[float(stocks_dict[ticker]['quantity']) for ticker in tickers]\n",
    "for i in range(len(tickers)):\n",
    "    ticker=ticker_list[i]\n",
    "    share_quantity[ticker]=share_quantities[i]\n",
    "share_quantity=pd.DataFrame(share_quantity,index=['quantity'])\n",
    "share_quantity"
   ]
  },
  {
   "cell_type": "markdown",
   "metadata": {},
   "source": [
    "## Total Equity"
   ]
  },
  {
   "cell_type": "code",
   "execution_count": null,
   "metadata": {},
   "outputs": [],
   "source": [
    "equity={}\n",
    "total_equity=0\n",
    "for i in range(len(ticker_list)):\n",
    "    ticker=ticker_list[i]\n",
    "    equity[ticker]=price_list[i]\n",
    "    total_equity=total_equity+equity[ticker]\n",
    "print('Total Stocks equity value is: {}'.format(total_equity))\n",
    "\n",
    "equity_comm={}\n",
    "total_comm_equity=0\n",
    "for i in range(len(comm_stocks)):\n",
    "    ticker=comm_stocks[i]\n",
    "    equity_comm[ticker]=price_list[i]\n",
    "    total_comm_equity=total_comm_equity+equity_comm[ticker]\n",
    "print('Total Common Stocks equity value is: {}'.format(total_comm_equity))\n",
    "\n",
    "df_equity=pd.DataFrame.from_dict(data=equity,orient='index',columns=['Equity'])\n",
    "df_equity.sort_values(by='Equity',axis=0,ascending=False).plot(kind='bar',figsize=(12,8));\n",
    "df_equity=df_equity.transpose()\n",
    "df_equity.sort_values(by='Equity',axis=1,ascending=False)"
   ]
  },
  {
   "cell_type": "markdown",
   "metadata": {},
   "source": [
    "## Equity Change"
   ]
  },
  {
   "cell_type": "code",
   "execution_count": null,
   "metadata": {},
   "outputs": [],
   "source": [
    "equity_comm_change={}\n",
    "total_equity_comm_change=0\n",
    "for i in range(len(comm_stocks)):\n",
    "    comm_stock=comm_stocks[i]\n",
    "    equity_comm_change[comm_stock]=df_equity.loc['Equity',comm_stock]-df_suggested_equity[comm_stock]\n",
    "    total_equity_comm_change=total_equity_comm_change+equity_comm_change[comm_stock]\n",
    "print('Total Common equity change value is: {}'.format(total_equity_comm_change))\n",
    "    \n",
    "equity_change={}\n",
    "total_port_equity_change=0\n",
    "for i in range(len(ticker_list)):\n",
    "    stock=ticker_list[i]\n",
    "    equity_change[stock]=df_equity.loc['Equity',stock]-df_suggested_equity[comm_stock]\n",
    "    total_port_equity_change=total_port_equity_change+equity_change[stock]\n",
    "\n",
    "\n",
    "equity_change_percent=total_port_equity_change/total_port_equity*100\n",
    "\n",
    "equity_comm_change_percent=total_equity_comm_change/total_port_equity*100\n",
    "print('Total Common Change Percent is: {}'.format(equity_comm_change_percent))\n",
    "\n",
    "df_equity_change=pd.DataFrame.from_dict(data=equity_change,orient='index',columns=['Equity_Change']).transpose()\n",
    "df_change_ratio=pd.DataFrame(100*df_equity_change.loc['Equity_Change',comm_stocks].\n",
    "                             div(df_suggested_equity[comm_stock])).transpose()\n",
    "df_change_ratio.rename(index={'Equity_Change':'Equity_Change_Ratio'},inplace=True)\n",
    "\n",
    "df_equity_comm_change=pd.DataFrame.from_dict(data=equity_comm_change,orient='index',columns=['Equity_Comm_Change']).transpose()\n",
    "df_comm_change_ratio=pd.DataFrame(100*df_equity_comm_change.loc['Equity_Comm_Change',comm_stocks].\n",
    "                             div(df_suggested_equity[comm_stock])).transpose()\n",
    "df_comm_change_ratio.rename(index={'Equity_Comm_Change':'Equity_Comm_Change_Ratio'},inplace=True)\n",
    "\n",
    "\n",
    "df_equity_change=pd.DataFrame.from_dict(data=equity_change,orient='index',columns=['Equity_Change']).transpose()\n",
    "df_equity_change_ratio=pd.DataFrame(100*df_equity_change.loc['Equity_Change',comm_stocks].\n",
    "                             div(df_suggested_equity[comm_stock])).transpose()\n",
    "df_equity_change_ratio.rename(index={'Equity_Change':'Equity_Change_Ratio'},inplace=True)\n",
    "\n",
    "\n",
    "# df_equity_change.sort_values(by='Equity_Change',axis=1,ascending=False).transpose().plot(kind='bar',figsize=(18,6));\n",
    "# df_change_ratio.sort_values(by='Equity_Change_Ratio',axis=1,ascending=False).transpose().plot(kind='bar',figsize=(18,6));\n",
    "\n",
    "df_equity_comm_change.sort_values(by='Equity_Comm_Change',axis=1,ascending=False).transpose().plot(kind='bar',figsize=(18,6));\n",
    "df_comm_change_ratio.sort_values(by='Equity_Comm_Change_Ratio',axis=1,ascending=False).transpose().plot(kind='bar',figsize=(18,6));"
   ]
  },
  {
   "cell_type": "markdown",
   "metadata": {},
   "source": [
    "## Update Stop Loss"
   ]
  },
  {
   "cell_type": "markdown",
   "metadata": {},
   "source": [
    "### Stop Loss Sell Limit Price"
   ]
  },
  {
   "cell_type": "code",
   "execution_count": null,
   "metadata": {},
   "outputs": [],
   "source": [
    "stop_loss_sell_limit_price={}\n",
    "for i in range(len(comm_stocks)):\n",
    "    stock=comm_stocks[i]\n",
    "    try:\n",
    "        stop_loss_sell_diff=df_portfolio.loc['price_bound',stock]\n",
    "        limit_price=float(share_price[stock]-stop_loss_sell_diff)\n",
    "        if limit_price<0:\n",
    "            stop_loss_sell_limit_price[stock]=0\n",
    "        else:\n",
    "            stop_loss_sell_limit_price[stock]=limit_price\n",
    "    except:\n",
    "        print(stock)\n",
    "stop_loss_sell_limit_price"
   ]
  },
  {
   "cell_type": "markdown",
   "metadata": {},
   "source": [
    "### Cancel Existing Stock Orders"
   ]
  },
  {
   "cell_type": "raw",
   "metadata": {},
   "source": [
    "r.get_all_open_stock_orders()"
   ]
  },
  {
   "cell_type": "raw",
   "metadata": {},
   "source": [
    "r.orders.cancel_all_stock_orders();"
   ]
  },
  {
   "cell_type": "markdown",
   "metadata": {},
   "source": [
    "### Update Stop Loss Sell orders for all stocks"
   ]
  },
  {
   "cell_type": "raw",
   "metadata": {},
   "source": [
    "stop_loss_sell_info={}\n",
    "for i in range(len(comm_stocks)):\n",
    "    comm_stock=comm_stocks[i]\n",
    "    comm_stock_modified=comm_stock.replace('-','.')\n",
    "    sell_quantity=m.floor(share_quantity[comm_stock])\n",
    "    stop_price=stop_loss_sell_limit_price[comm_stock]\n",
    "    stop_loss_sell_info[comm_stock]=r.orders.order_sell_stop_loss(symbol=comm_stock_modified,\n",
    "                                                                  quantity=sell_quantity,stopPrice=stop_price,timeInForce='gtc')\n",
    "stop_loss_sell_info"
   ]
  },
  {
   "cell_type": "markdown",
   "metadata": {},
   "source": [
    "## Sell and Buy Stocks"
   ]
  },
  {
   "cell_type": "markdown",
   "metadata": {},
   "source": [
    "### Sell all portfolio stocks"
   ]
  },
  {
   "cell_type": "raw",
   "metadata": {},
   "source": [
    "for i in range(len(comm_stocks)):\n",
    "    comm_stock=comm_stocks[i]\n",
    "    qty=share_quantity.loc['quantity',comm_stock]\n",
    "    sell_order=r.orders.order_sell_fractional_by_quantity(symbol=comm_stock, \n",
    "                                               quantity=qty, \n",
    "                                               timeInForce='gfd')\n",
    "    if not sell_order['reject_reason']==None:\n",
    "        print(ticker)"
   ]
  },
  {
   "cell_type": "markdown",
   "metadata": {},
   "source": [
    "### Sell all stocks"
   ]
  },
  {
   "cell_type": "raw",
   "metadata": {},
   "source": [
    "stocks_dict=r.account.build_holdings()\n",
    "#print('Stocks are: {}'.format(stocks_dict))\n",
    "tickers=stocks_dict.keys()\n",
    "ticker_list=list(tickers)\n",
    "###### Get crypto positions #####\n",
    "crypto_holdings=r.get_crypto_positions()\n",
    "### Add crypto position tickers to crypto_ticker_list ###\n",
    "crypto_ticker_list=[]\n",
    "for i in range(len(crypto_holdings)):\n",
    "    crypto_ticker_list.append(crypto_holdings[i]['currency']['code'])\n",
    "    \n",
    "for i in range(len(ticker_list)):\n",
    "    ticker=ticker_list[i]\n",
    "    qty=share_quantity.loc['quantity',ticker]\n",
    "    sell_order=r.orders.order_sell_fractional_by_quantity(symbol=ticker, \n",
    "                                               quantity=qty, \n",
    "                                               timeInForce='gfd')\n",
    "    print(sell_order)\n",
    "\n",
    "for i in range(len(crypto_holdings)):\n",
    "    crypto=crypto_ticker_list[i]\n",
    "    qty=crypto_holdings[i]['cost_bases'][0]['direct_quantity']\n",
    "    sell_order=r.orders.order_sell_crypto_by_quantity(symbol=crypto, \n",
    "                                               quantity=float(qty), \n",
    "                                               timeInForce='gtc')\n",
    "    print(sell_order)"
   ]
  },
  {
   "cell_type": "markdown",
   "metadata": {},
   "source": [
    "### Buy Portfolio Stocks"
   ]
  },
  {
   "cell_type": "raw",
   "metadata": {},
   "source": [
    "stocks_dict=r.account.build_holdings()\n",
    "#print('Stocks are: {}'.format(stocks_dict))\n",
    "tickers=stocks_dict.keys()\n",
    "ticker_list=list(tickers)\n",
    "###### Get crypto positions #####\n",
    "crypto_holdings=r.get_crypto_positions()\n",
    "### Add crypto position tickers to ticker_list ###\n",
    "for i in range(len(crypto_holdings)):\n",
    "    ticker_list.append(crypto_holdings[i]['currency']['code'])\n",
    "    \n",
    "for i in range(len(df_portfolio.columns)):\n",
    "    ticker_suggested=df_portfolio.columns[i]\n",
    "    ticker_suggested_modified=ticker_suggested.replace('-','.')\n",
    "    ticker_suggested_modified=ticker_suggested_modified.replace('.USD','')\n",
    "    equity=df_portfolio.loc['suggested_investment',ticker_suggested]\n",
    "    if ticker_suggested_modified not in ticker_list:\n",
    "        print('{}:{}'.format(ticker_suggested_modified,equity))\n",
    "        if ticker_suggested_modified in crypto_list:\n",
    "            buy_order=r.orders.order_buy_crypto_by_price(symbol=ticker_suggested_modified,amountInDollars=equity,\n",
    "                                                        )\n",
    "        else:\n",
    "            buy_order=r.orders.order_buy_fractional_by_price(symbol=ticker_suggested_modified, \n",
    "                                                       amountInDollars=equity, \n",
    "                                                       timeInForce='gfd')\n",
    "        print(buy_order)\n",
    "    #if not buy_order['reject_reason']==None:\n",
    "        #print(ticker)"
   ]
  },
  {
   "cell_type": "raw",
   "metadata": {},
   "source": [
    "stocks_dict=r.account.build_holdings()\n",
    "#print('Stocks are: {}'.format(stocks_dict))\n",
    "tickers=stocks_dict.keys()\n",
    "ticker_list=list(tickers)\n",
    "###### Get crypto positions #####\n",
    "crypto_holdings=r.get_crypto_positions()\n",
    "### Add crypto position tickers to ticker_list ###\n",
    "for i in range(len(crypto_holdings)):\n",
    "    ticker_list.append(crypto_holdings[i]['currency']['code'])\n",
    "for i in range(len(df_portfolio.columns)):\n",
    "    ticker_suggested=df_portfolio.columns[i]\n",
    "    ticker_suggested_modified=ticker_suggested.replace('-','.')\n",
    "    ticker_suggested_modified=ticker_suggested_modified.replace('.USD','')\n",
    "    equity=df_portfolio.loc['suggested_investment',ticker_suggested]\n",
    "    print(ticker_suggested_modified,equity)"
   ]
  },
  {
   "cell_type": "markdown",
   "metadata": {},
   "source": [
    "#### "
   ]
  }
 ],
 "metadata": {
  "kernelspec": {
   "display_name": "Python",
   "language": "python",
   "name": "conda-env-python-py"
  },
  "language_info": {
   "codemirror_mode": {
    "name": "ipython",
    "version": 3
   },
   "file_extension": ".py",
   "mimetype": "text/x-python",
   "name": "python",
   "nbconvert_exporter": "python",
   "pygments_lexer": "ipython3",
   "version": "3.7.12"
  }
 },
 "nbformat": 4,
 "nbformat_minor": 4
}
